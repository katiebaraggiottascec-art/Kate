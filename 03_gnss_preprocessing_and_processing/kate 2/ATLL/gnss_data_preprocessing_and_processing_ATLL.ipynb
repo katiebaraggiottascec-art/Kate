{
 "cells": [
  {
   "cell_type": "markdown",
   "id": "df7e20e7",
   "metadata": {},
   "source": [
    "# Simple GNSS data preprocessing and processing\n",
    "\n",
    "Gareth Funning, University of California, Riverside\n",
    "\n",
    "Once we have collected some GNSS data, you might want to process it. Before you do that, you will need to convert the data into a processable format, calculate some important metadata parameters, and edit the datafile headers with useful information. This can take longer than processing the data sometimes!\n",
    "\n",
    "To turn our data files into positions, we can make use of the NGS's spiffy, web-based OPUS processor. If you process several files spanning multiple years, you can turn that into a velocity! And then you really are getting somewhere! "
   ]
  },
  {
   "cell_type": "markdown",
   "id": "a27a4b0d",
   "metadata": {},
   "source": [
    "## 0. Dependencies\n",
    "\n",
    "Jupyter needs these to function! Make sure you're in the right conda environment!"
   ]
  },
  {
   "cell_type": "code",
   "execution_count": 1,
   "id": "57a09282",
   "metadata": {},
   "outputs": [],
   "source": [
    "from os.path import splitext\n",
    "import numpy as np"
   ]
  },
  {
   "cell_type": "markdown",
   "id": "9d2fe25c",
   "metadata": {},
   "source": [
    "## 1. Pre-processing your GNSS data\n",
    "\n",
    "The first thing to do is to convert your data to something we can process! The data we collect tend to be recorded in proprietary binary formats, and so we will want to convert them to something more readable $-$ the RINEX format.\n",
    "\n",
    "\n",
    "### 1.1 RINEX\n",
    "\n",
    "The **R**eceiver **IN**dependent **E**xchange **F**ormat (RINEX for short) is an ASCII-based format used for archiving and processing GNSS data. There are different versions of the format for different applications $-$ navigational data, meterorological data, ionosphere data $-$ but today we will use the version for GNSS *observations*.\n",
    "\n",
    "Included with this notebook are several past versions of RINEX files for GNSS data collected at site VERS (Versity), the NGS benchmark on the UCR campus. We will use these later on to produce a deformation time series for the site. For now, we will use them to examine the file format and contents.\n",
    "\n",
    "First, let's look at the files we have, and the naming convention."
   ]
  },
  {
   "cell_type": "code",
   "execution_count": 2,
   "id": "36a21d6d",
   "metadata": {},
   "outputs": [
    {
     "name": "stdout",
     "output_type": "stream",
     "text": [
      "-rw-rw-r-- 1 karlee karlee  477281 Jul 10 11:22 test.o\r\n",
      "-rw-rw-r-- 1 karlee karlee  539076 Jan 23 12:42 vers1461.10o\r\n",
      "-rw-rw-r-- 1 karlee karlee  967856 Jan 23 12:42 vers1490.14o\r\n",
      "-rw-rw-r-- 1 karlee karlee 3107250 Jan 23 12:42 vers1870.15o\r\n",
      "-rw-rw-r-- 1 karlee karlee 2399192 Jan 23 15:29 vers1990.24o\r\n",
      "-rw-rw-r-- 1 karlee karlee 3435300 Jan 23 12:42 vers3250.11o\r\n",
      "-rw-rw-r-- 1 karlee karlee  560493 Jan 23 16:53 vrs10210.25o\r\n",
      "-rw-rw-r-- 1 karlee karlee    2237 Jan 23 16:53 vrs10220.25o\r\n"
     ]
    }
   ],
   "source": [
    "# this will list all files with filenames ending with an 'o' (GNSS observation files)\n",
    "\n",
    "!ls -l *o"
   ]
  },
  {
   "cell_type": "markdown",
   "id": "cbb13f4e",
   "metadata": {},
   "source": [
    "These files all follow the same naming convention:\n",
    "\n",
    "SSSSDDDN.YYo\n",
    "\n",
    "- SSSS $-$ four digit site code\n",
    "- DDD $-$ day of year of start of data acquisition\n",
    "- N $-$ number of the acquisition on that GNSS receiver on that day (counting from zero)\n",
    "- YY $-$ year\n",
    "- o $-$ o is for 'observation'\n",
    "\n",
    "Let's look at the contents of one of these files:"
   ]
  },
  {
   "cell_type": "code",
   "execution_count": 3,
   "id": "bfedfb81",
   "metadata": {
    "scrolled": true
   },
   "outputs": [
    {
     "name": "stdout",
     "output_type": "stream",
     "text": [
      "Y��\u0006A�ڹ$\u0018�j�[�\u0000�$A3����n6ٛ��.7\u001ah�k��Z�Tb�.3mI%��ud\u0004\u0003,a��85y����0�\u0018a�0��\u001a\r",
      "\u0006\u0019�a����ﵿ�:\u0019�@\t7A���I\u0016ejؐXhCA��4$�Q�\u0012��\u0006�\u0014���P \u0019CD6�i$�cv\f",
      "�V_`�e��I$��Cc\u0002��\u0004�I$�C�\f",
      "7�ƶ5�'\u0017\u0012�-(�I$���j�Z@�I$�I$�I$�I$�CI4I$�I\"�I$�H�vY��I$�I$�I$�I$�I$�I$�I$�I$�I$�I$�I$�I$�I$�I$�I$�I �Y$$A3���V�������I$�I$�I$�I$�I$�I$�I$�I$�I$�I$�I$�I$�I$�I$�I$�I$�I$�I$��ˍ�����)$�I$�M��'�I$u�&M��[=e\u0000줒I$�I$�I$�I$�I$�I$�I$�I$�I$�I$�I$�I$�I$�I$�I$�I$�I$�I?����f|W\u0014�I$�I&�F��$�:�&�\r",
      "�$'ѣ��xdv�׵��^(ϵ` l\u0017\u001b�\u0003\u0016�\u0004\r",
      "����%���\u0014h���\u000e����h�c\u001a=\u0018�\u001e",
      "�$�I$�0\u0004?$���4���\u001b��I;\r\n",
      "\u000ed�J��R��I���%\u0014�Ej��7�Ԧ�I�2uM˷o#\u0001�{�\u0001l);\r\n",
      "?���\u000b",
      "�ճ�^)$T��B��`õ����\u001b�Li��$��@��`��R#�c$��W\u0019$�o�$�I&��j�j\u0006\u001a<pІ�j�q\u001a=\u0018ƏF*�fI$�I$�s��I�r,\u001f�A���$����s���|G��A�uK�!J�Q�\r",
      "�Lٲ�p�v*e�|i�\u0001\u001a\u001f\u0012�<�C\r\n",
      "EI�f@��F!��eM�y\u001c",
      "H�\u0006��ɟ���U�-+*n$ƛ��I5^\u0010W��q\"��V�I\u0014b[\u0019$�o�$�I&b᫩�r��0�5R��\u001e",
      "�cG�\u0015I\\�I$�I��I$�?}���\u000f���Iؤ���MZ�\u00048\r\n",
      "H�0\u001fFh�]4���\u0005�Sb���N��l�g�\u0012�=�_\u001e",
      "I�\u001d",
      "~��Z�iouG�,E�'c��i�e1\u0012�j��� ;8�\u0016@v�IS�͹���\u0015\"6#\u0019$�\u0005\u000es��E�$�Iw%5u5\u000b",
      "-\u001e",
      "1�HRF�W\u0011�ьh�b�+�I$�I7J�\u0012I5q�˒L|T�I;\u0014���\r",
      "S����-ĝ�7��\f",
      "&kͪ�\u000f_A䓰d��%�2*\u0018���|��N�\u0015��Ԯ{�cVϳ_v��R�Ҕ��q��_\u0013\r\n",
      "\u000b",
      "~I�7�I%M�ohq�EH��q$��\u0001�$�\r",
      "\u0017$�I&�V���\u0019�㌌dcU+����4z1�=�I$�I7W�$�Rޜ�I1��I;\r\n",
      "K��>�\f",
      ";��a�;\u0014Ɗ�4�=sV�!Dc�v\u0014fX0\r",
      "}�\u000e����\u0018�������\u0000���G�H �I\u0015##��Yv\u001c",
      "\u000b",
      "u\\�\r\n",
      "�Vq&4̫�$�f����H�\u0016�\u0004Ü�Q��I �h�$�I5�\u001a����x�jv�U+����4z1�\u0001�$�I$���ĒJ�cQ�$���&I'aNJI&�)s�����\u0012���*~���)o����\u000f\u0015\f",
      "��\u0018\u0019Ľ��ac'c��i�e1\u0012�T�w�{��ȩ2\r\n",
      "\\�\u000f\\\u0018�W3��\u0000I1�`�I%N�+������h�$�F`�$�\r",
      "\u0017$�I&L��e�q\r",
      "\u0018��\u0015��I4x�\u000f\f",
      "�t�I$�I$�I$�I$�I$�I$�I$�I$�I$�I$�I$�I$�I$�I$�I$�I#�#Wd\u0006\u0019�\\����N�DI$�-\u001a�0:\u0010�-��m��o\u0006��0�\u000ed�N��I$T���EIĒI��ĒN��A�JI$4��I&�$�v\u0000�N�\u0010��I�r���o\u001b�I$�\u0015+V\u001a�q]�V��d\u0011l�h\u000b",
      "�f�~\u00044�\u0015�C��Q\u000es�\u000e\u0004�\f",
      "�\u001e",
      "\u0019\u0002v�\u0019mwAA�+ Ȟ~�;%a\u0000��֬�'$�g��N�_7��yx}�6\u0005\u0005��K�e\f",
      "�nͳ.$����8����\u000e�B$�\u0019B�s�#�$a\u001c",
      "�[\u000b",
      "\u0019F�ȼv����o\u001e",
      "��Sy�\t$�#�z\u0003x�:\u000eȼwu�7X\u000fQJ\u001c",
      "�3zq$�㞇\r\n",
      "���S�K�KXYË�8�$�dJ�I\r\n",
      "Y\u0003w�$�\tK\u0011x�����ںr\f",
      "\u0002�P\u0012I.�\u0000UT$)�%���>���(]\t��>�\u0012��w��ט\u000f\u0006\r",
      "������\u0000�x�Nd�U/Q�ьh�b�vd�I$�M֣\u0019$��\u00044�I��\u0014�N�\u0010\u0006�I5ksE��8���K��q\u0003\u000f\u001d",
      "[స���e��9\u000f�VRb^�/d��\u001f�\u0006`\u0002/���~ ܤq\"�����л'�W2����bS��I5jC\u000e3��EH���I7C��$�h�$�I4��]MC�G�\u0015�Z5R�\u001a=\u0018ƏF=��I$�I&�\u0013�I*t���H?�\u001e",
      "��v\u0002���s�T�\"�q�*DV���������\u0001�d�� �D\u000b",
      "1C�+\u0012�<�y\u001c",
      "H�\u0017�H�&\u001b�i*t6L\u001a=���Q�FNh]������\\�LJ��I�A3�+7$T���I\u0014j\by$�\r",
      "\u0017$�I&f5u5\u000f�x�\u0004 �T�F�F1�яb�$�I$�n�)$�W�\b�$�\u00127��N�Y�9�s�Ҽf#��Nª�~\u0014�FUT�P�I;\r\n",
      "����\u0007+�,K��-a����FLg�I�5XZJ���n�oJ<����5\\�A��8�\u001aj�I5L�Y��H�\u0016��H2��\u0012��A��I$̄j�j\u001fz<q�\u001c",
      "�������4z1T�rI$�I&�)$�T�w�D�b\u0003$�v8�d�jԬ�)R���gAGp��\u0015R�Q\u0001�O\u0019'b�\u0018\u000f\u0018Ǫ\u0002��{�<���R��\u0018\u0001<;O>�����$�_�\u0016�r\u001e",
      "`n��D�)�cL�I$ե2C��?\u0006T�z�I\u0014js��H4\\�I$� �W@�y�\u0006�Ô\u0014\u0018��\f",
      "3�/�\u001b���±��ǃ�s*+\u0013\u0002u�\u0013��8%��q��(�?2�p��?�\u0000\f",
      "\u001a�NR��*�Qaݨ`efs\u0014�lQE��k�M�R�\u0007@A?j�\u0015�.E\u001b\u0014�-EJ����6/�g\u0001q��e�>j����v\u0005Ey\\\u0017��x�p\u000f�1��\u0002��P\u0010a(�7qǃ�;��7c�\u001d",
      "����4� \u0001��˘���{�4A���\u00010�P�}��x:V��yO\u0006�\u000e$\u001f\\�}Sf\u0019�\u0013�\u0018�ٸ^;�d\u001c",
      "�S \u001d",
      "�X�\u0005k%�<\r",
      "\u0010\u0012�\u000f�Y\u0006x��\u0014P}�ˁ��\u0001!x����-�Q�\u0003\u0017�Mv\u001d",
      "��N�߯T�`�2��f�\u0001�\u000e�\u0013&\u001aE����lӇtv(#abh�\u0015`\u0006F\u0010�Ɔ'w���\u0014]袪ߴ���J���i�Nx���\u0006\f",
      "Ѡ�,��SD\u00191/\u001d",
      "a1�@���Q_o>7��5)�x�Y\u0017�&��a0j�.������\u001f2a�1w0�aAA�����<B�\u0001�8){\u0012\u0017�\u001e",
      "\u0013��\u001aG4t1/@u˿9'\u0002\u0015��)����(\u001b���2���ݤ��30{w�\u0002Ͼ?Mz��\u001d",
      "t%��?6�}7\u001d",
      "��ջ\u0000\t\u0001�롣��K]�y��\u000eETZd_�?/V3澌|g;0�ݜ\u0017��Y�{�>�ħ\u0000u׾�\t>��u�����U<\t@��h����N|K�\u001e",
      "\u000e�\u0006��+a���ŀ��\u0006���I��t\u0018���p\u001b2��n�\u0007\u0002\u0001\u0019C\"\u000fn�2\u001c",
      "�����\f",
      "\t\u0010�Ls��'��\u0012�g���\u0007T�d�٥\"��׸o��^f��A��[<�x�5\u0013\u0002G\u000f+\u0017�/|\u001d",
      "��3k\u0004!��\u000f|�aQ]���@BaKg��=�w��\b\u0019�v�i�\u0000���)�5\u001f�V��p\u001f_��R�e)�y,�0���I���n:��Ś���C�G�b��:�k���6U�] a�\u0018\u0011B�ȝ�w��\u0010\u0005n�s4/Ʃ���8�ll\u0017���\u001c",
      "Y�\u001c",
      "Z��\u0003X&9\u0001\u0007\u0001z\\\u0015\u0019C\f",
      "�D\u0006��(Q�\u0001{���.��\u0003ӡ�\u0002��\u000e�ʧf*`\r",
      "\u001a�r����0\f",
      "��ᗷ�Ǖ\u000e\r\n",
      " \u0011��f�\u001e",
      "�l\b�\r\n",
      "\f",
      "!�] �Ʃ4rkN{�!=9Y\u0011�P;0�����\b\u0011�x9���3B�\u0001\r",
      "��\u001c",
      "�$Ve��\u00022��F���\u0014a���\u0007r?|i��T��g,r�q\u001bfw\\z�.h���2�\u0019�eu��\u000b",
      "]z\u0017\u0000\u0007bJZ� �X��H��9\u0003�\f",
      "�?�G[|���.0n�����`�|b�����MA\u001ad�\u0012�\r",
      "��x��G�ͫ*�3��:95y��!�h;�!�\r\n",
      "\u001f�4n�wEU�֍?�\u0012\u0010<�G��-�&�\u00018~:��,�+��*\r\n",
      "\u001e",
      "�PZc�\f",
      "�\u0015�Ȓ\u0001\u0006�q����I���g��כ���,,9\u0001�@�~�x�ݱi�\u0000�r6Q����2Jx\u0005��7�:v�D\u000f\u00100v,���h:l��#1���\u0017\u001bJD��>�#�Zz\u0019~5��X\u0004\u0017�rlz�ީ�Q�s��L;�-�9�-�|��R4l౤T\u0018\u0002��\u0012Vádə��\u0000A̻��\u000b",
      "�����\u001b*\r",
      "�\u0007\f",
      "\u0019��\u0001�\u0000׆��4��z�Yc\u0012\u0005^P�i�/\u0015\f",
      "�\u0014��\"�(5�a�F(���cj� k�{<�3@�oO\u0019�� 5\f",
      "�3K���Q��4�7��\u0005b�b��\u000b",
      "\u0004y2>���L�>ݫT��q�\u0000^��p�/�0�o�\u0012���rm{���*�e���\u0001{����fU���3\u0012�\u0006���\u0004ޙ���ႶQ�灒�\u0003�\u0012\u0010c\u000f��>��e���#$���\u0004\u0000��Y#\f",
      "ve&f>F���\u0016�vG�C(�2�\f",
      "�i�/�Jv�e�É{�\u001d",
      "��\u0015e#\u0019]3$\f",
      "�9�(d��\u0007�Ӽ\u000e����zU\u001f�5��v�\u0019��Y�\u0015(\u001b���\u0004\u0016\t\u0002\u0018}ט?\\���J�(�Ǒ��ƥ�/�K8�g_5�\u000e@]�\u0002���Vt�¤}\u0002Y�a�О{��˘`E�\u000fuٗ!%Z�ִ��\f",
      "=pz���\u0001B\u00067$�\u0002��W�\u0004!\r",
      "�C�\u000ee�萿0\u000e\b_\\�Hn�p\u001c",
      "���\u0015A6�\u0002\f",
      "@���\u0002U�)���n\u0019�1c7\u00019�ϗ \r\n",
      "��\u0005\u0007\u0002�.�-Z�\u000e�\u0005�X%Ԍ^r��2��&Y\u001d",
      "*\bj��re5�\u001c",
      "$,g����PN���(_��햀;A��_�\u0007���=u5\u0003\r",
      "\u001e",
      "8G\b�jlDh�n4z��vd�I$�M�;�$��\"�JI\u0007�/4�N��y�s�U�\"ߘ�A�/@�+�F\u00187�3f��bIة���t\u0004h|K��-\f",
      ")\u0015'9�\u0003\u001f)\u0018�WU�7��c\"�\u001bҏ&~#��W0��aĘ�v�I&��\r\n",
      "�>\u00079�,Ҷ2H�\u0012��$�E�$�I�|��Q�\u000b",
      "J0\u0012�V\u0007��\u001f�\u000b",
      "�p��\u0019���^!\u001c",
      "(�\u0000p�;�\u0017w*q�T�����\u000f�h\u0005��X\u0007\u0000�\u0001g��\u0010�q�̣fe�f�\u000fm�\u0001�[B��\u00077�;�VF���\u00106\u001d",
      "�\f",
      "���U�Ƚ\u0001�T\u0005B�IHoJ��r�'A��\u0013C�괗bYո\u001c",
      "��р�R�\tz����3nv��g�\u0000\u0001�i�m-W���,ghq�2�\u001f�e��\u0011dX�S\u0005>`\u0019\u0004oz��^,Ɇ\u0013\u000b",
      "z�\u00151���w\u0014�!���7\r\n",
      "P�`p��P\u0003�M�U�UɃ�w�|\u001b\u0004�*�36@�\u0005C�d�F��s�\u000b",
      ">k���%-�0�\u000ed�N��I$T���EIĒI��ĒN��A�JI$4��I&�$�v\u0000�N�\u0010��I�r���\u000b",
      "��\u0012I!!)�b�;\u0003�$���I\u0015*i$�Rq$�c�q$���$�|\u0012�I\r",
      " ��I$�I�\u0003�I;�C�I')�o��/\u001b�I$�\u0003�V�\u000e@[0\u0016�ĝ���k~���[�7s\\���r�\u0002����xP14]���\r",
      "�\u0000��㍀f\f",
      "f����bJ�N\u0019���K~ũ�ˬ�Ǭ����\u0018��\u000b",
      "��x\u0018�\u000b",
      "8�T��\u0004\f",
      "/iv�p\u0018\\�\u0017�L���\u0007\u001c",
      "`L�\u0006L���G +\u000b",
      "�\u000b",
      "U׀\u0019\b�;y�^\u0019y�\u001c",
      "�f[�l�E���^b��\u0019�\u0004V��?Ph&�R\u000eò�SC���-5F����\r",
      "�N��\u0015�t0b����-宄Z��\u0017�\u0019�m|�\u0012ѫƘ���3ɫ\u001d",
      "n��P�\u000e�\u0014a��\u0002\u001d",
      "\r\n",
      "��n�\u0003gn�p9\u0001\u0019x\u0002�\r",
      "����^�0����[ɯ\u000b",
      ".��@\u0000�G���)\t�\u0000*PoJQ�_\u0017�;�� B���\u00025�j��\"S\u001fv`\u0019���ɭ\u0003\u0018G�x�^N8QS�k��弼V���\u0019�u�\u0001�>�p�3&��E~6a�ĺַdjۘ�i���\u001c",
      "���\u0001{\u0003jM\u0010�ݫ�yx\u0011�m�dl�Z�\u0004n\u000fns�Q؋Cf\u0006����ɏ�\u0017ǀ\u00138i�`��0\u0010ؚ5�-��\u001b\u0002� ��`�e�3��\u0007/:�%\u0005\u000b",
      "3�0�\u00108����C\u0001�\u0010\u000e��C\u0011ZR���Ƕ(���z�-�\u0000��r\u00027Xo�\r",
      "�ń�U\u0013\t�\u0018Ye��Ya�`�l\b�\u0017\u0005}8B���Ӭ�B0�\u0000�\\�W���\u0014�\u0018��d0��\u0006�Hn�C�MY��u\u0013�_���Y�\t�^\u0017*k�O��Ú�/ۂW\\S�\u0019n\u0000#+26\u000e�*%�\f",
      "��\u001d",
      "1gCe��\u0015�\u0000ZG\f",
      "U+d�����\u0011��<\u0002���Aw�#s��\u001e",
      "��Y^\u0017e0~Ix|t&�\u001d",
      "s4W0S��>�\u001b*���\u0018)4��Ȍ��\u0007�x�\u0002�/�\u0012���o\t0�n\u0003�\u001c",
      "�9`vN`l\u0010��\u0012�!`T[l�\u001ar0k\u0006���0&J�\u000e@V;a�\u0018�C>\u0014\u001d",
      "\f",
      "ȫ��:�u\u0014�\u0014��!��\u0016�׌�ڽ�c�����b�m� c\u001e",
      "\r",
      "��\u0019N\u0015� \u0004�\u0010�\u000e&}j܎8��h�^\u001e",
      ";\u000e.q8G\r\n",
      ")X\u0003�a�\u0006�T�ܻ÷b�\u0001�\u0001��\u0003�m�)7D\u00185�\u00186�Ӄ\u0002\f",
      "KLف��Y0r4�|\u001a6\u0006@IJ��@8=Tא�gƣ�\u0016�\u0015���sI�\b�\u0018w8\u00102�s\u001b�7��8�a�\u001f�!��I0�\u0007Y}r����(O\u0019��n����A��v�\b�&��^A�\u0000ᇉ�l��;�iP�\u001aP�\u0002��\u001a���Of\u0002��븮�7���\"O;�N\r",
      "\"Cr�'\u001c",
      "�P�\u0012V��r����~\u0006���J �k�-\u0004�\u0004���V@a�!}�։�+���z�x��fQ�����\u0004�Y��t��EĒ1\u0011�\u000e̸\u0004�0�uB����\u001d",
      "���3��Hf{�z��(���w�`�5MR�Hi�\\I##:�M�\r",
      "K��r�ݾ3ı�;�\u001d",
      "7\u0012H�;\u001b�,��\u0019}e��c�KX{/�dו �Ē0�Ǽ�e�>�\u001f��\u000e\u0000\r\n",
      "7}S�\u001c",
      "�� \u001c",
      "\u001c",
      "I �}��\r\n",
      "8�@gq�\u00195S��+_H\u0010�s��\u001a2�2���\t_��w��\u0002Q{�ŉ�\"�\u001b�$Ȗ�\u0014\u001d",
      "�\u0019�\u0017��9TRX��\u0006g˥]D�OP���|�?~\u000e���T�o,ge\\���I!N{9�q��sX\u001bK�\u000e{�\u0006��Q�U\f",
      "�\u0014�@6u�b�\u001e",
      "������q�\f",
      "W�\u0006�̕�p;;��P5�)t�q��y�9\u0000'n]{;��d�\u0002S0\u001e",
      "�\\�ܺQ^U\u0019��p�ԕ죍s)r�\u001d",
      "�A�`=@\u001a��\u000eY\u0014\\���F�6\u0000�A�\"\u0001�\\�\u00147f���@\u001e",
      "ى���\u001b�\t�2QR�ܡZ\u0011{!S���=�\u001e",
      "�[��\u0003)G\u0003�x�pȰ!e���\u0011�;���1�C/RbP�%��\u0010\u0011G���Ҝw�h�^��¸P\u0006*,�]�\u0001��\u001e",
      "f��<�ߒgPX��븻��YC�L{Ō�\u0005\u0016�?qg�\u0007\u000b",
      "��Ǣ�1ו��\f",
      "W����R.�T�g\u00101��\u001b�\u0012�\u00162�w\u001d",
      ":��C#�\u001d",
      "w\r",
      "���\f",
      "\u001e",
      "��M]����*;{�,�@�\u0005y�@#���_�_p����&\u0015v�+>����<wc\"��\u0014r\u00021wq��jS�\u0016���(�)xi�+'q`�x����\u0003�R��%C�\u001f��{{R��\u0001�\u001c",
      "s\u000b",
      "k\u0000i[\u001a�Q܏\r",
      "���_����R��<\u0001!����8g����8�\u001a��<n��\f",
      "��(\u0001f��{�\u0015��ѝ�\u001c",
      "�@c\u0010O{��mv��$8��p\u0018�\f",
      "W\u0001TQ�k��;\u000fPȝ���E~�=J\u0012��ɡ�� �/M�,�C�\u001c",
      "�困�4J�Q\\uz��\b����p6\u0007����gY�B\u0005�&���P\u0001\u0019\u0004�k�\u001d",
      "O5]\u0015\u0002B=x�)q��ގ(z�\u0019&\u001aOw`�,e�M2��D�\u0014ҏ{,�\u0006�0L�m�\u0004ؿ������3\u0005(�ͅ\r\n",
      "��z�F���Xt�\u001e",
      "�\u0004\u0003��\u001e",
      "�=��g%�\u0015](6tl�����ѻ�\u0005h\u0014�e@���w'\u001d",
      "�q`{�܃\u0017\u0001Jw��t\u001c",
      "t\u001d",
      "�e\u001c",
      "��oI�D�����<�j J���\u001b\u0000\u00011L\u0001Xq�\\�Ѿ({j���4�B�]��(����K�*ܡ���\u000es\t��^��\u0019\u0003���\u0006��e�H�n�I��M\"w�R���\u0019���q��\u00016�T��\u0005� o�נ͑�۞e��ekk���e\u001f�\u000e\"RG]b�X7��If0e���\u0019\f",
      "�n��D\u001a�(�\u0005`/C8�+�Ԁ+/\u00007\u00140\u000b",
      "���:�\u000f\u0001Ђ��u�\u0000^L\u001e",
      "^/�\u001e",
      "b����n�\u0005�?cpq,gCV}\u001b�ޕ�\u0010pό'儳�i��\u0019�_,?h�����o)t{�}��Y�)uẗ�k{��hg��̮�AM�|��rr�=�\u0001�\u0006��q\r\n",
      "�{ѓX�\u000e�\u0002��+\u001d",
      "�M\u0014'�t[\br\u00020\u000b",
      "߶&PW�\u0002���F?Q��>%�^��if��w|�\u001e",
      "��˦�K�z����a��I�\u000b",
      "��c�\u001aܷ\u0018�YG�F��|��.\b�\u001b�\b\u001e",
      "�\u0005/\u0011hW8ӽ�ї\u0018���\u0014\u0018w�v�F�(�Bo���3\u0016\u0002_{F�f\u001c",
      "�B\u0007�<�����X#tן{�\u0001�kE�s���f�,���SY��\u0005`�\u001ft��\\;�v�0����\u0016�K\u0018��U\u001d",
      "���\u0017�2�^4\u0015/��\bո\u000e\u000f�\"Y��&\u0001>*�\u0019�\u0007�\u0010i㣙H\u001be\u000f\u0018ɥ\u0018(2\u00170\\��<����(��K��fֻ~\u000f�\u0013)�S�AX\u0007[�AS�)E�H���!��\r\n",
      "]��\u001a\u0011���\u0015]\u0007��L��hFD�Y��\u0004b�>�\f",
      "\u0001��\t\u001c",
      "��ux\r\n",
      "��\u000e\u0003խb�=\u001b��\u0006\u0018�\u001a��\u000b",
      "J\u0005\r\n",
      "�\u000f�U\r\n",
      "\u0001�\u0005��Ա�caeܨ+3\u001c",
      "~\u0014\u000b",
      "\u0014�\r",
      "��ࡣ�c�,\u00004�\u0016e\u0012��`�\u001bh+���)�G5�\u0000�<>FXU�oO�0����;\u00030�������@c���`@ח�.�n[��\u0002e˸��@�\u000e\u0004�*�?\u0007�\r\n",
      "��t��S��\u001e",
      "�n\u0007#L>̭�N\u0004h�P\u001c",
      "l\u0004�pw'�!-w�pa��ɳA-s\f",
      "�f\u000f�\u0005��Z����\r\n",
      "GȰ\u0018��,\u0003%��\u0007�6)��!\b\u000e甕\u001e",
      ",,�.��F[�w8\u0018^\u0014�Yߺ�\u001a�T�:�-R\u0003O݄�4^������\u00116\\\t�%<\u000eB���\r\n",
      "֟j/���n�Ah�Z[�+�����Q�\u0001��)\f",
      "�x�1\u0018?�Y�Wj�&\u0018����Ig�{�\u0011��_w�\t�8\"罭Ԍ�\r",
      "��q�\r\n",
      "�&�\b\b�Q�`\u0010�;�i�¨�D-5JGB��\u000e�\t�\u000b",
      "\u000b",
      "�\u0015�{s͡Ց\u001c",
      "\u0017�r\u0003{�\u0002�f�\u001c",
      "�K���CH��~�h�Kɯ�x\u0004\u0003n\f",
      "2�n9L\u0001\r",
      "�\u001c",
      "\u0006)\u0000�~_�3�0\u0006���\u0001�ȹ�V\u0006��\u0015,u�`N\u0001�rއ�rK��Q���^k\u0015d1}��\u0014aO)�\u001d",
      "��h��Q�L\u000b",
      "r\u0006\u001e",
      "�Z\u0019�4r��^�n�&^,z҆à\u0011nx�\u0006�v\u0001q�f\bT�P�@ y���f���\u000b",
      "����`���(�\t��A�\u0005���\u0018T��;��\u001f�5z�\u0010m[3\u0004�9\u0000Kf�,�е�%��yB�\u00050�{f\u0019�˃DxZ�(���([�ׁ\b��}H0���w����\u0000\r",
      "�}]��\b�\u0000��x+�ڼ]�\b=t��`�<\u001c",
      "��\u0013F\u0014 \u0010pi�,��Q� ��af���\u001e",
      "�������'\u0015.���\u000b",
      "��3�\u0013�1C(���&XM\u0000�\u00165�\u0004\r",
      "c�c0\u000eȎ<r�����a�W\u0003��t���\tf�y�T�����&����\u0003�\u0005�%\u0006\u001f�\u0003\f",
      "�\r\n",
      "`\u0017\u0002@H���QF��\u0015��F��3q�A�j�\u0010ÿ�\u000b",
      "y{2;x:\u0016q[Ԍ\tB?|\u001f�w\u001d",
      "\"�;\u001f�N\r\n",
      "\f",
      "c}���B�_�x���5l�\u0013��h�hb1'I撥��:l��\u0000J�\f",
      ".�\u0015쟯\u0007i�\u0005xd`\bl2�o\u0014(�\u000e�8|�S��\f",
      "\u001a�\u0001�\r\n",
      "׀\\Ȍ�}��\u0004��(\u000e\u001fl��{�љ��\t�P�^\u0004=�/;rs�G��.��F���0�\u0019,����8��\u0007�YZ�\u0001\f",
      "\u00148�5��,{\r\n",
      "��\bd\u000fŀj�z��xٜ\u001bJ�2ً���N(\u000b",
      "��J8$��r\u00024����&�\u001d",
      "�\u00022&�o�k̇\\�P\b8L.��� R�f���\r\n",
      "\u0010\\�\u001f��y�y���\u0014�K�#\u0013o_��t�H\\K\u0007\u001e",
      "�bI��a�\u0007\u0018\u0018�Y��\f",
      "��\u0003AX=[�\u0010\u001d",
      "�*�\u001c",
      "3i��9h����U��ف�\u000b",
      "J�}��ۤ��x\tt$O��H��\\\u0003���\u001e",
      "�CY\u0016\u0017��ɚ�X\u0017r8����W�\u0018R\u0000/i1&��\u001e",
      "F7�й������ݸ{C�d�\u0010����\r\n",
      "0\r",
      "\u0011A�\u0002\\�,\f",
      "\u0001\tS�\u0006\u001f`\u001fυ!fF��bU\u0006�$r\u0002���\u0004�\u0004m8T�@�$O�d\r\n",
      "��\r\n"
     ]
    }
   ],
   "source": [
    "# insert the raw file name -kmr\n",
    "# it should look like complete nonsense -- we will change it in this notebook\n",
    "!head -40 04223191.t01"
   ]
  },
  {
   "cell_type": "markdown",
   "id": "78b84884",
   "metadata": {},
   "source": [
    "The file has two parts: \n",
    "1. A header of 21 lines containing important metadata, such as the site code, who collected the data, the receiver and antenna type (and their serial numbers), the approximate site location, the antenna height and details of the data (the start and end times, sample interval, and which observations are recorded $-$ such as which carrier phases and which pseudoranges).\n",
    "2. Data, with time and date stamps for each epoch, as well as the details of the observables for each visible satellite.\n",
    "\n",
    "A RINEX data file containing this information is processable using multiple different processing softwares. But how do we make one?"
   ]
  },
  {
   "cell_type": "markdown",
   "id": "a0d11536",
   "metadata": {},
   "source": [
    "### 1.2 Converting RAW data to RINEX\n",
    "\n",
    "The first step will be to pull the data from the GNSS receiver $-$ and how you do this depends a lot on the receiver type. Some receivers (such as the Trimble NetRS and NetR9, and the Septentrio PolaRx5) log data to internal storage, and require you to connect to a web server on the receiver to access the data. Others, such as the Trimble R7 and Topcon GB-1000, log data to a CompactFlash card within the receiver, which can then be pulled out and read with a card reader at the end of the survey (which is usually much easier to do, especially when out in the field).\n",
    "\n",
    "Assuming we are using a Trimble R7, which are the majority of the GNSS receivers I have access to at UCR, then the data will be recorded to the receiver in a proprietary, binary format ('t01' format). I have included one of these files as well, collected in July 2024 at VERS, to practice with. Let's have a look!"
   ]
  },
  {
   "cell_type": "code",
   "execution_count": 2,
   "id": "e8e17f60",
   "metadata": {},
   "outputs": [
    {
     "name": "stdout",
     "output_type": "stream",
     "text": [
      "-rw-r--r-- 1 katie katie 333320 Dec 22  2005 36453560.t01\n",
      "-rw-r--r-- 1 katie katie  59598 Dec 22  2005 36453561.t01\n",
      "-rw-r--r-- 1 katie katie 444552 Dec 23  2005 36453570.t01\n"
     ]
    }
   ],
   "source": [
    "# lets look at all the files that end with .t01\n",
    "!ls -l *.t01"
   ]
  },
  {
   "cell_type": "markdown",
   "id": "8f1a242c",
   "metadata": {},
   "source": [
    "EarthScope (UNAVCO, as-was) is a good source of information on how to convert these proprietary data files to RINEX. For the Trimble data we are using, it is a two step process $-$ first convert the 't01' file to a 'dat' file, and then convert the 'dat' file to RINEX. \n",
    "\n",
    "The conversion program we need for the first step is called runpkr00, and it is a compiled binary executable that only runs on certain hardware (Linux PCs, Windows PCs, Intel Macs, Solaris Unix machines).\n",
    "\n",
    "The runpkr00 executables can be downloaded from this legacy UNAVCO Knowledge Base webpage: https://kb.unavco.org/article/trimble-runpkr00-latest-versions-744.html\n",
    "\n",
    "You should download the version that you need (version 5.40 is good enough for our purposes). If you are running this on Linux (or emulated Linux through WSL2), make sure you copy the `runpkr00` exectuable to the directory containing this notebook and the t01 file."
   ]
  },
  {
   "cell_type": "code",
   "execution_count": 6,
   "id": "d8a390db",
   "metadata": {},
   "outputs": [],
   "source": [
    "# run the process for the raw data\n",
    "!chmod +x runpkr00\n"
   ]
  },
  {
   "cell_type": "markdown",
   "id": "8dc29e66",
   "metadata": {},
   "source": [
    "In order to convert the file, we need to run `runpkr00` on the data file. Consulting the [Knowledge Base](https://kb.unavco.org/article/trimble-runpkr00-latest-versions-744.html) again, the correct syntax is something like: `runpkr00 -g -d filename.T01`\n",
    "\n",
    "So let's do that..."
   ]
  },
  {
   "cell_type": "code",
   "execution_count": 7,
   "id": "6e4aa0b2",
   "metadata": {},
   "outputs": [
    {
     "name": "stdout",
     "output_type": "stream",
     "text": [
      "./runpkr00 -g -d 36453560.t01\n"
     ]
    }
   ],
   "source": [
    "# insert YOUR FILE that you would like to process\n",
    "rawfile='36453560.t01'  # if you have your own file, feel free to substitute it here\n",
    "\n",
    "print('./runpkr00 -g -d ' + rawfile)  # this is the command you are running\n",
    "\n",
    "!./runpkr00 -g -d $rawfile"
   ]
  },
  {
   "cell_type": "markdown",
   "id": "61b43566",
   "metadata": {},
   "source": [
    "What did that do? Let's look for 'dat' files in the directory:"
   ]
  },
  {
   "cell_type": "code",
   "execution_count": 8,
   "id": "f6281357",
   "metadata": {},
   "outputs": [
    {
     "name": "stdout",
     "output_type": "stream",
     "text": [
      "-rw-rw-r-- 1 katie katie 1458294 Aug 18 20:44 36453560.dat\n"
     ]
    }
   ],
   "source": [
    "# lets see the .dat file it should have just created\n",
    "!ls -l *.dat"
   ]
  },
  {
   "cell_type": "markdown",
   "id": "32e2b12d",
   "metadata": {},
   "source": [
    "And now we should have a 'dat' file!\n",
    "\n",
    "Next we need to convert this to a 'proper' RINEX format, and for that we can use the long-lived (and no longer supported) `teqc` converter, a legacy UNAVCO code. teqc also has a legacy website: https://www.unavco.org/software/data-processing/teqc/teqc.html\n",
    "\n",
    "Note again that not all computer platforms are supported, but Linux PCs are. If the command does not work on your machine, try using it on a \n",
    "\n",
    "Once again, get the version of the executable that runs on your own machine, and copy it to your working directory.\n",
    "\n",
    "The syntax for running `teqc` is pretty straightforward, something like: `teqc filename.dat > rinexfile.o`\n",
    "\n",
    "We can try that..."
   ]
  },
  {
   "cell_type": "code",
   "execution_count": 9,
   "id": "b88bc622-fffa-4d8a-bbf3-6faab571c388",
   "metadata": {},
   "outputs": [],
   "source": [
    "!chmod +x teqc\n"
   ]
  },
  {
   "cell_type": "code",
   "execution_count": 10,
   "id": "1e325235",
   "metadata": {},
   "outputs": [
    {
     "name": "stdout",
     "output_type": "stream",
     "text": [
      "./teqc 36453560.dat > test.o\n",
      "? Error ? translation of '36453560.dat' may have started with GPS week 2380 rather than 1354\n",
      "\t(try using '-week 1354' option)\n",
      "! Notice ! '36453560.dat': GPS week initially set= 1354\n"
     ]
    }
   ],
   "source": [
    "# some data format futzing\n",
    "# this is just practice for the wrong gps week -- use the website to figure out the real gps week\n",
    "filename, extension = splitext(rawfile)\n",
    "datfile = filename+'.dat'\n",
    "\n",
    "# and let's run it\n",
    "print('./teqc ' + datfile + ' > test.o')\n",
    "\n",
    "!./teqc $datfile > test.o"
   ]
  },
  {
   "cell_type": "markdown",
   "id": "3ee3e12d",
   "metadata": {},
   "source": [
    "We get an error message! Something about a possibly incorrect 'GPS week'! What does that mean?\n",
    "\n",
    "Well, GPS week is a charming and fairly arcane way of measuring the passing of time. It refers to the number of weeks since the first GPS epoch $-$ which was midnight on January 6, 1980, UTC time. GPS week is transmitted with the GPS signal as a 10 bit number, meaning that every $2^{10}$ weeks (1024 weeks), the counter resets, and the GPS receiver gets confused about the date.\n",
    "\n",
    "This is the GPS equivalent of the Y2K bug, and if anything it is a more irritating problem as it is: 1) less well known, 2) happens more frequently (1024 weeks is 19.6 years), and 3) not really fixed. It has caused issues, particularly with electronic hardware that uses GPS for timing $-$ see https://en.wikipedia.org/wiki/GPS_week_number_rollover for some examples, and a description of the problem.\n",
    "\n",
    "If we look at the dates in the RINEX file we just made, we can see it might have some issues:"
   ]
  },
  {
   "cell_type": "code",
   "execution_count": 11,
   "id": "4f01894b",
   "metadata": {},
   "outputs": [
    {
     "name": "stdout",
     "output_type": "stream",
     "text": [
      "     2.11           OBSERVATION DATA    G (GPS)             RINEX VERSION / TYPE\n",
      "teqc  2019Feb25                         20250819 03:44:52UTCPGM / RUN BY / DATE\n",
      "Linux 2.6.32-573.12.1.x86_64|x86_64|gcc -static|Linux 64|=+ COMMENT\n",
      "BIT 2 OF LLI FLAGS DATA COLLECTED UNDER A/S CONDITION       COMMENT\n",
      "36453560                                                    MARKER NAME\n",
      "3645                                                        MARKER NUMBER\n",
      "-Unknown-           -Unknown-                               OBSERVER / AGENCY\n",
      "0220263645          TRIMBLE 5700        2.32                REC # / TYPE / VERS\n",
      "-Unknown-           TRM39105.00     NONE                    ANT # / TYPE\n",
      " -2415091.3379 -4617799.7909  3666831.0382                  APPROX POSITION XYZ\n",
      "        0.0000        0.0000        0.0000                  ANTENNA: DELTA H/E/N\n",
      "     1     1                                                WAVELENGTH FACT L1/2\n",
      "     7    L1    L2    C1    P1    P2    S1    S2            # / TYPES OF OBSERV\n",
      "    18                                                      LEAP SECONDS\n",
      " SNR is mapped to RINEX snr flag value [0-9]                COMMENT\n",
      "  L1 & L2: min(max(int(snr_dBHz/6), 0), 9)                  COMMENT\n",
      "  2005    12    22     0    13   30.0000000     GPS         TIME OF FIRST OBS\n",
      "                                                            END OF HEADER\n",
      " 05 12 22  0 13 30.0000000  0  6G01G03G04G16G26G31\n",
      "     47898.27757     20468.28555  23219916.7114                   23219919.7034\n",
      "        43.0004         35.0004\n",
      "      4175.19558      2007.10959  20050433.1884                   20050434.9804\n",
      "        50.0004         54.2504\n",
      "    -17716.03558     -7510.86757  21181731.4064                   21181732.6334\n",
      "        48.7504         42.5004\n",
      "    -39669.86757    -16868.25056  22079982.7894                   22079983.3794\n",
      "        45.5004         37.0004\n",
      "      4203.93857      1850.04758  21595069.9614                   21595073.7034\n",
      "        47.2504         49.5004\n",
      "     47189.61357     20165.69558  22078405.5234                   22078406.0474\n",
      "        47.7504         49.0004\n",
      " 05 12 22  0 14  0.0000000  0  6G01G03G04G16G26G31\n",
      "    141216.23047     93183.40245  23237674.3284                   23237677.9844\n",
      "        43.7504         33.0004\n",
      "     12396.60948      8413.39549  20051997.2034                   20051999.9574\n",
      "        51.0004         54.2504\n",
      "    -52560.74648    -34662.57446  21175100.4224                   21175101.6954\n",
      "        48.7504         41.2504\n",
      "   -117210.14547    -77289.16446  22065227.1884                   22065228.1054\n",
      "        46.2504         36.2504\n"
     ]
    }
   ],
   "source": [
    "# lets look at the file you just created\n",
    "!head -40 test.o"
   ]
  },
  {
   "cell_type": "markdown",
   "id": "8803bbb1",
   "metadata": {},
   "source": [
    "The date/time strings are something like `04 12  1  1 18 30.0000000` $-$ 2004/12/01 at 01:18:30. Not July 2024. Indeed, if you compare the dates, they are wrong by just under 20 years. (That should sound suspicious...)\n",
    "\n",
    "We can consult the [log sheet for the data](VERS.pdf) to see what the actual acquisition date was.\n",
    "\n",
    "We can also use a [GPS week date converter](http://sopac-old.ucsd.edu/convertDate.shtml) to figure out what the GPS week actually was when the data were acquired."
   ]
  },
  {
   "cell_type": "code",
   "execution_count": 12,
   "id": "cdca999d",
   "metadata": {},
   "outputs": [
    {
     "name": "stdout",
     "output_type": "stream",
     "text": [
      "./teqc -week 2378 36453560.dat > test.o\n",
      "! Notice ! NAVSTAR GPS SV G28 in '36453560.dat': ToC 2005 Dec 22 02:00:00.000 not in 2025 Aug  7 00:13:30.000 to 6075 Dec 31 23:59:59.999 by +/- 140 min\n",
      "! Notice ! NAVSTAR GPS SV G02 in '36453560.dat': ToC 2005 Dec 22 02:00:00.000 not in 2025 Aug  7 00:13:30.000 to 6075 Dec 31 23:59:59.999 by +/- 140 min\n",
      "! Notice ! NAVSTAR GPS SV G06 in '36453560.dat': ToC 2005 Dec 22 02:00:00.000 not in 2025 Aug  7 00:13:30.000 to 6075 Dec 31 23:59:59.999 by +/- 140 min\n",
      "! Notice ! NAVSTAR GPS SV G07 in '36453560.dat': ToC 2005 Dec 22 01:59:44.000 not in 2025 Aug  7 00:13:30.000 to 6075 Dec 31 23:59:59.999 by +/- 140 min\n",
      "! Notice ! NAVSTAR GPS SV G09 in '36453560.dat': ToC 2005 Dec 22 02:00:00.000 not in 2025 Aug  7 00:13:30.000 to 6075 Dec 31 23:59:59.999 by +/- 140 min\n",
      "! Notice ! NAVSTAR GPS SV G27 in '36453560.dat': ToC 2005 Dec 22 02:00:00.000 not in 2025 Aug  7 00:13:30.000 to 6075 Dec 31 23:59:59.999 by +/- 140 min\n",
      "! Notice ! NAVSTAR GPS SV G03 in '36453560.dat': ToC 2005 Dec 22 01:59:44.000 not in 2025 Aug  7 00:13:30.000 to 6075 Dec 31 23:59:59.999 by +/- 140 min\n",
      "! Notice ! NAVSTAR GPS SV G08 in '36453560.dat': ToC 2005 Dec 22 02:00:00.000 not in 2025 Aug  7 00:13:30.000 to 6075 Dec 31 23:59:59.999 by +/- 140 min\n",
      "! Notice ! NAVSTAR GPS SV G30 in '36453560.dat': ToC 2005 Dec 22 02:00:00.000 not in 2025 Aug  7 00:13:30.000 to 6075 Dec 31 23:59:59.999 by +/- 140 min\n",
      "! Notice ! NAVSTAR GPS SV G04 in '36453560.dat': ToC 2005 Dec 22 04:00:00.000 not in 2025 Aug  7 00:13:30.000 to 6075 Dec 31 23:59:59.999 by +/- 140 min\n",
      "! Notice ! NAVSTAR GPS SV G16 in '36453560.dat': ToC 2005 Dec 22 04:00:00.000 not in 2025 Aug  7 00:13:30.000 to 6075 Dec 31 23:59:59.999 by +/- 140 min\n",
      "! Notice ! NAVSTAR GPS SV G26 in '36453560.dat': ToC 2005 Dec 22 03:59:44.000 not in 2025 Aug  7 00:13:30.000 to 6075 Dec 31 23:59:59.999 by +/- 140 min\n",
      "! Notice ! NAVSTAR GPS SV G08 in '36453560.dat': ToC 2005 Dec 22 04:00:00.000 not in 2025 Aug  7 00:13:30.000 to 6075 Dec 31 23:59:59.999 by +/- 140 min\n",
      "! Notice ! NAVSTAR GPS SV G07 in '36453560.dat': ToC 2005 Dec 22 03:59:44.000 not in 2025 Aug  7 00:13:30.000 to 6075 Dec 31 23:59:59.999 by +/- 140 min\n",
      "! Notice ! NAVSTAR GPS SV G06 in '36453560.dat': ToC 2005 Dec 22 04:00:00.000 not in 2025 Aug  7 00:13:30.000 to 6075 Dec 31 23:59:59.999 by +/- 140 min\n",
      "! Notice ! NAVSTAR GPS SV G03 in '36453560.dat': ToC 2005 Dec 22 03:59:44.000 not in 2025 Aug  7 00:13:30.000 to 6075 Dec 31 23:59:59.999 by +/- 140 min\n",
      "! Notice ! NAVSTAR GPS SV G30 in '36453560.dat': ToC 2005 Dec 22 04:00:00.000 not in 2025 Aug  7 00:13:30.000 to 6075 Dec 31 23:59:59.999 by +/- 140 min\n",
      "! Notice ! NAVSTAR GPS SV G09 in '36453560.dat': ToC 2005 Dec 22 04:00:00.000 not in 2025 Aug  7 00:13:30.000 to 6075 Dec 31 23:59:59.999 by +/- 140 min\n",
      "! Notice ! NAVSTAR GPS SV G27 in '36453560.dat': ToC 2005 Dec 22 04:00:00.000 not in 2025 Aug  7 00:13:30.000 to 6075 Dec 31 23:59:59.999 by +/- 140 min\n",
      "! Notice ! NAVSTAR GPS SV G21 in '36453560.dat': ToC 2005 Dec 22 04:00:00.000 not in 2025 Aug  7 00:13:30.000 to 6075 Dec 31 23:59:59.999 by +/- 140 min\n",
      "! Notice ! NAVSTAR GPS SV G14 in '36453560.dat': ToC 2005 Dec 22 04:00:00.000 not in 2025 Aug  7 00:13:30.000 to 6075 Dec 31 23:59:59.999 by +/- 140 min\n",
      "! Notice ! NAVSTAR GPS SV G05 in '36453560.dat': ToC 2005 Dec 22 04:00:00.000 not in 2025 Aug  7 00:13:30.000 to 6075 Dec 31 23:59:59.999 by +/- 140 min\n",
      "! Notice ! NAVSTAR GPS SV G22 in '36453560.dat': ToC 2005 Dec 22 03:59:44.000 not in 2025 Aug  7 00:13:30.000 to 6075 Dec 31 23:59:59.999 by +/- 140 min\n",
      "! Notice ! NAVSTAR GPS SV G14 in '36453560.dat': ToC 2005 Dec 22 06:00:00.000 not in 2025 Aug  7 00:13:30.000 to 6075 Dec 31 23:59:59.999 by +/- 140 min\n",
      "! Notice ! NAVSTAR GPS SV G21 in '36453560.dat': ToC 2005 Dec 22 06:00:00.000 not in 2025 Aug  7 00:13:30.000 to 6075 Dec 31 23:59:59.999 by +/- 140 min\n",
      "! Notice ! NAVSTAR GPS SV G22 in '36453560.dat': ToC 2005 Dec 22 06:00:00.000 not in 2025 Aug  7 00:13:30.000 to 6075 Dec 31 23:59:59.999 by +/- 140 min\n",
      "! Notice ! NAVSTAR GPS SV G05 in '36453560.dat': ToC 2005 Dec 22 06:00:00.000 not in 2025 Aug  7 00:13:30.000 to 6075 Dec 31 23:59:59.999 by +/- 140 min\n",
      "! Notice ! NAVSTAR GPS SV G08 in '36453560.dat': ToC 2005 Dec 22 06:00:00.000 not in 2025 Aug  7 00:13:30.000 to 6075 Dec 31 23:59:59.999 by +/- 140 min\n",
      "! Notice ! NAVSTAR GPS SV G04 in '36453560.dat': ToC 2005 Dec 22 06:00:00.000 not in 2025 Aug  7 00:13:30.000 to 6075 Dec 31 23:59:59.999 by +/- 140 min\n",
      "! Notice ! NAVSTAR GPS SV G07 in '36453560.dat': ToC 2005 Dec 22 06:00:00.000 not in 2025 Aug  7 00:13:30.000 to 6075 Dec 31 23:59:59.999 by +/- 140 min\n",
      "! Notice ! NAVSTAR GPS SV G30 in '36453560.dat': ToC 2005 Dec 22 06:00:00.000 not in 2025 Aug  7 00:13:30.000 to 6075 Dec 31 23:59:59.999 by +/- 140 min\n",
      "! Notice ! NAVSTAR GPS SV G09 in '36453560.dat': ToC 2005 Dec 22 06:00:00.000 not in 2025 Aug  7 00:13:30.000 to 6075 Dec 31 23:59:59.999 by +/- 140 min\n",
      "! Notice ! NAVSTAR GPS SV G27 in '36453560.dat': ToC 2005 Dec 22 06:00:00.000 not in 2025 Aug  7 00:13:30.000 to 6075 Dec 31 23:59:59.999 by +/- 140 min\n",
      "! Notice ! NAVSTAR GPS SV G17 in '36453560.dat': ToC 2005 Dec 22 06:00:00.000 not in 2025 Aug  7 00:13:30.000 to 6075 Dec 31 23:59:59.999 by +/- 140 min\n",
      "! Notice ! NAVSTAR GPS SV G13 in '36453560.dat': ToC 2005 Dec 22 06:00:00.000 not in 2025 Aug  7 00:13:30.000 to 6075 Dec 31 23:59:59.999 by +/- 140 min\n",
      "! Notice ! NAVSTAR GPS SV G14 in '36453560.dat': ToC 2005 Dec 22 06:29:36.000 not in 2025 Aug  7 00:13:30.000 to 6075 Dec 31 23:59:59.999 by +/- 140 min\n",
      "! Notice ! NAVSTAR GPS SV G27 in '36453560.dat': ToC 2005 Dec 22 05:59:44.000 not in 2025 Aug  7 00:13:30.000 to 6075 Dec 31 23:59:59.999 by +/- 140 min\n",
      "! Notice ! NAVSTAR GPS SV G02 in '36453560.dat': ToC 2005 Dec 22 06:00:00.000 not in 2025 Aug  7 00:13:30.000 to 6075 Dec 31 23:59:59.999 by +/- 140 min\n",
      "! Notice ! NAVSTAR GPS SV G19 in '36453560.dat': ToC 2005 Dec 22 06:00:00.000 not in 2025 Aug  7 00:13:30.000 to 6075 Dec 31 23:59:59.999 by +/- 140 min\n",
      "! Notice ! NAVSTAR GPS SV G01 in '36453560.dat': ToC 2005 Dec 22 06:00:00.000 not in 2025 Aug  7 00:13:30.000 to 6075 Dec 31 23:59:59.999 by +/- 140 min\n",
      "! Notice ! NAVSTAR GPS SV G15 in '36453560.dat': ToC 2005 Dec 22 06:00:00.000 not in 2025 Aug  7 00:13:30.000 to 6075 Dec 31 23:59:59.999 by +/- 140 min\n",
      "! Notice ! NAVSTAR GPS SV G14 in '36453560.dat': ToC 2005 Dec 22 07:59:44.000 not in 2025 Aug  7 00:13:30.000 to 6075 Dec 31 23:59:59.999 by +/- 140 min\n",
      "! Notice ! NAVSTAR GPS SV G01 in '36453560.dat': ToC 2005 Dec 22 08:00:00.000 not in 2025 Aug  7 00:13:30.000 to 6075 Dec 31 23:59:59.999 by +/- 140 min\n",
      "! Notice ! NAVSTAR GPS SV G22 in '36453560.dat': ToC 2005 Dec 22 08:00:00.000 not in 2025 Aug  7 00:13:30.000 to 6075 Dec 31 23:59:59.999 by +/- 140 min\n",
      "! Notice ! NAVSTAR GPS SV G17 in '36453560.dat': ToC 2005 Dec 22 08:00:00.000 not in 2025 Aug  7 00:13:30.000 to 6075 Dec 31 23:59:59.999 by +/- 140 min\n",
      "! Notice ! NAVSTAR GPS SV G13 in '36453560.dat': ToC 2005 Dec 22 08:00:00.000 not in 2025 Aug  7 00:13:30.000 to 6075 Dec 31 23:59:59.999 by +/- 140 min\n",
      "! Notice ! NAVSTAR GPS SV G15 in '36453560.dat': ToC 2005 Dec 22 08:00:00.000 not in 2025 Aug  7 00:13:30.000 to 6075 Dec 31 23:59:59.999 by +/- 140 min\n",
      "! Notice ! NAVSTAR GPS SV G19 in '36453560.dat': ToC 2005 Dec 22 08:00:00.000 not in 2025 Aug  7 00:13:30.000 to 6075 Dec 31 23:59:59.999 by +/- 140 min\n",
      "! Notice ! NAVSTAR GPS SV G02 in '36453560.dat': ToC 2005 Dec 22 08:00:00.000 not in 2025 Aug  7 00:13:30.000 to 6075 Dec 31 23:59:59.999 by +/- 140 min\n",
      "! Notice ! NAVSTAR GPS SV G08 in '36453560.dat': ToC 2005 Dec 22 08:00:00.000 not in 2025 Aug  7 00:13:30.000 to 6075 Dec 31 23:59:59.999 by +/- 140 min\n",
      "! Notice ! NAVSTAR GPS SV G07 in '36453560.dat': ToC 2005 Dec 22 08:00:00.000 not in 2025 Aug  7 00:13:30.000 to 6075 Dec 31 23:59:59.999 by +/- 140 min\n",
      "! Notice ! NAVSTAR GPS SV G30 in '36453560.dat': ToC 2005 Dec 22 08:00:00.000 not in 2025 Aug  7 00:13:30.000 to 6075 Dec 31 23:59:59.999 by +/- 140 min\n",
      "! Notice ! NAVSTAR GPS SV G09 in '36453560.dat': ToC 2005 Dec 22 08:00:00.000 not in 2025 Aug  7 00:13:30.000 to 6075 Dec 31 23:59:59.999 by +/- 140 min\n",
      "! Notice ! NAVSTAR GPS SV G06 in '36453560.dat': ToC 2005 Dec 22 08:00:00.000 not in 2025 Aug  7 00:13:30.000 to 6075 Dec 31 23:59:59.999 by +/- 140 min\n",
      "! Notice ! NAVSTAR GPS SV G24 in '36453560.dat': ToC 2005 Dec 22 08:00:00.000 not in 2025 Aug  7 00:13:30.000 to 6075 Dec 31 23:59:59.999 by +/- 140 min\n",
      "! Notice ! NAVSTAR GPS SV G01 in '36453560.dat': ToC 2005 Dec 22 10:00:00.000 not in 2025 Aug  7 00:13:30.000 to 6075 Dec 31 23:59:59.999 by +/- 140 min\n",
      "! Notice ! NAVSTAR GPS SV G14 in '36453560.dat': ToC 2005 Dec 22 10:00:00.000 not in 2025 Aug  7 00:13:30.000 to 6075 Dec 31 23:59:59.999 by +/- 140 min\n",
      "! Notice ! NAVSTAR GPS SV G19 in '36453560.dat': ToC 2005 Dec 22 10:00:00.000 not in 2025 Aug  7 00:13:30.000 to 6075 Dec 31 23:59:59.999 by +/- 140 min\n",
      "! Notice ! NAVSTAR GPS SV G22 in '36453560.dat': ToC 2005 Dec 22 10:00:00.000 not in 2025 Aug  7 00:13:30.000 to 6075 Dec 31 23:59:59.999 by +/- 140 min\n",
      "! Notice ! NAVSTAR GPS SV G30 in '36453560.dat': ToC 2005 Dec 22 10:00:00.000 not in 2025 Aug  7 00:13:30.000 to 6075 Dec 31 23:59:59.999 by +/- 140 min\n",
      "! Notice ! NAVSTAR GPS SV G17 in '36453560.dat': ToC 2005 Dec 22 10:00:00.000 not in 2025 Aug  7 00:13:30.000 to 6075 Dec 31 23:59:59.999 by +/- 140 min\n",
      "! Notice ! NAVSTAR GPS SV G06 in '36453560.dat': ToC 2005 Dec 22 10:00:00.000 not in 2025 Aug  7 00:13:30.000 to 6075 Dec 31 23:59:59.999 by +/- 140 min\n",
      "! Notice ! NAVSTAR GPS SV G24 in '36453560.dat': ToC 2005 Dec 22 10:00:00.000 not in 2025 Aug  7 00:13:30.000 to 6075 Dec 31 23:59:59.999 by +/- 140 min\n",
      "! Notice ! NAVSTAR GPS SV G13 in '36453560.dat': ToC 2005 Dec 22 10:00:00.000 not in 2025 Aug  7 00:13:30.000 to 6075 Dec 31 23:59:59.999 by +/- 140 min\n",
      "! Notice ! NAVSTAR GPS SV G15 in '36453560.dat': ToC 2005 Dec 22 10:00:00.000 not in 2025 Aug  7 00:13:30.000 to 6075 Dec 31 23:59:59.999 by +/- 140 min\n",
      "! Notice ! NAVSTAR GPS SV G11 in '36453560.dat': ToC 2005 Dec 22 10:00:00.000 not in 2025 Aug  7 00:13:30.000 to 6075 Dec 31 23:59:59.999 by +/- 140 min\n",
      "! Notice ! NAVSTAR GPS SV G30 in '36453560.dat': ToC 2005 Dec 22 09:59:44.000 not in 2025 Aug  7 00:13:30.000 to 6075 Dec 31 23:59:59.999 by +/- 140 min\n",
      "! Notice ! NAVSTAR GPS SV G12 in '36453560.dat': ToC 2005 Dec 22 10:00:00.000 not in 2025 Aug  7 00:13:30.000 to 6075 Dec 31 23:59:59.999 by +/- 140 min\n",
      "! Notice ! NAVSTAR GPS SV G06 in '36453560.dat': ToC 2005 Dec 22 09:59:44.000 not in 2025 Aug  7 00:13:30.000 to 6075 Dec 31 23:59:59.999 by +/- 140 min\n",
      "! Notice ! NAVSTAR GPS SV G24 in '36453560.dat': ToC 2005 Dec 22 09:59:44.000 not in 2025 Aug  7 00:13:30.000 to 6075 Dec 31 23:59:59.999 by +/- 140 min\n",
      "! Notice ! NAVSTAR GPS SV G25 in '36453560.dat': ToC 2005 Dec 22 10:00:00.000 not in 2025 Aug  7 00:13:30.000 to 6075 Dec 31 23:59:59.999 by +/- 140 min\n",
      "! Notice ! NAVSTAR GPS SV G14 in '36453560.dat': ToC 2005 Dec 22 12:00:00.000 not in 2025 Aug  7 00:13:30.000 to 6075 Dec 31 23:59:59.999 by +/- 140 min\n",
      "! Notice ! NAVSTAR GPS SV G19 in '36453560.dat': ToC 2005 Dec 22 12:00:00.000 not in 2025 Aug  7 00:13:30.000 to 6075 Dec 31 23:59:59.999 by +/- 140 min\n",
      "! Notice ! NAVSTAR GPS SV G12 in '36453560.dat': ToC 2005 Dec 22 12:00:00.000 not in 2025 Aug  7 00:13:30.000 to 6075 Dec 31 23:59:59.999 by +/- 140 min\n",
      "! Notice ! NAVSTAR GPS SV G22 in '36453560.dat': ToC 2005 Dec 22 12:00:00.000 not in 2025 Aug  7 00:13:30.000 to 6075 Dec 31 23:59:59.999 by +/- 140 min\n",
      "! Notice ! NAVSTAR GPS SV G25 in '36453560.dat': ToC 2005 Dec 22 12:00:00.000 not in 2025 Aug  7 00:13:30.000 to 6075 Dec 31 23:59:59.999 by +/- 140 min\n",
      "! Notice ! NAVSTAR GPS SV G17 in '36453560.dat': ToC 2005 Dec 22 12:00:00.000 not in 2025 Aug  7 00:13:30.000 to 6075 Dec 31 23:59:59.999 by +/- 140 min\n",
      "! Notice ! NAVSTAR GPS SV G06 in '36453560.dat': ToC 2005 Dec 22 11:59:44.000 not in 2025 Aug  7 00:13:30.000 to 6075 Dec 31 23:59:59.999 by +/- 140 min\n",
      "! Notice ! NAVSTAR GPS SV G24 in '36453560.dat': ToC 2005 Dec 22 11:59:44.000 not in 2025 Aug  7 00:13:30.000 to 6075 Dec 31 23:59:59.999 by +/- 140 min\n",
      "! Notice ! NAVSTAR GPS SV G11 in '36453560.dat': ToC 2005 Dec 22 12:00:00.000 not in 2025 Aug  7 00:13:30.000 to 6075 Dec 31 23:59:59.999 by +/- 140 min\n",
      "! Notice ! NAVSTAR GPS SV G21 in '36453560.dat': ToC 2005 Dec 22 12:00:00.000 not in 2025 Aug  7 00:13:30.000 to 6075 Dec 31 23:59:59.999 by +/- 140 min\n",
      "! Notice ! NAVSTAR GPS SV G29 in '36453560.dat': ToC 2005 Dec 22 12:00:00.000 not in 2025 Aug  7 00:13:30.000 to 6075 Dec 31 23:59:59.999 by +/- 140 min\n",
      "! Notice ! NAVSTAR GPS SV G05 in '36453560.dat': ToC 2005 Dec 22 12:00:00.000 not in 2025 Aug  7 00:13:30.000 to 6075 Dec 31 23:59:59.999 by +/- 140 min\n",
      "! Notice ! NAVSTAR GPS SV G28 in '36453560.dat': ToC 2005 Dec 22 12:00:00.000 not in 2025 Aug  7 00:13:30.000 to 6075 Dec 31 23:59:59.999 by +/- 140 min\n",
      "! Notice ! NAVSTAR GPS SV G21 in '36453560.dat': ToC 2005 Dec 22 14:00:00.000 not in 2025 Aug  7 00:13:30.000 to 6075 Dec 31 23:59:59.999 by +/- 140 min\n",
      "! Notice ! NAVSTAR GPS SV G28 in '36453560.dat': ToC 2005 Dec 22 14:00:00.000 not in 2025 Aug  7 00:13:30.000 to 6075 Dec 31 23:59:59.999 by +/- 140 min\n",
      "! Notice ! NAVSTAR GPS SV G19 in '36453560.dat': ToC 2005 Dec 22 14:00:00.000 not in 2025 Aug  7 00:13:30.000 to 6075 Dec 31 23:59:59.999 by +/- 140 min\n",
      "! Notice ! NAVSTAR GPS SV G12 in '36453560.dat': ToC 2005 Dec 22 14:00:00.000 not in 2025 Aug  7 00:13:30.000 to 6075 Dec 31 23:59:59.999 by +/- 140 min\n",
      "! Notice ! NAVSTAR GPS SV G29 in '36453560.dat': ToC 2005 Dec 22 14:00:00.000 not in 2025 Aug  7 00:13:30.000 to 6075 Dec 31 23:59:59.999 by +/- 140 min\n",
      "! Notice ! NAVSTAR GPS SV G25 in '36453560.dat': ToC 2005 Dec 22 14:00:00.000 not in 2025 Aug  7 00:13:30.000 to 6075 Dec 31 23:59:59.999 by +/- 140 min\n",
      "! Notice ! NAVSTAR GPS SV G06 in '36453560.dat': ToC 2005 Dec 22 14:00:00.000 not in 2025 Aug  7 00:13:30.000 to 6075 Dec 31 23:59:59.999 by +/- 140 min\n",
      "! Notice ! NAVSTAR GPS SV G05 in '36453560.dat': ToC 2005 Dec 22 14:00:00.000 not in 2025 Aug  7 00:13:30.000 to 6075 Dec 31 23:59:59.999 by +/- 140 min\n",
      "! Notice ! NAVSTAR GPS SV G24 in '36453560.dat': ToC 2005 Dec 22 14:00:00.000 not in 2025 Aug  7 00:13:30.000 to 6075 Dec 31 23:59:59.999 by +/- 140 min\n",
      "! Notice ! NAVSTAR GPS SV G11 in '36453560.dat': ToC 2005 Dec 22 14:00:00.000 not in 2025 Aug  7 00:13:30.000 to 6075 Dec 31 23:59:59.999 by +/- 140 min\n",
      "! Notice ! NAVSTAR GPS SV G18 in '36453560.dat': ToC 2005 Dec 22 14:00:00.000 not in 2025 Aug  7 00:13:30.000 to 6075 Dec 31 23:59:59.999 by +/- 140 min\n",
      "! Notice ! NAVSTAR GPS SV G31 in '36453560.dat': ToC 2005 Dec 22 14:00:00.000 not in 2025 Aug  7 00:13:30.000 to 6075 Dec 31 23:59:59.999 by +/- 140 min\n",
      "! Notice ! NAVSTAR GPS SV G12 in '36453560.dat': ToC 2005 Dec 22 13:59:44.000 not in 2025 Aug  7 00:13:30.000 to 6075 Dec 31 23:59:59.999 by +/- 140 min\n",
      "! Notice ! NAVSTAR GPS SV G18 in '36453560.dat': ToC 2005 Dec 22 15:14:40.000 not in 2025 Aug  7 00:13:30.000 to 6075 Dec 31 23:59:59.999 by +/- 140 min\n",
      "! Notice ! NAVSTAR GPS SV G15 in '36453560.dat': ToC 2005 Dec 22 14:00:00.000 not in 2025 Aug  7 00:13:30.000 to 6075 Dec 31 23:59:59.999 by +/- 140 min\n",
      "! Notice ! NAVSTAR GPS SV G23 in '36453560.dat': ToC 2005 Dec 22 14:00:00.000 not in 2025 Aug  7 00:13:30.000 to 6075 Dec 31 23:59:59.999 by +/- 140 min\n",
      "! Notice ! NAVSTAR GPS SV G26 in '36453560.dat': ToC 2005 Dec 22 14:00:00.000 not in 2025 Aug  7 00:13:30.000 to 6075 Dec 31 23:59:59.999 by +/- 140 min\n",
      "! Notice ! NAVSTAR GPS SV G13 in '36453560.dat': ToC 2005 Dec 22 13:59:44.000 not in 2025 Aug  7 00:13:30.000 to 6075 Dec 31 23:59:59.999 by +/- 140 min\n",
      "! Notice ! NAVSTAR GPS SV G13 in '36453560.dat': ToC 2005 Dec 22 16:00:00.000 not in 2025 Aug  7 00:13:30.000 to 6075 Dec 31 23:59:59.999 by +/- 140 min\n",
      "! Notice ! NAVSTAR GPS SV G21 in '36453560.dat': ToC 2005 Dec 22 16:00:00.000 not in 2025 Aug  7 00:13:30.000 to 6075 Dec 31 23:59:59.999 by +/- 140 min\n",
      "! Notice ! NAVSTAR GPS SV G23 in '36453560.dat': ToC 2005 Dec 22 16:00:00.000 not in 2025 Aug  7 00:13:30.000 to 6075 Dec 31 23:59:59.999 by +/- 140 min\n",
      "! Notice ! NAVSTAR GPS SV G18 in '36453560.dat': ToC 2005 Dec 22 16:00:00.000 not in 2025 Aug  7 00:13:30.000 to 6075 Dec 31 23:59:59.999 by +/- 140 min\n",
      "! Notice ! NAVSTAR GPS SV G12 in '36453560.dat': ToC 2005 Dec 22 15:59:44.000 not in 2025 Aug  7 00:13:30.000 to 6075 Dec 31 23:59:59.999 by +/- 140 min\n",
      "! Notice ! NAVSTAR GPS SV G29 in '36453560.dat': ToC 2005 Dec 22 16:00:00.000 not in 2025 Aug  7 00:13:30.000 to 6075 Dec 31 23:59:59.999 by +/- 140 min\n",
      "! Notice ! NAVSTAR GPS SV G25 in '36453560.dat': ToC 2005 Dec 22 16:00:00.000 not in 2025 Aug  7 00:13:30.000 to 6075 Dec 31 23:59:59.999 by +/- 140 min\n",
      "! Notice ! NAVSTAR GPS SV G15 in '36453560.dat': ToC 2005 Dec 22 16:00:00.000 not in 2025 Aug  7 00:13:30.000 to 6075 Dec 31 23:59:59.999 by +/- 140 min\n",
      "! Notice ! NAVSTAR GPS SV G05 in '36453560.dat': ToC 2005 Dec 22 16:00:00.000 not in 2025 Aug  7 00:13:30.000 to 6075 Dec 31 23:59:59.999 by +/- 140 min\n",
      "! Notice ! NAVSTAR GPS SV G11 in '36453560.dat': ToC 2005 Dec 22 16:00:00.000 not in 2025 Aug  7 00:13:30.000 to 6075 Dec 31 23:59:59.999 by +/- 140 min\n",
      "! Notice ! NAVSTAR GPS SV G26 in '36453560.dat': ToC 2005 Dec 22 16:00:00.000 not in 2025 Aug  7 00:13:30.000 to 6075 Dec 31 23:59:59.999 by +/- 140 min\n",
      "! Notice ! NAVSTAR GPS SV G23 in '36453560.dat': ToC 2005 Dec 22 16:59:44.000 not in 2025 Aug  7 00:13:30.000 to 6075 Dec 31 23:59:59.999 by +/- 140 min\n",
      "! Notice ! NAVSTAR GPS SV G16 in '36453560.dat': ToC 2005 Dec 22 16:00:00.000 not in 2025 Aug  7 00:13:30.000 to 6075 Dec 31 23:59:59.999 by +/- 140 min\n",
      "! Notice ! NAVSTAR GPS SV G10 in '36453560.dat': ToC 2005 Dec 22 16:00:00.000 not in 2025 Aug  7 00:13:30.000 to 6075 Dec 31 23:59:59.999 by +/- 140 min\n",
      "! Notice ! NAVSTAR GPS SV G13 in '36453560.dat': ToC 2005 Dec 22 15:59:44.000 not in 2025 Aug  7 00:13:30.000 to 6075 Dec 31 23:59:59.999 by +/- 140 min\n",
      "! Notice ! NAVSTAR GPS SV G16 in '36453560.dat': ToC 2005 Dec 22 18:00:00.000 not in 2025 Aug  7 00:13:30.000 to 6075 Dec 31 23:59:59.999 by +/- 140 min\n",
      "! Notice ! NAVSTAR GPS SV G13 in '36453560.dat': ToC 2005 Dec 22 17:59:44.000 not in 2025 Aug  7 00:13:30.000 to 6075 Dec 31 23:59:59.999 by +/- 140 min\n",
      "! Notice ! NAVSTAR GPS SV G23 in '36453560.dat': ToC 2005 Dec 22 18:00:00.000 not in 2025 Aug  7 00:13:30.000 to 6075 Dec 31 23:59:59.999 by +/- 140 min\n",
      "! Notice ! NAVSTAR GPS SV G18 in '36453560.dat': ToC 2005 Dec 22 18:00:00.000 not in 2025 Aug  7 00:13:30.000 to 6075 Dec 31 23:59:59.999 by +/- 140 min\n",
      "! Notice ! NAVSTAR GPS SV G26 in '36453560.dat': ToC 2005 Dec 22 18:00:00.000 not in 2025 Aug  7 00:13:30.000 to 6075 Dec 31 23:59:59.999 by +/- 140 min\n",
      "! Notice ! NAVSTAR GPS SV G29 in '36453560.dat': ToC 2005 Dec 22 18:00:00.000 not in 2025 Aug  7 00:13:30.000 to 6075 Dec 31 23:59:59.999 by +/- 140 min\n",
      "! Notice ! NAVSTAR GPS SV G15 in '36453560.dat': ToC 2005 Dec 22 18:00:00.000 not in 2025 Aug  7 00:13:30.000 to 6075 Dec 31 23:59:59.999 by +/- 140 min\n",
      "! Notice ! NAVSTAR GPS SV G10 in '36453560.dat': ToC 2005 Dec 22 18:00:00.000 not in 2025 Aug  7 00:13:30.000 to 6075 Dec 31 23:59:59.999 by +/- 140 min\n",
      "! Notice ! NAVSTAR GPS SV G05 in '36453560.dat': ToC 2005 Dec 22 18:00:00.000 not in 2025 Aug  7 00:13:30.000 to 6075 Dec 31 23:59:59.999 by +/- 140 min\n"
     ]
    }
   ],
   "source": [
    "# what was the GPS week?\n",
    "# set this to the correct gps week\n",
    "gpsweek=2378\n",
    "\n",
    "# let's try again!\n",
    "print('./teqc -week {0:d} {1:s} > test.o'.format(gpsweek,datfile))\n",
    "!./teqc -week $gpsweek $datfile > test.o\n"
   ]
  },
  {
   "cell_type": "markdown",
   "id": "efb98a6a",
   "metadata": {},
   "source": [
    "Lots of complaining this time, but did it make a difference? We can look at the file again to see..."
   ]
  },
  {
   "cell_type": "code",
   "execution_count": 13,
   "id": "05e07785",
   "metadata": {},
   "outputs": [
    {
     "name": "stdout",
     "output_type": "stream",
     "text": [
      "     2.11           OBSERVATION DATA    G (GPS)             RINEX VERSION / TYPE\n",
      "teqc  2019Feb25                         20250819 03:47:05UTCPGM / RUN BY / DATE\n",
      "Linux 2.6.32-573.12.1.x86_64|x86_64|gcc -static|Linux 64|=+ COMMENT\n",
      "BIT 2 OF LLI FLAGS DATA COLLECTED UNDER A/S CONDITION       COMMENT\n",
      "36453560                                                    MARKER NAME\n",
      "3645                                                        MARKER NUMBER\n",
      "-Unknown-           -Unknown-                               OBSERVER / AGENCY\n",
      "0220263645          TRIMBLE 5700        2.32                REC # / TYPE / VERS\n",
      "-Unknown-           TRM39105.00     NONE                    ANT # / TYPE\n",
      " -2415091.3379 -4617799.7909  3666831.0382                  APPROX POSITION XYZ\n",
      "        0.0000        0.0000        0.0000                  ANTENNA: DELTA H/E/N\n",
      "     1     1                                                WAVELENGTH FACT L1/2\n",
      "     7    L1    L2    C1    P1    P2    S1    S2            # / TYPES OF OBSERV\n",
      "    18                                                      LEAP SECONDS\n",
      " SNR is mapped to RINEX snr flag value [0-9]                COMMENT\n",
      "  L1 & L2: min(max(int(snr_dBHz/6), 0), 9)                  COMMENT\n",
      "  2025     8     7     0    13   30.0000000     GPS         TIME OF FIRST OBS\n",
      "                                                            END OF HEADER\n",
      " 25  8  7  0 13 30.0000000  0  6G01G03G04G16G26G31\n",
      "     47898.27757     20468.28555  23219916.7114                   23219919.7034\n",
      "        43.0004         35.0004\n",
      "      4175.19558      2007.10959  20050433.1884                   20050434.9804\n",
      "        50.0004         54.2504\n",
      "    -17716.03558     -7510.86757  21181731.4064                   21181732.6334\n",
      "        48.7504         42.5004\n",
      "    -39669.86757    -16868.25056  22079982.7894                   22079983.3794\n",
      "        45.5004         37.0004\n",
      "      4203.93857      1850.04758  21595069.9614                   21595073.7034\n",
      "        47.2504         49.5004\n",
      "     47189.61357     20165.69558  22078405.5234                   22078406.0474\n",
      "        47.7504         49.0004\n",
      " 25  8  7  0 14  0.0000000  0  6G01G03G04G16G26G31\n",
      "    141216.23047     93183.40245  23237674.3284                   23237677.9844\n",
      "        43.7504         33.0004\n",
      "     12396.60948      8413.39549  20051997.2034                   20051999.9574\n",
      "        51.0004         54.2504\n",
      "    -52560.74648    -34662.57446  21175100.4224                   21175101.6954\n",
      "        48.7504         41.2504\n",
      "   -117210.14547    -77289.16446  22065227.1884                   22065228.1054\n",
      "        46.2504         36.2504\n"
     ]
    }
   ],
   "source": [
    "# now the data should be right! yay\n",
    "!head -40 test.o"
   ]
  },
  {
   "cell_type": "markdown",
   "id": "22cde851",
   "metadata": {},
   "source": [
    "Those dates look a lot more plausible, so it looks like the data were interpreted correctly this time. We have a RINEX file! But we are still missing a lot of important details $-$ such as the metadata for the acquisition. So let's get on with that..."
   ]
  },
  {
   "cell_type": "markdown",
   "id": "e576fb8b",
   "metadata": {},
   "source": [
    "### 1.3 Estimating antenna height from slant height\n",
    "\n",
    "When collecting GNSS data, some of the key metadata we collect are the heights of the antennas during data collection. In a typical tripod setup, using GNSS antennas with ground planes, these will usually be slant heights from the station marker to the base of the ground plane, measured using a measuring stick.  \n",
    "\n",
    "Our protocol is to make three measurements of slant height at different parts of the antenna at equipment set-up and three more at take-down. Assuming that the equipment is not significantly disturbed during the data take, the average of these six measurements is a reasonable estimate of the slant height of the antenna during that data take. But is slant height what we need for data processing? *What information on height is included in the RINEX file?*\n",
    "\n",
    "Each GNSS antenna has a 'reference point' $-$ the point to which all measurements are referenced. For common antennas like those in the Trimble Zephyr Geodetic family, this is typically the base of the antenna. Note that this is not what we measure when setting up our equipment...\n",
    "\n",
    "![diagram of antenna height](./antenna_height.png)\n",
    "\n",
    "So how do we turn our slant height measurements to the base of an antenna ground plane into a measurement of the vertical height of the antenna reference point? Pythagoras, with some light subtraction...\n",
    "\n",
    "If $h$ is the desired vertical height of the antenna reference point above the benchmark, $R$ is the measured average slant height to the base of the antenna ground plane, $r$ is the antenna radius and $t$ is the vertical distance between the base of the ground plane and the antenna reference point, then...\n",
    "\n",
    "$$h = \\sqrt{(R^2-r^2)}-t$$\n",
    "\n",
    "Seems straightforward! Where do we get the information for $r$ and $t$, I hear you ask? Well, there are a couple of options: 1) the details are included on a sticker attached to the antenna, and 2) if you know the antenna manufacturer, type and part number you can look it up at the NGS's data repository on GNSS antennas, here: https://www.ngs.noaa.gov/ANTCAL/ (look under \"Browse Antenna Information\")"
   ]
  },
  {
   "cell_type": "code",
   "execution_count": 15,
   "id": "96d095db",
   "metadata": {},
   "outputs": [
    {
     "name": "stdout",
     "output_type": "stream",
     "text": [
      "slant height: 1.489 m, vertical height of antenna reference point 1.414 m\n"
     ]
    }
   ],
   "source": [
    "# so let's calculate the height, then!\n",
    "\n",
    "# pre-survey slant height\n",
    "slant_height_pre=np.mean([148.85,148.95,149.00])/100  # include all three measurements here \n",
    "# post-survey slant height\n",
    "slant_height_post=np.mean([148.80,148.90,148.95])/100  # include all three measurements here \n",
    "\n",
    "# antenna radius (from looking up the antenna information)\n",
    "r = 24.13/100\n",
    "\n",
    "# vertical distance between base of the ground plane and the antenna reference point\n",
    "t = (6.22-0.67)/100\n",
    "\n",
    "# and some calculatin'\n",
    "R=(slant_height_pre+slant_height_post)/2\n",
    "h=np.sqrt(R**2-r**2)-t\n",
    "\n",
    "print('slant height: {0:5.3f} m, vertical height of antenna reference point {1:5.3f} m'.format(R,h))"
   ]
  },
  {
   "cell_type": "markdown",
   "id": "c66a1d00",
   "metadata": {},
   "source": [
    "### 1.4 Updating RINEX metadata with teqc\n",
    "\n",
    "teqc also allows you to edit the metadata of your RINEX file, which, if you look at the header of our recently converted file, is very necessary! You can look at the manual for more details:\n",
    "https://www.unavco.org/software/data-processing/teqc/doc/UNAVCO_Teqc_Tutorial.pdf \n",
    "\n",
    "Or, you can run `teqc +help` and get a very long list! \n",
    "\n",
    "Some key options we might want to use:\n",
    "\n",
    "* -O.at \\<antenna type\\> $-$ give the NGS antenna code here\n",
    "* -O.an \\<antenna number\\> $-$ give the antenna serial number here\n",
    "* -O.mo \\<site code\\> $-$ give the four-character benchmark code here\n",
    "* -O.mn \\<monument number\\> $-$ if you know the benchmark number, give it here (else give '' to blank it out)\n",
    "* -O.pe \\<h e n\\> $-$ give the antenna height (h), plus east and north offsets (0 0) here\n",
    "* -O.o \\<operators\\> $-$ give the names of the people who collected this data\n",
    "* -O.ag \\<agency\\> $-$ give the name of the agency that collected this data (UCR?)\n",
    "* -O.r \\<runner of teqc\\> $-$ give your name here, since you are running teqc!\n",
    "* -tbin 1d $-$ if necessary, divide your data into daily files\n",
    "\n",
    "\n",
    "To run this 'editing' mode of teqc, the syntax is:\n",
    "`teqc <options> <site_code> input_rinex`"
   ]
  },
  {
   "cell_type": "code",
   "execution_count": 32,
   "id": "3e17141a",
   "metadata": {},
   "outputs": [
    {
     "name": "stdout",
     "output_type": "stream",
     "text": [
      "./teqc -O.at TRM41249.00 -O.an 12118428 -O.mo 0634 -O.pe 1.234000 0 0 -O.o 'K Baaraggiotta, K Rivera' -O.ag 'University of California, Riverside' -O.r 'K Rivera' -O.mn '' -tbin 1d 0634 test.o\n",
      "teqc:  creating file '06341820.25o' ...\r\n",
      "teqc:  creating file '06341830.25o' ...\r\n"
     ]
    }
   ],
   "source": [
    "# set up teqc to run with all of the options\n",
    "# now this will rename everything to have the proper header!!\n",
    "\n",
    "# site information (4 character code)\n",
    "site_code = \"ATLL\"\n",
    "\n",
    "# operator information (from the logsheet)\n",
    "operator_names = \"Gareth Funning, Li-Chieh Lin\"\n",
    "operator_inst = \"University of California, Riverside\"\n",
    "my_name = \"K Baraggiotta\"\n",
    "\n",
    "# antenna information (again, from the logsheet)\n",
    "antenna_type = \"TRM22020.00+GP\"\n",
    "antenna_sn = \"0220061489\"\n",
    "\n",
    "# print out the command in case you need to run it somewhere else\n",
    "option_str=\"-O.at {0:s} -O.an {1:s} -O.mo {2:s} -O.pe {3:f} 0 0 -O.o '{4:s}' -O.ag '{5:s}' -O.r '{6:s}' -O.mn '' -tbin 1d {7:s} test.o\".format(antenna_type,antenna_sn,site_code,h,operator_names,operator_inst,my_name,site_code.lower())\n",
    "\n",
    "print(\"./teqc {0:s}\".format(option_str))\n",
    "\n",
    "!./teqc $option_str"
   ]
  },
  {
   "cell_type": "markdown",
   "id": "5426eeb7",
   "metadata": {},
   "source": [
    "And if all went well, you should have a new, and properly named file, based on the site code you gave! Let's have a look at it!"
   ]
  },
  {
   "cell_type": "code",
   "execution_count": 33,
   "id": "922f5638",
   "metadata": {},
   "outputs": [
    {
     "name": "stdout",
     "output_type": "stream",
     "text": [
      "06341820.25o  abcd1830.25o  test.o\t  vers1870.15o\tvrs10210.25o\r\n",
      "06341830.25o  test1820.25o  vers1461.10o  vers1990.24o\tvrs10220.25o\r\n",
      "abcd1820.25o  test1830.25o  vers1490.14o  vers3250.11o\r\n"
     ]
    }
   ],
   "source": [
    "!ls *o"
   ]
  },
  {
   "cell_type": "code",
   "execution_count": 31,
   "id": "6f9c7819",
   "metadata": {},
   "outputs": [
    {
     "name": "stdout",
     "output_type": "stream",
     "text": [
      "     2.11           OBSERVATION DATA    G (GPS)             RINEX VERSION / TYPE\r\n",
      "teqc  2019Feb25     G Funning           20250722 22:04:29UTCPGM / RUN BY / DATE\r\n",
      "Linux 2.6.32-573.12.1.x86_64|x86_64|gcc -static|Linux 64|=+ COMMENT\r\n",
      "BIT 2 OF LLI FLAGS DATA COLLECTED UNDER A/S CONDITION       COMMENT\r\n",
      "TEST                                                        MARKER NAME\r\n",
      "                                                            MARKER NUMBER\r\n",
      "R Rincon, K Rivera  University of California, Riverside     OBSERVER / AGENCY\r\n",
      "0220340422          TRIMBLE 5700        2.32                REC # / TYPE / VERS\r\n",
      "12118428            TRM41249.00                             ANT # / TYPE\r\n",
      " -2430804.2988 -4657392.9143  3606068.8729                  APPROX POSITION XYZ\r\n",
      "        1.2340        0.0000        0.0000                  ANTENNA: DELTA H/E/N\r\n",
      "     1     1                                                WAVELENGTH FACT L1/2\r\n",
      "     7    L1    L2    C1    P1    P2    S1    S2            # / TYPES OF OBSERV\r\n",
      " SNR is mapped to RINEX snr flag value [0-9]                COMMENT\r\n",
      "  L1 & L2: min(max(int(snr_dBHz/6), 0), 9)                  COMMENT\r\n",
      "  2025     7     2     0     0    0.0000000     GPS         TIME OF FIRST OBS\r\n",
      "                                                            END OF HEADER\r\n",
      " 25  7  2  0  0  0.0000000  0 10G10G02G08G03G25G28G04G32G31G01\r\n",
      "   4927218.10247   3778109.30546  22566811.2114                   22566810.8914\r\n",
      "        43.7504         41.7504\r\n",
      " -22323776.19548 -17358619.31646  21231929.7274                   21231923.8554\r\n",
      "        48.5004         39.2504\r\n",
      "   1385438.20345   1008419.91443  25000084.1334                   25000091.1134\r\n",
      "        33.5004         22.7504\r\n",
      "  -6518329.69146  -5060441.48045  23353154.1954                   23353154.6954\r\n",
      "        40.2504         32.2504\r\n",
      "   -372903.63746   -270553.59445  24432673.2274                   24432674.5554\r\n",
      "        37.5004         30.7504\r\n",
      " -24365293.99647 -18961317.57046  20750247.7734                   20750244.2854\r\n",
      "        46.7504         39.0004\r\n",
      "    466000.31345    382144.71142  24843707.4774                   24843713.5394\r\n",
      "        33.2504         16.2504\r\n",
      "  -5276567.89847  -4294101.02047  22051545.2194                   22051543.3594\r\n",
      "        47.7504         46.5004\r\n",
      " -22232973.66448 -17300463.73047  20945703.8594                   20945700.2074\r\n",
      "        49.0004         46.7504\r\n",
      " -17039118.92647 -13242442.36745  21749811.0314                   21749807.5634\r\n",
      "        44.7504         34.7504\r\n"
     ]
    }
   ],
   "source": [
    "!head -40 test1830.25o"
   ]
  },
  {
   "cell_type": "markdown",
   "id": "b32589c7",
   "metadata": {},
   "source": [
    "## 2. Prep your own data now!\n",
    "\n",
    "If you have collected your own data, now is a good opportunity to prepare it, using all of the steps $-$ extracting the file from the receiver, converting it to dat format, converting that to RINEX format, using the survey log sheet information to estimate the vertical antenna height, and editing the RINEX headers with the necessary information.\n",
    "\n",
    "You may want to make copies of the various code snippets used above to make a comprehensive code cell that does all of the steps for you $-$ then you will have something you can use in the future!"
   ]
  },
  {
   "cell_type": "code",
   "execution_count": null,
   "id": "1e7f33ed",
   "metadata": {},
   "outputs": [],
   "source": [
    "# compile the code snippets here\n",
    "\n"
   ]
  },
  {
   "cell_type": "markdown",
   "id": "3b32edde",
   "metadata": {},
   "source": [
    "## 3. Processing your data with OPUS\n",
    "\n",
    "OPUS (**O**nline **P**osition **U**ser **S**ervice; https://www.ngs.noaa.gov/OPUS/) is a web-based tool operated by the National Geodetic Survey that processes RINEX format GNSS data that you upload to the website and return a position over email. It is remarkably easy to use, and even if you want to do your own 'proper' processing using a package like GAMIT/GLOBK or GIPSY later on, you will get some sense of the quality of your data from the output. \n",
    "\n",
    "OPUS processes data using a [double-difference approach](https://geodesy.noaa.gov/OPUS/about.jsp), choosing three nearby continuous GNSS stations to form double differences, and trilaterating a location relative to those stations. Its results are not as robust as you would obtain from forming a greater number of double-differences from more stations, and it does not work as well in areas where there is a low density of continuous stations, but for southern California, it still works well.\n",
    "\n",
    "To process data with OPUS, you will need three things:\n",
    "\n",
    "* a RINEX file with between 2 and 48 hours of data\n",
    "* the NGS antenna code for the antenna used (unfortunately it does not read that from the headers like some software will do)\n",
    "* the height of the antenna above the benchmark (unfortunately it does not read that either)\n",
    "\n",
    "Of course, for the data we have just preprocessed, we know all of those things. (And for properly prepared RINEX files from other people, the necessary information is in the headers.)\n",
    "\n",
    "So, to process your data, simply go to the website, select your RINEX file, select the antenna type, enter the vertical height, and enter your email address. You can optionally choose the format of the output (I usually choose the version that produces an XML file as well, as it may be easier to ingest the results later on).\n",
    "\n",
    "Then, hit the 'Upload to Static' button, and wait for the email. It should be done in a few minutes. "
   ]
  },
  {
   "cell_type": "markdown",
   "id": "52c745d1",
   "metadata": {},
   "source": [
    "## 4. Estimate the velocity at VERS\n",
    "\n",
    "Along with the July 2024 data, and the data you may have collected, I have provided RINEX files of other surveys of VERS. By processing these, and compiling date and east, north and up information, you can build a time series of the change in coordinate of the station, and use that to estimate a velocity for the site $-$ either by making a spreadsheet of the values, or by doing it in a more Pythonic way by building a Pandas table, and using an XML reader to populate it with your processed positions. \n",
    "\n",
    "(I can give some hints about how to do this in Python, if you are interested.)\n",
    "\n",
    "My suggested order of tasks: process all the data, plot the changes in position over time (maybe subtract the position of the earliest measurement from the others?), fit a trend line to each component and see what you get. Can you plot your estimated velocity on a map (e.g. using psvelo in GMT or pygmt.plot in PyGMT)? Does it make sense?"
   ]
  },
  {
   "cell_type": "code",
   "execution_count": null,
   "id": "a586095b",
   "metadata": {},
   "outputs": [],
   "source": []
  }
 ],
 "metadata": {
  "kernelspec": {
   "display_name": "Python 3 (ipykernel)",
   "language": "python",
   "name": "python3"
  },
  "language_info": {
   "codemirror_mode": {
    "name": "ipython",
    "version": 3
   },
   "file_extension": ".py",
   "mimetype": "text/x-python",
   "name": "python",
   "nbconvert_exporter": "python",
   "pygments_lexer": "ipython3",
   "version": "3.13.5"
  }
 },
 "nbformat": 4,
 "nbformat_minor": 5
}
