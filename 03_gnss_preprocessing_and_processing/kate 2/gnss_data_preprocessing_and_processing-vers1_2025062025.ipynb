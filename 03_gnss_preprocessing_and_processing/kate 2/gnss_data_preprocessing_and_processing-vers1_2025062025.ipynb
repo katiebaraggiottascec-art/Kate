{
 "cells": [
  {
   "cell_type": "markdown",
   "id": "df7e20e7",
   "metadata": {},
   "source": [
    "# Simple GNSS data preprocessing and processing\n",
    "\n",
    "Gareth Funning, University of California, Riverside\n",
    "\n",
    "Once we have collected some GNSS data, you might want to process it. Before you do that, you will need to convert the data into a processable format, calculate some important metadata parameters, and edit the datafile headers with useful information. This can take longer than processing the data sometimes!\n",
    "\n",
    "To turn our data files into positions, we can make use of the NGS's spiffy, web-based OPUS processor. If you process several files spanning multiple years, you can turn that into a velocity! And then you really are getting somewhere! "
   ]
  },
  {
   "cell_type": "markdown",
   "id": "a27a4b0d",
   "metadata": {},
   "source": [
    "## 0. Dependencies\n",
    "\n",
    "Jupyter needs these to function! Make sure you're in the right conda environment!"
   ]
  },
  {
   "cell_type": "code",
   "execution_count": 1,
   "id": "57a09282",
   "metadata": {},
   "outputs": [],
   "source": [
    "from os.path import splitext\n",
    "import numpy as np"
   ]
  },
  {
   "cell_type": "markdown",
   "id": "9d2fe25c",
   "metadata": {},
   "source": [
    "## 1. Pre-processing your GNSS data\n",
    "\n",
    "The first thing to do is to convert your data to something we can process! The data we collect tend to be recorded in proprietary binary formats, and so we will want to convert them to something more readable $-$ the RINEX format.\n",
    "\n",
    "\n",
    "### 1.1 RINEX\n",
    "\n",
    "The **R**eceiver **IN**dependent **E**xchange **F**ormat (RINEX for short) is an ASCII-based format used for archiving and processing GNSS data. There are different versions of the format for different applications $-$ navigational data, meterorological data, ionosphere data $-$ but today we will use the version for GNSS *observations*.\n",
    "\n",
    "Included with this notebook are several past versions of RINEX files for GNSS data collected at site VERS (Versity), the NGS benchmark on the UCR campus. We will use these later on to produce a deformation time series for the site. For now, we will use them to examine the file format and contents.\n",
    "\n",
    "First, let's look at the files we have, and the naming convention."
   ]
  },
  {
   "cell_type": "code",
   "execution_count": 2,
   "id": "36a21d6d",
   "metadata": {},
   "outputs": [
    {
     "name": "stdout",
     "output_type": "stream",
     "text": [
      "-rw-rw-r-- 1 katie katie 2399124 Jul 10 10:24 test.o\n",
      "-rw-rw-r-- 1 katie katie  539076 Jul 10 10:10 vers1461.10o\n",
      "-rw-rw-r-- 1 katie katie  967856 Jul 10 10:10 vers1490.14o\n",
      "-rw-rw-r-- 1 katie katie   71289 Jul  3 12:28 vers1761.25o\n",
      "-rw-rw-r-- 1 katie katie 3107250 Jul 10 10:10 vers1870.15o\n",
      "-rw-rw-r-- 1 katie katie 3435300 Jul 10 10:10 vers3250.11o\n"
     ]
    }
   ],
   "source": [
    "# this will list all files with filenames ending with an 'o' (GNSS observation files)\n",
    "\n",
    "!ls -l *o"
   ]
  },
  {
   "cell_type": "markdown",
   "id": "cbb13f4e",
   "metadata": {},
   "source": [
    "These files all follow the same naming convention:\n",
    "\n",
    "SSSSDDDN.YYo\n",
    "\n",
    "- SSSS $-$ four digit site code\n",
    "- DDD $-$ day of year of start of data acquisition\n",
    "- N $-$ number of the acquisition on that GNSS receiver on that day (counting from zero)\n",
    "- YY $-$ year\n",
    "- o $-$ o is for 'observation'\n",
    "\n",
    "Let's look at the contents of one of these files:"
   ]
  },
  {
   "cell_type": "code",
   "execution_count": 3,
   "id": "bfedfb81",
   "metadata": {},
   "outputs": [
    {
     "name": "stdout",
     "output_type": "stream",
     "text": [
      "Y��\u0006A�ڹ$\u0018�j���\u0000�$�^��q��x�=�6f4\u0018�KQ��Y�6Ԓ\u0005DC�  \u0019c\f",
      "4��5y����0̓\f",
      "�4�a��A�l\u0018hh5{��o�ؤ��7A���I\u0016ŵc�,�N�H\u0006\u001a\u0012S(�\t~d\u0003^\n",
      "j�~(|\u0019CD6�i$�cv\f",
      "�V_`�e��A��~Ps�l`Q\n",
      "\u0018�\u0001F�I4\u000eI�ׇ��I$�I$�I$�I$�I$�I$�I$�I$�I$�I$�I$�I$�I$�I$�I$�I#nf��\f",
      "3���<k�TDI$�,�Ձ�Є!m��m��x5w}w\u0016^���<��FZ\u0010\u0012�yPūe�q5�̒MVov䎮$T��n$�F�\f",
      "d�A��I$ңWSP\u0016�̿����/40��C\u000f_�\u0003�I$�I7A��ISeK\u001b��홳�v���x*$��4��$����=7\u0012*E�\u000e2I���RI �rI$�w��jd��3�/k��+���\u001a&Ì��8$�I$�I$�I$�I�g����|Y���I$�I6���I$u� \"�F���F��=:��^��\n",
      "8�Nx7\u0007-�Z+�a���a�s.%���\u0019����\u0018z�K�$�I$�n��I$չ\u0003C\u0019$\u001f�����W�H2�(ٛ]/�N�\u0006D\u0004���\u000e�d���gݞh7h\u001d",
      "Q$��#��y\u001c",
      "4������ט�m\\��v��H4�� 7��\n",
      "�9$���\\I&�3u�֒*J�\u000b",
      "�9V�S6P��I�r\n",
      "`\u000f(�\u001b/\u0012�=P�\u000f$T�\u0005��)��M�Ʌ�\u0017\u0012*^�u��y�\u0004�\\�߮\u0012LJMY$��\tw�Eq\"�Z_c$��!ĒH4\\�I$�]�WSP+h\u001c",
      "�\u0014�M\u001c",
      "�3C\u000f_40����I$�I�\n",
      "\"g|��z�$��!I$�}��I*w9�e�\\H�dd\u001a`�LD�ڦ�L̒v\n",
      "�6X���R[\u0019;\u001d",
      "�4\u0015.�\u0003�T�O$HfH�WU<��\n",
      "�}]Z����8�\u0012�VI&�)A��L�R-�\u000f�\"�g��I �rI$�x��]�s�x6��\u00040(��V\f",
      "�q\u0005��ώ �(\u000es�\\و^;��9�\n",
      "��9?7�\u001e",
      "�\u001e",
      "U��\u0018�\u0019M\\�\u001bǾ�F�4y����zV� \u001c",
      "�늋�\f",
      "�R�kz\u0014)\u0000G@\u001b����\u0007�sL��t�tt�\u0001�8��d�^m\u000fZv�4*�]MC�@�}g�h�_M\f",
      "=|��ת^9$�I$�tEq$���\u001d",
      "m$���rI;w\"��Lyb�u��ss�\u0016ur,�\u0003|�\u001e",
      "n:\u001bq(��:��\u0011��\u000f1�-���t�$����q�r��\u0004��\u0018���Ъi��`�8w24�X�\u0005D���\t�d�X��8\u001b���.$$�h��׫x34����ݙ'��l/#f�v�C\u0001�\u0017d�N��\u0006��\u000e�l��\u0007^��qQ�\u0019L�\u001e",
      "\u0003���$e�[!.W�\u0016H(��1J@����i�rq������v��\u001e",
      "P͹8�ϒ\u0016\u000e�S\u000eҀ\"f���r?�n���\u0004�1����΀Wr,\u0000�����i�=�xKC\\���\\�Bh�\u000e��x\u0007K��$r\u0002��9\u001c",
      "X��X\u001e",
      "���w��6�T�^�\n",
      "\u001b�$��\u0001L�{\u0007��\u00199�<�Ψ\u0005�Q\f",
      "ov\u0018���E+�ݱ/s�\u001b�dT���\u001b��0\t��Xf�)'`u]�M\u001e",
      "ؒ�U�%�\u0003.$ĕ�$�V�!\u0002x�H�=\u001c",
      "d�(̧2I$\u001a.I$�O\u0013<���<\u001e",
      "O�\n",
      ",�}��\"X�qy��7\u000f1��x:Z�s�/2P��~\u0019�㼛����x���\u001fX\u0016t�)��\u001f���\u0005\u0014�U\u0000FR���;c��]�c�/��>��e���\u001e",
      "g\u0005�\u0004Á\u0002\u000b",
      "5ť-���=�-Ӥ�㹲�C��-�>��;�������ŬQ\u0003�%P���\u0007��Fy�� ��3�u��؏�ٞ�\u001e",
      "�dܸ�\u000e��2ʘ أ\u0000rk1O�n;�\u001a�H�\u001c",
      "eR_�w\u001d",
      "〼%}Χp�\u0014a�*��ʦ\u0011�0񨪬���x�\u000f<\u001d",
      "�gZ�Y�\u0015�!\u0006f�N�~\u001c",
      "��v�2\u000b",
      "`����\u000eojc׃����\f",
      "��?�\u000fB�$`��\u0007{,XS�% ��Y.9\u0001`ٜ�\u001b\u0004�\u000b",
      "\n",
      "�\u0001�e�\u0010`����Q��?���\u001e",
      "�\u000b",
      "|K\u000b",
      "�Gv\u000e\u0004\u0007�k\u0000n�*\u001d",
      "�\u000e�o\"��\u001a�^%_^~\u0016\u0002�U\u0017�P@�r�׋�g����M�\u000edO\u0006,�*^\u0001pF�\n",
      "΀Ej���v��u�\u0004h\u0002�0��{�\u0015���\u0013'�Ne��'\n",
      ":�8K���%��[�nS\u001a`��{��)�v?���!���,޲!�E���;�����w|\u0011�KrW���\u0010��4)W\f",
      "\u001c",
      "4\\\u000f�a���\t\u0003g\u0005��+,\u001c",
      "�m\u001b1\u0007��\f",
      "�G��\f",
      "@\"�Xl0!��\u0001v���v\u0005�&��?�����!wrM�\u001e",
      "�`��\u0019\u0013ߒ����Cl�\u0006�\u001b�n>9/��/�\u001d",
      "�D�;��&j�Oy��2k@�~\u0001��̱衚�����U�zu�gMǏ\u000b",
      "Iy�\f",
      "\u001b��\u000f\u001b&��+O��:ÎT�ճ��r� �@;<�Ss�j׼\u0002۰=8c�\u000f�qJ��������;�\u0014Ō�f{!8����0{}\u0007r\n",
      "�A��\u001d",
      "!UU��\u0000�\u0003��G<9��\u0014Yr�+\u0006EN�U\u0000�\u0019g�\u000f�ܲ�ʤ\u0001��TV�M�ێ�\u0007+��\"�ʡ����������3�\u0011�*�(�W2\u0017�t!�=L�\u00072\u0016/\u0019G \u001c",
      "���]�?F��i�`��$ѤxN\u0004\u0004\u001c",
      "�E�����0\u0004C���Y�@!�\u000f���;�7��ZK�\u0006\n",
      "�\u001d",
      "�~c�np�\u0004��Ґ�\u0015WE���*�!\u0005�ٜ�{�;wS\u0006���;\u0000\u0013�h<ɍ�\u0007\u001c",
      "����7�ۼ}jTQ�\u0015���N�)r�R���=�����\u0014s\u0004\u0007�\u0014֋\u0018-롞�p\u001b\u0003��&L��\u0000\u0004�(\u001c",
      "�s@\u0001�{o? \u001a��P������\u001c",
      "����.\u0012�\u0016�ĩ�\u0006���,eJ�����\tF\u001f�,\u000e�q�]\u0004�>ڰ���\u0013\u000ef�?h��t,Y���]���ni��\u001d",
      "�\u000e�j��6�\u001b�^m�l��\u0016x\u000e\u000f.�T�c�t,n��ǝaJ��ٲ[�а:�����rd�j�\u0014h�l\u0005;��\u0007(\u0005�'�\u0014\u0013�p`�A�\u000eo���hN\u001d",
      "�A��H\u001f_���EP݆�Z��(�w�g�Dk�\u001d",
      "�.\u0007W�N�/���\u001c",
      "����j�\u000f\u000b",
      "ͮq�g�p��,)�ŷ�n�u�F\u0000\tx1d�T\u0010}YU pާ�Y_�jV�r/\u0012�Bm�0;\\@#�&�f�\u001b�\u0018�3�}��}�\u0000`8|�7욓A���݇8�r��Z\u000eΎ\u0016��9�� �\u00069���\n",
      "s���p�-�_�pa󛼔*@q�ä�8h|�Z��\u0007b�;Es���N�P7�\u0019,��-�V�ىH�Dr\u0002S\u0014 \\��lγz��|\t{��\tx��10(\f",
      "ި��^��a��6`K(o`\u0004Y�\u0007�N�7%�\u0002lے��C�\u0019���\u001c",
      "�|p\u000b",
      "P\\\u0018��B�\u001d",
      "�b\u0002\u00169&\f",
      "\u001bp�A�\u000b",
      "5@����#\\�NG\u000b",
      "�\u0003����\u0002\u0001�6Q\u000b",
      "��[�9\u0001\"J0�\u000f{�t-{�J{�\u0006\u0015�q��ia\u0010&�(���,� ��}Dx@p��\u001d",
      "��-\u0007���]�\u001c",
      "\u0013��ܽ��u���C���r�M���\u0019&�\u000e~c\u000b",
      "�loNY�@��{��\u001f�\n",
      "�K��8�Qk��d��P�\\�\u0000\u0017�\f",
      "{u�*�Ywl�z/���Ba��fˏ�r|��\f",
      "H�ޤ�i��\\\u000f�p�t�q��b�\t��\"���޸�CYӔ{f�7�e��b�6���]���4�@�h_S��\u0002��܍S�\u0004�*sE�J�\u0012I�\u001d",
      "�}���~\u000e�}G��y�)Ƿ \u0004\n",
      "��\u001c",
      "6\u0004�\u0016&I '\f",
      "\u0018�g\u0013��b�t.bK<B���\u0015���EĒ\u0013a�G�z��d\u000fq�\u0000p\u0006s<R\u000fg>��f�I\u0007\u0003���qp�8\u00053]MC�\u0003�4\u001ah6x�\f",
      ">d���v.RI$�I&�ĒI��\n",
      "�\u0012EH���2X1�I\\Ľ��uv\u001f�IS����I�\u0018y$����8�J��\u00055�'a��\u001c",
      "�vu�����\u001e",
      "5\u000e��;\u00067۱�3g\\�W3�g�rL@���MS%Eɑ2EH��\u001f�E\u001a�%I$�E�$�I�J���8�\u000ef�ߚ\n",
      ")������q��E�@�UK�_��i�l�z\u0000�#����\u0006�\u0000�'9�,�eĒn�l�$�h�$�I8ʛWs�<ǃf{#�\u0002�.\\_eo�\"\u0003�r��ݔ+���.v�M�裹_�*&�����uK�^�M��p�\u0002T#{9���^7\u0007��.U\u0006Q�p`�7\u001d",
      "\n",
      "�4A\u000b",
      "\u001b�Wf~���@��\u0000}��\u0006d\tk�e\tD/�[��[^\u0007R����q{y�x��l�f%\u00053��\u001a��lTMg)���ɧiA���ӕ�+\u0019��\u0019]9���\u001b�\u001d",
      "�r]�t��\u0006[u>�rU��\u0006�u�\u001e",
      "�����yȗ\u000e��4^w%��f���>�������\u000fw0��B�\u0019��Q/\u0002���\u000b",
      "7\u001d",
      "+\u0019�y#_���\u0004J�\u0000^����I�����\u001f�w\u0006���\u001d",
      "|���\u001d",
      "\"/\u0012���\u0005\u001c",
      "���j��*,���^\u000e�\u0017�jV�_�ܣ�Q�|\u001e",
      "���޺��+��]�d\u001bR��Ƨ��ҏ�0d�\u001e",
      "h��\u0014S+�n00-��\u0007k��L�\u0015�#�\u0010L\u0007�\u0000����C�u\n",
      "�Q�\u000e�\u0005��d�\u001d",
      "�IH`BVy�P��)g�\u0013�r\f",
      "��M�s̕����Y\u0016D��¦\u0006SC!�zg��9�\u001b�~��2X����4^�ta�\u0012��3\u0003b:��6���ز��\n",
      "�dhr�\u0002R�oF�<���lඣJ��\u000eTb��fR\t�\u0019\f",
      "�@~�Ki�(#�P���\u0019\u001d",
      "E\u0014��f<\u001d",
      "�8s\f",
      "��gـ��)��\u001a*X�|2��eO×����%�WSP0�9� I�C6ha�&�\u001f1R��$�I$��w\u0012I5n@�9$\u001f\n",
      "�9$���\\I&�3�\t�\u0012EIR!{g*�S�f�\u0016פ�� �\u0000����/s�\f",
      "\u0003�\u0015'�l?\n",
      "}#?Seram\\dT���\u001b��0\t깅�\\�\u0012bRj�$�xK�Ƌ�\u0015\"��\u0019$�1\u000e$�A��I$�\u0017�Y��&P`Qeˋ��Ȁ�^�3L�=6?\u0007Ck�yPi�\u0004^�UY���t� ��b�{���`\u0012'q���J�u�����\u0000i\u0016��t��02�\u0011E�9QX�}�@4���ۤ�3a\n",
      "�^�y��͆�\u001d",
      "�d\u0013o�3�\u0019\u0003��F��ܶ�Vb���\u001aǔ\u000b",
      "�&=\u0006�z����\u001e",
      "���}����\u001aGz\u001f�۾`��n�k��EH��4��;�{�=~�hi\u0016e\u001c",
      "��4=J�}�OO\u0007�Y�\u001b��ޫ�\u0015�2��׏\u0011^פ\u0017˩i� \n",
      "�\u0006mW���U\u001e",
      "�yC�\u001a��\u0013��nU-QCCŪ4='��\u0004�\u000e\u0010��2p0`hY�0[<5�+\u0017`\u0017����\u0005%\u000b",
      "�ڄ��4�06��`��\u001a\"M�:^]]4^\\��P���nXrw7�_/���ۑ�1X__�\u0006:�[���\u0019P�VF��(\u0016\u0001����(]�6P��0\u001b5��\t�8�\u0006�6\u0002�\u0019�0<{�c\u0015�(�ؽaВ�)7��ll\f",
      ")ҁ�\u0002���t�0\u000e\u0001|� \u0018W�\u0001�H�\u0018\u000efQb\n",
      "�u\u0019���P��\u0002}j^��8M%�\u000f30z\n",
      "�����\u0018\u00045\u0004�K�\u000e\u001fE�\u000b",
      "\u0005�&PԽ�oj�\u001c",
      "\u0002��\u0018h�\n",
      "�삠�d���G�pqg\u0010�1\u000e�*�\u0017P\u0010�`9s/\u0014��W�P��\u000b",
      "ù|@\u001a\u001d",
      "\u0002�6���\u001c",
      "�\u0000�,��\u0006`���\u0000��8\t1�\u000b",
      "��Ԍ\u0007�l\u0010�\u0006��\u0002��z��qx�\u0018z.�A\u0006���\u001bJF<\f",
      "��SsG�\u001e",
      "�i/\u000f���!\u0010\u0011��j�p�\u0014��ο\u0010��0d�5�C��{�X=Sa�ౚ��e��'���2`�yj�J��4�\t�Q�½p��R��;�cAn� `.���˺\u001b7Ev��opWv7nQ�\u001c",
      "�(\u0003\n",
      ";������%|2\u0014a9%x�\u0007~4�glf���\u000f���ZL��.�/Xe����\u0005����<�pgK4M�\u0015E�\u0002ϯ\u000e\"X��){%�������ޥ�{��i�8\u001b*�\u001e",
      "\u001a\u0016�\u000e\u001d",
      "�@��(\u0017B����\n",
      "�e��\u0016X�\u0002�C9�&Lg�����ė�������6��E鉣.�&\u001b���K�\u0016pM�^��ob�+R����;Nspq�\u001a�L�\u0018����`��,�`\u000b",
      "oW�jϘk�/W@���\n",
      "a/\u0003m���]�ۻ�\u0014�3��\u0001���8�\"~� �Y`�\u0005�6\u001b��݋�\u000579/Oފ\u001d",
      "�r���2�C \u001c",
      "7b\u0014/T�P\u000e\u001b���7ex!�LI�i\u0019a\u0013�-,R�Z�I0���\u0001~\u001d",
      "�����_�𤺖2!�����1xk�2σ�m�C\u0006�2�\u0014\u0001K=���T�.��I��n6�p�O\u000f\u0018�\u000e�&\u000e@B�\u0001kl�d�)�Kd\u0017�����>�����)�\u001e",
      "7�\u0005-#�&�=L\u0001M�+\u0019���K\u0007|�\u0005�8>��\u0007�%�_֗�\u0011�\u0002z��\u0000�H0��\u0003�\u0001�\u000b",
      "\u001e",
      "e\u001c",
      " b6\u0014��:�D,X�W_ׂ��pM�ȱ�/��2\u001bR�6�Ҙ�u�d>�s� &X��w����8�+`�^޻ӡ\u001c",
      "\u000fz^ø\u0001��\u0018��\u0004�0Q���\u0005RX ܛ{��+��2�pp���c\u0011R�\u0004Y�U�}��p�f����|�4�q\f",
      "�Ҍ.�\u0016Y�B��5��\n",
      "C \u001c",
      "\u0010@�fC\u0017���8'\n",
      "e\u0016�%PZ;L\u0002��qY��\u0017ı�+H3<�,�6\n",
      "\f",
      "�xo�B%Ea��\f",
      "\u0019\u001a��Z�8��H\u0010\u0014\u0019�\u000b",
      "\u0011�1��p��^ʵj�p\u00157\u0007\u0014\u0012��9#*�!\tr�,��������=\u0000�\u0014�M�9�^w:�z��,��\f",
      "�\t06�/&S\u0007\u001c",
      "\u0006frn��Z�\u0003�-eng}����-�p\u00047����x&y��н#��\u0018[7\u0015�T�z�o�[�k\u0017{�\u0015򑛼��4\\P\u0004��Z��=��8\u000e^n���\u00183����`�V-����eC\u0012�&{�3D��\u001b�\u000f�8\u000edg�T�}�79T\u001f&�ȱ�\u0011�oyL^��\u001b��H\u000e�3�\u001e",
      "q�ꟍ�K\u001b_u/\u0006�}A�\u0003\u0005�\u0007*Z\u001b\u0002 >�HVP�q[3d�\u0001�|�\u001a���\u0001��\u001b�:\u0004��$�+�/��\u001a,��l\u0004�P\u001f~�ݯv�����\u001bt��\u0005\u001c",
      "G/�0^ӄ:\u0019��\u001e",
      "�\u001b��˽�fI��o\u0000�m��n\u0019�\u001c",
      "rj2qFdmsL�c�\u0016����ۿN/�S0_A�o\u0016��V�Z\u0019�\u0015j��6T�ӡpe�쨂��\u0004(7\u0019��v���ܰ\u0002�u�\\�¶,�9m^�(%�\n",
      "�\u0002�O��X�\tk��4x曹*�h;˾\u0010�\u0003�s_=�A�Ћ�`@s.n��U+\u0006��r�\u0007�\u001c",
      "˛�bo��H\u000e��i�9�4\u0003#U� ;��Pm�9��!ޣ���k�\n",
      "e�{d�7�42�x;eI�Ԓ��C��5���I�w$�|�aF��|\u0013�z�@�+F�$��\u0014\u0000\u0003��\u001b�e��`\u0006��\u001bn��\u0011�b��$\"�\n"
     ]
    }
   ],
   "source": [
    "!head -40 vers1761.25o"
   ]
  },
  {
   "cell_type": "markdown",
   "id": "78b84884",
   "metadata": {},
   "source": [
    "The file has two parts: \n",
    "1. A header of 21 lines containing important metadata, such as the site code, who collected the data, the receiver and antenna type (and their serial numbers), the approximate site location, the antenna height and details of the data (the start and end times, sample interval, and which observations are recorded $-$ such as which carrier phases and which pseudoranges).\n",
    "2. Data, with time and date stamps for each epoch, as well as the details of the observables for each visible satellite.\n",
    "\n",
    "A RINEX data file containing this information is processable using multiple different processing softwares. But how do we make one?"
   ]
  },
  {
   "cell_type": "markdown",
   "id": "a0d11536",
   "metadata": {},
   "source": [
    "### 1.2 Converting RAW data to RINEX\n",
    "\n",
    "The first step will be to pull the data from the GNSS receiver $-$ and how you do this depends a lot on the receiver type. Some receivers (such as the Trimble NetRS and NetR9, and the Septentrio PolaRx5) log data to internal storage, and require you to connect to a web server on the receiver to access the data. Others, such as the Trimble R7 and Topcon GB-1000, log data to a CompactFlash card within the receiver, which can then be pulled out and read with a card reader at the end of the survey (which is usually much easier to do, especially when out in the field).\n",
    "\n",
    "Assuming we are using a Trimble R7, which are the majority of the GNSS receivers I have access to at UCR, then the data will be recorded to the receiver in a proprietary, binary format ('t01' format). I have included one of these files as well, collected in July 2024 at VERS, to practice with. Let's have a look!"
   ]
  },
  {
   "cell_type": "code",
   "execution_count": 26,
   "id": "e8e17f60",
   "metadata": {},
   "outputs": [
    {
     "name": "stdout",
     "output_type": "stream",
     "text": [
      "-rw-rw-r-- 1 katie katie 343787 Jul 10 10:10 04223360.t01\n",
      "-rw-rw-r-- 1 katie katie 470270 Jul  3 12:28 35233140.t01\n"
     ]
    }
   ],
   "source": [
    "!ls -l *.t01"
   ]
  },
  {
   "cell_type": "markdown",
   "id": "8f1a242c",
   "metadata": {},
   "source": [
    "EarthScope (UNAVCO, as-was) is a good source of information on how to convert these proprietary data files to RINEX. For the Trimble data we are using, it is a two step process $-$ first convert the 't01' file to a 'dat' file, and then convert the 'dat' file to RINEX. \n",
    "\n",
    "The conversion program we need for the first step is called runpkr00, and it is a compiled binary executable that only runs on certain hardware (Linux PCs, Windows PCs, Intel Macs, Solaris Unix machines).\n",
    "\n",
    "The runpkr00 executables can be downloaded from this legacy UNAVCO Knowledge Base webpage: https://kb.unavco.org/article/trimble-runpkr00-latest-versions-744.html\n",
    "\n",
    "You should download the version that you need (version 5.40 is good enough for our purposes). If you are running this on Linux (or emulated Linux through WSL2), make sure you copy the `runpkr00` exectuable to the directory containing this notebook and the t01 file."
   ]
  },
  {
   "cell_type": "code",
   "execution_count": 27,
   "id": "d8a390db",
   "metadata": {},
   "outputs": [
    {
     "name": "stdout",
     "output_type": "stream",
     "text": [
      "-rwxr-xr-x 1 katie katie 1897487 Sep  4  2013 runpkr00\n"
     ]
    }
   ],
   "source": [
    "!ls -l runpkr00"
   ]
  },
  {
   "cell_type": "markdown",
   "id": "8dc29e66",
   "metadata": {},
   "source": [
    "In order to convert the file, we need to run `runpkr00` on the data file. Consulting the [Knowledge Base](https://kb.unavco.org/article/trimble-runpkr00-latest-versions-744.html) again, the correct syntax is something like: `runpkr00 -g -d filename.T01`\n",
    "\n",
    "So let's do that..."
   ]
  },
  {
   "cell_type": "code",
   "execution_count": 28,
   "id": "6e4aa0b2",
   "metadata": {},
   "outputs": [
    {
     "name": "stdout",
     "output_type": "stream",
     "text": [
      "./runpkr00 -g -d 04223360.t01\n"
     ]
    }
   ],
   "source": [
    "# put the name of your file\n",
    "rawfile='04223360.t01'  # if you have your own file, feel free to substitute it here\n",
    "\n",
    "print('./runpkr00 -g -d ' + rawfile)  # this is the command you are running\n",
    "\n",
    "!./runpkr00 -g -d $rawfile"
   ]
  },
  {
   "cell_type": "markdown",
   "id": "61b43566",
   "metadata": {},
   "source": [
    "What did that do? Let's look for 'dat' files in the directory:"
   ]
  },
  {
   "cell_type": "code",
   "execution_count": 29,
   "id": "f6281357",
   "metadata": {},
   "outputs": [
    {
     "name": "stdout",
     "output_type": "stream",
     "text": [
      "-rw-rw-r-- 1 katie katie 1550770 Jul 10 11:12 04223360.dat\n",
      "-rw-rw-r-- 1 katie katie  309510 Jul 10 10:50 vers1761.dat\n"
     ]
    }
   ],
   "source": [
    "!ls -l *.dat"
   ]
  },
  {
   "cell_type": "markdown",
   "id": "32e2b12d",
   "metadata": {},
   "source": [
    "And now we should have a 'dat' file!\n",
    "\n",
    "Next we need to convert this to a 'proper' RINEX format, and for that we can use the long-lived (and no longer supported) `teqc` converter, a legacy UNAVCO code. teqc also has a legacy website: https://www.unavco.org/software/data-processing/teqc/teqc.html\n",
    "\n",
    "Note again that not all computer platforms are supported, but Linux PCs are. If the command does not work on your machine, try using it on a \n",
    "\n",
    "Once again, get the version of the executable that runs on your own machine, and copy it to your working directory.\n",
    "\n",
    "The syntax for running `teqc` is pretty straightforward, something like: `teqc filename.dat > rinexfile.o`\n",
    "\n",
    "We can try that..."
   ]
  },
  {
   "cell_type": "code",
   "execution_count": 30,
   "id": "1e325235",
   "metadata": {},
   "outputs": [
    {
     "name": "stdout",
     "output_type": "stream",
     "text": [
      "./teqc 04223360.dat > test.o\n",
      "? Error ? translation of '04223360.dat' may have started with GPS week 2374 rather than 1299\n",
      "\t(try using '-week 1299' option)\n",
      "! Notice ! '04223360.dat': GPS week initially set= 1299\n"
     ]
    }
   ],
   "source": [
    "# some data format futzing\n",
    "filename, extension = splitext(rawfile)\n",
    "datfile = filename+'.dat'\n",
    "\n",
    "# and let's run it\n",
    "print('./teqc ' + datfile + ' > test.o')\n",
    "\n",
    "!./teqc $datfile > test.o"
   ]
  },
  {
   "cell_type": "markdown",
   "id": "3ee3e12d",
   "metadata": {},
   "source": [
    "We get an error message! Something about a possibly incorrect 'GPS week'! What does that mean?\n",
    "\n",
    "Well, GPS week is a charming and fairly arcane way of measuring the passing of time. It refers to the number of weeks since the first GPS epoch $-$ which was midnight on January 6, 1980, UTC time. GPS week is transmitted with the GPS signal as a 10 bit number, meaning that every $2^{10}$ weeks (1024 weeks), the counter resets, and the GPS receiver gets confused about the date.\n",
    "\n",
    "This is the GPS equivalent of the Y2K bug, and if anything it is a more irritating problem as it is: 1) less well known, 2) happens more frequently (1024 weeks is 19.6 years), and 3) not really fixed. It has caused issues, particularly with electronic hardware that uses GPS for timing $-$ see https://en.wikipedia.org/wiki/GPS_week_number_rollover for some examples, and a description of the problem.\n",
    "\n",
    "If we look at the dates in the RINEX file we just made, we can see it might have some issues:"
   ]
  },
  {
   "cell_type": "code",
   "execution_count": 31,
   "id": "4f01894b",
   "metadata": {},
   "outputs": [
    {
     "name": "stdout",
     "output_type": "stream",
     "text": [
      "     2.11           OBSERVATION DATA    G (GPS)             RINEX VERSION / TYPE\n",
      "teqc  2019Feb25                         20250710 18:12:42UTCPGM / RUN BY / DATE\n",
      "Linux 2.6.32-573.12.1.x86_64|x86_64|gcc -static|Linux 64|=+ COMMENT\n",
      "BIT 2 OF LLI FLAGS DATA COLLECTED UNDER A/S CONDITION       COMMENT\n",
      "04223360                                                    MARKER NAME\n",
      "0422                                                        MARKER NUMBER\n",
      "-Unknown-           -Unknown-                               OBSERVER / AGENCY\n",
      "0220340422          TRIMBLE 5700        2.32                REC # / TYPE / VERS\n",
      "-Unknown-           TRM41249.00     NONE                    ANT # / TYPE\n",
      " -2430819.4014 -4704715.0094  3543696.1151                  APPROX POSITION XYZ\n",
      "        0.0000        0.0000        0.0000                  ANTENNA: DELTA H/E/N\n",
      "     1     1                                                WAVELENGTH FACT L1/2\n",
      "     7    L1    L2    C1    P1    P2    S1    S2            # / TYPES OF OBSERV\n",
      "    18                                                      LEAP SECONDS\n",
      " SNR is mapped to RINEX snr flag value [0-9]                COMMENT\n",
      "  L1 & L2: min(max(int(snr_dBHz/6), 0), 9)                  COMMENT\n",
      "  2004    12     1     1    18   30.0000000     GPS         TIME OF FIRST OBS\n",
      "                                                            END OF HEADER\n",
      " 04 12  1  1 18 30.0000000  0  8G02G03G04G21G26G28G31G32\n",
      "     81110.23057     45846.63355  22190478.1094                   22190476.7034\n",
      "        46.0004         35.0004\n",
      "   -154378.17257    -88652.65657  21331892.8914                   21331895.0124\n",
      "        46.5004         45.7504\n",
      "   -127512.60957    -75880.87154  22780400.8204                   22780403.0394\n",
      "        43.2504         27.5004\n",
      "    123631.91857     70741.57455  22702420.7664                   22702420.8404\n",
      "        45.7504         31.5004\n",
      "   -113337.13757    -66914.16856  22471053.1954                   22471057.5594\n",
      "        42.2504         36.5004\n",
      "    137455.89557     82559.24655  22018181.2814                   22018181.1134\n",
      "        44.7504         33.5004\n",
      "     26489.32458     14877.73058  20135769.3054                   20135767.8244\n",
      "        48.2504         49.5004\n",
      "    123274.83256     67394.37555  24453085.2664                   24453090.1174\n",
      "        39.2504         31.0004\n",
      " 04 12  1  1 19  0.0000000  0 10G02G03G04G10G21G26G28G31G32G16\n",
      "    121150.41447     77046.72745  22198097.8204                   22198095.5164\n",
      "        45.0004         34.7504\n",
      "   -231631.73847   -148850.20747  21317191.7814                   21317194.0434\n",
      "        46.2504         46.0004\n"
     ]
    }
   ],
   "source": [
    "!head -40 test.o"
   ]
  },
  {
   "cell_type": "markdown",
   "id": "8803bbb1",
   "metadata": {},
   "source": [
    "The date/time strings are something like `04 12  1  1 18 30.0000000` $-$ 2004/12/01 at 01:18:30. Not July 2024. Indeed, if you compare the dates, they are wrong by just under 20 years. (That should sound suspicious...)\n",
    "\n",
    "We can consult the [log sheet for the data](VERS.pdf) to see what the actual acquisition date was.\n",
    "\n",
    "We can also use a [GPS week date converter](http://sopac-old.ucsd.edu/convertDate.shtml) to figure out what the GPS week actually was when the data were acquired."
   ]
  },
  {
   "cell_type": "code",
   "execution_count": 32,
   "id": "cdca999d",
   "metadata": {},
   "outputs": [
    {
     "name": "stdout",
     "output_type": "stream",
     "text": [
      "./teqc -week 2372 04223360.dat > test.o\n",
      "! Notice ! NAVSTAR GPS SV G10 in '04223360.dat': ToC 2004 Dec  1 02:00:00.000 not in 2025 Jun 25 01:18:30.000 to 6075 Dec 31 23:59:59.999 by +/- 140 min\n",
      "! Notice ! NAVSTAR GPS SV G16 in '04223360.dat': ToC 2004 Dec  1 02:00:00.000 not in 2025 Jun 25 01:18:30.000 to 6075 Dec 31 23:59:59.999 by +/- 140 min\n",
      "! Notice ! NAVSTAR GPS SV G09 in '04223360.dat': ToC 2004 Dec  1 02:00:00.000 not in 2025 Jun 25 01:18:30.000 to 6075 Dec 31 23:59:59.999 by +/- 140 min\n",
      "! Notice ! NAVSTAR GPS SV G16 in '04223360.dat': ToC 2004 Dec  1 04:00:00.000 not in 2025 Jun 25 01:18:30.000 to 6075 Dec 31 23:59:59.999 by +/- 140 min\n",
      "! Notice ! NAVSTAR GPS SV G09 in '04223360.dat': ToC 2004 Dec  1 04:00:00.000 not in 2025 Jun 25 01:18:30.000 to 6075 Dec 31 23:59:59.999 by +/- 140 min\n",
      "! Notice ! NAVSTAR GPS SV G04 in '04223360.dat': ToC 2004 Dec  1 04:00:00.000 not in 2025 Jun 25 01:18:30.000 to 6075 Dec 31 23:59:59.999 by +/- 140 min\n",
      "! Notice ! NAVSTAR GPS SV G21 in '04223360.dat': ToC 2004 Dec  1 04:00:00.000 not in 2025 Jun 25 01:18:30.000 to 6075 Dec 31 23:59:59.999 by +/- 140 min\n",
      "! Notice ! NAVSTAR GPS SV G31 in '04223360.dat': ToC 2004 Dec  1 04:00:00.000 not in 2025 Jun 25 01:18:30.000 to 6075 Dec 31 23:59:59.999 by +/- 140 min\n",
      "! Notice ! NAVSTAR GPS SV G02 in '04223360.dat': ToC 2004 Dec  1 04:00:00.000 not in 2025 Jun 25 01:18:30.000 to 6075 Dec 31 23:59:59.999 by +/- 140 min\n",
      "! Notice ! NAVSTAR GPS SV G03 in '04223360.dat': ToC 2004 Dec  1 04:00:00.000 not in 2025 Jun 25 01:18:30.000 to 6075 Dec 31 23:59:59.999 by +/- 140 min\n",
      "! Notice ! NAVSTAR GPS SV G28 in '04223360.dat': ToC 2004 Dec  1 04:00:00.000 not in 2025 Jun 25 01:18:30.000 to 6075 Dec 31 23:59:59.999 by +/- 140 min\n",
      "! Notice ! NAVSTAR GPS SV G26 in '04223360.dat': ToC 2004 Dec  1 04:00:00.000 not in 2025 Jun 25 01:18:30.000 to 6075 Dec 31 23:59:59.999 by +/- 140 min\n",
      "! Notice ! NAVSTAR GPS SV G06 in '04223360.dat': ToC 2004 Dec  1 03:59:44.000 not in 2025 Jun 25 01:18:30.000 to 6075 Dec 31 23:59:59.999 by +/- 140 min\n",
      "! Notice ! NAVSTAR GPS SV G07 in '04223360.dat': ToC 2004 Dec  1 03:59:44.000 not in 2025 Jun 25 01:18:30.000 to 6075 Dec 31 23:59:59.999 by +/- 140 min\n",
      "! Notice ! NAVSTAR GPS SV G03 in '04223360.dat': ToC 2004 Dec  1 03:59:44.000 not in 2025 Jun 25 01:18:30.000 to 6075 Dec 31 23:59:59.999 by +/- 140 min\n",
      "! Notice ! NAVSTAR GPS SV G27 in '04223360.dat': ToC 2004 Dec  1 04:00:00.000 not in 2025 Jun 25 01:18:30.000 to 6075 Dec 31 23:59:59.999 by +/- 140 min\n",
      "! Notice ! NAVSTAR GPS SV G08 in '04223360.dat': ToC 2004 Dec  1 04:00:00.000 not in 2025 Jun 25 01:18:30.000 to 6075 Dec 31 23:59:59.999 by +/- 140 min\n",
      "! Notice ! NAVSTAR GPS SV G06 in '04223360.dat': ToC 2004 Dec  1 06:00:00.000 not in 2025 Jun 25 01:18:30.000 to 6075 Dec 31 23:59:59.999 by +/- 140 min\n",
      "! Notice ! NAVSTAR GPS SV G16 in '04223360.dat': ToC 2004 Dec  1 06:00:00.000 not in 2025 Jun 25 01:18:30.000 to 6075 Dec 31 23:59:59.999 by +/- 140 min\n",
      "! Notice ! NAVSTAR GPS SV G09 in '04223360.dat': ToC 2004 Dec  1 06:00:00.000 not in 2025 Jun 25 01:18:30.000 to 6075 Dec 31 23:59:59.999 by +/- 140 min\n",
      "! Notice ! NAVSTAR GPS SV G04 in '04223360.dat': ToC 2004 Dec  1 06:00:00.000 not in 2025 Jun 25 01:18:30.000 to 6075 Dec 31 23:59:59.999 by +/- 140 min\n",
      "! Notice ! NAVSTAR GPS SV G31 in '04223360.dat': ToC 2004 Dec  1 06:00:00.000 not in 2025 Jun 25 01:18:30.000 to 6075 Dec 31 23:59:59.999 by +/- 140 min\n",
      "! Notice ! NAVSTAR GPS SV G03 in '04223360.dat': ToC 2004 Dec  1 05:59:44.000 not in 2025 Jun 25 01:18:30.000 to 6075 Dec 31 23:59:59.999 by +/- 140 min\n",
      "! Notice ! NAVSTAR GPS SV G26 in '04223360.dat': ToC 2004 Dec  1 06:00:00.000 not in 2025 Jun 25 01:18:30.000 to 6075 Dec 31 23:59:59.999 by +/- 140 min\n",
      "! Notice ! NAVSTAR GPS SV G27 in '04223360.dat': ToC 2004 Dec  1 06:00:00.000 not in 2025 Jun 25 01:18:30.000 to 6075 Dec 31 23:59:59.999 by +/- 140 min\n",
      "! Notice ! NAVSTAR GPS SV G08 in '04223360.dat': ToC 2004 Dec  1 06:00:00.000 not in 2025 Jun 25 01:18:30.000 to 6075 Dec 31 23:59:59.999 by +/- 140 min\n",
      "! Notice ! NAVSTAR GPS SV G07 in '04223360.dat': ToC 2004 Dec  1 06:00:00.000 not in 2025 Jun 25 01:18:30.000 to 6075 Dec 31 23:59:59.999 by +/- 140 min\n",
      "! Notice ! NAVSTAR GPS SV G30 in '04223360.dat': ToC 2004 Dec  1 06:00:00.000 not in 2025 Jun 25 01:18:30.000 to 6075 Dec 31 23:59:59.999 by +/- 140 min\n",
      "! Notice ! NAVSTAR GPS SV G09 in '04223360.dat': ToC 2004 Dec  1 05:59:44.000 not in 2025 Jun 25 01:18:30.000 to 6075 Dec 31 23:59:59.999 by +/- 140 min\n",
      "! Notice ! NAVSTAR GPS SV G20 in '04223360.dat': ToC 2004 Dec  1 06:00:00.000 not in 2025 Jun 25 01:18:30.000 to 6075 Dec 31 23:59:59.999 by +/- 140 min\n",
      "! Notice ! NAVSTAR GPS SV G14 in '04223360.dat': ToC 2004 Dec  1 06:00:00.000 not in 2025 Jun 25 01:18:30.000 to 6075 Dec 31 23:59:59.999 by +/- 140 min\n",
      "! Notice ! NAVSTAR GPS SV G14 in '04223360.dat': ToC 2004 Dec  1 08:00:00.000 not in 2025 Jun 25 01:18:30.000 to 6075 Dec 31 23:59:59.999 by +/- 140 min\n",
      "! Notice ! NAVSTAR GPS SV G20 in '04223360.dat': ToC 2004 Dec  1 08:00:00.000 not in 2025 Jun 25 01:18:30.000 to 6075 Dec 31 23:59:59.999 by +/- 140 min\n",
      "! Notice ! NAVSTAR GPS SV G16 in '04223360.dat': ToC 2004 Dec  1 08:00:00.000 not in 2025 Jun 25 01:18:30.000 to 6075 Dec 31 23:59:59.999 by +/- 140 min\n",
      "! Notice ! NAVSTAR GPS SV G09 in '04223360.dat': ToC 2004 Dec  1 07:59:44.000 not in 2025 Jun 25 01:18:30.000 to 6075 Dec 31 23:59:59.999 by +/- 140 min\n",
      "! Notice ! NAVSTAR GPS SV G04 in '04223360.dat': ToC 2004 Dec  1 08:00:00.000 not in 2025 Jun 25 01:18:30.000 to 6075 Dec 31 23:59:59.999 by +/- 140 min\n",
      "! Notice ! NAVSTAR GPS SV G08 in '04223360.dat': ToC 2004 Dec  1 08:00:00.000 not in 2025 Jun 25 01:18:30.000 to 6075 Dec 31 23:59:59.999 by +/- 140 min\n",
      "! Notice ! NAVSTAR GPS SV G27 in '04223360.dat': ToC 2004 Dec  1 08:00:00.000 not in 2025 Jun 25 01:18:30.000 to 6075 Dec 31 23:59:59.999 by +/- 140 min\n",
      "! Notice ! NAVSTAR GPS SV G07 in '04223360.dat': ToC 2004 Dec  1 08:00:00.000 not in 2025 Jun 25 01:18:30.000 to 6075 Dec 31 23:59:59.999 by +/- 140 min\n",
      "! Notice ! NAVSTAR GPS SV G30 in '04223360.dat': ToC 2004 Dec  1 08:00:00.000 not in 2025 Jun 25 01:18:30.000 to 6075 Dec 31 23:59:59.999 by +/- 140 min\n",
      "! Notice ! NAVSTAR GPS SV G22 in '04223360.dat': ToC 2004 Dec  1 07:59:44.000 not in 2025 Jun 25 01:18:30.000 to 6075 Dec 31 23:59:59.999 by +/- 140 min\n",
      "! Notice ! NAVSTAR GPS SV G05 in '04223360.dat': ToC 2004 Dec  1 08:00:00.000 not in 2025 Jun 25 01:18:30.000 to 6075 Dec 31 23:59:59.999 by +/- 140 min\n",
      "! Notice ! NAVSTAR GPS SV G13 in '04223360.dat': ToC 2004 Dec  1 08:00:00.000 not in 2025 Jun 25 01:18:30.000 to 6075 Dec 31 23:59:59.999 by +/- 140 min\n",
      "! Notice ! NAVSTAR GPS SV G17 in '04223360.dat': ToC 2004 Dec  1 08:00:00.000 not in 2025 Jun 25 01:18:30.000 to 6075 Dec 31 23:59:59.999 by +/- 140 min\n",
      "! Notice ! NAVSTAR GPS SV G27 in '04223360.dat': ToC 2004 Dec  1 07:59:44.000 not in 2025 Jun 25 01:18:30.000 to 6075 Dec 31 23:59:59.999 by +/- 140 min\n",
      "! Notice ! NAVSTAR GPS SV G02 in '04223360.dat': ToC 2004 Dec  1 08:00:00.000 not in 2025 Jun 25 01:18:30.000 to 6075 Dec 31 23:59:59.999 by +/- 140 min\n",
      "! Notice ! NAVSTAR GPS SV G21 in '04223360.dat': ToC 2004 Dec  1 07:59:44.000 not in 2025 Jun 25 01:18:30.000 to 6075 Dec 31 23:59:59.999 by +/- 140 min\n",
      "! Notice ! NAVSTAR GPS SV G19 in '04223360.dat': ToC 2004 Dec  1 08:00:00.000 not in 2025 Jun 25 01:18:30.000 to 6075 Dec 31 23:59:59.999 by +/- 140 min\n",
      "! Notice ! NAVSTAR GPS SV G14 in '04223360.dat': ToC 2004 Dec  1 10:00:00.000 not in 2025 Jun 25 01:18:30.000 to 6075 Dec 31 23:59:59.999 by +/- 140 min\n",
      "! Notice ! NAVSTAR GPS SV G02 in '04223360.dat': ToC 2004 Dec  1 10:00:00.000 not in 2025 Jun 25 01:18:30.000 to 6075 Dec 31 23:59:59.999 by +/- 140 min\n",
      "! Notice ! NAVSTAR GPS SV G05 in '04223360.dat': ToC 2004 Dec  1 10:00:00.000 not in 2025 Jun 25 01:18:30.000 to 6075 Dec 31 23:59:59.999 by +/- 140 min\n",
      "! Notice ! NAVSTAR GPS SV G22 in '04223360.dat': ToC 2004 Dec  1 10:00:00.000 not in 2025 Jun 25 01:18:30.000 to 6075 Dec 31 23:59:59.999 by +/- 140 min\n",
      "! Notice ! NAVSTAR GPS SV G17 in '04223360.dat': ToC 2004 Dec  1 10:00:00.000 not in 2025 Jun 25 01:18:30.000 to 6075 Dec 31 23:59:59.999 by +/- 140 min\n",
      "! Notice ! NAVSTAR GPS SV G13 in '04223360.dat': ToC 2004 Dec  1 10:00:00.000 not in 2025 Jun 25 01:18:30.000 to 6075 Dec 31 23:59:59.999 by +/- 140 min\n",
      "! Notice ! NAVSTAR GPS SV G19 in '04223360.dat': ToC 2004 Dec  1 10:00:00.000 not in 2025 Jun 25 01:18:30.000 to 6075 Dec 31 23:59:59.999 by +/- 140 min\n",
      "! Notice ! NAVSTAR GPS SV G09 in '04223360.dat': ToC 2004 Dec  1 10:00:00.000 not in 2025 Jun 25 01:18:30.000 to 6075 Dec 31 23:59:59.999 by +/- 140 min\n",
      "! Notice ! NAVSTAR GPS SV G08 in '04223360.dat': ToC 2004 Dec  1 10:00:00.000 not in 2025 Jun 25 01:18:30.000 to 6075 Dec 31 23:59:59.999 by +/- 140 min\n",
      "! Notice ! NAVSTAR GPS SV G07 in '04223360.dat': ToC 2004 Dec  1 10:00:00.000 not in 2025 Jun 25 01:18:30.000 to 6075 Dec 31 23:59:59.999 by +/- 140 min\n",
      "! Notice ! NAVSTAR GPS SV G30 in '04223360.dat': ToC 2004 Dec  1 10:00:00.000 not in 2025 Jun 25 01:18:30.000 to 6075 Dec 31 23:59:59.999 by +/- 140 min\n",
      "! Notice ! NAVSTAR GPS SV G21 in '04223360.dat': ToC 2004 Dec  1 10:00:00.000 not in 2025 Jun 25 01:18:30.000 to 6075 Dec 31 23:59:59.999 by +/- 140 min\n",
      "! Notice ! NAVSTAR GPS SV G15 in '04223360.dat': ToC 2004 Dec  1 09:59:44.000 not in 2025 Jun 25 01:18:30.000 to 6075 Dec 31 23:59:59.999 by +/- 140 min\n",
      "! Notice ! NAVSTAR GPS SV G30 in '04223360.dat': ToC 2004 Dec  1 09:59:44.000 not in 2025 Jun 25 01:18:30.000 to 6075 Dec 31 23:59:59.999 by +/- 140 min\n",
      "! Notice ! NAVSTAR GPS SV G06 in '04223360.dat': ToC 2004 Dec  1 10:00:00.000 not in 2025 Jun 25 01:18:30.000 to 6075 Dec 31 23:59:59.999 by +/- 140 min\n",
      "! Notice ! NAVSTAR GPS SV G24 in '04223360.dat': ToC 2004 Dec  1 09:59:44.000 not in 2025 Jun 25 01:18:30.000 to 6075 Dec 31 23:59:59.999 by +/- 140 min\n",
      "! Notice ! NAVSTAR GPS SV G14 in '04223360.dat': ToC 2004 Dec  1 12:00:00.000 not in 2025 Jun 25 01:18:30.000 to 6075 Dec 31 23:59:59.999 by +/- 140 min\n",
      "! Notice ! NAVSTAR GPS SV G15 in '04223360.dat': ToC 2004 Dec  1 12:00:00.000 not in 2025 Jun 25 01:18:30.000 to 6075 Dec 31 23:59:59.999 by +/- 140 min\n",
      "! Notice ! NAVSTAR GPS SV G24 in '04223360.dat': ToC 2004 Dec  1 11:59:44.000 not in 2025 Jun 25 01:18:30.000 to 6075 Dec 31 23:59:59.999 by +/- 140 min\n",
      "! Notice ! NAVSTAR GPS SV G02 in '04223360.dat': ToC 2004 Dec  1 12:00:00.000 not in 2025 Jun 25 01:18:30.000 to 6075 Dec 31 23:59:59.999 by +/- 140 min\n",
      "! Notice ! NAVSTAR GPS SV G17 in '04223360.dat': ToC 2004 Dec  1 12:00:00.000 not in 2025 Jun 25 01:18:30.000 to 6075 Dec 31 23:59:59.999 by +/- 140 min\n",
      "! Notice ! NAVSTAR GPS SV G19 in '04223360.dat': ToC 2004 Dec  1 12:00:00.000 not in 2025 Jun 25 01:18:30.000 to 6075 Dec 31 23:59:59.999 by +/- 140 min\n",
      "! Notice ! NAVSTAR GPS SV G22 in '04223360.dat': ToC 2004 Dec  1 12:00:00.000 not in 2025 Jun 25 01:18:30.000 to 6075 Dec 31 23:59:59.999 by +/- 140 min\n",
      "! Notice ! NAVSTAR GPS SV G13 in '04223360.dat': ToC 2004 Dec  1 11:59:44.000 not in 2025 Jun 25 01:18:30.000 to 6075 Dec 31 23:59:59.999 by +/- 140 min\n",
      "! Notice ! NAVSTAR GPS SV G06 in '04223360.dat': ToC 2004 Dec  1 12:00:00.000 not in 2025 Jun 25 01:18:30.000 to 6075 Dec 31 23:59:59.999 by +/- 140 min\n",
      "! Notice ! NAVSTAR GPS SV G07 in '04223360.dat': ToC 2004 Dec  1 12:00:00.000 not in 2025 Jun 25 01:18:30.000 to 6075 Dec 31 23:59:59.999 by +/- 140 min\n",
      "! Notice ! NAVSTAR GPS SV G30 in '04223360.dat': ToC 2004 Dec  1 11:59:44.000 not in 2025 Jun 25 01:18:30.000 to 6075 Dec 31 23:59:59.999 by +/- 140 min\n",
      "! Notice ! NAVSTAR GPS SV G17 in '04223360.dat': ToC 2004 Dec  1 11:59:44.000 not in 2025 Jun 25 01:18:30.000 to 6075 Dec 31 23:59:59.999 by +/- 140 min\n",
      "! Notice ! NAVSTAR GPS SV G11 in '04223360.dat': ToC 2004 Dec  1 12:00:00.000 not in 2025 Jun 25 01:18:30.000 to 6075 Dec 31 23:59:59.999 by +/- 140 min\n",
      "! Notice ! NAVSTAR GPS SV G12 in '04223360.dat': ToC 2004 Dec  1 12:00:00.000 not in 2025 Jun 25 01:18:30.000 to 6075 Dec 31 23:59:59.999 by +/- 140 min\n",
      "! Notice ! NAVSTAR GPS SV G24 in '04223360.dat': ToC 2004 Dec  1 14:00:00.000 not in 2025 Jun 25 01:18:30.000 to 6075 Dec 31 23:59:59.999 by +/- 140 min\n",
      "! Notice ! NAVSTAR GPS SV G14 in '04223360.dat': ToC 2004 Dec  1 14:00:00.000 not in 2025 Jun 25 01:18:30.000 to 6075 Dec 31 23:59:59.999 by +/- 140 min\n",
      "! Notice ! NAVSTAR GPS SV G19 in '04223360.dat': ToC 2004 Dec  1 14:00:00.000 not in 2025 Jun 25 01:18:30.000 to 6075 Dec 31 23:59:59.999 by +/- 140 min\n",
      "! Notice ! NAVSTAR GPS SV G22 in '04223360.dat': ToC 2004 Dec  1 14:00:00.000 not in 2025 Jun 25 01:18:30.000 to 6075 Dec 31 23:59:59.999 by +/- 140 min\n",
      "! Notice ! NAVSTAR GPS SV G17 in '04223360.dat': ToC 2004 Dec  1 13:59:44.000 not in 2025 Jun 25 01:18:30.000 to 6075 Dec 31 23:59:59.999 by +/- 140 min\n",
      "! Notice ! NAVSTAR GPS SV G12 in '04223360.dat': ToC 2004 Dec  1 14:00:00.000 not in 2025 Jun 25 01:18:30.000 to 6075 Dec 31 23:59:59.999 by +/- 140 min\n",
      "! Notice ! NAVSTAR GPS SV G06 in '04223360.dat': ToC 2004 Dec  1 14:00:00.000 not in 2025 Jun 25 01:18:30.000 to 6075 Dec 31 23:59:59.999 by +/- 140 min\n",
      "! Notice ! NAVSTAR GPS SV G11 in '04223360.dat': ToC 2004 Dec  1 14:00:00.000 not in 2025 Jun 25 01:18:30.000 to 6075 Dec 31 23:59:59.999 by +/- 140 min\n",
      "! Notice ! NAVSTAR GPS SV G19 in '04223360.dat': ToC 2004 Dec  1 13:59:44.000 not in 2025 Jun 25 01:18:30.000 to 6075 Dec 31 23:59:59.999 by +/- 140 min\n",
      "! Notice ! NAVSTAR GPS SV G20 in '04223360.dat': ToC 2004 Dec  1 14:00:00.000 not in 2025 Jun 25 01:18:30.000 to 6075 Dec 31 23:59:59.999 by +/- 140 min\n",
      "! Notice ! NAVSTAR GPS SV G25 in '04223360.dat': ToC 2004 Dec  1 14:00:00.000 not in 2025 Jun 25 01:18:30.000 to 6075 Dec 31 23:59:59.999 by +/- 140 min\n",
      "! Notice ! NAVSTAR GPS SV G29 in '04223360.dat': ToC 2004 Dec  1 14:00:00.000 not in 2025 Jun 25 01:18:30.000 to 6075 Dec 31 23:59:59.999 by +/- 140 min\n",
      "! Notice ! NAVSTAR GPS SV G05 in '04223360.dat': ToC 2004 Dec  1 14:00:00.000 not in 2025 Jun 25 01:18:30.000 to 6075 Dec 31 23:59:59.999 by +/- 140 min\n",
      "! Notice ! NAVSTAR GPS SV G12 in '04223360.dat': ToC 2004 Dec  1 13:59:44.000 not in 2025 Jun 25 01:18:30.000 to 6075 Dec 31 23:59:59.999 by +/- 140 min\n",
      "! Notice ! NAVSTAR GPS SV G24 in '04223360.dat': ToC 2004 Dec  1 16:00:00.000 not in 2025 Jun 25 01:18:30.000 to 6075 Dec 31 23:59:59.999 by +/- 140 min\n",
      "! Notice ! NAVSTAR GPS SV G12 in '04223360.dat': ToC 2004 Dec  1 15:59:44.000 not in 2025 Jun 25 01:18:30.000 to 6075 Dec 31 23:59:59.999 by +/- 140 min\n",
      "! Notice ! NAVSTAR GPS SV G05 in '04223360.dat': ToC 2004 Dec  1 16:00:00.000 not in 2025 Jun 25 01:18:30.000 to 6075 Dec 31 23:59:59.999 by +/- 140 min\n",
      "! Notice ! NAVSTAR GPS SV G19 in '04223360.dat': ToC 2004 Dec  1 15:59:44.000 not in 2025 Jun 25 01:18:30.000 to 6075 Dec 31 23:59:59.999 by +/- 140 min\n",
      "! Notice ! NAVSTAR GPS SV G29 in '04223360.dat': ToC 2004 Dec  1 16:00:00.000 not in 2025 Jun 25 01:18:30.000 to 6075 Dec 31 23:59:59.999 by +/- 140 min\n",
      "! Notice ! NAVSTAR GPS SV G20 in '04223360.dat': ToC 2004 Dec  1 16:00:00.000 not in 2025 Jun 25 01:18:30.000 to 6075 Dec 31 23:59:59.999 by +/- 140 min\n",
      "! Notice ! NAVSTAR GPS SV G06 in '04223360.dat': ToC 2004 Dec  1 16:00:00.000 not in 2025 Jun 25 01:18:30.000 to 6075 Dec 31 23:59:59.999 by +/- 140 min\n",
      "! Notice ! NAVSTAR GPS SV G11 in '04223360.dat': ToC 2004 Dec  1 16:00:00.000 not in 2025 Jun 25 01:18:30.000 to 6075 Dec 31 23:59:59.999 by +/- 140 min\n",
      "! Notice ! NAVSTAR GPS SV G25 in '04223360.dat': ToC 2004 Dec  1 16:00:00.000 not in 2025 Jun 25 01:18:30.000 to 6075 Dec 31 23:59:59.999 by +/- 140 min\n",
      "! Notice ! NAVSTAR GPS SV G28 in '04223360.dat': ToC 2004 Dec  1 16:00:00.000 not in 2025 Jun 25 01:18:30.000 to 6075 Dec 31 23:59:59.999 by +/- 140 min\n",
      "! Notice ! NAVSTAR GPS SV G18 in '04223360.dat': ToC 2004 Dec  1 16:00:00.000 not in 2025 Jun 25 01:18:30.000 to 6075 Dec 31 23:59:59.999 by +/- 140 min\n",
      "! Notice ! NAVSTAR GPS SV G15 in '04223360.dat': ToC 2004 Dec  1 16:00:00.000 not in 2025 Jun 25 01:18:30.000 to 6075 Dec 31 23:59:59.999 by +/- 140 min\n",
      "! Notice ! NAVSTAR GPS SV G05 in '04223360.dat': ToC 2004 Dec  1 18:00:00.000 not in 2025 Jun 25 01:18:30.000 to 6075 Dec 31 23:59:59.999 by +/- 140 min\n",
      "! Notice ! NAVSTAR GPS SV G12 in '04223360.dat': ToC 2004 Dec  1 18:00:00.000 not in 2025 Jun 25 01:18:30.000 to 6075 Dec 31 23:59:59.999 by +/- 140 min\n",
      "! Notice ! NAVSTAR GPS SV G28 in '04223360.dat': ToC 2004 Dec  1 18:00:00.000 not in 2025 Jun 25 01:18:30.000 to 6075 Dec 31 23:59:59.999 by +/- 140 min\n",
      "! Notice ! NAVSTAR GPS SV G29 in '04223360.dat': ToC 2004 Dec  1 18:00:00.000 not in 2025 Jun 25 01:18:30.000 to 6075 Dec 31 23:59:59.999 by +/- 140 min\n",
      "! Notice ! NAVSTAR GPS SV G20 in '04223360.dat': ToC 2004 Dec  1 18:00:00.000 not in 2025 Jun 25 01:18:30.000 to 6075 Dec 31 23:59:59.999 by +/- 140 min\n",
      "! Notice ! NAVSTAR GPS SV G15 in '04223360.dat': ToC 2004 Dec  1 18:00:00.000 not in 2025 Jun 25 01:18:30.000 to 6075 Dec 31 23:59:59.999 by +/- 140 min\n",
      "! Notice ! NAVSTAR GPS SV G18 in '04223360.dat': ToC 2004 Dec  1 18:00:00.000 not in 2025 Jun 25 01:18:30.000 to 6075 Dec 31 23:59:59.999 by +/- 140 min\n",
      "! Notice ! NAVSTAR GPS SV G11 in '04223360.dat': ToC 2004 Dec  1 18:00:00.000 not in 2025 Jun 25 01:18:30.000 to 6075 Dec 31 23:59:59.999 by +/- 140 min\n",
      "! Notice ! NAVSTAR GPS SV G25 in '04223360.dat': ToC 2004 Dec  1 18:00:00.000 not in 2025 Jun 25 01:18:30.000 to 6075 Dec 31 23:59:59.999 by +/- 140 min\n",
      "! Notice ! NAVSTAR GPS SV G26 in '04223360.dat': ToC 2004 Dec  1 18:00:00.000 not in 2025 Jun 25 01:18:30.000 to 6075 Dec 31 23:59:59.999 by +/- 140 min\n",
      "! Notice ! NAVSTAR GPS SV G13 in '04223360.dat': ToC 2004 Dec  1 18:00:00.000 not in 2025 Jun 25 01:18:30.000 to 6075 Dec 31 23:59:59.999 by +/- 140 min\n",
      "! Notice ! NAVSTAR GPS SV G23 in '04223360.dat': ToC 2004 Dec  1 18:00:00.000 not in 2025 Jun 25 01:18:30.000 to 6075 Dec 31 23:59:59.999 by +/- 140 min\n",
      "! Notice ! NAVSTAR GPS SV G28 in '04223360.dat': ToC 2004 Dec  1 18:14:40.000 not in 2025 Jun 25 01:18:30.000 to 6075 Dec 31 23:59:59.999 by +/- 140 min\n",
      "! Notice ! NAVSTAR GPS SV G16 in '04223360.dat': ToC 2004 Dec  1 18:00:00.000 not in 2025 Jun 25 01:18:30.000 to 6075 Dec 31 23:59:59.999 by +/- 140 min\n",
      "! Notice ! NAVSTAR GPS SV G10 in '04223360.dat': ToC 2004 Dec  1 18:00:00.000 not in 2025 Jun 25 01:18:30.000 to 6075 Dec 31 23:59:59.999 by +/- 140 min\n",
      "! Notice ! NAVSTAR GPS SV G16 in '04223360.dat': ToC 2004 Dec  1 17:59:44.000 not in 2025 Jun 25 01:18:30.000 to 6075 Dec 31 23:59:59.999 by +/- 140 min\n",
      "! Notice ! NAVSTAR GPS SV G13 in '04223360.dat': ToC 2004 Dec  1 20:00:00.000 not in 2025 Jun 25 01:18:30.000 to 6075 Dec 31 23:59:59.999 by +/- 140 min\n",
      "! Notice ! NAVSTAR GPS SV G05 in '04223360.dat': ToC 2004 Dec  1 20:00:00.000 not in 2025 Jun 25 01:18:30.000 to 6075 Dec 31 23:59:59.999 by +/- 140 min\n",
      "! Notice ! NAVSTAR GPS SV G23 in '04223360.dat': ToC 2004 Dec  1 20:00:00.000 not in 2025 Jun 25 01:18:30.000 to 6075 Dec 31 23:59:59.999 by +/- 140 min\n",
      "! Notice ! NAVSTAR GPS SV G29 in '04223360.dat': ToC 2004 Dec  1 20:00:00.000 not in 2025 Jun 25 01:18:30.000 to 6075 Dec 31 23:59:59.999 by +/- 140 min\n",
      "! Notice ! NAVSTAR GPS SV G15 in '04223360.dat': ToC 2004 Dec  1 20:00:00.000 not in 2025 Jun 25 01:18:30.000 to 6075 Dec 31 23:59:59.999 by +/- 140 min\n",
      "! Notice ! NAVSTAR GPS SV G18 in '04223360.dat': ToC 2004 Dec  1 20:00:00.000 not in 2025 Jun 25 01:18:30.000 to 6075 Dec 31 23:59:59.999 by +/- 140 min\n",
      "! Notice ! NAVSTAR GPS SV G26 in '04223360.dat': ToC 2004 Dec  1 20:00:00.000 not in 2025 Jun 25 01:18:30.000 to 6075 Dec 31 23:59:59.999 by +/- 140 min\n",
      "! Notice ! NAVSTAR GPS SV G10 in '04223360.dat': ToC 2004 Dec  1 20:00:00.000 not in 2025 Jun 25 01:18:30.000 to 6075 Dec 31 23:59:59.999 by +/- 140 min\n",
      "! Notice ! NAVSTAR GPS SV G25 in '04223360.dat': ToC 2004 Dec  1 20:00:00.000 not in 2025 Jun 25 01:18:30.000 to 6075 Dec 31 23:59:59.999 by +/- 140 min\n",
      "! Notice ! NAVSTAR GPS SV G16 in '04223360.dat': ToC 2004 Dec  1 19:59:44.000 not in 2025 Jun 25 01:18:30.000 to 6075 Dec 31 23:59:59.999 by +/- 140 min\n"
     ]
    }
   ],
   "source": [
    "# what was the GPS week?\n",
    "gpsweek=2372\n",
    "\n",
    "# let's try again!\n",
    "print('./teqc -week {0:d} {1:s} > test.o'.format(gpsweek,datfile))\n",
    "!./teqc -week $gpsweek $datfile > test.o\n"
   ]
  },
  {
   "cell_type": "markdown",
   "id": "efb98a6a",
   "metadata": {},
   "source": [
    "Lots of complaining this time, but did it make a difference? We can look at the file again to see..."
   ]
  },
  {
   "cell_type": "code",
   "execution_count": 33,
   "id": "05e07785",
   "metadata": {},
   "outputs": [
    {
     "name": "stdout",
     "output_type": "stream",
     "text": [
      "     2.11           OBSERVATION DATA    G (GPS)             RINEX VERSION / TYPE\n",
      "teqc  2019Feb25                         20250710 18:13:35UTCPGM / RUN BY / DATE\n",
      "Linux 2.6.32-573.12.1.x86_64|x86_64|gcc -static|Linux 64|=+ COMMENT\n",
      "BIT 2 OF LLI FLAGS DATA COLLECTED UNDER A/S CONDITION       COMMENT\n",
      "04223360                                                    MARKER NAME\n",
      "0422                                                        MARKER NUMBER\n",
      "-Unknown-           -Unknown-                               OBSERVER / AGENCY\n",
      "0220340422          TRIMBLE 5700        2.32                REC # / TYPE / VERS\n",
      "-Unknown-           TRM41249.00     NONE                    ANT # / TYPE\n",
      " -2430819.4014 -4704715.0094  3543696.1151                  APPROX POSITION XYZ\n",
      "        0.0000        0.0000        0.0000                  ANTENNA: DELTA H/E/N\n",
      "     1     1                                                WAVELENGTH FACT L1/2\n",
      "     7    L1    L2    C1    P1    P2    S1    S2            # / TYPES OF OBSERV\n",
      "    18                                                      LEAP SECONDS\n",
      " SNR is mapped to RINEX snr flag value [0-9]                COMMENT\n",
      "  L1 & L2: min(max(int(snr_dBHz/6), 0), 9)                  COMMENT\n",
      "  2025     6    25     1    18   30.0000000     GPS         TIME OF FIRST OBS\n",
      "                                                            END OF HEADER\n",
      " 25  6 25  1 18 30.0000000  0  8G02G03G04G21G26G28G31G32\n",
      "     81110.23057     45846.63355  22190478.1094                   22190476.7034\n",
      "        46.0004         35.0004\n",
      "   -154378.17257    -88652.65657  21331892.8914                   21331895.0124\n",
      "        46.5004         45.7504\n",
      "   -127512.60957    -75880.87154  22780400.8204                   22780403.0394\n",
      "        43.2504         27.5004\n",
      "    123631.91857     70741.57455  22702420.7664                   22702420.8404\n",
      "        45.7504         31.5004\n",
      "   -113337.13757    -66914.16856  22471053.1954                   22471057.5594\n",
      "        42.2504         36.5004\n",
      "    137455.89557     82559.24655  22018181.2814                   22018181.1134\n",
      "        44.7504         33.5004\n",
      "     26489.32458     14877.73058  20135769.3054                   20135767.8244\n",
      "        48.2504         49.5004\n",
      "    123274.83256     67394.37555  24453085.2664                   24453090.1174\n",
      "        39.2504         31.0004\n",
      " 25  6 25  1 19  0.0000000  0 10G02G03G04G10G21G26G28G31G32G16\n",
      "    121150.41447     77046.72745  22198097.8204                   22198095.5164\n",
      "        45.0004         34.7504\n",
      "   -231631.73847   -148850.20747  21317191.7814                   21317194.0434\n",
      "        46.2504         46.0004\n"
     ]
    }
   ],
   "source": [
    "!head -40 test.o"
   ]
  },
  {
   "cell_type": "markdown",
   "id": "22cde851",
   "metadata": {},
   "source": [
    "Those dates look a lot more plausible, so it looks like the data were interpreted correctly this time. We have a RINEX file! But we are still missing a lot of important details $-$ such as the metadata for the acquisition. So let's get on with that..."
   ]
  },
  {
   "cell_type": "markdown",
   "id": "e576fb8b",
   "metadata": {},
   "source": [
    "### 1.3 Estimating antenna height from slant height\n",
    "\n",
    "When collecting GNSS data, some of the key metadata we collect are the heights of the antennas during data collection. In a typical tripod setup, using GNSS antennas with ground planes, these will usually be slant heights from the station marker to the base of the ground plane, measured using a measuring stick.  \n",
    "\n",
    "Our protocol is to make three measurements of slant height at different parts of the antenna at equipment set-up and three more at take-down. Assuming that the equipment is not significantly disturbed during the data take, the average of these six measurements is a reasonable estimate of the slant height of the antenna during that data take. But is slant height what we need for data processing? *What information on height is included in the RINEX file?*\n",
    "\n",
    "Each GNSS antenna has a 'reference point' $-$ the point to which all measurements are referenced. For common antennas like those in the Trimble Zephyr Geodetic family, this is typically the base of the antenna. Note that this is not what we measure when setting up our equipment...\n",
    "\n",
    "![diagram of antenna height](./antenna_height.png)\n",
    "\n",
    "So how do we turn our slant height measurements to the base of an antenna ground plane into a measurement of the vertical height of the antenna reference point? Pythagoras, with some light subtraction...\n",
    "\n",
    "If $h$ is the desired vertical height of the antenna reference point above the benchmark, $R$ is the measured average slant height to the base of the antenna ground plane, $r$ is the antenna radius and $t$ is the vertical distance between the base of the ground plane and the antenna reference point, then...\n",
    "\n",
    "$$h = \\sqrt{(R^2-r^2)}-t$$\n",
    "\n",
    "Seems straightforward! Where do we get the information for $r$ and $t$, I hear you ask? Well, there are a couple of options: 1) the details are included on a sticker attached to the antenna, and 2) if you know the antenna manufacturer, type and part number you can look it up at the NGS's data repository on GNSS antennas, here: https://www.ngs.noaa.gov/ANTCAL/ (look under \"Browse Antenna Information\")"
   ]
  },
  {
   "cell_type": "code",
   "execution_count": 34,
   "id": "96d095db",
   "metadata": {},
   "outputs": [
    {
     "name": "stdout",
     "output_type": "stream",
     "text": [
      "slant height: 1.082 m, vertical height of antenna reference point 1.024 m\n"
     ]
    }
   ],
   "source": [
    "# so let's calculate the height, then!\n",
    "\n",
    "# pre-survey slant height\n",
    "slant_height_pre=np.mean([108.30,108.20,108.20])/100  # include all three measurements here \n",
    "# post-survey slant height\n",
    "slant_height_post=np.mean([108.30,108.20,108.10])/100  # include all three measurements here \n",
    "\n",
    "# antenna radius (from looking up the antenna information)\n",
    "# deminsions C in cm\n",
    "r = 16.98/100\n",
    "\n",
    "# vertical distance between base of the ground plane and the antenna reference point\n",
    "#deminsions A IN CM \n",
    "t = (5.32-0.89)/100\n",
    "\n",
    "# and some calculatin'\n",
    "R=(slant_height_pre+slant_height_post)/2\n",
    "h=np.sqrt(R**2-r**2)-t\n",
    "\n",
    "print('slant height: {0:5.3f} m, vertical height of antenna reference point {1:5.3f} m'.format(R,h))"
   ]
  },
  {
   "cell_type": "markdown",
   "id": "c66a1d00",
   "metadata": {},
   "source": [
    "### 1.4 Updating RINEX metadata with teqc\n",
    "\n",
    "teqc also allows you to edit the metadata of your RINEX file, which, if you look at the header of our recently converted file, is very necessary! You can look at the manual for more details:\n",
    "https://www.unavco.org/software/data-processing/teqc/doc/UNAVCO_Teqc_Tutorial.pdf \n",
    "\n",
    "Or, you can run `teqc +help` and get a very long list! \n",
    "\n",
    "Some key options we might want to use:\n",
    "\n",
    "* -O.at \\<antenna type\\> $-$ give the NGS antenna code here\n",
    "* -O.an \\<antenna number\\> $-$ give the antenna serial number here\n",
    "* -O.mo \\<site code\\> $-$ give the four-character benchmark code here\n",
    "* -O.mn \\<monument number\\> $-$ if you know the benchmark number, give it here (else give '' to blank it out)\n",
    "* -O.pe \\<h e n\\> $-$ give the antenna height (h), plus east and north offsets (0 0) here\n",
    "* -O.o \\<operators\\> $-$ give the names of the people who collected this data\n",
    "* -O.ag \\<agency\\> $-$ give the name of the agency that collected this data (UCR?)\n",
    "* -O.r \\<runner of teqc\\> $-$ give your name here, since you are running teqc!\n",
    "* -tbin 1d $-$ if necessary, divide your data into daily files\n",
    "\n",
    "\n",
    "To run this 'editing' mode of teqc, the syntax is:\n",
    "`teqc <options> <site_code> input_rinex`"
   ]
  },
  {
   "cell_type": "code",
   "execution_count": 42,
   "id": "3e17141a",
   "metadata": {},
   "outputs": [
    {
     "name": "stdout",
     "output_type": "stream",
     "text": [
      "./teqc -O.at TRM41249.00 -O.an 0220413523 -O.mo VERS -O.pe 1.024462 0 0 -O.o 'K Baraggiotta, K Rivera' -O.ag 'University of California, Riverside' -O.r 'K Rivera' -O.mn '' -tbin 1d vers test.o\n"
     ]
    }
   ],
   "source": [
    "# set up teqc to run with all of the options\n",
    "\n",
    "# site information (4 character code)\n",
    "site_code = \"VERS\"\n",
    "\n",
    "# operator information (from the logsheet)\n",
    "operator_names = \"K Baraggiotta, K Rivera\"\n",
    "operator_inst = \"University of California, Riverside\"\n",
    "my_name = \"K Rivera\"\n",
    "\n",
    "# antenna information (again, from the logsheet)\n",
    "antenna_type = \"TRM41249.00\"\n",
    "antenna_sn = \"0220413523\"\n",
    "\n",
    "# print out the command in case you need to run it somewhere else\n",
    "option_str=\"-O.at {0:s} -O.an {1:s} -O.mo {2:s} -O.pe {3:f} 0 0 -O.o '{4:s}' -O.ag '{5:s}' -O.r '{6:s}' -O.mn '' -tbin 1d {7:s} test.o\".format(antenna_type,antenna_sn,site_code,h,operator_names,operator_inst,my_name,site_code.lower())\n",
    "\n",
    "print(\"./teqc {0:s}\".format(option_str))\n",
    "\n",
    "!./teqc $command_str"
   ]
  },
  {
   "cell_type": "code",
   "execution_count": 47,
   "id": "a5842a87-b734-44e3-ae7b-fd46dd54f66f",
   "metadata": {},
   "outputs": [
    {
     "name": "stdout",
     "output_type": "stream",
     "text": [
      "./teqc -O.at TRM41249.00 -O.an 12118428 -O.mo VERS -O.pe 1.024462 0 0 -O.o 'R Rincon, K Rivera' -O.ag 'University of California, Riverside' -O.r 'G Funning' -O.mn '' -tbin 1d vers test.o\n"
     ]
    }
   ],
   "source": [
    "# site information (4 character code)\n",
    "site_code = \"VERS\"\n",
    "\n",
    "# operator information (from the logsheet)\n",
    "operator_names = \"R Rincon, K Rivera\"\n",
    "operator_inst = \"University of California, Riverside\"\n",
    "my_name = \"G Funning\"\n",
    "\n",
    "# antenna information (again, from the logsheet)\n",
    "antenna_type = \"TRM41249.00\"\n",
    "antenna_sn = \"12118428\"\n",
    "\n",
    "# print out the command in case you need to run it somewhere else\n",
    "option_str=\"-O.at {0:s} -O.an {1:s} -O.mo {2:s} -O.pe {3:f} 0 0 -O.o '{4:s}' -O.ag '{5:s}' -O.r '{6:s}' -O.mn '' -tbin 1d {7:s} test.o\".format(antenna_type,antenna_sn,site_code,h,operator_names,operator_inst,my_name,site_code.lower())\n",
    "\n",
    "print(\"./teqc {0:s}\".format(option_str))\n",
    "\n",
    "!./teqc $command_str"
   ]
  },
  {
   "cell_type": "markdown",
   "id": "5426eeb7",
   "metadata": {},
   "source": [
    "And if all went well, you should have a new, and properly named file, based on the site code you gave! Let's have a look at it!"
   ]
  },
  {
   "cell_type": "code",
   "execution_count": 48,
   "id": "922f5638",
   "metadata": {},
   "outputs": [
    {
     "name": "stdout",
     "output_type": "stream",
     "text": [
      "test2.o  vers1461.10o  vers1761.25o  vers3250.11o\n",
      "test.o\t vers1490.14o  vers1870.15o\n"
     ]
    }
   ],
   "source": [
    "!ls *o"
   ]
  },
  {
   "cell_type": "code",
   "execution_count": 49,
   "id": "fc993bf8",
   "metadata": {},
   "outputs": [
    {
     "name": "stdout",
     "output_type": "stream",
     "text": [
      "     2.11           OBSERVATION DATA    G (GPS)             RINEX VERSION / TYPE\n",
      "teqc  2019Feb25                         20250710 18:13:35UTCPGM / RUN BY / DATE\n",
      "Linux 2.6.32-573.12.1.x86_64|x86_64|gcc -static|Linux 64|=+ COMMENT\n",
      "BIT 2 OF LLI FLAGS DATA COLLECTED UNDER A/S CONDITION       COMMENT\n",
      "04223360                                                    MARKER NAME\n",
      "0422                                                        MARKER NUMBER\n",
      "-Unknown-           -Unknown-                               OBSERVER / AGENCY\n",
      "0220340422          TRIMBLE 5700        2.32                REC # / TYPE / VERS\n",
      "-Unknown-           TRM41249.00     NONE                    ANT # / TYPE\n",
      " -2430819.4014 -4704715.0094  3543696.1151                  APPROX POSITION XYZ\n",
      "        0.0000        0.0000        0.0000                  ANTENNA: DELTA H/E/N\n",
      "     1     1                                                WAVELENGTH FACT L1/2\n",
      "     7    L1    L2    C1    P1    P2    S1    S2            # / TYPES OF OBSERV\n",
      "    18                                                      LEAP SECONDS\n",
      " SNR is mapped to RINEX snr flag value [0-9]                COMMENT\n",
      "  L1 & L2: min(max(int(snr_dBHz/6), 0), 9)                  COMMENT\n",
      "  2025     6    25     1    18   30.0000000     GPS         TIME OF FIRST OBS\n",
      "                                                            END OF HEADER\n",
      " 25  6 25  1 18 30.0000000  0  8G02G03G04G21G26G28G31G32\n",
      "     81110.23057     45846.63355  22190478.1094                   22190476.7034\n",
      "        46.0004         35.0004\n",
      "   -154378.17257    -88652.65657  21331892.8914                   21331895.0124\n",
      "        46.5004         45.7504\n",
      "   -127512.60957    -75880.87154  22780400.8204                   22780403.0394\n",
      "        43.2504         27.5004\n",
      "    123631.91857     70741.57455  22702420.7664                   22702420.8404\n",
      "        45.7504         31.5004\n",
      "   -113337.13757    -66914.16856  22471053.1954                   22471057.5594\n",
      "        42.2504         36.5004\n",
      "    137455.89557     82559.24655  22018181.2814                   22018181.1134\n",
      "        44.7504         33.5004\n",
      "     26489.32458     14877.73058  20135769.3054                   20135767.8244\n",
      "        48.2504         49.5004\n",
      "    123274.83256     67394.37555  24453085.2664                   24453090.1174\n",
      "        39.2504         31.0004\n",
      " 25  6 25  1 19  0.0000000  0 10G02G03G04G10G21G26G28G31G32G16\n",
      "    121150.41447     77046.72745  22198097.8204                   22198095.5164\n",
      "        45.0004         34.7504\n",
      "   -231631.73847   -148850.20747  21317191.7814                   21317194.0434\n",
      "        46.2504         46.0004\n"
     ]
    }
   ],
   "source": [
    "!head -40 test.o"
   ]
  },
  {
   "cell_type": "markdown",
   "id": "b32589c7",
   "metadata": {},
   "source": [
    "## 2. Prep your own data now!\n",
    "\n",
    "If you have collected your own data, now is a good opportunity to prepare it, using all of the steps $-$ extracting the file from the receiver, converting it to dat format, converting that to RINEX format, using the survey log sheet information to estimate the vertical antenna height, and editing the RINEX headers with the necessary information.\n",
    "\n",
    "You may want to make copies of the various code snippets used above to make a comprehensive code cell that does all of the steps for you $-$ then you will have something you can use in the future!"
   ]
  },
  {
   "cell_type": "code",
   "execution_count": 18,
   "id": "1e7f33ed",
   "metadata": {},
   "outputs": [],
   "source": [
    "# compile the code snippets here\n",
    "\n"
   ]
  },
  {
   "cell_type": "markdown",
   "id": "3b32edde",
   "metadata": {},
   "source": [
    "## 3. Processing your data with OPUS\n",
    "\n",
    "OPUS (**O**nline **P**osition **U**ser **S**ervice; https://www.ngs.noaa.gov/OPUS/) is a web-based tool operated by the National Geodetic Survey that processes RINEX format GNSS data that you upload to the website and return a position over email. It is remarkably easy to use, and even if you want to do your own 'proper' processing using a package like GAMIT/GLOBK or GIPSY later on, you will get some sense of the quality of your data from the output. \n",
    "\n",
    "OPUS processes data using a [double-difference approach](https://geodesy.noaa.gov/OPUS/about.jsp), choosing three nearby continuous GNSS stations to form double differences, and trilaterating a location relative to those stations. Its results are not as robust as you would obtain from forming a greater number of double-differences from more stations, and it does not work as well in areas where there is a low density of continuous stations, but for southern California, it still works well.\n",
    "\n",
    "To process data with OPUS, you will need three things:\n",
    "\n",
    "* a RINEX file with between 2 and 48 hours of data\n",
    "* the NGS antenna code for the antenna used (unfortunately it does not read that from the headers like some software will do)\n",
    "* the height of the antenna above the benchmark (unfortunately it does not read that either)\n",
    "\n",
    "Of course, for the data we have just preprocessed, we know all of those things. (And for properly prepared RINEX files from other people, the necessary information is in the headers.)\n",
    "\n",
    "So, to process your data, simply go to the website, select your RINEX file, select the antenna type, enter the vertical height, and enter your email address. You can optionally choose the format of the output (I usually choose the version that produces an XML file as well, as it may be easier to ingest the results later on).\n",
    "\n",
    "Then, hit the 'Upload to Static' button, and wait for the email. It should be done in a few minutes. "
   ]
  },
  {
   "cell_type": "markdown",
   "id": "52c745d1",
   "metadata": {},
   "source": [
    "## 4. Estimate the velocity at VERS\n",
    "\n",
    "Along with the July 2024 data, and the data you may have collected, I have provided RINEX files of other surveys of VERS. By processing these, and compiling date and east, north and up information, you can build a time series of the change in coordinate of the station, and use that to estimate a velocity for the site $-$ either by making a spreadsheet of the values, or by doing it in a more Pythonic way by building a Pandas table, and using an XML reader to populate it with your processed positions. \n",
    "\n",
    "(I can give some hints about how to do this in Python, if you are interested.)\n",
    "\n",
    "My suggested order of tasks: process all the data, plot the changes in position over time (maybe subtract the position of the earliest measurement from the others?), fit a trend line to each component and see what you get. Can you plot your estimated velocity on a map (e.g. using psvelo in GMT or pygmt.plot in PyGMT)? Does it make sense?"
   ]
  },
  {
   "cell_type": "code",
   "execution_count": null,
   "id": "a586095b",
   "metadata": {},
   "outputs": [],
   "source": []
  }
 ],
 "metadata": {
  "kernelspec": {
   "display_name": "Python 3 (ipykernel)",
   "language": "python",
   "name": "python3"
  },
  "language_info": {
   "codemirror_mode": {
    "name": "ipython",
    "version": 3
   },
   "file_extension": ".py",
   "mimetype": "text/x-python",
   "name": "python",
   "nbconvert_exporter": "python",
   "pygments_lexer": "ipython3",
   "version": "3.13.5"
  }
 },
 "nbformat": 4,
 "nbformat_minor": 5
}
