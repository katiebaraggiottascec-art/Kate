{
 "cells": [
  {
   "cell_type": "markdown",
   "id": "f1501ed5-be86-4cb6-90e6-090d6d9ca387",
   "metadata": {},
   "source": [
    "# Simple GNSS data preprocessing and processing\n",
    "\n",
    "Gareth Funning, University of California, Riverside\n",
    "\n",
    "Once we have collected some GNSS data, you might want to process it. Before you do that, you will need to convert the data into a processable format, calculate some important metadata parameters, and edit the datafile headers with useful information. This can take longer than processing the data sometimes!\n",
    "\n",
    "To turn our data files into positions, we can make use of the NGS's spiffy, web-based OPUS processor. If you process several files spanning multiple years, you can turn that into a velocity! And then you really are getting somewhere! "
   ]
  },
  {
   "cell_type": "markdown",
   "id": "a27a4b0d",
   "metadata": {},
   "source": [
    "## 0. Dependencies\n",
    "\n",
    "Jupyter needs these to function! Make sure you're in the right conda environment!"
   ]
  },
  {
   "cell_type": "code",
   "execution_count": 1,
   "id": "57a09282",
   "metadata": {},
   "outputs": [],
   "source": [
    "from os.path import splitext\n",
    "import numpy as np"
   ]
  },
  {
   "cell_type": "markdown",
   "id": "9d2fe25c",
   "metadata": {},
   "source": [
    "## 1. Pre-processing your GNSS data\n",
    "\n",
    "The first thing to do is to convert your data to something we can process! The data we collect tend to be recorded in proprietary binary formats, and so we will want to convert them to something more readable $-$ the RINEX format.\n",
    "\n",
    "\n",
    "### 1.1 RINEX\n",
    "\n",
    "The **R**eceiver **IN**dependent **E**xchange **F**ormat (RINEX for short) is an ASCII-based format used for archiving and processing GNSS data. There are different versions of the format for different applications $-$ navigational data, meterorological data, ionosphere data $-$ but today we will use the version for GNSS *observations*.\n",
    "\n",
    "Included with this notebook are several past versions of RINEX files for GNSS data collected at site VERS (Versity), the NGS benchmark on the UCR campus. We will use these later on to produce a deformation time series for the site. For now, we will use them to examine the file format and contents.\n",
    "\n",
    "First, let's look at the files we have, and the naming convention."
   ]
  },
  {
   "cell_type": "code",
   "execution_count": 2,
   "id": "36a21d6d",
   "metadata": {},
   "outputs": [
    {
     "name": "stdout",
     "output_type": "stream",
     "text": [
      "-rw-rw-r-- 1 karlee karlee  477281 Jul 10 11:22 test.o\r\n",
      "-rw-rw-r-- 1 karlee karlee  539076 Jan 23 12:42 vers1461.10o\r\n",
      "-rw-rw-r-- 1 karlee karlee  967856 Jan 23 12:42 vers1490.14o\r\n",
      "-rw-rw-r-- 1 karlee karlee 3107250 Jan 23 12:42 vers1870.15o\r\n",
      "-rw-rw-r-- 1 karlee karlee 2399192 Jan 23 15:29 vers1990.24o\r\n",
      "-rw-rw-r-- 1 karlee karlee 3435300 Jan 23 12:42 vers3250.11o\r\n",
      "-rw-rw-r-- 1 karlee karlee  560493 Jan 23 16:53 vrs10210.25o\r\n",
      "-rw-rw-r-- 1 karlee karlee    2237 Jan 23 16:53 vrs10220.25o\r\n"
     ]
    }
   ],
   "source": [
    "# this will list all files with filenames ending with an 'o' (GNSS observation files)\n",
    "\n",
    "!ls -l *o"
   ]
  },
  {
   "cell_type": "markdown",
   "id": "cbb13f4e",
   "metadata": {},
   "source": [
    "These files all follow the same naming convention:\n",
    "\n",
    "SSSSDDDN.YYo\n",
    "\n",
    "- SSSS $-$ four digit site code\n",
    "- DDD $-$ day of year of start of data acquisition\n",
    "- N $-$ number of the acquisition on that GNSS receiver on that day (counting from zero)\n",
    "- YY $-$ year\n",
    "- o $-$ o is for 'observation'\n",
    "\n",
    "Let's look at the contents of one of these files:"
   ]
  },
  {
   "cell_type": "code",
   "execution_count": 2,
   "id": "bfedfb81",
   "metadata": {
    "scrolled": true
   },
   "outputs": [],
   "source": [
    "!chmod +x runpkr00\n",
    "#run if runpkr is not working"
   ]
  },
  {
   "cell_type": "markdown",
   "id": "78b84884",
   "metadata": {},
   "source": [
    "The file has two parts: \n",
    "1. A header of 21 lines containing important metadata, such as the site code, who collected the data, the receiver and antenna type (and their serial numbers), the approximate site location, the antenna height and details of the data (the start and end times, sample interval, and which observations are recorded $-$ such as which carrier phases and which pseudoranges).\n",
    "2. Data, with time and date stamps for each epoch, as well as the details of the observables for each visible satellite.\n",
    "\n",
    "A RINEX data file containing this information is processable using multiple different processing softwares. But how do we make one?"
   ]
  },
  {
   "cell_type": "markdown",
   "id": "a0d11536",
   "metadata": {},
   "source": [
    "### 1.2 Converting RAW data to RINEX\n",
    "\n",
    "The first step will be to pull the data from the GNSS receiver $-$ and how you do this depends a lot on the receiver type. Some receivers (such as the Trimble NetRS and NetR9, and the Septentrio PolaRx5) log data to internal storage, and require you to connect to a web server on the receiver to access the data. Others, such as the Trimble R7 and Topcon GB-1000, log data to a CompactFlash card within the receiver, which can then be pulled out and read with a card reader at the end of the survey (which is usually much easier to do, especially when out in the field).\n",
    "\n",
    "Assuming we are using a Trimble R7, which are the majority of the GNSS receivers I have access to at UCR, then the data will be recorded to the receiver in a proprietary, binary format ('t01' format). I have included one of these files as well, collected in July 2024 at VERS, to practice with. Let's have a look!"
   ]
  },
  {
   "cell_type": "code",
   "execution_count": 3,
   "id": "e8e17f60",
   "metadata": {},
   "outputs": [
    {
     "name": "stdout",
     "output_type": "stream",
     "text": [
      "-rw-r--r-- 1 katie katie 2754 Dec 20  2005 35223540.t01\n"
     ]
    }
   ],
   "source": [
    "# lets look at all the files that end with .t01\n",
    "!ls -l *.t01"
   ]
  },
  {
   "cell_type": "markdown",
   "id": "8f1a242c",
   "metadata": {},
   "source": [
    "EarthScope (UNAVCO, as-was) is a good source of information on how to convert these proprietary data files to RINEX. For the Trimble data we are using, it is a two step process $-$ first convert the 't01' file to a 'dat' file, and then convert the 'dat' file to RINEX. \n",
    "\n",
    "The conversion program we need for the first step is called runpkr00, and it is a compiled binary executable that only runs on certain hardware (Linux PCs, Windows PCs, Intel Macs, Solaris Unix machines).\n",
    "\n",
    "The runpkr00 executables can be downloaded from this legacy UNAVCO Knowledge Base webpage: https://kb.unavco.org/article/trimble-runpkr00-latest-versions-744.html\n",
    "\n",
    "You should download the version that you need (version 5.40 is good enough for our purposes). If you are running this on Linux (or emulated Linux through WSL2), make sure you copy the `runpkr00` exectuable to the directory containing this notebook and the t01 file."
   ]
  },
  {
   "cell_type": "code",
   "execution_count": 4,
   "id": "d8a390db",
   "metadata": {},
   "outputs": [
    {
     "name": "stdout",
     "output_type": "stream",
     "text": [
      "-rwxr-xr-x 1 katie katie 1897487 Aug 18 18:22 runpkr00\n"
     ]
    }
   ],
   "source": [
    "# run the process for the raw data\n",
    "!ls -l runpkr00"
   ]
  },
  {
   "cell_type": "markdown",
   "id": "8dc29e66",
   "metadata": {},
   "source": [
    "In order to convert the file, we need to run `runpkr00` on the data file. Consulting the [Knowledge Base](https://kb.unavco.org/article/trimble-runpkr00-latest-versions-744.html) again, the correct syntax is something like: `runpkr00 -g -d filename.T01`\n",
    "\n",
    "So let's do that..."
   ]
  },
  {
   "cell_type": "code",
   "execution_count": 5,
   "id": "6e4aa0b2",
   "metadata": {},
   "outputs": [
    {
     "name": "stdout",
     "output_type": "stream",
     "text": [
      "./runpkr00 -g -d 35223540.t01\n"
     ]
    }
   ],
   "source": [
    "# insert YOUR FILE that you would like to process\n",
    "rawfile='35223540.t01'  # if you have your own file, feel free to substitute it here\n",
    "\n",
    "print('./runpkr00 -g -d ' + rawfile)  # this is the command you are running\n",
    "\n",
    "!./runpkr00 -g -d $rawfile"
   ]
  },
  {
   "cell_type": "markdown",
   "id": "61b43566",
   "metadata": {},
   "source": [
    "What did that do? Let's look for 'dat' files in the directory:"
   ]
  },
  {
   "cell_type": "code",
   "execution_count": 6,
   "id": "f6281357",
   "metadata": {},
   "outputs": [
    {
     "name": "stdout",
     "output_type": "stream",
     "text": [
      "-rw-rw-r-- 1 katie katie 4904 Aug 19 19:35 35223540.dat\n"
     ]
    }
   ],
   "source": [
    "# lets see the .dat file it should have just created\n",
    "!ls -l *.dat"
   ]
  },
  {
   "cell_type": "markdown",
   "id": "32e2b12d",
   "metadata": {},
   "source": [
    "And now we should have a 'dat' file!\n",
    "\n",
    "Next we need to convert this to a 'proper' RINEX format, and for that we can use the long-lived (and no longer supported) `teqc` converter, a legacy UNAVCO code. teqc also has a legacy website: https://www.unavco.org/software/data-processing/teqc/teqc.html\n",
    "\n",
    "Note again that not all computer platforms are supported, but Linux PCs are. If the command does not work on your machine, try using it on a \n",
    "\n",
    "Once again, get the version of the executable that runs on your own machine, and copy it to your working directory.\n",
    "\n",
    "The syntax for running `teqc` is pretty straightforward, something like: `teqc filename.dat > rinexfile.o`\n",
    "\n",
    "We can try that..."
   ]
  },
  {
   "cell_type": "code",
   "execution_count": 7,
   "id": "44fec17e-1357-4081-921d-2f320e807aad",
   "metadata": {},
   "outputs": [],
   "source": [
    "!chmod +x teqc\n"
   ]
  },
  {
   "cell_type": "code",
   "execution_count": 8,
   "id": "1e325235",
   "metadata": {},
   "outputs": [
    {
     "name": "stdout",
     "output_type": "stream",
     "text": [
      "./teqc 35223540.dat > test.o\n",
      "? Error ? translation of '35223540.dat' may have started with GPS week 2380 rather than 1354\n",
      "\t(try using '-week 1354' option)\n",
      "! Notice ! '35223540.dat': GPS week initially set= 1354\n"
     ]
    }
   ],
   "source": [
    "# some data format futzing\n",
    "# this is just practice for the wrong gps week -- use the website to figure out the real gps week\n",
    "filename, extension = splitext(rawfile)\n",
    "datfile = filename+'.dat'\n",
    "\n",
    "# and let's run it\n",
    "print('./teqc ' + datfile + ' > test.o')\n",
    "\n",
    "!./teqc $datfile > test.o"
   ]
  },
  {
   "cell_type": "markdown",
   "id": "3ee3e12d",
   "metadata": {},
   "source": [
    "We get an error message! Something about a possibly incorrect 'GPS week'! What does that mean?\n",
    "\n",
    "Well, GPS week is a charming and fairly arcane way of measuring the passing of time. It refers to the number of weeks since the first GPS epoch $-$ which was midnight on January 6, 1980, UTC time. GPS week is transmitted with the GPS signal as a 10 bit number, meaning that every $2^{10}$ weeks (1024 weeks), the counter resets, and the GPS receiver gets confused about the date.\n",
    "\n",
    "This is the GPS equivalent of the Y2K bug, and if anything it is a more irritating problem as it is: 1) less well known, 2) happens more frequently (1024 weeks is 19.6 years), and 3) not really fixed. It has caused issues, particularly with electronic hardware that uses GPS for timing $-$ see https://en.wikipedia.org/wiki/GPS_week_number_rollover for some examples, and a description of the problem.\n",
    "\n",
    "If we look at the dates in the RINEX file we just made, we can see it might have some issues:"
   ]
  },
  {
   "cell_type": "code",
   "execution_count": 9,
   "id": "4f01894b",
   "metadata": {},
   "outputs": [
    {
     "name": "stdout",
     "output_type": "stream",
     "text": [
      "     2.11           OBSERVATION DATA    G (GPS)             RINEX VERSION / TYPE\n",
      "teqc  2019Feb25                         20250820 02:35:38UTCPGM / RUN BY / DATE\n",
      "Linux 2.6.32-573.12.1.x86_64|x86_64|gcc -static|Linux 64|=+ COMMENT\n",
      "BIT 2 OF LLI FLAGS DATA COLLECTED UNDER A/S CONDITION       COMMENT\n",
      "35223540                                                    MARKER NAME\n",
      "3540                                                        MARKER NUMBER\n",
      "-Unknown-           -Unknown-                               OBSERVER / AGENCY\n",
      "0220413522          TRIMBLE R7          2.32                REC # / TYPE / VERS\n",
      "-Unknown-           TRM39105.00     NONE                    ANT # / TYPE\n",
      " -2416658.8703 -4522298.0695  3782898.3091                  APPROX POSITION XYZ\n",
      "        0.0000        0.0000        0.0000                  ANTENNA: DELTA H/E/N\n",
      "     1     1                                                WAVELENGTH FACT L1/2\n",
      "     7    L1    L2    C1    P1    P2    S1    S2            # / TYPES OF OBSERV\n",
      "    18                                                      LEAP SECONDS\n",
      " SNR is mapped to RINEX snr flag value [0-9]                COMMENT\n",
      "  L1 & L2: min(max(int(snr_dBHz/6), 0), 9)                  COMMENT\n",
      "  2005    12    20    22     2   15.0000000     GPS         TIME OF FIRST OBS\n",
      "                                                            END OF HEADER\n",
      " 05 12 20 22  2 15.0000000  0  6G02G01G31G28G10G03\n",
      "     37899.51658     21268.34056  21515102.0704                   21515097.1954\n",
      "        48.0004         39.7504\n",
      "    -46950.53957    -30056.15256  21328316.3444                   21328314.1844\n",
      "        47.5004         36.2504\n",
      "    -66098.08658    -42234.05957  20605932.4844                   20605928.7194\n",
      "        48.5004         47.5004\n",
      "     28771.71157     15104.94156  20981232.5394                   20981229.6334\n",
      "        47.7504         39.0004\n",
      "     98555.26257     66059.63356  23462045.6804                   23462048.8364\n",
      "        42.7504         36.5004\n",
      "   -140078.08257    -70875.35256  22617737.3984                   22617737.9104\n",
      "        42.5004         39.5004\n",
      " 05 12 20 22  2 30.0000000  0  6G02G01G31G28G10G03\n",
      "     51390.48848     31780.77346  21517669.5944                   21517664.8164\n",
      "        48.2504         40.0004\n",
      "    -66163.10947    -45026.98846  21324660.1024                   21324657.9454\n",
      "        46.7504         37.5004\n",
      "    -93114.26648    -63285.60547  20600791.2584                   20600787.5554\n",
      "        49.0004         47.5004\n",
      "     37031.64547     21541.25046  20982804.3914                   20982800.9964\n",
      "        47.5004         38.2504\n"
     ]
    }
   ],
   "source": [
    "# lets look at the file you just created\n",
    "!head -40 test.o"
   ]
  },
  {
   "cell_type": "markdown",
   "id": "8803bbb1",
   "metadata": {},
   "source": [
    "The date/time strings are something like `04 12  1  1 18 30.0000000` $-$ 2004/12/01 at 01:18:30. Not July 2024. Indeed, if you compare the dates, they are wrong by just under 20 years. (That should sound suspicious...)\n",
    "\n",
    "We can consult the [log sheet for the data](VERS.pdf) to see what the actual acquisition date was.\n",
    "\n",
    "We can also use a [GPS week date converter](http://sopac-old.ucsd.edu/convertDate.shtml) to figure out what the GPS week actually was when the data were acquired."
   ]
  },
  {
   "cell_type": "code",
   "execution_count": 10,
   "id": "cdca999d",
   "metadata": {},
   "outputs": [
    {
     "name": "stdout",
     "output_type": "stream",
     "text": [
      "./teqc -week 2378 35223540.dat > test.o\n",
      "! Notice ! NAVSTAR GPS SV G32 in '35223540.dat': ToC 2005 Dec 20 23:59:44.000 not in 2025 Aug  5 22:02:15.000 to 6075 Dec 31 23:59:59.999 by +/- 140 min\n"
     ]
    }
   ],
   "source": [
    "# what was the GPS week?\n",
    "# set this to the correct gps week\n",
    "gpsweek=2378\n",
    "\n",
    "# let's try again!\n",
    "print('./teqc -week {0:d} {1:s} > test.o'.format(gpsweek,datfile))\n",
    "!./teqc -week $gpsweek $datfile > test.o\n"
   ]
  },
  {
   "cell_type": "markdown",
   "id": "efb98a6a",
   "metadata": {},
   "source": [
    "Lots of complaining this time, but did it make a difference? We can look at the file again to see..."
   ]
  },
  {
   "cell_type": "code",
   "execution_count": 11,
   "id": "05e07785",
   "metadata": {},
   "outputs": [
    {
     "name": "stdout",
     "output_type": "stream",
     "text": [
      "     2.11           OBSERVATION DATA    G (GPS)             RINEX VERSION / TYPE\n",
      "teqc  2019Feb25                         20250820 02:35:43UTCPGM / RUN BY / DATE\n",
      "Linux 2.6.32-573.12.1.x86_64|x86_64|gcc -static|Linux 64|=+ COMMENT\n",
      "BIT 2 OF LLI FLAGS DATA COLLECTED UNDER A/S CONDITION       COMMENT\n",
      "35223540                                                    MARKER NAME\n",
      "3540                                                        MARKER NUMBER\n",
      "-Unknown-           -Unknown-                               OBSERVER / AGENCY\n",
      "0220413522          TRIMBLE R7          2.32                REC # / TYPE / VERS\n",
      "-Unknown-           TRM39105.00     NONE                    ANT # / TYPE\n",
      " -2416658.8703 -4522298.0695  3782898.3091                  APPROX POSITION XYZ\n",
      "        0.0000        0.0000        0.0000                  ANTENNA: DELTA H/E/N\n",
      "     1     1                                                WAVELENGTH FACT L1/2\n",
      "     7    L1    L2    C1    P1    P2    S1    S2            # / TYPES OF OBSERV\n",
      "    18                                                      LEAP SECONDS\n",
      " SNR is mapped to RINEX snr flag value [0-9]                COMMENT\n",
      "  L1 & L2: min(max(int(snr_dBHz/6), 0), 9)                  COMMENT\n",
      "  2025     8     5    22     2   15.0000000     GPS         TIME OF FIRST OBS\n",
      "                                                            END OF HEADER\n",
      " 25  8  5 22  2 15.0000000  0  6G02G01G31G28G10G03\n",
      "     37899.51658     21268.34056  21515102.0704                   21515097.1954\n",
      "        48.0004         39.7504\n",
      "    -46950.53957    -30056.15256  21328316.3444                   21328314.1844\n",
      "        47.5004         36.2504\n",
      "    -66098.08658    -42234.05957  20605932.4844                   20605928.7194\n",
      "        48.5004         47.5004\n",
      "     28771.71157     15104.94156  20981232.5394                   20981229.6334\n",
      "        47.7504         39.0004\n",
      "     98555.26257     66059.63356  23462045.6804                   23462048.8364\n",
      "        42.7504         36.5004\n",
      "   -140078.08257    -70875.35256  22617737.3984                   22617737.9104\n",
      "        42.5004         39.5004\n",
      " 25  8  5 22  2 30.0000000  0  6G02G01G31G28G10G03\n",
      "     51390.48848     31780.77346  21517669.5944                   21517664.8164\n",
      "        48.2504         40.0004\n",
      "    -66163.10947    -45026.98846  21324660.1024                   21324657.9454\n",
      "        46.7504         37.5004\n",
      "    -93114.26648    -63285.60547  20600791.2584                   20600787.5554\n",
      "        49.0004         47.5004\n",
      "     37031.64547     21541.25046  20982804.3914                   20982800.9964\n",
      "        47.5004         38.2504\n"
     ]
    }
   ],
   "source": [
    "# now the data should be right! yay\n",
    "!head -40 test.o\n",
    "\n"
   ]
  },
  {
   "cell_type": "markdown",
   "id": "22cde851",
   "metadata": {},
   "source": [
    "Those dates look a lot more plausible, so it looks like the data were interpreted correctly this time. We have a RINEX file! But we are still missing a lot of important details $-$ such as the metadata for the acquisition. So let's get on with that..."
   ]
  },
  {
   "cell_type": "markdown",
   "id": "e576fb8b",
   "metadata": {},
   "source": [
    "### 1.3 Estimating antenna height from slant height\n",
    "\n",
    "When collecting GNSS data, some of the key metadata we collect are the heights of the antennas during data collection. In a typical tripod setup, using GNSS antennas with ground planes, these will usually be slant heights from the station marker to the base of the ground plane, measured using a measuring stick.  \n",
    "\n",
    "Our protocol is to make three measurements of slant height at different parts of the antenna at equipment set-up and three more at take-down. Assuming that the equipment is not significantly disturbed during the data take, the average of these six measurements is a reasonable estimate of the slant height of the antenna during that data take. But is slant height what we need for data processing? *What information on height is included in the RINEX file?*\n",
    "\n",
    "Each GNSS antenna has a 'reference point' $-$ the point to which all measurements are referenced. For common antennas like those in the Trimble Zephyr Geodetic family, this is typically the base of the antenna. Note that this is not what we measure when setting up our equipment...\n",
    "\n",
    "![diagram of antenna height](./antenna_height.png)\n",
    "\n",
    "So how do we turn our slant height measurements to the base of an antenna ground plane into a measurement of the vertical height of the antenna reference point? Pythagoras, with some light subtraction...\n",
    "\n",
    "If $h$ is the desired vertical height of the antenna reference point above the benchmark, $R$ is the measured average slant height to the base of the antenna ground plane, $r$ is the antenna radius and $t$ is the vertical distance between the base of the ground plane and the antenna reference point, then...\n",
    "\n",
    "$$h = \\sqrt{(R^2-r^2)}-t$$\n",
    "\n",
    "Seems straightforward! Where do we get the information for $r$ and $t$, I hear you ask? Well, there are a couple of options: 1) the details are included on a sticker attached to the antenna, and 2) if you know the antenna manufacturer, type and part number you can look it up at the NGS's data repository on GNSS antennas, here: https://www.ngs.noaa.gov/ANTCAL/ (look under \"Browse Antenna Information\")"
   ]
  },
  {
   "cell_type": "code",
   "execution_count": 3,
   "id": "96d095db",
   "metadata": {},
   "outputs": [
    {
     "ename": "NameError",
     "evalue": "name 'np' is not defined",
     "output_type": "error",
     "traceback": [
      "\u001b[31m---------------------------------------------------------------------------\u001b[39m",
      "\u001b[31mNameError\u001b[39m                                 Traceback (most recent call last)",
      "\u001b[36mCell\u001b[39m\u001b[36m \u001b[39m\u001b[32mIn[3]\u001b[39m\u001b[32m, line 4\u001b[39m\n\u001b[32m      1\u001b[39m \u001b[38;5;66;03m# so let's calculate the height, then!\u001b[39;00m\n\u001b[32m      2\u001b[39m \n\u001b[32m      3\u001b[39m \u001b[38;5;66;03m# pre-survey slant height\u001b[39;00m\n\u001b[32m----> \u001b[39m\u001b[32m4\u001b[39m slant_height_pre=\u001b[43mnp\u001b[49m.mean([\u001b[32m98.00\u001b[39m,\u001b[32m98.00\u001b[39m,\u001b[32m98.05\u001b[39m])/\u001b[32m100\u001b[39m  \u001b[38;5;66;03m# include all three measurements here \u001b[39;00m\n\u001b[32m      5\u001b[39m \u001b[38;5;66;03m# post-survey slant height\u001b[39;00m\n\u001b[32m      6\u001b[39m slant_height_post=np.mean([\u001b[32m97.90\u001b[39m,\u001b[32m98.00\u001b[39m,\u001b[32m98.00\u001b[39m])/\u001b[32m100\u001b[39m  \u001b[38;5;66;03m# include all three measurements here \u001b[39;00m\n",
      "\u001b[31mNameError\u001b[39m: name 'np' is not defined"
     ]
    }
   ],
   "source": [
    "# Skipping slant height and antenna height calculations\n",
    "# No slant height or antenna reference height data is available for this survey.\n",
    "# Therefore, antenna height will not be included in the TEQC metadata output.\n",
    "\n",
    "# This section is intentionally left blank to avoid introducing incorrect values.\n"
   ]
  },
  {
   "cell_type": "markdown",
   "id": "c66a1d00",
   "metadata": {},
   "source": [
    "### 1.4 Updating RINEX metadata with teqc\n",
    "\n",
    "teqc also allows you to edit the metadata of your RINEX file, which, if you look at the header of our recently converted file, is very necessary! You can look at the manual for more details:\n",
    "https://www.unavco.org/software/data-processing/teqc/doc/UNAVCO_Teqc_Tutorial.pdf \n",
    "\n",
    "Or, you can run `teqc +help` and get a very long list! \n",
    "\n",
    "Some key options we might want to use:\n",
    "\n",
    "* -O.at \\<antenna type\\> $-$ give the NGS antenna code here\n",
    "* -O.an \\<antenna number\\> $-$ give the antenna serial number here\n",
    "* -O.mo \\<site code\\> $-$ give the four-character benchmark code here\n",
    "* -O.mn \\<monument number\\> $-$ if you know the benchmark number, give it here (else give '' to blank it out)\n",
    "* -O.pe \\<h e n\\> $-$ give the antenna height (h), plus east and north offsets (0 0) here\n",
    "* -O.o \\<operators\\> $-$ give the names of the people who collected this data\n",
    "* -O.ag \\<agency\\> $-$ give the name of the agency that collected this data (UCR?)\n",
    "* -O.r \\<runner of teqc\\> $-$ give your name here, since you are running teqc!\n",
    "* -tbin 1d $-$ if necessary, divide your data into daily files\n",
    "\n",
    "\n",
    "To run this 'editing' mode of teqc, the syntax is:\n",
    "`teqc <options> <site_code> input_rinex`"
   ]
  },
  {
   "cell_type": "code",
   "execution_count": 12,
   "id": "3e17141a",
   "metadata": {},
   "outputs": [
    {
     "name": "stdout",
     "output_type": "stream",
     "text": [
      "./teqc -O.at BAMA -O.an TRM57971.00 -O.mo 1441045101 -O.ag 'University of California, Riverside' -O.o 'K Rivera' -O.r 'K Rivera' -O.t bin -Id test.0\n"
     ]
    }
   ],
   "source": [
    "# set up teqc to run with all of the options\n",
    "# this will rename everything to have the proper header!!\n",
    "\n",
    "# site information (4 character code)\n",
    "site_code = \"BAMA\"\n",
    "\n",
    "# operator information (from the logsheet)\n",
    "operator_names = \"K Baraggiotta\"\n",
    "operator_inst = \"University of California, Riverside\"\n",
    "my_name = \"K Rivera\"\n",
    "\n",
    "# antenna information (again, from the logsheet)\n",
    "antenna_type = \"TRM57971.00\"\n",
    "antenna_sn = \"1441045101\"\n",
    "\n",
    "# print out the command in case you need to run it somewhere else\n",
    "option_str = '-O.at {0:s} -O.an {1:s} -O.mo {2:s} -O.ag \\'{3:s}\\' -O.o \\'{4:s}\\' -O.r \\'{5:s}\\' -O.t bin -Id {6:s}'.format(\n",
    "    site_code,\n",
    "    antenna_type,\n",
    "    antenna_sn,\n",
    "    operator_inst,\n",
    "    my_name,\n",
    "    my_name,\n",
    "    \"test.0\"\n",
    ")\n",
    "\n",
    "print(\"./teqc {0:s}\".format(option_str))\n"
   ]
  },
  {
   "cell_type": "markdown",
   "id": "5426eeb7",
   "metadata": {},
   "source": [
    "And if all went well, you should have a new, and properly named file, based on the site code you gave! Let's have a look at it!"
   ]
  },
  {
   "cell_type": "code",
   "execution_count": 13,
   "id": "922f5638",
   "metadata": {},
   "outputs": [
    {
     "name": "stdout",
     "output_type": "stream",
     "text": [
      "test.o\n"
     ]
    }
   ],
   "source": [
    "!ls *o"
   ]
  },
  {
   "cell_type": "code",
   "execution_count": 14,
   "id": "6f9c7819",
   "metadata": {},
   "outputs": [
    {
     "name": "stdout",
     "output_type": "stream",
     "text": [
      "     2.11           OBSERVATION DATA    G (GPS)             RINEX VERSION / TYPE\n",
      "teqc  2019Feb25                         20250820 02:35:43UTCPGM / RUN BY / DATE\n",
      "Linux 2.6.32-573.12.1.x86_64|x86_64|gcc -static|Linux 64|=+ COMMENT\n",
      "BIT 2 OF LLI FLAGS DATA COLLECTED UNDER A/S CONDITION       COMMENT\n",
      "35223540                                                    MARKER NAME\n",
      "3540                                                        MARKER NUMBER\n",
      "-Unknown-           -Unknown-                               OBSERVER / AGENCY\n",
      "0220413522          TRIMBLE R7          2.32                REC # / TYPE / VERS\n",
      "-Unknown-           TRM39105.00     NONE                    ANT # / TYPE\n",
      " -2416658.8703 -4522298.0695  3782898.3091                  APPROX POSITION XYZ\n",
      "        0.0000        0.0000        0.0000                  ANTENNA: DELTA H/E/N\n",
      "     1     1                                                WAVELENGTH FACT L1/2\n",
      "     7    L1    L2    C1    P1    P2    S1    S2            # / TYPES OF OBSERV\n",
      "    18                                                      LEAP SECONDS\n",
      " SNR is mapped to RINEX snr flag value [0-9]                COMMENT\n",
      "  L1 & L2: min(max(int(snr_dBHz/6), 0), 9)                  COMMENT\n",
      "  2025     8     5    22     2   15.0000000     GPS         TIME OF FIRST OBS\n",
      "                                                            END OF HEADER\n",
      " 25  8  5 22  2 15.0000000  0  6G02G01G31G28G10G03\n",
      "     37899.51658     21268.34056  21515102.0704                   21515097.1954\n",
      "        48.0004         39.7504\n",
      "    -46950.53957    -30056.15256  21328316.3444                   21328314.1844\n",
      "        47.5004         36.2504\n",
      "    -66098.08658    -42234.05957  20605932.4844                   20605928.7194\n",
      "        48.5004         47.5004\n",
      "     28771.71157     15104.94156  20981232.5394                   20981229.6334\n",
      "        47.7504         39.0004\n",
      "     98555.26257     66059.63356  23462045.6804                   23462048.8364\n",
      "        42.7504         36.5004\n",
      "   -140078.08257    -70875.35256  22617737.3984                   22617737.9104\n",
      "        42.5004         39.5004\n",
      " 25  8  5 22  2 30.0000000  0  6G02G01G31G28G10G03\n",
      "     51390.48848     31780.77346  21517669.5944                   21517664.8164\n",
      "        48.2504         40.0004\n",
      "    -66163.10947    -45026.98846  21324660.1024                   21324657.9454\n",
      "        46.7504         37.5004\n",
      "    -93114.26648    -63285.60547  20600791.2584                   20600787.5554\n",
      "        49.0004         47.5004\n",
      "     37031.64547     21541.25046  20982804.3914                   20982800.9964\n",
      "        47.5004         38.2504\n"
     ]
    }
   ],
   "source": [
    "!head -40 test.o"
   ]
  },
  {
   "cell_type": "markdown",
   "id": "b32589c7",
   "metadata": {},
   "source": [
    "## 2. Prep your own data now!\n",
    "\n",
    "If you have collected your own data, now is a good opportunity to prepare it, using all of the steps $-$ extracting the file from the receiver, converting it to dat format, converting that to RINEX format, using the survey log sheet information to estimate the vertical antenna height, and editing the RINEX headers with the necessary information.\n",
    "\n",
    "You may want to make copies of the various code snippets used above to make a comprehensive code cell that does all of the steps for you $-$ then you will have something you can use in the future!"
   ]
  },
  {
   "cell_type": "code",
   "execution_count": null,
   "id": "1e7f33ed",
   "metadata": {},
   "outputs": [],
   "source": [
    "# compile the code snippets here\n",
    "\n"
   ]
  },
  {
   "cell_type": "markdown",
   "id": "3b32edde",
   "metadata": {},
   "source": [
    "## 3. Processing your data with OPUS\n",
    "\n",
    "OPUS (**O**nline **P**osition **U**ser **S**ervice; https://www.ngs.noaa.gov/OPUS/) is a web-based tool operated by the National Geodetic Survey that processes RINEX format GNSS data that you upload to the website and return a position over email. It is remarkably easy to use, and even if you want to do your own 'proper' processing using a package like GAMIT/GLOBK or GIPSY later on, you will get some sense of the quality of your data from the output. \n",
    "\n",
    "OPUS processes data using a [double-difference approach](https://geodesy.noaa.gov/OPUS/about.jsp), choosing three nearby continuous GNSS stations to form double differences, and trilaterating a location relative to those stations. Its results are not as robust as you would obtain from forming a greater number of double-differences from more stations, and it does not work as well in areas where there is a low density of continuous stations, but for southern California, it still works well.\n",
    "\n",
    "To process data with OPUS, you will need three things:\n",
    "\n",
    "* a RINEX file with between 2 and 48 hours of data\n",
    "* the NGS antenna code for the antenna used (unfortunately it does not read that from the headers like some software will do)\n",
    "* the height of the antenna above the benchmark (unfortunately it does not read that either)\n",
    "\n",
    "Of course, for the data we have just preprocessed, we know all of those things. (And for properly prepared RINEX files from other people, the necessary information is in the headers.)\n",
    "\n",
    "So, to process your data, simply go to the website, select your RINEX file, select the antenna type, enter the vertical height, and enter your email address. You can optionally choose the format of the output (I usually choose the version that produces an XML file as well, as it may be easier to ingest the results later on).\n",
    "\n",
    "Then, hit the 'Upload to Static' button, and wait for the email. It should be done in a few minutes. "
   ]
  },
  {
   "cell_type": "markdown",
   "id": "52c745d1",
   "metadata": {},
   "source": [
    "## 4. Estimate the velocity at VERS\n",
    "\n",
    "Along with the July 2024 data, and the data you may have collected, I have provided RINEX files of other surveys of VERS. By processing these, and compiling date and east, north and up information, you can build a time series of the change in coordinate of the station, and use that to estimate a velocity for the site $-$ either by making a spreadsheet of the values, or by doing it in a more Pythonic way by building a Pandas table, and using an XML reader to populate it with your processed positions. \n",
    "\n",
    "(I can give some hints about how to do this in Python, if you are interested.)\n",
    "\n",
    "My suggested order of tasks: process all the data, plot the changes in position over time (maybe subtract the position of the earliest measurement from the others?), fit a trend line to each component and see what you get. Can you plot your estimated velocity on a map (e.g. using psvelo in GMT or pygmt.plot in PyGMT)? Does it make sense?"
   ]
  },
  {
   "cell_type": "code",
   "execution_count": null,
   "id": "a586095b",
   "metadata": {},
   "outputs": [],
   "source": []
  }
 ],
 "metadata": {
  "kernelspec": {
   "display_name": "Python 3 (ipykernel)",
   "language": "python",
   "name": "python3"
  },
  "language_info": {
   "codemirror_mode": {
    "name": "ipython",
    "version": 3
   },
   "file_extension": ".py",
   "mimetype": "text/x-python",
   "name": "python",
   "nbconvert_exporter": "python",
   "pygments_lexer": "ipython3",
   "version": "3.13.5"
  }
 },
 "nbformat": 4,
 "nbformat_minor": 5
}
