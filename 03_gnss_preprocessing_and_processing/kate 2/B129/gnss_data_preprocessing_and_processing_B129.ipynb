{
 "cells": [
  {
   "cell_type": "markdown",
   "id": "df7e20e7",
   "metadata": {},
   "source": [
    "# Simple GNSS data preprocessing and processing\n",
    "\n",
    "Gareth Funning, University of California, Riverside\n",
    "\n",
    "Once we have collected some GNSS data, you might want to process it. Before you do that, you will need to convert the data into a processable format, calculate some important metadata parameters, and edit the datafile headers with useful information. This can take longer than processing the data sometimes!\n",
    "\n",
    "To turn our data files into positions, we can make use of the NGS's spiffy, web-based OPUS processor. If you process several files spanning multiple years, you can turn that into a velocity! And then you really are getting somewhere! "
   ]
  },
  {
   "cell_type": "markdown",
   "id": "a27a4b0d",
   "metadata": {},
   "source": [
    "## 0. Dependencies\n",
    "\n",
    "Jupyter needs these to function! Make sure you're in the right conda environment!"
   ]
  },
  {
   "cell_type": "code",
   "execution_count": 1,
   "id": "57a09282",
   "metadata": {},
   "outputs": [],
   "source": [
    "from os.path import splitext\n",
    "import numpy as np"
   ]
  },
  {
   "cell_type": "markdown",
   "id": "9d2fe25c",
   "metadata": {},
   "source": [
    "## 1. Pre-processing your GNSS data\n",
    "\n",
    "The first thing to do is to convert your data to something we can process! The data we collect tend to be recorded in proprietary binary formats, and so we will want to convert them to something more readable $-$ the RINEX format.\n",
    "\n",
    "\n",
    "### 1.1 RINEX\n",
    "\n",
    "The **R**eceiver **IN**dependent **E**xchange **F**ormat (RINEX for short) is an ASCII-based format used for archiving and processing GNSS data. There are different versions of the format for different applications $-$ navigational data, meterorological data, ionosphere data $-$ but today we will use the version for GNSS *observations*.\n",
    "\n",
    "Included with this notebook are several past versions of RINEX files for GNSS data collected at site VERS (Versity), the NGS benchmark on the UCR campus. We will use these later on to produce a deformation time series for the site. For now, we will use them to examine the file format and contents.\n",
    "\n",
    "First, let's look at the files we have, and the naming convention."
   ]
  },
  {
   "cell_type": "code",
   "execution_count": 2,
   "id": "36a21d6d",
   "metadata": {},
   "outputs": [
    {
     "name": "stdout",
     "output_type": "stream",
     "text": [
      "ls: cannot access '*o': No such file or directory\n"
     ]
    }
   ],
   "source": [
    "# this will list all files with filenames ending with an 'o' (GNSS observation files)\n",
    "\n",
    "!ls -l *o"
   ]
  },
  {
   "cell_type": "markdown",
   "id": "cbb13f4e",
   "metadata": {},
   "source": [
    "These files all follow the same naming convention:\n",
    "\n",
    "SSSSDDDN.YYo\n",
    "\n",
    "- SSSS $-$ four digit site code\n",
    "- DDD $-$ day of year of start of data acquisition\n",
    "- N $-$ number of the acquisition on that GNSS receiver on that day (counting from zero)\n",
    "- YY $-$ year\n",
    "- o $-$ o is for 'observation'\n",
    "\n",
    "Let's look at the contents of one of these files:"
   ]
  },
  {
   "cell_type": "code",
   "execution_count": 3,
   "id": "bfedfb81",
   "metadata": {
    "scrolled": true
   },
   "outputs": [
    {
     "name": "stdout",
     "output_type": "stream",
     "text": [
      "Y��\u0006A�ڹ$\u0018�j���\u0000�$ð:�^��q��x�=��\u001a4\u0018�KQ��Y�6Ԓ\u0005DC�  \u0019c\f",
      "4�\u001d",
      "���^���l\u0018f���\f",
      "4\u001a\f",
      "3`�CA���k�f� �۠���I$���c�,�N�H\u0006\u001a\u0012S(�\t~d\u0003^\n",
      "j�~(|\u0019CD6�i$�cv\f",
      "�V_`�e��A��~Ps�l`Q\n",
      "\u0017$�I'p+j�j\u001c",
      "�Y�{\u001e",
      "Ə8Ѫ�1��*��$�I$�u_�I*~��\u0018�L{���N",
      "�I\u0006��o�#sI;\u0006R�\u0005���گ\u0001x;\u000f�;\f",
      "C$\u001164\u000b",
      "�\u0012�=�Lc'`$�I$�k��\u0012a�\u001d",
      "c\u0015#nsV�YO�$�I$�I$�I$�I$�I$�I$�I$�I$�I$�I$�I$�I$�I$�I$�I$�I$�I$�I?��3<l�g3�I$�I$��\u0002��$�:�\u0018�dճ�P\u000e�I$�I$�I$�I$�I$�I$�I$�I$�I$�I$�I$�I$�I$�I$�I$�I$�I$�I$���s3���s>)$�I$�M�0/��I#��\u0001�\u0019mY!>�\u0016o���\u00103���\u0006�x�>Հ��\\o\u0014\f",
      "Z�\u00106\u000b",
      "3⌖���Q��\u000b",
      "�_Ə8Ѫ�1��=��I$�I\"��\u001f�IS�\"�\u0012I�dӒIؤ\"\\I\u0006���wv��N�\u001c",
      "�ϡ1^��T�{g\u0017�N¦�2\u0015/��LK���\"c'`w�4�2��g�i^�&jH�V��\u000f�,����2G.$����$��4�\n",
      "W0��s�1Q��$��߻�V�*Yd��\"�@[�I\u0006��I$�H�5u5\u0001h�N4�Fݟ\u0018�O\u0018�O\u001e",
      "�\u001c",
      "�I$�I����J�ܽ\u001c",
      "� �#[I$�)�8�M[=�A�q\"�h���\u0012x;�y�\f",
      "1RNW�\u000ea�QBĽ��\u00112EI�7b��4��kw�@�Ċ������=����D�7i&%u��J�+�'#\u001f�R--q$�0��I\u0006��I$���j�d\u001c",
      "CF*@Q��M\u0016o���6I$�I$�I$�I$�I$�I$�I$�I$�I$�I$�I$�I$�I$�I$�I$�I$��{Wd\u0006\u0019�\\���7p*\"$�I\u0017�Ձ�Є!m��m��x5lY�`s$�v/�I\"�M$�*N$�Lw�I'}rI �%$�\u001aAy$�u�I$�\n",
      "P�, \u001e",
      "�������o\u0019Lb=}��J�x�J R�o�4����?��c\u001a%!�P^;��\u001ac��G�3+|�q$��\u0018\u000e��� ���]ܾ�Ҽ�`��,0q$��k��d׬��n�F�g#��\u0006\u000e:\u0013\u001c",
      "I&��=�E��\u001b��`\t�AU���:\u0001�H�#\u0002XT⊦\u0019/\u001d",
      "Ґ�W`�}�\u0006g�d�sdcf{�\u0018��/\u001d",
      "����K�\u001e",
      "�,\u0018/�d�\u001apk6e��Yj�u��\n",
      "4Y�T*�T���ьh�c�{$�I$�(�A�$�=P�\u0005$���\u0019$��G\\I%N�T�7��v>�ȤHƈ�o��x�;\n",
      "�㸓\u0012���IS�k��i\"�GX?$��\u0018RI �rI$�f|�u5\u0001h�L��ƪ@X���4z1�\u0001�$�I$��X�$���Z�I\u0007��4�N\u0012I*u�)N�\u0018ȩ\u0006\u001c",
      "�iY�\u001c",
      "�ռef��v\u00156UEa�(�>%�~�\u0005'`\n",
      "���qh�Lf1��*4z1�\u001e",
      "�{\u000fd�I$�M��I$�뫾�����$�\u0005�$�j�eu�\u000eH�j\u0019���M�\u001fW��Y����<.F��R�����K猊��\t\u0013-\u00170�G{��0�U�/=�T���YƂ�w��Ľ�x�c'`�R�z��jԇ\u000b",
      "�2N�uS��ଗ��s\u001f\u001a�uĘ���T�v���`ʑ\u0018<�M�M��H4\\�I$�JI$�n��I\u0015-��~I\u0007���$��=�\u0012I�s�\u0017=� ʕ-�\u0003\u001f)\u0018�WV��\"�I;\u0015?xP�s�ab^�[�Iػ��o���'S��V�eJ��v;fl띪�\u0012�'�I�1�$�U��2A\\H�\u0016��$Q��\u0012I �rI$�l\u0000j�j\u001f�JII\u001a�\u0001cG�\u0018��Ǳr�I$�I7LĒI��rܤ�'�I'`3�I&��\u0005ԑ2EI�Lf�� �Rj��\u0018od���&;0��\u0001�^�\u0019��\u0015%\u0010\u0003/�.� \u0000��,�a̒*@Vw�R��\n",
      "�\u0002�\u0001o�$�\u0011\n",
      "sk����B^@�l\u001d",
      "�x�$4\u001d",
      "8�8�3���,\u001d",
      "��ٯ\u0002i\u00169�)|I$�5zÑ��ٍ@�'�\u001c",
      "���\"\u001c",
      "T�H�\f",
      "�ԇy�ʥl�\u000e�B��گ�\u00029�w.oc�Y�W\u001e",
      "\u000e��\u0000jBэ�\u001b���ʌ�\u000e\u001fW\u001b��\u0006M~k����B��\u0018-N=q��(6�f%)��U�R�]\u0014s\u0017\u001b����W�qO_q�\u001a�5m��8�uP31�1�ể�3��@z`烽\n",
      "��N\u000e\f",
      "٭�\u0019����&����I@3\u0000�p6\u0016�1�ْ��9\u0000«�G(�$��\u0005g0�\u0014\u000e~����7\"X>\u0006RmR���0�Q� �UZKm�,��j#�T�-�\u001c",
      "��\u0006�:���S�_���\u000f�\u0017���K�J\t���\u00031w�Q�\u0017��\t��%�c=۴\u0012~1B�6��-\u0001�B��a�[�ʑ�\f",
      "��o\u001a@\u000f1\u0019��%<���@y\u0002\u0000\u0006\u001c",
      "�*�\u0006�k<\u0012�a\u0019߭�H9\n",
      "�a�+\\�Qȯ=&*��\u0012�\u001fz\\�s$zqg�\u0003%�\u001b8ǰ�*�{�pW�Ω7���#nL�܀z�2\u0004��\u001d",
      "\u0007�'7yr���>���s)U`�2nc�rei����|�HM\u0002��a�e�c�\u0017�C�OqdA \u001d",
      "��?C#H�F� ̪\u0019��F�G\u001c",
      "o\u0019�{�l\u001a�*�\u0003��o�{o|W\u0005\u0000s*�\u0014�4�o)���\u0006\u0005eܕ\u0015\f",
      "E��&]����'&�eQ���\u000e;�\u001b��\u000f�\u0001\u0001̪\u000b",
      "�+�\t�\n",
      "oVʠ�G�\u0019Y(r\u0003PAr�\\����ː�\u00187d�\u0002\u0016�fCԥ�\u0005C�\u0012�4\t\u001c",
      "�|�v|\u001f }T\u00024���`�Y��6O*�cb�+�\n",
      "��<�5G\u0004=��_\u0019�.ɭTs�\u0000��z�ȰOw\u001d",
      "QGz��\u0019�É4jǗ�Ѓq��b37��aa��Xڷ�p\u000ef��\u001a1��\u000e�\u001a�\u0011�\u000eI��W|�yn�ة���33y�|�;'�k�&�E�o\u001b�#,5�ꁐ\u0015����̮�P5�σ�;����x��{���\u0007<M\u00187�{�4>��\u001d",
      "�\u0003��ESk>�=��l�^o�\u0001�t =\u0006��(���Ew\u0007&0;��K\u0014j�\u0018\u001a��\u0013\u0001N�\u000e\t\u001f�� zN�-�x\u0006=\u0003@�[�ºeRcs�I�C\"2C`�F[:9\u0001�(̪\u001f���ܙ�\t�}��*���\u0019Q޲\u001a��\u0001̪;Z��\u00194c\u0017��i\u0010fU\f",
      "\u0003�s]�\u001b�N�\u001c",
      "\u0000s*�)$y�p�\u0001v\u0005\u0001̪<L5�\"B\n",
      "�f�㥦�( \u0007���؛�\u0005�\u0007l��e�T�䌟�p=��Њ�o����N\u0000���{����*��ဣ��űf\u001d",
      "�̒Iؿ�$��4�H�8�I1��$���$����Hi\u0005�M��$��)$���?$�r���:\u0019lϡ$�\u0010\u001aM[\u0016a�\u001c",
      "�$����H�SI$���$�\u001d",
      "�I�\\�H>\tI$��^I$�$�v\u0000�N�\u0010��I�r���e�>��HA�j�<C<C`\u001f~���\u0003]�vև:�F�G�$R�48B�'��4\u0019ݮ����D5����q�&��M�Ox\u0004\n",
      "�\u0003tV�/\u0007M\u0017n�s'���u�:�e����U.��e\u001e",
      "��5��i���:M��\u0015\u0013\u0019��}@�(B(��К(\u001bT�94����&ճ�\u001d",
      "��]\u0018�F�޶`r\u0002g�e�\n",
      "\u0005`��8\u0004X<)��&ٗ4һ^c���מ�\n",
      "�.i\u0012�^�\u000b",
      "\u0004p�n\u0012�̹�����V��n\n",
      "1Feͨ�\u0016\u0002\n",
      "!��d�}�Z�9\u0001癕E<��h��^S�fJ8ʂ��>\u0007�0x\f",
      "��*-��T\u0005-+�J8ʆ\u00032^݋�?��ʣI�p>\u0001R8\"�(��q�\u001e",
      "-��cGp�\u0004�s*�M\u000b",
      "�eE�\u0000C\n",
      "4!�,�p��\u0018\u0015�������\u0017=ep�\u0004Ͽ�\u000e<c�J�\u0004�̍�\u0002\u0010��C�\u0016{�T�#��7r\t3!��\n",
      "Z\u001c",
      "�qXʱ�\n",
      "3!�\u001d",
      "{���G\u000f\u0015j�O2\u001c",
      "-��`6&�(\u0005\u0002}��\u001d",
      "Q�f�-\u0003�AX\u001e",
      "d8�R�g,𗀠�7o2\u001c",
      "��v��N�\u0001�ǥ\u0006\n",
      "\u0016S�@r���%�8|\t��=f(��\u001c",
      "kÉ��\u0006�~h\u0016��k�y>�\u0010l\u001aUd�]q�jt��6#\u0004�!�G\u001a�]�/��=\u0010�W���SCD�.e<9����r�\u0001��#��T~\u0014��QK�\t�\u001e",
      "�\u000e_]��?e\u0003s�Y0r��}w^�Ma��\u001e",
      "��\u0013UI_(҅o~����U\u001d",
      "�\u0010��b���x�6`A�+�@��I|]�\u0000��}F7�%��w�Y4��\u0000�\u0012�YT�PM7���/�=�\u0013\f",
      "��7\u0006�ヲ\u001f����-���t\"�\u0003�\u001c",
      "��iwL�h���\u001f�B\u0010qc�{�����mr�5\u0006G�㡐�\u001fS���'\u0018\n",
      "\u0015\u0000��@�-T̫�Jb�\u0007{\u001e",
      "�,�K��.����$|�yy�ɸc�yn;�h��\u0005E+�\n",
      "\u0014�x�I%��\f",
      "�v�\u001f����\u0019[�\u0001\u0019Yy���G\u0012I�\n",
      "���\u0017��K'���;��\u0014ˤ\u0004@\u001b��K��ǰٛښ\u000b",
      "�Ĥ�v�#R��\u001b3z�{��7�t�HF1OC���\\�\u0017+!���i�b��&��rTj�,+���g�[!���ܕ\f",
      "\u0010q��\f",
      "�4��|p�w\u0018ri|s5�_���\u0006�\u0016�@y��\u0007\u001e",
      "dᚈŗ�\tY��� �L*�Ӗ�ױ��\u001c",
      "�~k�\u0015�vm�g�K��\u0019���qIA\u0019��d,F�̇a\u0001�>�)\u0002�+\u0004\u0004�nd=.�f(\u00072�vז�\u0005\u0017 �.\u0013K\u0018��IMJ�_3!�j\u0005�%<9>�����0�~�HkH��\u0019��H�\u0010��\u0003��å̌\u001d",
      "kqܲ�{�\u0007\u0001���\u001c",
      "��\u0007\u0016F�\u0002�%�\u001d",
      "�.Q���<�C�9���J�\u0016g���>`�\"\u0019%���\u0006�~Jߎo{q�\u001aFy�\u001e",
      "��q�\u0004l˩\u0002������\u001f�:�\u0004\u0007#�ゔ���ɉ�t�\u0017|��k\u000b",
      "\u001c",
      "��<�\u0005c$�O���e\f",
      "� \u0018�:=�\u0006\f",
      "ɲ�s]��y�>\u0010ug׬9�(Qrs@\f",
      "�\u000b",
      "�n>�m9�,�0]rsM'\u0001,���w�D�\u001e",
      "���nNo�O@���uK�X\t4�\u0001�9��\u0011k�t��tqu��\u0005�.Uܜ�\u0015��sƔ�t�ѩ�� J\u0017W'7!�\t�)��uN�ۖ��\u0000ܜ�Gt\u0006��Mp\u0016�W�ܜ�\u001e",
      "��޾g�\u001d",
      "��3��+;�4���\u0003s]�\u0019��\u0002��� <����'g/ޭ�\u0001\u0019FP2)Uܕ\u0005��3\u001f\n",
      "\u0004�\u0018fo04�\\{\u001e",
      "�\u001d",
      "&�\u000eJ\u0018�/~f�`0�ٙ�v�3s��:37� ��\n",
      "���\u00115����#�\u001e",
      "\u0002����y(�Qf\u0018��U80V��]M@Z,��.��H\u001c",
      "h�n4z��\u0003�I$�I7^��IS�����\u000f�\u001c",
      "i$��6$�T�\n",
      "���k<���\u001b��Z<C;O�Os;�����\u0017Ҕ�y�\u001c",
      "�\u001br�_��\u000b",
      "v�\u0003�\u0016�\u0010�\u0012\u0002i?e=�#F�\"?)y�֌��G�y\u0013޶L�\"!�t�)��\u001f\u001c",
      "ε����\u000b",
      "h�k����l}�����ٵ�\u0002M��\u0010�II��,�\u0000\u001c",
      "���\u001e",
      "'��\u0006�+d\u0012��\"'���ǘ\u0003R��\u0002\u000e,5L��ix��\u0000\u0016�S�8�R����0o�]��\u000eG�˛�g����\u0003���rf\\�I�\u0007�»\"��3�^e�%�����\u000b",
      "\u0016y6�\u001b2�c�9.�3�)�w\u0001̹��p;ƀg�.j\u000f%3.i����\u001f&�?�Q\f",
      "�2�h��d6��o��_�f\\�r�\u001d",
      "ܼ����\u0006,�\u0019�Qy�\n",
      "�-�\u001c",
      "��73y��{PYǽf�B�p9\u0001�\u001b2\u001e",
      "�N\u0016o��^�]@�R��w\"��S�A/\u0005�\u00074�2\u001f9�{�E�\u000eg}��)�\u000e���\u000e�\u0016�\u0011��,�ِ�J��+J�޲���3!�lK�*��t\u000f�fC�@R�\u000e\u0001/W��fC���c\u0006��,��\f",
      "n�2\u001d",
      "�#�F�2�d(�``\n",
      "v��E5��@��&��>��߬�\\\u0019\u0001*�\u0014����<��T��&S�����\u0005w�7 ���}w��Y\u0003�ȓ w�\u0016�\u000e@n&e�3\f",
      "K\u0014CN��\u0001[q)̹�����0%��=J\u000f��X֥x�\u001c",
      "��\f",
      "l˚iڼPW�8�Wh0\u001c",
      "˛Ù{ݯ��PaD\u0012\u001b��󅜆@��S\u000e�FP���&�\u000e�|@}�#V\u0002�Jx�4\u000f\u0019PR\u000fy,c�\f",
      "t\u0006�\u0000\u0013�\u0014&20\u001fx�Iҋ���a�a�\u0002�{�^�gZ�q�Р�\u0001\n",
      "W\u0012H\u001e",
      "\\�c'J�E��t�X\u0003��`%��%\u001d",
      "ĒdM�\u0005[<\u001c",
      "3�����н\u000b",
      "�p\u0010yy�\u0019$��4�\u0018\u0002\u0011�{\u0017���R�K�\u0015(_��C�$r'�ْ\u0004\\Q�_��R�J�\u001ap�\u0007r����I �<�\u001ae�\f",
      "J��=�j��J:M%ˆ�OtR�,�&\u000b",
      "\u0016O�d�J�+�ͪ��-\u0016�Z\u0015NulQ ����Isj�a��vx6c`��\u001d",
      "�ʁ\n",
      ".�C����0��x�s^�Ō���\u001c",
      "\u0015����G�;�IJ�\f",
      ";�\u0015(�\u0018��}£����P\u0018\u0000�1\u0013�5ހ�pGw�S�����\u000f!���R$$\u0000��s4}F/l�S��\u0004G�x\u0016Ǹʃ\u0001\u0017扤�23?N_�<�\u001a�\\bY\u0015��*\u001d",
      "�5j\u00179ɛ�.>5H�x��Q�)p�-5��\u000e\u0004r�k)�*Zĕ���\n",
      "?g�ĝ��]d���N\u00150?\u001e",
      ")^�Ȏh�/cI��\u0018��k�îº�x��yY8\u0011���t�|c���(�3L\u000b",
      "��*-\u000b",
      "V\u000e��_��r/�Na��~>\u001a�q��'\u000f$���l�\u001d",
      "<us����W��8�cx��oNh��s2�uwd\tT�\u000eH<j��m|s�x\u0019LJ.O�y��p��\u0018��M�\u0005��8�T\u0017n��&��\u000b",
      "Z^�r�b4��)�@�h��\u001d",
      "@����R��\u0000\u0007ǒ4�dS\n",
      "R�\u0000�޿�|��Lzd\u001e",
      "1Ơ-�\u0003\u0002��b��?F+2�\u001c",
      "�\u0019J���?\n",
      "Paݮw@�X��!�\u000f���8�Ye��袁�\u000b",
      "[�J<z��\u0012����%��|\"2E|j0���]r���\u0003$�0�t<\n",
      "�cf���\u0016\u0019�0��P��;��%�b}Z\u001e",
      "�Q�4\u0001_f�>5\t�=�yOYGq��\u0002meJ�H��@\u0019xӀ\u0018\u000fr�\u0000�\u0005��Z�M��o\u0015�\u0015L\u0007�[���~�<�.�Y�Ε�\u0005�'r�xwM\"L��\u0004B���oh�x���z\u000b",
      "�U��\u0019*��Uc\u0006K�\u001e",
      "�+ڥ\u001d",
      "�)r\u000b",
      "�M�P \u0000���Ӟ�{k4������d�\u0004����>�GM��\u0018��s7�b��P9\u0001�\u0001�*\u0015\u000e`�{���Q\u001e",
      "Z�)���}�C2�\u0019,~\u001d",
      "�DfB\u0013����T\u0000.Х��\u0011%\u0012�E�M�\u0019��T\u001a*�>WW\u0001CQ�\u001b��_ս�AbJQ��l/M1�\u0004�\u001d",
      "�A\u000b",
      "�(\u0003 �W\u0006aLȳ�\u000e��\n",
      "l��.j�U.�76��m��4�L#2���V�,r\u0018\u001bP���A�J��ϡ\u0010��\u001c",
      "����\u000e���Y|Qݢ�,s�\u0016�+���l�\u0016�>�3���Fs��9����qo�{�1��L\u001c",
      "��nFh��\u0003ua\f",
      "Isz\u001b���]|r�~'�c��Z\u0000����2�\u00006̚M\u001c",
      "�CB�\u0019�[;�i�\u0000�j�㒚��|�\u0000#L��\u001d",
      "�z!_C��\u0004��x8\u0000��-�\t�9)jo��e��5��\f",
      "9�n;Q��_�D�8\u000eu�y��ۼ�\u0000�R��a�\u001c",
      "�l�5c\u0006u��||\u000b",
      "^m�G�\u0003�J�CiP*�\u0015\u000e\u001d",
      "�\u0002�\u001d",
      "\u0017xr\u0003PQ�sr���˕�ʧ�\u0002��\\�H\u000fySQ�_��\u001b�3.i,\f",
      "Е\u001c",
      "`\u000b",
      "=�r��\u0005\u0019�5���Vs\u0000\";�\f",
      "�)�,˛�r�?eB��C��2���k�n��\u000b",
      "�g��˚\u0016rl��`��kf�2�Ԍ<y�d�\u0010\u0004\u001a�\u0000�3.m͔Vg\u0001\u001aBOea������ṩt�~aǙ��!�مO4}�$�\u0004p�\f",
      "sغ|�_��\u00182��A?����\u0010dK\u000b",
      "�`05�\u0007 5\u000b",
      "̪8�@:�@X��\u0019��̪\n",
      "FY��H'L�\u0019K3*��'�׶[�\u0006����ʡDҐ\u0010(�\u0000m�5��U\u001aJ�]0N�\u0006\u0004�fU\u001a��ʑ�\u000b",
      "tK�x@s*�֙w\u001c",
      "u�$\u001c",
      "G\u00163�̪\u0019�����]�\u0005�p�ʠ\u001e",
      "�(Z_��`\u0017-�fc��fd:�&�2�\u001d",
      "�_\u0005\n"
     ]
    }
   ],
   "source": [
    "# insert the raw file name -kmr\n",
    "# it should look like complete nonsense -- we will change it in this notebook\n",
    "!head -40 35323331.t01"
   ]
  },
  {
   "cell_type": "markdown",
   "id": "78b84884",
   "metadata": {},
   "source": [
    "The file has two parts: \n",
    "1. A header of 21 lines containing important metadata, such as the site code, who collected the data, the receiver and antenna type (and their serial numbers), the approximate site location, the antenna height and details of the data (the start and end times, sample interval, and which observations are recorded $-$ such as which carrier phases and which pseudoranges).\n",
    "2. Data, with time and date stamps for each epoch, as well as the details of the observables for each visible satellite.\n",
    "\n",
    "A RINEX data file containing this information is processable using multiple different processing softwares. But how do we make one?"
   ]
  },
  {
   "cell_type": "markdown",
   "id": "a0d11536",
   "metadata": {},
   "source": [
    "### 1.2 Converting RAW data to RINEX\n",
    "\n",
    "The first step will be to pull the data from the GNSS receiver $-$ and how you do this depends a lot on the receiver type. Some receivers (such as the Trimble NetRS and NetR9, and the Septentrio PolaRx5) log data to internal storage, and require you to connect to a web server on the receiver to access the data. Others, such as the Trimble R7 and Topcon GB-1000, log data to a CompactFlash card within the receiver, which can then be pulled out and read with a card reader at the end of the survey (which is usually much easier to do, especially when out in the field).\n",
    "\n",
    "Assuming we are using a Trimble R7, which are the majority of the GNSS receivers I have access to at UCR, then the data will be recorded to the receiver in a proprietary, binary format ('t01' format). I have included one of these files as well, collected in July 2024 at VERS, to practice with. Let's have a look!"
   ]
  },
  {
   "cell_type": "code",
   "execution_count": 4,
   "id": "e8e17f60",
   "metadata": {},
   "outputs": [
    {
     "name": "stdout",
     "output_type": "stream",
     "text": [
      "-rw-r--r-- 1 katie katie 85499 Jul 24 12:13 35323331.t01\n"
     ]
    }
   ],
   "source": [
    "# lets look at all the files that end with .t01\n",
    "!ls -l *.t01"
   ]
  },
  {
   "cell_type": "markdown",
   "id": "8f1a242c",
   "metadata": {},
   "source": [
    "EarthScope (UNAVCO, as-was) is a good source of information on how to convert these proprietary data files to RINEX. For the Trimble data we are using, it is a two step process $-$ first convert the 't01' file to a 'dat' file, and then convert the 'dat' file to RINEX. \n",
    "\n",
    "The conversion program we need for the first step is called runpkr00, and it is a compiled binary executable that only runs on certain hardware (Linux PCs, Windows PCs, Intel Macs, Solaris Unix machines).\n",
    "\n",
    "The runpkr00 executables can be downloaded from this legacy UNAVCO Knowledge Base webpage: https://kb.unavco.org/article/trimble-runpkr00-latest-versions-744.html\n",
    "\n",
    "You should download the version that you need (version 5.40 is good enough for our purposes). If you are running this on Linux (or emulated Linux through WSL2), make sure you copy the `runpkr00` exectuable to the directory containing this notebook and the t01 file."
   ]
  },
  {
   "cell_type": "code",
   "execution_count": 5,
   "id": "d8a390db",
   "metadata": {},
   "outputs": [
    {
     "name": "stdout",
     "output_type": "stream",
     "text": [
      "-rwxr-xr-x 1 katie katie 1897487 Jul 24 12:24 runpkr00\n"
     ]
    }
   ],
   "source": [
    "# run the process for the raw data\n",
    "!ls -l runpkr00"
   ]
  },
  {
   "cell_type": "markdown",
   "id": "8dc29e66",
   "metadata": {},
   "source": [
    "In order to convert the file, we need to run `runpkr00` on the data file. Consulting the [Knowledge Base](https://kb.unavco.org/article/trimble-runpkr00-latest-versions-744.html) again, the correct syntax is something like: `runpkr00 -g -d filename.T01`\n",
    "\n",
    "So let's do that..."
   ]
  },
  {
   "cell_type": "code",
   "execution_count": 6,
   "id": "6e4aa0b2",
   "metadata": {},
   "outputs": [
    {
     "name": "stdout",
     "output_type": "stream",
     "text": [
      "./runpkr00 -g -d 35323331.t01\n"
     ]
    }
   ],
   "source": [
    "# insert YOUR FILE that you would like to process\n",
    "rawfile='35323331.t01'  # if you have your own file, feel free to substitute it here\n",
    "\n",
    "print('./runpkr00 -g -d ' + rawfile)  # this is the command you are running\n",
    "\n",
    "!./runpkr00 -g -d $rawfile"
   ]
  },
  {
   "cell_type": "markdown",
   "id": "61b43566",
   "metadata": {},
   "source": [
    "What did that do? Let's look for 'dat' files in the directory:"
   ]
  },
  {
   "cell_type": "code",
   "execution_count": 7,
   "id": "f6281357",
   "metadata": {},
   "outputs": [
    {
     "name": "stdout",
     "output_type": "stream",
     "text": [
      "-rw-rw-r-- 1 katie katie 334134 Jul 24 12:26 35323331.dat\n"
     ]
    }
   ],
   "source": [
    "# lets see the .dat file it should have just created\n",
    "!ls -l *.dat"
   ]
  },
  {
   "cell_type": "markdown",
   "id": "32e2b12d",
   "metadata": {},
   "source": [
    "And now we should have a 'dat' file!\n",
    "\n",
    "Next we need to convert this to a 'proper' RINEX format, and for that we can use the long-lived (and no longer supported) `teqc` converter, a legacy UNAVCO code. teqc also has a legacy website: https://www.unavco.org/software/data-processing/teqc/teqc.html\n",
    "\n",
    "Note again that not all computer platforms are supported, but Linux PCs are. If the command does not work on your machine, try using it on a \n",
    "\n",
    "Once again, get the version of the executable that runs on your own machine, and copy it to your working directory.\n",
    "\n",
    "The syntax for running `teqc` is pretty straightforward, something like: `teqc filename.dat > rinexfile.o`\n",
    "\n",
    "We can try that..."
   ]
  },
  {
   "cell_type": "code",
   "execution_count": 8,
   "id": "1e325235",
   "metadata": {},
   "outputs": [
    {
     "name": "stdout",
     "output_type": "stream",
     "text": [
      "./teqc 35323331.dat > test.o\n",
      "? Error ? translation of '35323331.dat' may have started with GPS week 2376 rather than 1351\n",
      "\t(try using '-week 1351' option)\n",
      "! Notice ! '35323331.dat': GPS week initially set= 1351\n"
     ]
    }
   ],
   "source": [
    "# some data format futzing\n",
    "# this is just practice for the wrong gps week -- use the website to figure out the real gps week\n",
    "filename, extension = splitext(rawfile)\n",
    "datfile = filename+'.dat'\n",
    "\n",
    "# and let's run it\n",
    "print('./teqc ' + datfile + ' > test.o')\n",
    "\n",
    "!./teqc $datfile > test.o"
   ]
  },
  {
   "cell_type": "markdown",
   "id": "3ee3e12d",
   "metadata": {},
   "source": [
    "We get an error message! Something about a possibly incorrect 'GPS week'! What does that mean?\n",
    "\n",
    "Well, GPS week is a charming and fairly arcane way of measuring the passing of time. It refers to the number of weeks since the first GPS epoch $-$ which was midnight on January 6, 1980, UTC time. GPS week is transmitted with the GPS signal as a 10 bit number, meaning that every $2^{10}$ weeks (1024 weeks), the counter resets, and the GPS receiver gets confused about the date.\n",
    "\n",
    "This is the GPS equivalent of the Y2K bug, and if anything it is a more irritating problem as it is: 1) less well known, 2) happens more frequently (1024 weeks is 19.6 years), and 3) not really fixed. It has caused issues, particularly with electronic hardware that uses GPS for timing $-$ see https://en.wikipedia.org/wiki/GPS_week_number_rollover for some examples, and a description of the problem.\n",
    "\n",
    "If we look at the dates in the RINEX file we just made, we can see it might have some issues:"
   ]
  },
  {
   "cell_type": "code",
   "execution_count": 9,
   "id": "4f01894b",
   "metadata": {},
   "outputs": [
    {
     "name": "stdout",
     "output_type": "stream",
     "text": [
      "     2.11           OBSERVATION DATA    G (GPS)             RINEX VERSION / TYPE\n",
      "teqc  2019Feb25                         20250724 19:26:17UTCPGM / RUN BY / DATE\n",
      "Linux 2.6.32-573.12.1.x86_64|x86_64|gcc -static|Linux 64|=+ COMMENT\n",
      "BIT 2 OF LLI FLAGS DATA COLLECTED UNDER A/S CONDITION       COMMENT\n",
      "35323331                                                    MARKER NAME\n",
      "3331                                                        MARKER NUMBER\n",
      "-Unknown-           -Unknown-                               OBSERVER / AGENCY\n",
      "0220413532          TRIMBLE R7          2.32                REC # / TYPE / VERS\n",
      "-Unknown-           TRM39105.00     NONE                    ANT # / TYPE\n",
      " -2376964.3405 -4662095.2733  3635503.3157                  APPROX POSITION XYZ\n",
      "        0.0000        0.0000        0.0000                  ANTENNA: DELTA H/E/N\n",
      "     1     1                                                WAVELENGTH FACT L1/2\n",
      "     7    L1    L2    C1    P1    P2    S1    S2            # / TYPES OF OBSERV\n",
      "    18                                                      LEAP SECONDS\n",
      " SNR is mapped to RINEX snr flag value [0-9]                COMMENT\n",
      "  L1 & L2: min(max(int(snr_dBHz/6), 0), 9)                  COMMENT\n",
      "  2005    11    29    20     9    0.0000000     GPS         TIME OF FIRST OBS\n",
      "                                                            END OF HEADER\n",
      " 05 11 29 20  9  0.0000000  0  6G10G18G23G24G27G32\n",
      "   -253723.20758   -139741.23458  21047823.0704                   21047820.1914\n",
      "        50.0004         51.0004\n",
      "   -183099.40257   -105784.92255  22005796.2424                   22005791.8524\n",
      "        46.0004         33.5004\n",
      "   -199922.99657   -110185.41456  21469827.9454                   21469823.8404\n",
      "        46.7504         36.7504\n",
      "   -215491.84456    -61188.80155  23084676.3134                   23084674.0474\n",
      "        41.0004         34.2504\n",
      "   -233466.76657   -129414.63757  21493120.3204                   21493117.1954\n",
      "        47.5004         46.5004\n",
      "   -304330.31258   -167526.82858  21140236.8754                   21140234.4774\n",
      "        49.7504         50.0004\n",
      " 05 11 29 20  9 30.0000000  0  7G08G10G18G23G24G27G32\n",
      "   -597960.55957   -397325.23856  22896397.8444                   22896396.6684\n",
      "        43.0004         38.7504\n",
      "   -518314.67248   -345916.41448  20997473.2504                   20997469.7074\n",
      "        50.2504         51.2504\n",
      "   -374224.01647   -254713.23845  21969426.3754                   21969422.0944\n",
      "        46.2504         33.2504\n",
      "   -408735.28147   -272896.32045  21430092.2114                   21430087.6884\n",
      "        47.2504         35.2504\n"
     ]
    }
   ],
   "source": [
    "# lets look at the file you just created\n",
    "!head -40 test.o"
   ]
  },
  {
   "cell_type": "markdown",
   "id": "8803bbb1",
   "metadata": {},
   "source": [
    "The date/time strings are something like `04 12  1  1 18 30.0000000` $-$ 2004/12/01 at 01:18:30. Not July 2024. Indeed, if you compare the dates, they are wrong by just under 20 years. (That should sound suspicious...)\n",
    "\n",
    "We can consult the [log sheet for the data](VERS.pdf) to see what the actual acquisition date was.\n",
    "\n",
    "We can also use a [GPS week date converter](http://sopac-old.ucsd.edu/convertDate.shtml) to figure out what the GPS week actually was when the data were acquired."
   ]
  },
  {
   "cell_type": "code",
   "execution_count": 10,
   "id": "cdca999d",
   "metadata": {},
   "outputs": [
    {
     "name": "stdout",
     "output_type": "stream",
     "text": [
      "./teqc -week 2375 35323331.dat > test.o\n",
      "! Notice ! NAVSTAR GPS SV G10 in '35323331.dat': ToC 2005 Nov 29 22:00:00.000 not in 2025 Jul 15 20:09:00.000 to 6075 Dec 31 23:59:59.999 by +/- 140 min\n",
      "! Notice ! NAVSTAR GPS SV G32 in '35323331.dat': ToC 2005 Nov 29 22:00:00.000 not in 2025 Jul 15 20:09:00.000 to 6075 Dec 31 23:59:59.999 by +/- 140 min\n",
      "! Notice ! NAVSTAR GPS SV G23 in '35323331.dat': ToC 2005 Nov 29 22:00:00.000 not in 2025 Jul 15 20:09:00.000 to 6075 Dec 31 23:59:59.999 by +/- 140 min\n",
      "! Notice ! NAVSTAR GPS SV G27 in '35323331.dat': ToC 2005 Nov 29 22:00:00.000 not in 2025 Jul 15 20:09:00.000 to 6075 Dec 31 23:59:59.999 by +/- 140 min\n",
      "! Notice ! NAVSTAR GPS SV G08 in '35323331.dat': ToC 2005 Nov 29 22:00:00.000 not in 2025 Jul 15 20:09:00.000 to 6075 Dec 31 23:59:59.999 by +/- 140 min\n",
      "! Notice ! NAVSTAR GPS SV G18 in '35323331.dat': ToC 2005 Nov 29 22:00:00.000 not in 2025 Jul 15 20:09:00.000 to 6075 Dec 31 23:59:59.999 by +/- 140 min\n",
      "! Notice ! NAVSTAR GPS SV G24 in '35323331.dat': ToC 2005 Nov 29 22:00:00.000 not in 2025 Jul 15 20:09:00.000 to 6075 Dec 31 23:59:59.999 by +/- 140 min\n",
      "! Notice ! NAVSTAR GPS SV G02 in '35323331.dat': ToC 2005 Nov 29 22:00:00.000 not in 2025 Jul 15 20:09:00.000 to 6075 Dec 31 23:59:59.999 by +/- 140 min\n",
      "! Notice ! NAVSTAR GPS SV G28 in '35323331.dat': ToC 2005 Nov 29 22:00:00.000 not in 2025 Jul 15 20:09:00.000 to 6075 Dec 31 23:59:59.999 by +/- 140 min\n",
      "! Notice ! NAVSTAR GPS SV G32 in '35323331.dat': ToC 2005 Nov 29 21:59:44.000 not in 2025 Jul 15 20:09:00.000 to 6075 Dec 31 23:59:59.999 by +/- 140 min\n",
      "! Notice ! NAVSTAR GPS SV G31 in '35323331.dat': ToC 2005 Nov 29 22:00:00.000 not in 2025 Jul 15 20:09:00.000 to 6075 Dec 31 23:59:59.999 by +/- 140 min\n",
      "! Notice ! NAVSTAR GPS SV G01 in '35323331.dat': ToC 2005 Nov 29 22:00:00.000 not in 2025 Jul 15 20:09:00.000 to 6075 Dec 31 23:59:59.999 by +/- 140 min\n",
      "! Notice ! NAVSTAR GPS SV G10 in '35323331.dat': ToC 2005 Nov 29 21:59:44.000 not in 2025 Jul 15 20:09:00.000 to 6075 Dec 31 23:59:59.999 by +/- 140 min\n",
      "! Notice ! NAVSTAR GPS SV G02 in '35323331.dat': ToC 2005 Nov 30 00:00:00.000 not in 2025 Jul 15 20:09:00.000 to 6075 Dec 31 23:59:59.999 by +/- 140 min\n",
      "! Notice ! NAVSTAR GPS SV G32 in '35323331.dat': ToC 2005 Nov 29 23:59:44.000 not in 2025 Jul 15 20:09:00.000 to 6075 Dec 31 23:59:59.999 by +/- 140 min\n",
      "! Notice ! NAVSTAR GPS SV G10 in '35323331.dat': ToC 2005 Nov 29 23:59:44.000 not in 2025 Jul 15 20:09:00.000 to 6075 Dec 31 23:59:59.999 by +/- 140 min\n",
      "! Notice ! NAVSTAR GPS SV G08 in '35323331.dat': ToC 2005 Nov 30 00:00:00.000 not in 2025 Jul 15 20:09:00.000 to 6075 Dec 31 23:59:59.999 by +/- 140 min\n",
      "! Notice ! NAVSTAR GPS SV G23 in '35323331.dat': ToC 2005 Nov 30 00:00:00.000 not in 2025 Jul 15 20:09:00.000 to 6075 Dec 31 23:59:59.999 by +/- 140 min\n",
      "! Notice ! NAVSTAR GPS SV G27 in '35323331.dat': ToC 2005 Nov 30 00:00:00.000 not in 2025 Jul 15 20:09:00.000 to 6075 Dec 31 23:59:59.999 by +/- 140 min\n",
      "! Notice ! NAVSTAR GPS SV G28 in '35323331.dat': ToC 2005 Nov 30 00:00:00.000 not in 2025 Jul 15 20:09:00.000 to 6075 Dec 31 23:59:59.999 by +/- 140 min\n",
      "! Notice ! NAVSTAR GPS SV G31 in '35323331.dat': ToC 2005 Nov 30 00:00:00.000 not in 2025 Jul 15 20:09:00.000 to 6075 Dec 31 23:59:59.999 by +/- 140 min\n",
      "! Notice ! NAVSTAR GPS SV G01 in '35323331.dat': ToC 2005 Nov 30 00:00:00.000 not in 2025 Jul 15 20:09:00.000 to 6075 Dec 31 23:59:59.999 by +/- 140 min\n",
      "! Notice ! NAVSTAR GPS SV G03 in '35323331.dat': ToC 2005 Nov 30 00:00:00.000 not in 2025 Jul 15 20:09:00.000 to 6075 Dec 31 23:59:59.999 by +/- 140 min\n",
      "! Notice ! NAVSTAR GPS SV G25 in '35323331.dat': ToC 2005 Nov 30 00:00:00.000 not in 2025 Jul 15 20:09:00.000 to 6075 Dec 31 23:59:59.999 by +/- 140 min\n",
      "! Notice ! NAVSTAR GPS SV G04 in '35323331.dat': ToC 2005 Nov 30 00:00:00.000 not in 2025 Jul 15 20:09:00.000 to 6075 Dec 31 23:59:59.999 by +/- 140 min\n",
      "! Notice ! NAVSTAR GPS SV G26 in '35323331.dat': ToC 2005 Nov 30 00:00:00.000 not in 2025 Jul 15 20:09:00.000 to 6075 Dec 31 23:59:59.999 by +/- 140 min\n",
      "! Notice ! NAVSTAR GPS SV G25 in '35323331.dat': ToC 2005 Nov 29 23:59:44.000 not in 2025 Jul 15 20:09:00.000 to 6075 Dec 31 23:59:59.999 by +/- 140 min\n"
     ]
    }
   ],
   "source": [
    "# what was the GPS week?\n",
    "# set this to the correct gps week\n",
    "gpsweek=2375\n",
    "\n",
    "# let's try again!\n",
    "print('./teqc -week {0:d} {1:s} > test.o'.format(gpsweek,datfile))\n",
    "!./teqc -week $gpsweek $datfile > test.o\n"
   ]
  },
  {
   "cell_type": "markdown",
   "id": "efb98a6a",
   "metadata": {},
   "source": [
    "Lots of complaining this time, but did it make a difference? We can look at the file again to see..."
   ]
  },
  {
   "cell_type": "code",
   "execution_count": 11,
   "id": "05e07785",
   "metadata": {},
   "outputs": [
    {
     "name": "stdout",
     "output_type": "stream",
     "text": [
      "     2.11           OBSERVATION DATA    G (GPS)             RINEX VERSION / TYPE\n",
      "teqc  2019Feb25                         20250724 19:27:14UTCPGM / RUN BY / DATE\n",
      "Linux 2.6.32-573.12.1.x86_64|x86_64|gcc -static|Linux 64|=+ COMMENT\n",
      "BIT 2 OF LLI FLAGS DATA COLLECTED UNDER A/S CONDITION       COMMENT\n",
      "35323331                                                    MARKER NAME\n",
      "3331                                                        MARKER NUMBER\n",
      "-Unknown-           -Unknown-                               OBSERVER / AGENCY\n",
      "0220413532          TRIMBLE R7          2.32                REC # / TYPE / VERS\n",
      "-Unknown-           TRM39105.00     NONE                    ANT # / TYPE\n",
      " -2376964.3405 -4662095.2733  3635503.3157                  APPROX POSITION XYZ\n",
      "        0.0000        0.0000        0.0000                  ANTENNA: DELTA H/E/N\n",
      "     1     1                                                WAVELENGTH FACT L1/2\n",
      "     7    L1    L2    C1    P1    P2    S1    S2            # / TYPES OF OBSERV\n",
      "    18                                                      LEAP SECONDS\n",
      " SNR is mapped to RINEX snr flag value [0-9]                COMMENT\n",
      "  L1 & L2: min(max(int(snr_dBHz/6), 0), 9)                  COMMENT\n",
      "  2025     7    15    20     9    0.0000000     GPS         TIME OF FIRST OBS\n",
      "                                                            END OF HEADER\n",
      " 25  7 15 20  9  0.0000000  0  6G10G18G23G24G27G32\n",
      "   -253723.20758   -139741.23458  21047823.0704                   21047820.1914\n",
      "        50.0004         51.0004\n",
      "   -183099.40257   -105784.92255  22005796.2424                   22005791.8524\n",
      "        46.0004         33.5004\n",
      "   -199922.99657   -110185.41456  21469827.9454                   21469823.8404\n",
      "        46.7504         36.7504\n",
      "   -215491.84456    -61188.80155  23084676.3134                   23084674.0474\n",
      "        41.0004         34.2504\n",
      "   -233466.76657   -129414.63757  21493120.3204                   21493117.1954\n",
      "        47.5004         46.5004\n",
      "   -304330.31258   -167526.82858  21140236.8754                   21140234.4774\n",
      "        49.7504         50.0004\n",
      " 25  7 15 20  9 30.0000000  0  7G08G10G18G23G24G27G32\n",
      "   -597960.55957   -397325.23856  22896397.8444                   22896396.6684\n",
      "        43.0004         38.7504\n",
      "   -518314.67248   -345916.41448  20997473.2504                   20997469.7074\n",
      "        50.2504         51.2504\n",
      "   -374224.01647   -254713.23845  21969426.3754                   21969422.0944\n",
      "        46.2504         33.2504\n",
      "   -408735.28147   -272896.32045  21430092.2114                   21430087.6884\n",
      "        47.2504         35.2504\n"
     ]
    }
   ],
   "source": [
    "# now the data should be right! yay\n",
    "!head -40 test.o"
   ]
  },
  {
   "cell_type": "markdown",
   "id": "22cde851",
   "metadata": {},
   "source": [
    "Those dates look a lot more plausible, so it looks like the data were interpreted correctly this time. We have a RINEX file! But we are still missing a lot of important details $-$ such as the metadata for the acquisition. So let's get on with that..."
   ]
  },
  {
   "cell_type": "markdown",
   "id": "e576fb8b",
   "metadata": {},
   "source": [
    "### 1.3 Estimating antenna height from slant height\n",
    "\n",
    "When collecting GNSS data, some of the key metadata we collect are the heights of the antennas during data collection. In a typical tripod setup, using GNSS antennas with ground planes, these will usually be slant heights from the station marker to the base of the ground plane, measured using a measuring stick.  \n",
    "\n",
    "Our protocol is to make three measurements of slant height at different parts of the antenna at equipment set-up and three more at take-down. Assuming that the equipment is not significantly disturbed during the data take, the average of these six measurements is a reasonable estimate of the slant height of the antenna during that data take. But is slant height what we need for data processing? *What information on height is included in the RINEX file?*\n",
    "\n",
    "Each GNSS antenna has a 'reference point' $-$ the point to which all measurements are referenced. For common antennas like those in the Trimble Zephyr Geodetic family, this is typically the base of the antenna. Note that this is not what we measure when setting up our equipment...\n",
    "\n",
    "![diagram of antenna height](./antenna_height.png)\n",
    "\n",
    "So how do we turn our slant height measurements to the base of an antenna ground plane into a measurement of the vertical height of the antenna reference point? Pythagoras, with some light subtraction...\n",
    "\n",
    "If $h$ is the desired vertical height of the antenna reference point above the benchmark, $R$ is the measured average slant height to the base of the antenna ground plane, $r$ is the antenna radius and $t$ is the vertical distance between the base of the ground plane and the antenna reference point, then...\n",
    "\n",
    "$$h = \\sqrt{(R^2-r^2)}-t$$\n",
    "\n",
    "Seems straightforward! Where do we get the information for $r$ and $t$, I hear you ask? Well, there are a couple of options: 1) the details are included on a sticker attached to the antenna, and 2) if you know the antenna manufacturer, type and part number you can look it up at the NGS's data repository on GNSS antennas, here: https://www.ngs.noaa.gov/ANTCAL/ (look under \"Browse Antenna Information\")"
   ]
  },
  {
   "cell_type": "code",
   "execution_count": 12,
   "id": "96d095db",
   "metadata": {},
   "outputs": [
    {
     "name": "stdout",
     "output_type": "stream",
     "text": [
      "slant height: 1.305 m, vertical height of antenna reference point 1.250 m\n"
     ]
    }
   ],
   "source": [
    "# so let's calculate the height, then!\n",
    "\n",
    "# pre-survey slant height\n",
    "slant_height_pre=np.mean([130.55,130.55,130.65])/100  # include all three measurements here \n",
    "# post-survey slant height\n",
    "slant_height_post=np.mean([130.40,130.40,130.60])/100  # include all three measurements here \n",
    "\n",
    "# antenna radius (from looking up the antenna information)\n",
    "r = 16.981/100\n",
    "\n",
    "# vertical distance between base of the ground plane and the antenna reference point\n",
    "t = (8.546-4.111)/100\n",
    "\n",
    "# and some calculatin'\n",
    "R=(slant_height_pre+slant_height_post)/2\n",
    "h=np.sqrt(R**2-r**2)-t\n",
    "\n",
    "print('slant height: {0:5.3f} m, vertical height of antenna reference point {1:5.3f} m'.format(R,h))"
   ]
  },
  {
   "cell_type": "markdown",
   "id": "c66a1d00",
   "metadata": {},
   "source": [
    "### 1.4 Updating RINEX metadata with teqc\n",
    "\n",
    "teqc also allows you to edit the metadata of your RINEX file, which, if you look at the header of our recently converted file, is very necessary! You can look at the manual for more details:\n",
    "https://www.unavco.org/software/data-processing/teqc/doc/UNAVCO_Teqc_Tutorial.pdf \n",
    "\n",
    "Or, you can run `teqc +help` and get a very long list! \n",
    "\n",
    "Some key options we might want to use:\n",
    "\n",
    "* -O.at \\<antenna type\\> $-$ give the NGS antenna code here\n",
    "* -O.an \\<antenna number\\> $-$ give the antenna serial number here\n",
    "* -O.mo \\<site code\\> $-$ give the four-character benchmark code here\n",
    "* -O.mn \\<monument number\\> $-$ if you know the benchmark number, give it here (else give '' to blank it out)\n",
    "* -O.pe \\<h e n\\> $-$ give the antenna height (h), plus east and north offsets (0 0) here\n",
    "* -O.o \\<operators\\> $-$ give the names of the people who collected this data\n",
    "* -O.ag \\<agency\\> $-$ give the name of the agency that collected this data (UCR?)\n",
    "* -O.r \\<runner of teqc\\> $-$ give your name here, since you are running teqc!\n",
    "* -tbin 1d $-$ if necessary, divide your data into daily files\n",
    "\n",
    "\n",
    "To run this 'editing' mode of teqc, the syntax is:\n",
    "`teqc <options> <site_code> input_rinex`"
   ]
  },
  {
   "cell_type": "code",
   "execution_count": 19,
   "id": "3e17141a",
   "metadata": {},
   "outputs": [
    {
     "name": "stdout",
     "output_type": "stream",
     "text": [
      "./teqc -O.at TRM57971.00 -O.an 1441045101 -O.mo B129 -O.pe 1.249807 0 0 -O.o 'K Baraggiotta' -O.ag 'University of California, Riverside' -O.r 'Katie B' -O.mn '' -tbin 1d b129 test.o\n",
      "teqc:  creating file 'b1291960.25o' ...\n",
      "teqc:  creating file 'b1291970.25o' ...\n"
     ]
    }
   ],
   "source": [
    "# set up teqc to run with all of the options\n",
    "# now this will rename everything to have the proper header!!\n",
    "\n",
    "# site information (4 character code)\n",
    "site_code = \"B129\"\n",
    "\n",
    "# operator information (from the logsheet)\n",
    "operator_names = \"K Baraggiotta\"\n",
    "operator_inst = \"University of California, Riverside\"\n",
    "my_name = \"Katie B\"\n",
    "\n",
    "# antenna information (again, from the logsheet)\n",
    "antenna_type = \"TRM57971.00\"\n",
    "antenna_sn = \"1441045101\"\n",
    "\n",
    "# print out the command in case you need to run it somewhere else\n",
    "option_str=\"-O.at {0:s} -O.an {1:s} -O.mo {2:s} -O.pe {3:f} 0 0 -O.o '{4:s}' -O.ag '{5:s}' -O.r '{6:s}' -O.mn '' -tbin 1d {7:s} test.o\".format(antenna_type,antenna_sn,site_code,h,operator_names,operator_inst,my_name,site_code.lower())\n",
    "\n",
    "print(\"./teqc {0:s}\".format(option_str))\n",
    "\n",
    "!./teqc $option_str"
   ]
  },
  {
   "cell_type": "markdown",
   "id": "5426eeb7",
   "metadata": {},
   "source": [
    "And if all went well, you should have a new, and properly named file, based on the site code you gave! Let's have a look at it!"
   ]
  },
  {
   "cell_type": "code",
   "execution_count": 20,
   "id": "922f5638",
   "metadata": {},
   "outputs": [
    {
     "name": "stdout",
     "output_type": "stream",
     "text": [
      "b1291960.25o  b1291970.25o  test.o\n"
     ]
    }
   ],
   "source": [
    "!ls *o"
   ]
  },
  {
   "cell_type": "code",
   "execution_count": 27,
   "id": "6f9c7819",
   "metadata": {},
   "outputs": [
    {
     "name": "stdout",
     "output_type": "stream",
     "text": [
      "     2.11           OBSERVATION DATA    G (GPS)             RINEX VERSION / TYPE\n",
      "teqc  2019Feb25     Katie B             20250724 19:48:16UTCPGM / RUN BY / DATE\n",
      "Linux 2.6.32-573.12.1.x86_64|x86_64|gcc -static|Linux 64|=+ COMMENT\n",
      "BIT 2 OF LLI FLAGS DATA COLLECTED UNDER A/S CONDITION       COMMENT\n",
      "B129                                                        MARKER NAME\n",
      "                                                            MARKER NUMBER\n",
      "K Baraggiotta       University of California, Riverside     OBSERVER / AGENCY\n",
      "0220413532          TRIMBLE R7          2.32                REC # / TYPE / VERS\n",
      "1441045101          TRM57971.00                             ANT # / TYPE\n",
      " -2376964.3405 -4662095.2733  3635503.3157                  APPROX POSITION XYZ\n",
      "        1.2498        0.0000        0.0000                  ANTENNA: DELTA H/E/N\n",
      "     1     1                                                WAVELENGTH FACT L1/2\n",
      "     7    L1    L2    C1    P1    P2    S1    S2            # / TYPES OF OBSERV\n",
      " SNR is mapped to RINEX snr flag value [0-9]                COMMENT\n",
      "  L1 & L2: min(max(int(snr_dBHz/6), 0), 9)                  COMMENT\n",
      "  2025     7    16     0     0    0.0000000     GPS         TIME OF FIRST OBS\n",
      "                                                            END OF HEADER\n",
      " 25  7 16  0  0  0.0000000  0 10G10G03G25G04G26G32G02G28G31G01\n",
      "  15960136.00846  12494422.59845  24133227.0784                   24133226.5704\n",
      "        38.0004         32.5004\n",
      "  54522758.63747  41630154.77047  21602011.2424                   21602008.2114\n",
      "        47.0004         43.7504\n",
      "  76291509.73046  59522471.65244  24387878.2114                   24387877.2194\n",
      "        38.0004         26.5004\n",
      "  78647528.25046  61431368.34444  23217857.1724                   23217853.6804\n",
      "        41.5004         27.2504\n",
      "  84470299.21946  65903525.35945  23365883.2344                   23365883.0394\n",
      "        41.0004         35.7504\n",
      "  11952195.68847   9383009.67646  23472578.3134                   23472576.0704\n",
      "        43.7504         37.0004\n",
      " -16515171.52047 -12734855.28146  21885476.1724                   21885469.4064\n",
      "        46.0004         36.0004\n",
      " -14466594.72347  -9948328.18046  21294508.9064                   21294503.8244\n",
      "        45.2504         37.7504\n",
      "   7798944.37147   6154360.14548  20042626.1414                   20042620.0944\n",
      "        47.7504         49.5004\n",
      "  20591195.15247  16910660.64846  21041071.3364                   21041066.4844\n",
      "        45.7504         36.0004\n"
     ]
    }
   ],
   "source": [
    "!head -40 b1291970.25o"
   ]
  },
  {
   "cell_type": "markdown",
   "id": "b32589c7",
   "metadata": {},
   "source": [
    "## 2. Prep your own data now!\n",
    "\n",
    "If you have collected your own data, now is a good opportunity to prepare it, using all of the steps $-$ extracting the file from the receiver, converting it to dat format, converting that to RINEX format, using the survey log sheet information to estimate the vertical antenna height, and editing the RINEX headers with the necessary information.\n",
    "\n",
    "You may want to make copies of the various code snippets used above to make a comprehensive code cell that does all of the steps for you $-$ then you will have something you can use in the future!"
   ]
  },
  {
   "cell_type": "code",
   "execution_count": null,
   "id": "1e7f33ed",
   "metadata": {},
   "outputs": [],
   "source": [
    "# compile the code snippets here\n",
    "\n"
   ]
  },
  {
   "cell_type": "markdown",
   "id": "3b32edde",
   "metadata": {},
   "source": [
    "## 3. Processing your data with OPUS\n",
    "\n",
    "OPUS (**O**nline **P**osition **U**ser **S**ervice; https://www.ngs.noaa.gov/OPUS/) is a web-based tool operated by the National Geodetic Survey that processes RINEX format GNSS data that you upload to the website and return a position over email. It is remarkably easy to use, and even if you want to do your own 'proper' processing using a package like GAMIT/GLOBK or GIPSY later on, you will get some sense of the quality of your data from the output. \n",
    "\n",
    "OPUS processes data using a [double-difference approach](https://geodesy.noaa.gov/OPUS/about.jsp), choosing three nearby continuous GNSS stations to form double differences, and trilaterating a location relative to those stations. Its results are not as robust as you would obtain from forming a greater number of double-differences from more stations, and it does not work as well in areas where there is a low density of continuous stations, but for southern California, it still works well.\n",
    "\n",
    "To process data with OPUS, you will need three things:\n",
    "\n",
    "* a RINEX file with between 2 and 48 hours of data\n",
    "* the NGS antenna code for the antenna used (unfortunately it does not read that from the headers like some software will do)\n",
    "* the height of the antenna above the benchmark (unfortunately it does not read that either)\n",
    "\n",
    "Of course, for the data we have just preprocessed, we know all of those things. (And for properly prepared RINEX files from other people, the necessary information is in the headers.)\n",
    "\n",
    "So, to process your data, simply go to the website, select your RINEX file, select the antenna type, enter the vertical height, and enter your email address. You can optionally choose the format of the output (I usually choose the version that produces an XML file as well, as it may be easier to ingest the results later on).\n",
    "\n",
    "Then, hit the 'Upload to Static' button, and wait for the email. It should be done in a few minutes. "
   ]
  },
  {
   "cell_type": "markdown",
   "id": "52c745d1",
   "metadata": {},
   "source": [
    "## 4. Estimate the velocity at VERS\n",
    "\n",
    "Along with the July 2024 data, and the data you may have collected, I have provided RINEX files of other surveys of VERS. By processing these, and compiling date and east, north and up information, you can build a time series of the change in coordinate of the station, and use that to estimate a velocity for the site $-$ either by making a spreadsheet of the values, or by doing it in a more Pythonic way by building a Pandas table, and using an XML reader to populate it with your processed positions. \n",
    "\n",
    "(I can give some hints about how to do this in Python, if you are interested.)\n",
    "\n",
    "My suggested order of tasks: process all the data, plot the changes in position over time (maybe subtract the position of the earliest measurement from the others?), fit a trend line to each component and see what you get. Can you plot your estimated velocity on a map (e.g. using psvelo in GMT or pygmt.plot in PyGMT)? Does it make sense?"
   ]
  },
  {
   "cell_type": "code",
   "execution_count": null,
   "id": "a586095b",
   "metadata": {},
   "outputs": [],
   "source": []
  }
 ],
 "metadata": {
  "kernelspec": {
   "display_name": "Python 3 (ipykernel)",
   "language": "python",
   "name": "python3"
  },
  "language_info": {
   "codemirror_mode": {
    "name": "ipython",
    "version": 3
   },
   "file_extension": ".py",
   "mimetype": "text/x-python",
   "name": "python",
   "nbconvert_exporter": "python",
   "pygments_lexer": "ipython3",
   "version": "3.13.5"
  }
 },
 "nbformat": 4,
 "nbformat_minor": 5
}
