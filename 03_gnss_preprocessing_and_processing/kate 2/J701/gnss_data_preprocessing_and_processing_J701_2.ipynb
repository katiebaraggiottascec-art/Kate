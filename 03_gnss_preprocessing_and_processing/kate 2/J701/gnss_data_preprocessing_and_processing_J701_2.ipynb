{
 "cells": [
  {
   "cell_type": "markdown",
   "id": "df7e20e7",
   "metadata": {},
   "source": [
    "# Simple GNSS data preprocessing and processing\n",
    "\n",
    "Gareth Funning, University of California, Riverside\n",
    "\n",
    "Once we have collected some GNSS data, you might want to process it. Before you do that, you will need to convert the data into a processable format, calculate some important metadata parameters, and edit the datafile headers with useful information. This can take longer than processing the data sometimes!\n",
    "\n",
    "To turn our data files into positions, we can make use of the NGS's spiffy, web-based OPUS processor. If you process several files spanning multiple years, you can turn that into a velocity! And then you really are getting somewhere! "
   ]
  },
  {
   "cell_type": "markdown",
   "id": "a27a4b0d",
   "metadata": {},
   "source": [
    "## 0. Dependencies\n",
    "\n",
    "Jupyter needs these to function! Make sure you're in the right conda environment!"
   ]
  },
  {
   "cell_type": "code",
   "execution_count": 5,
   "id": "57a09282",
   "metadata": {},
   "outputs": [],
   "source": [
    "from os.path import splitext\n",
    "import numpy as np"
   ]
  },
  {
   "cell_type": "markdown",
   "id": "9d2fe25c",
   "metadata": {},
   "source": [
    "## 1. Pre-processing your GNSS data\n",
    "\n",
    "The first thing to do is to convert your data to something we can process! The data we collect tend to be recorded in proprietary binary formats, and so we will want to convert them to something more readable $-$ the RINEX format.\n",
    "\n",
    "\n",
    "### 1.1 RINEX\n",
    "\n",
    "The **R**eceiver **IN**dependent **E**xchange **F**ormat (RINEX for short) is an ASCII-based format used for archiving and processing GNSS data. There are different versions of the format for different applications $-$ navigational data, meterorological data, ionosphere data $-$ but today we will use the version for GNSS *observations*.\n",
    "\n",
    "Included with this notebook are several past versions of RINEX files for GNSS data collected at site VERS (Versity), the NGS benchmark on the UCR campus. We will use these later on to produce a deformation time series for the site. For now, we will use them to examine the file format and contents.\n",
    "\n",
    "First, let's look at the files we have, and the naming convention."
   ]
  },
  {
   "cell_type": "code",
   "execution_count": 6,
   "id": "36a21d6d",
   "metadata": {},
   "outputs": [
    {
     "name": "stdout",
     "output_type": "stream",
     "text": [
      "-rw-rw-r-- 1 katie katie 598067 Aug 20 00:07 j7012190.25o\n",
      "-rw-rw-r-- 1 katie katie   2467 Aug 20 00:07 j7012200.25o\n",
      "-rw-rw-r-- 1 katie katie 599182 Aug 20 00:01 test.o\n"
     ]
    }
   ],
   "source": [
    "# this will list all files with filenames ending with an 'o' (GNSS observation files)\n",
    "\n",
    "!ls -l *o"
   ]
  },
  {
   "cell_type": "markdown",
   "id": "cbb13f4e",
   "metadata": {},
   "source": [
    "These files all follow the same naming convention:\n",
    "\n",
    "SSSSDDDN.YYo\n",
    "\n",
    "- SSSS $-$ four digit site code\n",
    "- DDD $-$ day of year of start of data acquisition\n",
    "- N $-$ number of the acquisition on that GNSS receiver on that day (counting from zero)\n",
    "- YY $-$ year\n",
    "- o $-$ o is for 'observation'\n",
    "\n",
    "Let's look at the contents of one of these files:"
   ]
  },
  {
   "cell_type": "code",
   "execution_count": 7,
   "id": "bfedfb81",
   "metadata": {
    "scrolled": true
   },
   "outputs": [
    {
     "name": "stdout",
     "output_type": "stream",
     "text": [
      "head: cannot open '04223191.t01' for reading: No such file or directory\n"
     ]
    }
   ],
   "source": [
    "# insert the raw file name -kmr\n",
    "# it should look like complete nonsense -- we will change it in this notebook\n",
    "!head -40 04223191.t01"
   ]
  },
  {
   "cell_type": "markdown",
   "id": "78b84884",
   "metadata": {},
   "source": [
    "The file has two parts: \n",
    "1. A header of 21 lines containing important metadata, such as the site code, who collected the data, the receiver and antenna type (and their serial numbers), the approximate site location, the antenna height and details of the data (the start and end times, sample interval, and which observations are recorded $-$ such as which carrier phases and which pseudoranges).\n",
    "2. Data, with time and date stamps for each epoch, as well as the details of the observables for each visible satellite.\n",
    "\n",
    "A RINEX data file containing this information is processable using multiple different processing softwares. But how do we make one?"
   ]
  },
  {
   "cell_type": "markdown",
   "id": "a0d11536",
   "metadata": {},
   "source": [
    "### 1.2 Converting RAW data to RINEX\n",
    "\n",
    "The first step will be to pull the data from the GNSS receiver $-$ and how you do this depends a lot on the receiver type. Some receivers (such as the Trimble NetRS and NetR9, and the Septentrio PolaRx5) log data to internal storage, and require you to connect to a web server on the receiver to access the data. Others, such as the Trimble R7 and Topcon GB-1000, log data to a CompactFlash card within the receiver, which can then be pulled out and read with a card reader at the end of the survey (which is usually much easier to do, especially when out in the field).\n",
    "\n",
    "Assuming we are using a Trimble R7, which are the majority of the GNSS receivers I have access to at UCR, then the data will be recorded to the receiver in a proprietary, binary format ('t01' format). I have included one of these files as well, collected in July 2024 at VERS, to practice with. Let's have a look!"
   ]
  },
  {
   "cell_type": "code",
   "execution_count": 8,
   "id": "e8e17f60",
   "metadata": {},
   "outputs": [
    {
     "name": "stdout",
     "output_type": "stream",
     "text": [
      "-rw-r--r-- 1 katie katie  91672 Dec 22  2005 35163561.t01\n",
      "-rw-r--r-- 1 katie katie 350086 Dec 23  2005 35163570.t01\n"
     ]
    }
   ],
   "source": [
    "# lets look at all the files that end with .t01\n",
    "!ls -l *.t01"
   ]
  },
  {
   "cell_type": "markdown",
   "id": "8f1a242c",
   "metadata": {},
   "source": [
    "EarthScope (UNAVCO, as-was) is a good source of information on how to convert these proprietary data files to RINEX. For the Trimble data we are using, it is a two step process $-$ first convert the 't01' file to a 'dat' file, and then convert the 'dat' file to RINEX. \n",
    "\n",
    "The conversion program we need for the first step is called runpkr00, and it is a compiled binary executable that only runs on certain hardware (Linux PCs, Windows PCs, Intel Macs, Solaris Unix machines).\n",
    "\n",
    "The runpkr00 executables can be downloaded from this legacy UNAVCO Knowledge Base webpage: https://kb.unavco.org/article/trimble-runpkr00-latest-versions-744.html\n",
    "\n",
    "You should download the version that you need (version 5.40 is good enough for our purposes). If you are running this on Linux (or emulated Linux through WSL2), make sure you copy the `runpkr00` exectuable to the directory containing this notebook and the t01 file."
   ]
  },
  {
   "cell_type": "code",
   "execution_count": 9,
   "id": "b2ff896d-b0e7-4fa1-9dcd-df5294474024",
   "metadata": {},
   "outputs": [],
   "source": [
    "!chmod +x teqc\n"
   ]
  },
  {
   "cell_type": "code",
   "execution_count": 10,
   "id": "5ce48d6b-2b94-4865-b7c1-57fcd50a7a5c",
   "metadata": {},
   "outputs": [],
   "source": [
    "# run the process for the raw data\n",
    "!chmod +x runpkr00"
   ]
  },
  {
   "cell_type": "markdown",
   "id": "8dc29e66",
   "metadata": {},
   "source": [
    "In order to convert the file, we need to run `runpkr00` on the data file. Consulting the [Knowledge Base](https://kb.unavco.org/article/trimble-runpkr00-latest-versions-744.html) again, the correct syntax is something like: `runpkr00 -g -d filename.T01`\n",
    "\n",
    "So let's do that..."
   ]
  },
  {
   "cell_type": "code",
   "execution_count": 11,
   "id": "6e4aa0b2",
   "metadata": {},
   "outputs": [
    {
     "name": "stdout",
     "output_type": "stream",
     "text": [
      "./runpkr00 -g -d 35163570.t01\n"
     ]
    }
   ],
   "source": [
    "# insert YOUR FILE that you would like to process\n",
    "rawfile='35163570.t01'  # if you have your own file, feel free to substitute it here\n",
    "\n",
    "print('./runpkr00 -g -d ' + rawfile)  # this is the command you are running\n",
    "\n",
    "!./runpkr00 -g -d $rawfile"
   ]
  },
  {
   "cell_type": "markdown",
   "id": "61b43566",
   "metadata": {},
   "source": [
    "What did that do? Let's look for 'dat' files in the directory:"
   ]
  },
  {
   "cell_type": "code",
   "execution_count": 12,
   "id": "f6281357",
   "metadata": {},
   "outputs": [
    {
     "name": "stdout",
     "output_type": "stream",
     "text": [
      "-rw-rw-r-- 1 katie katie  388990 Aug 20 00:01 35163561.dat\n",
      "-rw-rw-r-- 1 katie katie 1495265 Aug 20 00:10 35163570.dat\n"
     ]
    }
   ],
   "source": [
    "# lets see the .dat file it should have just created\n",
    "!ls -l *.dat"
   ]
  },
  {
   "cell_type": "markdown",
   "id": "32e2b12d",
   "metadata": {},
   "source": [
    "And now we should have a 'dat' file!\n",
    "\n",
    "Next we need to convert this to a 'proper' RINEX format, and for that we can use the long-lived (and no longer supported) `teqc` converter, a legacy UNAVCO code. teqc also has a legacy website: https://www.unavco.org/software/data-processing/teqc/teqc.html\n",
    "\n",
    "Note again that not all computer platforms are supported, but Linux PCs are. If the command does not work on your machine, try using it on a \n",
    "\n",
    "Once again, get the version of the executable that runs on your own machine, and copy it to your working directory.\n",
    "\n",
    "The syntax for running `teqc` is pretty straightforward, something like: `teqc filename.dat > rinexfile.o`\n",
    "\n",
    "We can try that..."
   ]
  },
  {
   "cell_type": "code",
   "execution_count": 13,
   "id": "1e325235",
   "metadata": {},
   "outputs": [
    {
     "name": "stdout",
     "output_type": "stream",
     "text": [
      "./teqc 35163570.dat > test.o\n",
      "? Error ? translation of '35163570.dat' may have started with GPS week 2380 rather than 1354\n",
      "\t(try using '-week 1354' option)\n",
      "! Notice ! '35163570.dat': GPS week initially set= 1354\n"
     ]
    }
   ],
   "source": [
    "# some data format futzing\n",
    "# this is just practice for the wrong gps week -- use the website to figure out the real gps week\n",
    "filename, extension = splitext(rawfile)\n",
    "datfile = filename+'.dat'\n",
    "\n",
    "# and let's run it\n",
    "print('./teqc ' + datfile + ' > test.o')\n",
    "\n",
    "!./teqc $datfile > test.o"
   ]
  },
  {
   "cell_type": "markdown",
   "id": "3ee3e12d",
   "metadata": {},
   "source": [
    "We get an error message! Something about a possibly incorrect 'GPS week'! What does that mean?\n",
    "\n",
    "Well, GPS week is a charming and fairly arcane way of measuring the passing of time. It refers to the number of weeks since the first GPS epoch $-$ which was midnight on January 6, 1980, UTC time. GPS week is transmitted with the GPS signal as a 10 bit number, meaning that every $2^{10}$ weeks (1024 weeks), the counter resets, and the GPS receiver gets confused about the date.\n",
    "\n",
    "This is the GPS equivalent of the Y2K bug, and if anything it is a more irritating problem as it is: 1) less well known, 2) happens more frequently (1024 weeks is 19.6 years), and 3) not really fixed. It has caused issues, particularly with electronic hardware that uses GPS for timing $-$ see https://en.wikipedia.org/wiki/GPS_week_number_rollover for some examples, and a description of the problem.\n",
    "\n",
    "If we look at the dates in the RINEX file we just made, we can see it might have some issues:"
   ]
  },
  {
   "cell_type": "code",
   "execution_count": 14,
   "id": "4f01894b",
   "metadata": {},
   "outputs": [
    {
     "name": "stdout",
     "output_type": "stream",
     "text": [
      "     2.11           OBSERVATION DATA    G (GPS)             RINEX VERSION / TYPE\n",
      "teqc  2019Feb25                         20250820 07:10:41UTCPGM / RUN BY / DATE\n",
      "Linux 2.6.32-573.12.1.x86_64|x86_64|gcc -static|Linux 64|=+ COMMENT\n",
      "BIT 2 OF LLI FLAGS DATA COLLECTED UNDER A/S CONDITION       COMMENT\n",
      "35163570                                                    MARKER NAME\n",
      "3570                                                        MARKER NUMBER\n",
      "-Unknown-           -Unknown-                               OBSERVER / AGENCY\n",
      "0220413516          TRIMBLE R7          2.32                REC # / TYPE / VERS\n",
      "-Unknown-           TRM39105.00     NONE                    ANT # / TYPE\n",
      " -2421225.6053 -4595396.6929  3690372.3820                  APPROX POSITION XYZ\n",
      "        0.0000        0.0000        0.0000                  ANTENNA: DELTA H/E/N\n",
      "     1     1                                                WAVELENGTH FACT L1/2\n",
      "     7    L1    L2    C1    P1    P2    S1    S2            # / TYPES OF OBSERV\n",
      "    18                                                      LEAP SECONDS\n",
      " SNR is mapped to RINEX snr flag value [0-9]                COMMENT\n",
      "  L1 & L2: min(max(int(snr_dBHz/6), 0), 9)                  COMMENT\n",
      "  2005    12    23     0     0   30.0000000     GPS         TIME OF FIRST OBS\n",
      "                                                            END OF HEADER\n",
      " 05 12 23  0  0 30.0000000  0 10G02G26G09G03G16G04G06G28G31G01\n",
      " -40413987.68456 -31443736.47353  24676488.3134                   24676494.1914\n",
      "        36.0004         20.7504\n",
      " -44119624.38757 -34326255.90257  21364610.2424                   21364608.9844\n",
      "        44.5004         44.0004\n",
      " -14303479.39156 -11106880.02355  23597335.8754                   23597337.4734\n",
      "        41.0004         32.5004\n",
      " -59948773.61757 -46671811.64158  19802861.3444                   19802858.9774\n",
      "        47.0004         51.2504\n",
      " -23858848.91057 -20618655.54354  22148499.4304                   22148497.0274\n",
      "        42.7504         29.7504\n",
      " -48718232.22357 -37920031.25456  21048507.4454                   21048504.7814\n",
      "        46.7504         36.2504\n",
      "  -5584262.94156  -4272429.47755  24872777.4534                   24872778.5864\n",
      "        40.2504         31.0004\n",
      " -43572583.07457 -33877709.19954  24285867.1724                   24285865.3594\n",
      "        42.2504         26.0004\n",
      " -64863898.78957 -50490120.19557  21531340.4064                   21531336.1564\n",
      "        46.5004         44.2504\n",
      " -56262387.66457 -43794066.65254  22685485.6724                   22685485.2974\n",
      "        42.2504         28.2504\n",
      " 05 12 23  0  1  0.0000000  0 10G02G26G09G03G16G04G06G28G31G01\n"
     ]
    }
   ],
   "source": [
    "# lets look at the file you just created\n",
    "!head -40 test.o"
   ]
  },
  {
   "cell_type": "markdown",
   "id": "8803bbb1",
   "metadata": {},
   "source": [
    "The date/time strings are something like `04 12  1  1 18 30.0000000` $-$ 2004/12/01 at 01:18:30. Not July 2024. Indeed, if you compare the dates, they are wrong by just under 20 years. (That should sound suspicious...)\n",
    "\n",
    "We can consult the [log sheet for the data](VERS.pdf) to see what the actual acquisition date was.\n",
    "\n",
    "We can also use a [GPS week date converter](http://sopac-old.ucsd.edu/convertDate.shtml) to figure out what the GPS week actually was when the data were acquired."
   ]
  },
  {
   "cell_type": "code",
   "execution_count": 15,
   "id": "cdca999d",
   "metadata": {},
   "outputs": [
    {
     "name": "stdout",
     "output_type": "stream",
     "text": [
      "./teqc -week 2378 35163570.dat > test.o\n",
      "! Notice ! NAVSTAR GPS SV G07 in '35163570.dat': ToC 2005 Dec 23 01:59:44.000 not in 2025 Aug  8 00:00:30.000 to 6075 Dec 31 23:59:59.999 by +/- 140 min\n",
      "! Notice ! NAVSTAR GPS SV G27 in '35163570.dat': ToC 2005 Dec 23 02:00:00.000 not in 2025 Aug  8 00:00:30.000 to 6075 Dec 31 23:59:59.999 by +/- 140 min\n",
      "! Notice ! NAVSTAR GPS SV G08 in '35163570.dat': ToC 2005 Dec 23 02:00:00.000 not in 2025 Aug  8 00:00:30.000 to 6075 Dec 31 23:59:59.999 by +/- 140 min\n",
      "! Notice ! NAVSTAR GPS SV G30 in '35163570.dat': ToC 2005 Dec 23 02:00:00.000 not in 2025 Aug  8 00:00:30.000 to 6075 Dec 31 23:59:59.999 by +/- 140 min\n",
      "! Notice ! NAVSTAR GPS SV G26 in '35163570.dat': ToC 2005 Dec 23 04:00:00.000 not in 2025 Aug  8 00:00:30.000 to 6075 Dec 31 23:59:59.999 by +/- 140 min\n",
      "! Notice ! NAVSTAR GPS SV G04 in '35163570.dat': ToC 2005 Dec 23 04:00:00.000 not in 2025 Aug  8 00:00:30.000 to 6075 Dec 31 23:59:59.999 by +/- 140 min\n",
      "! Notice ! NAVSTAR GPS SV G08 in '35163570.dat': ToC 2005 Dec 23 04:00:00.000 not in 2025 Aug  8 00:00:30.000 to 6075 Dec 31 23:59:59.999 by +/- 140 min\n",
      "! Notice ! NAVSTAR GPS SV G09 in '35163570.dat': ToC 2005 Dec 23 04:00:00.000 not in 2025 Aug  8 00:00:30.000 to 6075 Dec 31 23:59:59.999 by +/- 140 min\n",
      "! Notice ! NAVSTAR GPS SV G07 in '35163570.dat': ToC 2005 Dec 23 04:00:00.000 not in 2025 Aug  8 00:00:30.000 to 6075 Dec 31 23:59:59.999 by +/- 140 min\n",
      "! Notice ! NAVSTAR GPS SV G06 in '35163570.dat': ToC 2005 Dec 23 04:00:00.000 not in 2025 Aug  8 00:00:30.000 to 6075 Dec 31 23:59:59.999 by +/- 140 min\n",
      "! Notice ! NAVSTAR GPS SV G27 in '35163570.dat': ToC 2005 Dec 23 04:00:00.000 not in 2025 Aug  8 00:00:30.000 to 6075 Dec 31 23:59:59.999 by +/- 140 min\n",
      "! Notice ! NAVSTAR GPS SV G30 in '35163570.dat': ToC 2005 Dec 23 04:00:00.000 not in 2025 Aug  8 00:00:30.000 to 6075 Dec 31 23:59:59.999 by +/- 140 min\n",
      "! Notice ! NAVSTAR GPS SV G03 in '35163570.dat': ToC 2005 Dec 23 04:00:00.000 not in 2025 Aug  8 00:00:30.000 to 6075 Dec 31 23:59:59.999 by +/- 140 min\n",
      "! Notice ! NAVSTAR GPS SV G16 in '35163570.dat': ToC 2005 Dec 23 04:00:00.000 not in 2025 Aug  8 00:00:30.000 to 6075 Dec 31 23:59:59.999 by +/- 140 min\n",
      "! Notice ! NAVSTAR GPS SV G03 in '35163570.dat': ToC 2005 Dec 23 03:59:44.000 not in 2025 Aug  8 00:00:30.000 to 6075 Dec 31 23:59:59.999 by +/- 140 min\n",
      "! Notice ! NAVSTAR GPS SV G21 in '35163570.dat': ToC 2005 Dec 23 04:00:00.000 not in 2025 Aug  8 00:00:30.000 to 6075 Dec 31 23:59:59.999 by +/- 140 min\n",
      "! Notice ! NAVSTAR GPS SV G14 in '35163570.dat': ToC 2005 Dec 23 04:00:00.000 not in 2025 Aug  8 00:00:30.000 to 6075 Dec 31 23:59:59.999 by +/- 140 min\n",
      "! Notice ! NAVSTAR GPS SV G16 in '35163570.dat': ToC 2005 Dec 23 03:59:44.000 not in 2025 Aug  8 00:00:30.000 to 6075 Dec 31 23:59:59.999 by +/- 140 min\n",
      "! Notice ! NAVSTAR GPS SV G05 in '35163570.dat': ToC 2005 Dec 23 04:00:00.000 not in 2025 Aug  8 00:00:30.000 to 6075 Dec 31 23:59:59.999 by +/- 140 min\n",
      "! Notice ! NAVSTAR GPS SV G22 in '35163570.dat': ToC 2005 Dec 23 03:59:44.000 not in 2025 Aug  8 00:00:30.000 to 6075 Dec 31 23:59:59.999 by +/- 140 min\n",
      "! Notice ! NAVSTAR GPS SV G04 in '35163570.dat': ToC 2005 Dec 23 06:00:00.000 not in 2025 Aug  8 00:00:30.000 to 6075 Dec 31 23:59:59.999 by +/- 140 min\n",
      "! Notice ! NAVSTAR GPS SV G08 in '35163570.dat': ToC 2005 Dec 23 06:00:00.000 not in 2025 Aug  8 00:00:30.000 to 6075 Dec 31 23:59:59.999 by +/- 140 min\n",
      "! Notice ! NAVSTAR GPS SV G09 in '35163570.dat': ToC 2005 Dec 23 06:00:00.000 not in 2025 Aug  8 00:00:30.000 to 6075 Dec 31 23:59:59.999 by +/- 140 min\n",
      "! Notice ! NAVSTAR GPS SV G07 in '35163570.dat': ToC 2005 Dec 23 06:00:00.000 not in 2025 Aug  8 00:00:30.000 to 6075 Dec 31 23:59:59.999 by +/- 140 min\n",
      "! Notice ! NAVSTAR GPS SV G30 in '35163570.dat': ToC 2005 Dec 23 06:00:00.000 not in 2025 Aug  8 00:00:30.000 to 6075 Dec 31 23:59:59.999 by +/- 140 min\n",
      "! Notice ! NAVSTAR GPS SV G14 in '35163570.dat': ToC 2005 Dec 23 06:00:00.000 not in 2025 Aug  8 00:00:30.000 to 6075 Dec 31 23:59:59.999 by +/- 140 min\n",
      "! Notice ! NAVSTAR GPS SV G21 in '35163570.dat': ToC 2005 Dec 23 06:00:00.000 not in 2025 Aug  8 00:00:30.000 to 6075 Dec 31 23:59:59.999 by +/- 140 min\n",
      "! Notice ! NAVSTAR GPS SV G27 in '35163570.dat': ToC 2005 Dec 23 06:00:00.000 not in 2025 Aug  8 00:00:30.000 to 6075 Dec 31 23:59:59.999 by +/- 140 min\n",
      "! Notice ! NAVSTAR GPS SV G22 in '35163570.dat': ToC 2005 Dec 23 06:00:00.000 not in 2025 Aug  8 00:00:30.000 to 6075 Dec 31 23:59:59.999 by +/- 140 min\n",
      "! Notice ! NAVSTAR GPS SV G05 in '35163570.dat': ToC 2005 Dec 23 06:00:00.000 not in 2025 Aug  8 00:00:30.000 to 6075 Dec 31 23:59:59.999 by +/- 140 min\n",
      "! Notice ! NAVSTAR GPS SV G13 in '35163570.dat': ToC 2005 Dec 23 06:00:00.000 not in 2025 Aug  8 00:00:30.000 to 6075 Dec 31 23:59:59.999 by +/- 140 min\n",
      "! Notice ! NAVSTAR GPS SV G17 in '35163570.dat': ToC 2005 Dec 23 06:00:00.000 not in 2025 Aug  8 00:00:30.000 to 6075 Dec 31 23:59:59.999 by +/- 140 min\n",
      "! Notice ! NAVSTAR GPS SV G27 in '35163570.dat': ToC 2005 Dec 23 05:59:44.000 not in 2025 Aug  8 00:00:30.000 to 6075 Dec 31 23:59:59.999 by +/- 140 min\n",
      "! Notice ! NAVSTAR GPS SV G02 in '35163570.dat': ToC 2005 Dec 23 06:00:00.000 not in 2025 Aug  8 00:00:30.000 to 6075 Dec 31 23:59:59.999 by +/- 140 min\n",
      "! Notice ! NAVSTAR GPS SV G19 in '35163570.dat': ToC 2005 Dec 23 06:00:00.000 not in 2025 Aug  8 00:00:30.000 to 6075 Dec 31 23:59:59.999 by +/- 140 min\n",
      "! Notice ! NAVSTAR GPS SV G01 in '35163570.dat': ToC 2005 Dec 23 06:00:00.000 not in 2025 Aug  8 00:00:30.000 to 6075 Dec 31 23:59:59.999 by +/- 140 min\n",
      "! Notice ! NAVSTAR GPS SV G15 in '35163570.dat': ToC 2005 Dec 23 06:00:00.000 not in 2025 Aug  8 00:00:30.000 to 6075 Dec 31 23:59:59.999 by +/- 140 min\n",
      "! Notice ! NAVSTAR GPS SV G08 in '35163570.dat': ToC 2005 Dec 23 08:00:00.000 not in 2025 Aug  8 00:00:30.000 to 6075 Dec 31 23:59:59.999 by +/- 140 min\n",
      "! Notice ! NAVSTAR GPS SV G15 in '35163570.dat': ToC 2005 Dec 23 08:00:00.000 not in 2025 Aug  8 00:00:30.000 to 6075 Dec 31 23:59:59.999 by +/- 140 min\n",
      "! Notice ! NAVSTAR GPS SV G01 in '35163570.dat': ToC 2005 Dec 23 08:00:00.000 not in 2025 Aug  8 00:00:30.000 to 6075 Dec 31 23:59:59.999 by +/- 140 min\n",
      "! Notice ! NAVSTAR GPS SV G07 in '35163570.dat': ToC 2005 Dec 23 08:00:00.000 not in 2025 Aug  8 00:00:30.000 to 6075 Dec 31 23:59:59.999 by +/- 140 min\n",
      "! Notice ! NAVSTAR GPS SV G09 in '35163570.dat': ToC 2005 Dec 23 08:00:00.000 not in 2025 Aug  8 00:00:30.000 to 6075 Dec 31 23:59:59.999 by +/- 140 min\n",
      "! Notice ! NAVSTAR GPS SV G14 in '35163570.dat': ToC 2005 Dec 23 08:00:00.000 not in 2025 Aug  8 00:00:30.000 to 6075 Dec 31 23:59:59.999 by +/- 140 min\n",
      "! Notice ! NAVSTAR GPS SV G30 in '35163570.dat': ToC 2005 Dec 23 08:00:00.000 not in 2025 Aug  8 00:00:30.000 to 6075 Dec 31 23:59:59.999 by +/- 140 min\n",
      "! Notice ! NAVSTAR GPS SV G22 in '35163570.dat': ToC 2005 Dec 23 08:00:00.000 not in 2025 Aug  8 00:00:30.000 to 6075 Dec 31 23:59:59.999 by +/- 140 min\n",
      "! Notice ! NAVSTAR GPS SV G17 in '35163570.dat': ToC 2005 Dec 23 08:00:00.000 not in 2025 Aug  8 00:00:30.000 to 6075 Dec 31 23:59:59.999 by +/- 140 min\n",
      "! Notice ! NAVSTAR GPS SV G02 in '35163570.dat': ToC 2005 Dec 23 08:00:00.000 not in 2025 Aug  8 00:00:30.000 to 6075 Dec 31 23:59:59.999 by +/- 140 min\n",
      "! Notice ! NAVSTAR GPS SV G19 in '35163570.dat': ToC 2005 Dec 23 08:00:00.000 not in 2025 Aug  8 00:00:30.000 to 6075 Dec 31 23:59:59.999 by +/- 140 min\n",
      "! Notice ! NAVSTAR GPS SV G13 in '35163570.dat': ToC 2005 Dec 23 08:00:00.000 not in 2025 Aug  8 00:00:30.000 to 6075 Dec 31 23:59:59.999 by +/- 140 min\n",
      "! Notice ! NAVSTAR GPS SV G14 in '35163570.dat': ToC 2005 Dec 23 08:44:32.000 not in 2025 Aug  8 00:00:30.000 to 6075 Dec 31 23:59:59.999 by +/- 140 min\n",
      "! Notice ! NAVSTAR GPS SV G06 in '35163570.dat': ToC 2005 Dec 23 08:00:00.000 not in 2025 Aug  8 00:00:30.000 to 6075 Dec 31 23:59:59.999 by +/- 140 min\n",
      "! Notice ! NAVSTAR GPS SV G24 in '35163570.dat': ToC 2005 Dec 23 08:00:00.000 not in 2025 Aug  8 00:00:30.000 to 6075 Dec 31 23:59:59.999 by +/- 140 min\n",
      "! Notice ! NAVSTAR GPS SV G30 in '35163570.dat': ToC 2005 Dec 23 07:59:44.000 not in 2025 Aug  8 00:00:30.000 to 6075 Dec 31 23:59:59.999 by +/- 140 min\n",
      "! Notice ! NAVSTAR GPS SV G24 in '35163570.dat': ToC 2005 Dec 23 10:00:00.000 not in 2025 Aug  8 00:00:30.000 to 6075 Dec 31 23:59:59.999 by +/- 140 min\n",
      "! Notice ! NAVSTAR GPS SV G15 in '35163570.dat': ToC 2005 Dec 23 10:00:00.000 not in 2025 Aug  8 00:00:30.000 to 6075 Dec 31 23:59:59.999 by +/- 140 min\n",
      "! Notice ! NAVSTAR GPS SV G01 in '35163570.dat': ToC 2005 Dec 23 10:00:00.000 not in 2025 Aug  8 00:00:30.000 to 6075 Dec 31 23:59:59.999 by +/- 140 min\n",
      "! Notice ! NAVSTAR GPS SV G14 in '35163570.dat': ToC 2005 Dec 23 10:00:00.000 not in 2025 Aug  8 00:00:30.000 to 6075 Dec 31 23:59:59.999 by +/- 140 min\n",
      "! Notice ! NAVSTAR GPS SV G22 in '35163570.dat': ToC 2005 Dec 23 10:00:00.000 not in 2025 Aug  8 00:00:30.000 to 6075 Dec 31 23:59:59.999 by +/- 140 min\n",
      "! Notice ! NAVSTAR GPS SV G30 in '35163570.dat': ToC 2005 Dec 23 09:59:44.000 not in 2025 Aug  8 00:00:30.000 to 6075 Dec 31 23:59:59.999 by +/- 140 min\n",
      "! Notice ! NAVSTAR GPS SV G17 in '35163570.dat': ToC 2005 Dec 23 10:00:00.000 not in 2025 Aug  8 00:00:30.000 to 6075 Dec 31 23:59:59.999 by +/- 140 min\n",
      "! Notice ! NAVSTAR GPS SV G19 in '35163570.dat': ToC 2005 Dec 23 10:00:00.000 not in 2025 Aug  8 00:00:30.000 to 6075 Dec 31 23:59:59.999 by +/- 140 min\n",
      "! Notice ! NAVSTAR GPS SV G13 in '35163570.dat': ToC 2005 Dec 23 10:00:00.000 not in 2025 Aug  8 00:00:30.000 to 6075 Dec 31 23:59:59.999 by +/- 140 min\n",
      "! Notice ! NAVSTAR GPS SV G06 in '35163570.dat': ToC 2005 Dec 23 10:00:00.000 not in 2025 Aug  8 00:00:30.000 to 6075 Dec 31 23:59:59.999 by +/- 140 min\n",
      "! Notice ! NAVSTAR GPS SV G11 in '35163570.dat': ToC 2005 Dec 23 10:00:00.000 not in 2025 Aug  8 00:00:30.000 to 6075 Dec 31 23:59:59.999 by +/- 140 min\n",
      "! Notice ! NAVSTAR GPS SV G12 in '35163570.dat': ToC 2005 Dec 23 10:00:00.000 not in 2025 Aug  8 00:00:30.000 to 6075 Dec 31 23:59:59.999 by +/- 140 min\n",
      "! Notice ! NAVSTAR GPS SV G25 in '35163570.dat': ToC 2005 Dec 23 10:00:00.000 not in 2025 Aug  8 00:00:30.000 to 6075 Dec 31 23:59:59.999 by +/- 140 min\n",
      "! Notice ! NAVSTAR GPS SV G06 in '35163570.dat': ToC 2005 Dec 23 09:59:44.000 not in 2025 Aug  8 00:00:30.000 to 6075 Dec 31 23:59:59.999 by +/- 140 min\n",
      "! Notice ! NAVSTAR GPS SV G24 in '35163570.dat': ToC 2005 Dec 23 12:00:00.000 not in 2025 Aug  8 00:00:30.000 to 6075 Dec 31 23:59:59.999 by +/- 140 min\n",
      "! Notice ! NAVSTAR GPS SV G22 in '35163570.dat': ToC 2005 Dec 23 12:00:00.000 not in 2025 Aug  8 00:00:30.000 to 6075 Dec 31 23:59:59.999 by +/- 140 min\n",
      "! Notice ! NAVSTAR GPS SV G14 in '35163570.dat': ToC 2005 Dec 23 12:00:00.000 not in 2025 Aug  8 00:00:30.000 to 6075 Dec 31 23:59:59.999 by +/- 140 min\n",
      "! Notice ! NAVSTAR GPS SV G17 in '35163570.dat': ToC 2005 Dec 23 12:00:00.000 not in 2025 Aug  8 00:00:30.000 to 6075 Dec 31 23:59:59.999 by +/- 140 min\n",
      "! Notice ! NAVSTAR GPS SV G12 in '35163570.dat': ToC 2005 Dec 23 12:00:00.000 not in 2025 Aug  8 00:00:30.000 to 6075 Dec 31 23:59:59.999 by +/- 140 min\n",
      "! Notice ! NAVSTAR GPS SV G19 in '35163570.dat': ToC 2005 Dec 23 12:00:00.000 not in 2025 Aug  8 00:00:30.000 to 6075 Dec 31 23:59:59.999 by +/- 140 min\n",
      "! Notice ! NAVSTAR GPS SV G11 in '35163570.dat': ToC 2005 Dec 23 12:00:00.000 not in 2025 Aug  8 00:00:30.000 to 6075 Dec 31 23:59:59.999 by +/- 140 min\n",
      "! Notice ! NAVSTAR GPS SV G06 in '35163570.dat': ToC 2005 Dec 23 11:59:44.000 not in 2025 Aug  8 00:00:30.000 to 6075 Dec 31 23:59:59.999 by +/- 140 min\n",
      "! Notice ! NAVSTAR GPS SV G25 in '35163570.dat': ToC 2005 Dec 23 12:00:00.000 not in 2025 Aug  8 00:00:30.000 to 6075 Dec 31 23:59:59.999 by +/- 140 min\n",
      "! Notice ! NAVSTAR GPS SV G24 in '35163570.dat': ToC 2005 Dec 23 11:59:44.000 not in 2025 Aug  8 00:00:30.000 to 6075 Dec 31 23:59:59.999 by +/- 140 min\n",
      "! Notice ! NAVSTAR GPS SV G21 in '35163570.dat': ToC 2005 Dec 23 12:00:00.000 not in 2025 Aug  8 00:00:30.000 to 6075 Dec 31 23:59:59.999 by +/- 140 min\n",
      "! Notice ! NAVSTAR GPS SV G29 in '35163570.dat': ToC 2005 Dec 23 12:00:00.000 not in 2025 Aug  8 00:00:30.000 to 6075 Dec 31 23:59:59.999 by +/- 140 min\n",
      "! Notice ! NAVSTAR GPS SV G05 in '35163570.dat': ToC 2005 Dec 23 12:00:00.000 not in 2025 Aug  8 00:00:30.000 to 6075 Dec 31 23:59:59.999 by +/- 140 min\n",
      "! Notice ! NAVSTAR GPS SV G28 in '35163570.dat': ToC 2005 Dec 23 12:00:00.000 not in 2025 Aug  8 00:00:30.000 to 6075 Dec 31 23:59:59.999 by +/- 140 min\n",
      "! Notice ! NAVSTAR GPS SV G24 in '35163570.dat': ToC 2005 Dec 23 13:59:44.000 not in 2025 Aug  8 00:00:30.000 to 6075 Dec 31 23:59:59.999 by +/- 140 min\n",
      "! Notice ! NAVSTAR GPS SV G21 in '35163570.dat': ToC 2005 Dec 23 14:00:00.000 not in 2025 Aug  8 00:00:30.000 to 6075 Dec 31 23:59:59.999 by +/- 140 min\n",
      "! Notice ! NAVSTAR GPS SV G12 in '35163570.dat': ToC 2005 Dec 23 14:00:00.000 not in 2025 Aug  8 00:00:30.000 to 6075 Dec 31 23:59:59.999 by +/- 140 min\n",
      "! Notice ! NAVSTAR GPS SV G05 in '35163570.dat': ToC 2005 Dec 23 14:00:00.000 not in 2025 Aug  8 00:00:30.000 to 6075 Dec 31 23:59:59.999 by +/- 140 min\n",
      "! Notice ! NAVSTAR GPS SV G29 in '35163570.dat': ToC 2005 Dec 23 14:00:00.000 not in 2025 Aug  8 00:00:30.000 to 6075 Dec 31 23:59:59.999 by +/- 140 min\n",
      "! Notice ! NAVSTAR GPS SV G19 in '35163570.dat': ToC 2005 Dec 23 14:00:00.000 not in 2025 Aug  8 00:00:30.000 to 6075 Dec 31 23:59:59.999 by +/- 140 min\n",
      "! Notice ! NAVSTAR GPS SV G28 in '35163570.dat': ToC 2005 Dec 23 14:00:00.000 not in 2025 Aug  8 00:00:30.000 to 6075 Dec 31 23:59:59.999 by +/- 140 min\n",
      "! Notice ! NAVSTAR GPS SV G11 in '35163570.dat': ToC 2005 Dec 23 14:00:00.000 not in 2025 Aug  8 00:00:30.000 to 6075 Dec 31 23:59:59.999 by +/- 140 min\n",
      "! Notice ! NAVSTAR GPS SV G06 in '35163570.dat': ToC 2005 Dec 23 14:00:00.000 not in 2025 Aug  8 00:00:30.000 to 6075 Dec 31 23:59:59.999 by +/- 140 min\n",
      "! Notice ! NAVSTAR GPS SV G25 in '35163570.dat': ToC 2005 Dec 23 14:00:00.000 not in 2025 Aug  8 00:00:30.000 to 6075 Dec 31 23:59:59.999 by +/- 140 min\n",
      "! Notice ! NAVSTAR GPS SV G18 in '35163570.dat': ToC 2005 Dec 23 14:00:00.000 not in 2025 Aug  8 00:00:30.000 to 6075 Dec 31 23:59:59.999 by +/- 140 min\n",
      "! Notice ! NAVSTAR GPS SV G31 in '35163570.dat': ToC 2005 Dec 23 14:00:00.000 not in 2025 Aug  8 00:00:30.000 to 6075 Dec 31 23:59:59.999 by +/- 140 min\n",
      "! Notice ! NAVSTAR GPS SV G18 in '35163570.dat': ToC 2005 Dec 23 15:14:40.000 not in 2025 Aug  8 00:00:30.000 to 6075 Dec 31 23:59:59.999 by +/- 140 min\n",
      "! Notice ! NAVSTAR GPS SV G12 in '35163570.dat': ToC 2005 Dec 23 13:59:44.000 not in 2025 Aug  8 00:00:30.000 to 6075 Dec 31 23:59:59.999 by +/- 140 min\n",
      "! Notice ! NAVSTAR GPS SV G15 in '35163570.dat': ToC 2005 Dec 23 14:00:00.000 not in 2025 Aug  8 00:00:30.000 to 6075 Dec 31 23:59:59.999 by +/- 140 min\n",
      "! Notice ! NAVSTAR GPS SV G26 in '35163570.dat': ToC 2005 Dec 23 14:00:00.000 not in 2025 Aug  8 00:00:30.000 to 6075 Dec 31 23:59:59.999 by +/- 140 min\n",
      "! Notice ! NAVSTAR GPS SV G23 in '35163570.dat': ToC 2005 Dec 23 14:00:00.000 not in 2025 Aug  8 00:00:30.000 to 6075 Dec 31 23:59:59.999 by +/- 140 min\n",
      "! Notice ! NAVSTAR GPS SV G13 in '35163570.dat': ToC 2005 Dec 23 14:00:00.000 not in 2025 Aug  8 00:00:30.000 to 6075 Dec 31 23:59:59.999 by +/- 140 min\n",
      "! Notice ! NAVSTAR GPS SV G15 in '35163570.dat': ToC 2005 Dec 23 16:00:00.000 not in 2025 Aug  8 00:00:30.000 to 6075 Dec 31 23:59:59.999 by +/- 140 min\n",
      "! Notice ! NAVSTAR GPS SV G21 in '35163570.dat': ToC 2005 Dec 23 16:00:00.000 not in 2025 Aug  8 00:00:30.000 to 6075 Dec 31 23:59:59.999 by +/- 140 min\n",
      "! Notice ! NAVSTAR GPS SV G13 in '35163570.dat': ToC 2005 Dec 23 16:00:00.000 not in 2025 Aug  8 00:00:30.000 to 6075 Dec 31 23:59:59.999 by +/- 140 min\n",
      "! Notice ! NAVSTAR GPS SV G12 in '35163570.dat': ToC 2005 Dec 23 15:59:44.000 not in 2025 Aug  8 00:00:30.000 to 6075 Dec 31 23:59:59.999 by +/- 140 min\n",
      "! Notice ! NAVSTAR GPS SV G29 in '35163570.dat': ToC 2005 Dec 23 16:00:00.000 not in 2025 Aug  8 00:00:30.000 to 6075 Dec 31 23:59:59.999 by +/- 140 min\n",
      "! Notice ! NAVSTAR GPS SV G05 in '35163570.dat': ToC 2005 Dec 23 16:00:00.000 not in 2025 Aug  8 00:00:30.000 to 6075 Dec 31 23:59:59.999 by +/- 140 min\n",
      "! Notice ! NAVSTAR GPS SV G18 in '35163570.dat': ToC 2005 Dec 23 16:00:00.000 not in 2025 Aug  8 00:00:30.000 to 6075 Dec 31 23:59:59.999 by +/- 140 min\n",
      "! Notice ! NAVSTAR GPS SV G11 in '35163570.dat': ToC 2005 Dec 23 16:00:00.000 not in 2025 Aug  8 00:00:30.000 to 6075 Dec 31 23:59:59.999 by +/- 140 min\n",
      "! Notice ! NAVSTAR GPS SV G23 in '35163570.dat': ToC 2005 Dec 23 16:00:00.000 not in 2025 Aug  8 00:00:30.000 to 6075 Dec 31 23:59:59.999 by +/- 140 min\n",
      "! Notice ! NAVSTAR GPS SV G26 in '35163570.dat': ToC 2005 Dec 23 16:00:00.000 not in 2025 Aug  8 00:00:30.000 to 6075 Dec 31 23:59:59.999 by +/- 140 min\n",
      "! Notice ! NAVSTAR GPS SV G25 in '35163570.dat': ToC 2005 Dec 23 16:00:00.000 not in 2025 Aug  8 00:00:30.000 to 6075 Dec 31 23:59:59.999 by +/- 140 min\n",
      "! Notice ! NAVSTAR GPS SV G16 in '35163570.dat': ToC 2005 Dec 23 15:59:44.000 not in 2025 Aug  8 00:00:30.000 to 6075 Dec 31 23:59:59.999 by +/- 140 min\n",
      "! Notice ! NAVSTAR GPS SV G10 in '35163570.dat': ToC 2005 Dec 23 16:00:00.000 not in 2025 Aug  8 00:00:30.000 to 6075 Dec 31 23:59:59.999 by +/- 140 min\n",
      "! Notice ! NAVSTAR GPS SV G23 in '35163570.dat': ToC 2005 Dec 23 17:14:40.000 not in 2025 Aug  8 00:00:30.000 to 6075 Dec 31 23:59:59.999 by +/- 140 min\n",
      "! Notice ! NAVSTAR GPS SV G15 in '35163570.dat': ToC 2005 Dec 23 18:00:00.000 not in 2025 Aug  8 00:00:30.000 to 6075 Dec 31 23:59:59.999 by +/- 140 min\n",
      "! Notice ! NAVSTAR GPS SV G10 in '35163570.dat': ToC 2005 Dec 23 18:00:00.000 not in 2025 Aug  8 00:00:30.000 to 6075 Dec 31 23:59:59.999 by +/- 140 min\n",
      "! Notice ! NAVSTAR GPS SV G13 in '35163570.dat': ToC 2005 Dec 23 18:00:00.000 not in 2025 Aug  8 00:00:30.000 to 6075 Dec 31 23:59:59.999 by +/- 140 min\n",
      "! Notice ! NAVSTAR GPS SV G18 in '35163570.dat': ToC 2005 Dec 23 18:00:00.000 not in 2025 Aug  8 00:00:30.000 to 6075 Dec 31 23:59:59.999 by +/- 140 min\n",
      "! Notice ! NAVSTAR GPS SV G29 in '35163570.dat': ToC 2005 Dec 23 18:00:00.000 not in 2025 Aug  8 00:00:30.000 to 6075 Dec 31 23:59:59.999 by +/- 140 min\n",
      "! Notice ! NAVSTAR GPS SV G05 in '35163570.dat': ToC 2005 Dec 23 18:00:00.000 not in 2025 Aug  8 00:00:30.000 to 6075 Dec 31 23:59:59.999 by +/- 140 min\n",
      "! Notice ! NAVSTAR GPS SV G23 in '35163570.dat': ToC 2005 Dec 23 18:00:00.000 not in 2025 Aug  8 00:00:30.000 to 6075 Dec 31 23:59:59.999 by +/- 140 min\n",
      "! Notice ! NAVSTAR GPS SV G16 in '35163570.dat': ToC 2005 Dec 23 18:00:00.000 not in 2025 Aug  8 00:00:30.000 to 6075 Dec 31 23:59:59.999 by +/- 140 min\n",
      "! Notice ! NAVSTAR GPS SV G26 in '35163570.dat': ToC 2005 Dec 23 18:00:00.000 not in 2025 Aug  8 00:00:30.000 to 6075 Dec 31 23:59:59.999 by +/- 140 min\n",
      "! Notice ! NAVSTAR GPS SV G27 in '35163570.dat': ToC 2005 Dec 23 18:00:00.000 not in 2025 Aug  8 00:00:30.000 to 6075 Dec 31 23:59:59.999 by +/- 140 min\n"
     ]
    }
   ],
   "source": [
    "# what was the GPS week?\n",
    "# set this to the correct gps week\n",
    "gpsweek=2378\n",
    "\n",
    "# let's try again!\n",
    "print('./teqc -week {0:d} {1:s} > test.o'.format(gpsweek,datfile))\n",
    "!./teqc -week $gpsweek $datfile > test.o\n"
   ]
  },
  {
   "cell_type": "markdown",
   "id": "efb98a6a",
   "metadata": {},
   "source": [
    "Lots of complaining this time, but did it make a difference? We can look at the file again to see..."
   ]
  },
  {
   "cell_type": "code",
   "execution_count": 16,
   "id": "05e07785",
   "metadata": {},
   "outputs": [
    {
     "name": "stdout",
     "output_type": "stream",
     "text": [
      "     2.11           OBSERVATION DATA    G (GPS)             RINEX VERSION / TYPE\n",
      "teqc  2019Feb25                         20250820 07:10:41UTCPGM / RUN BY / DATE\n",
      "Linux 2.6.32-573.12.1.x86_64|x86_64|gcc -static|Linux 64|=+ COMMENT\n",
      "BIT 2 OF LLI FLAGS DATA COLLECTED UNDER A/S CONDITION       COMMENT\n",
      "35163570                                                    MARKER NAME\n",
      "3570                                                        MARKER NUMBER\n",
      "-Unknown-           -Unknown-                               OBSERVER / AGENCY\n",
      "0220413516          TRIMBLE R7          2.32                REC # / TYPE / VERS\n",
      "-Unknown-           TRM39105.00     NONE                    ANT # / TYPE\n",
      " -2421225.6053 -4595396.6929  3690372.3820                  APPROX POSITION XYZ\n",
      "        0.0000        0.0000        0.0000                  ANTENNA: DELTA H/E/N\n",
      "     1     1                                                WAVELENGTH FACT L1/2\n",
      "     7    L1    L2    C1    P1    P2    S1    S2            # / TYPES OF OBSERV\n",
      "    18                                                      LEAP SECONDS\n",
      " SNR is mapped to RINEX snr flag value [0-9]                COMMENT\n",
      "  L1 & L2: min(max(int(snr_dBHz/6), 0), 9)                  COMMENT\n",
      "  2025     8     8     0     0   30.0000000     GPS         TIME OF FIRST OBS\n",
      "                                                            END OF HEADER\n",
      " 25  8  8  0  0 30.0000000  0 10G02G26G09G03G16G04G06G28G31G01\n",
      " -40413987.68456 -31443736.47353  24676488.3134                   24676494.1914\n",
      "        36.0004         20.7504\n",
      " -44119624.38757 -34326255.90257  21364610.2424                   21364608.9844\n",
      "        44.5004         44.0004\n",
      " -14303479.39156 -11106880.02355  23597335.8754                   23597337.4734\n",
      "        41.0004         32.5004\n",
      " -59948773.61757 -46671811.64158  19802861.3444                   19802858.9774\n",
      "        47.0004         51.2504\n",
      " -23858848.91057 -20618655.54354  22148499.4304                   22148497.0274\n",
      "        42.7504         29.7504\n",
      " -48718232.22357 -37920031.25456  21048507.4454                   21048504.7814\n",
      "        46.7504         36.2504\n",
      "  -5584262.94156  -4272429.47755  24872777.4534                   24872778.5864\n",
      "        40.2504         31.0004\n",
      " -43572583.07457 -33877709.19954  24285867.1724                   24285865.3594\n",
      "        42.2504         26.0004\n",
      " -64863898.78957 -50490120.19557  21531340.4064                   21531336.1564\n",
      "        46.5004         44.2504\n",
      " -56262387.66457 -43794066.65254  22685485.6724                   22685485.2974\n",
      "        42.2504         28.2504\n",
      " 25  8  8  0  1  0.0000000  0 10G02G26G09G03G16G04G06G28G31G01\n"
     ]
    }
   ],
   "source": [
    "# now the data should be right! yay\n",
    "!head -40 test.o"
   ]
  },
  {
   "cell_type": "markdown",
   "id": "22cde851",
   "metadata": {},
   "source": [
    "Those dates look a lot more plausible, so it looks like the data were interpreted correctly this time. We have a RINEX file! But we are still missing a lot of important details $-$ such as the metadata for the acquisition. So let's get on with that..."
   ]
  },
  {
   "cell_type": "markdown",
   "id": "e576fb8b",
   "metadata": {},
   "source": [
    "### 1.3 Estimating antenna height from slant height\n",
    "\n",
    "When collecting GNSS data, some of the key metadata we collect are the heights of the antennas during data collection. In a typical tripod setup, using GNSS antennas with ground planes, these will usually be slant heights from the station marker to the base of the ground plane, measured using a measuring stick.  \n",
    "\n",
    "Our protocol is to make three measurements of slant height at different parts of the antenna at equipment set-up and three more at take-down. Assuming that the equipment is not significantly disturbed during the data take, the average of these six measurements is a reasonable estimate of the slant height of the antenna during that data take. But is slant height what we need for data processing? *What information on height is included in the RINEX file?*\n",
    "\n",
    "Each GNSS antenna has a 'reference point' $-$ the point to which all measurements are referenced. For common antennas like those in the Trimble Zephyr Geodetic family, this is typically the base of the antenna. Note that this is not what we measure when setting up our equipment...\n",
    "\n",
    "![diagram of antenna height](./antenna_height.png)\n",
    "\n",
    "So how do we turn our slant height measurements to the base of an antenna ground plane into a measurement of the vertical height of the antenna reference point? Pythagoras, with some light subtraction...\n",
    "\n",
    "If $h$ is the desired vertical height of the antenna reference point above the benchmark, $R$ is the measured average slant height to the base of the antenna ground plane, $r$ is the antenna radius and $t$ is the vertical distance between the base of the ground plane and the antenna reference point, then...\n",
    "\n",
    "$$h = \\sqrt{(R^2-r^2)}-t$$\n",
    "\n",
    "Seems straightforward! Where do we get the information for $r$ and $t$, I hear you ask? Well, there are a couple of options: 1) the details are included on a sticker attached to the antenna, and 2) if you know the antenna manufacturer, type and part number you can look it up at the NGS's data repository on GNSS antennas, here: https://www.ngs.noaa.gov/ANTCAL/ (look under \"Browse Antenna Information\")"
   ]
  },
  {
   "cell_type": "code",
   "execution_count": 17,
   "id": "96d095db",
   "metadata": {},
   "outputs": [
    {
     "name": "stdout",
     "output_type": "stream",
     "text": [
      "slant height: 0.891 m, vertical height of antenna reference point 0.831 m\n"
     ]
    }
   ],
   "source": [
    "# so let's calculate the height, then!\n",
    "\n",
    "# pre-survey slant height\n",
    "slant_height_pre=np.mean([89.20,89.25,89.00])/100  # include all three measurements here \n",
    "# post-survey slant height\n",
    "slant_height_post=np.mean([89.20,89.15,88.95])/100  # include all three measurements here \n",
    "\n",
    "# antenna radius (from looking up the antenna information)\n",
    "r = 16.98/100\n",
    "\n",
    "# vertical distance between base of the ground plane and the antenna reference point\n",
    "t = (8.546-4.111)/100\n",
    "\n",
    "# and some calculatin'\n",
    "R=(slant_height_pre+slant_height_post)/2\n",
    "h=np.sqrt(R**2-r**2)-t\n",
    "\n",
    "print('slant height: {0:5.3f} m, vertical height of antenna reference point {1:5.3f} m'.format(R,h))"
   ]
  },
  {
   "cell_type": "markdown",
   "id": "c66a1d00",
   "metadata": {},
   "source": [
    "### 1.4 Updating RINEX metadata with teqc\n",
    "\n",
    "teqc also allows you to edit the metadata of your RINEX file, which, if you look at the header of our recently converted file, is very necessary! You can look at the manual for more details:\n",
    "https://www.unavco.org/software/data-processing/teqc/doc/UNAVCO_Teqc_Tutorial.pdf \n",
    "\n",
    "Or, you can run `teqc +help` and get a very long list! \n",
    "\n",
    "Some key options we might want to use:\n",
    "\n",
    "* -O.at \\<antenna type\\> $-$ give the NGS antenna code here\n",
    "* -O.an \\<antenna number\\> $-$ give the antenna serial number here\n",
    "* -O.mo \\<site code\\> $-$ give the four-character benchmark code here\n",
    "* -O.mn \\<monument number\\> $-$ if you know the benchmark number, give it here (else give '' to blank it out)\n",
    "* -O.pe \\<h e n\\> $-$ give the antenna height (h), plus east and north offsets (0 0) here\n",
    "* -O.o \\<operators\\> $-$ give the names of the people who collected this data\n",
    "* -O.ag \\<agency\\> $-$ give the name of the agency that collected this data (UCR?)\n",
    "* -O.r \\<runner of teqc\\> $-$ give your name here, since you are running teqc!\n",
    "* -tbin 1d $-$ if necessary, divide your data into daily files\n",
    "\n",
    "\n",
    "To run this 'editing' mode of teqc, the syntax is:\n",
    "`teqc <options> <site_code> input_rinex`"
   ]
  },
  {
   "cell_type": "code",
   "execution_count": 18,
   "id": "3e17141a",
   "metadata": {},
   "outputs": [
    {
     "name": "stdout",
     "output_type": "stream",
     "text": [
      "./teqc -O.at TRM57971.00 -O.an 1441040465 -O.mo J701 -O.pe 0.830575 0 0 -O.o 'Katie Baraggiotta' -O.ag 'University of California, Riverside' -O.r 'K Rivera' -O.mn '' -tbin 1d j701 test.o\n",
      "teqc:  creating file 'j7012200.25o' ...\n"
     ]
    }
   ],
   "source": [
    "# set up teqc to run with all of the options\n",
    "# now this will rename everything to have the proper header!!\n",
    "\n",
    "# site information (4 character code)\n",
    "site_code = \"J701\"\n",
    "\n",
    "# operator information (from the logsheet)\n",
    "operator_names = \"Katie Baraggiotta\"\n",
    "operator_inst = \"University of California, Riverside\"\n",
    "my_name = \"K Rivera\"\n",
    "\n",
    "# antenna information (again, from the logsheet)\n",
    "antenna_type = \"TRM57971.00\"\n",
    "antenna_sn = \"1441040465\"\n",
    "\n",
    "# print out the command in case you need to run it somewhere else\n",
    "option_str=\"-O.at {0:s} -O.an {1:s} -O.mo {2:s} -O.pe {3:f} 0 0 -O.o '{4:s}' -O.ag '{5:s}' -O.r '{6:s}' -O.mn '' -tbin 1d {7:s} test.o\".format(antenna_type,antenna_sn,site_code,h,operator_names,operator_inst,my_name,site_code.lower())\n",
    "\n",
    "print(\"./teqc {0:s}\".format(option_str))\n",
    "\n",
    "!./teqc $option_str"
   ]
  },
  {
   "cell_type": "markdown",
   "id": "5426eeb7",
   "metadata": {},
   "source": [
    "And if all went well, you should have a new, and properly named file, based on the site code you gave! Let's have a look at it!"
   ]
  },
  {
   "cell_type": "code",
   "execution_count": 19,
   "id": "922f5638",
   "metadata": {},
   "outputs": [
    {
     "name": "stdout",
     "output_type": "stream",
     "text": [
      "j7012190.25o  j7012200.25o  test.o\n"
     ]
    }
   ],
   "source": [
    "!ls *o"
   ]
  },
  {
   "cell_type": "code",
   "execution_count": 22,
   "id": "6f9c7819",
   "metadata": {},
   "outputs": [
    {
     "name": "stdout",
     "output_type": "stream",
     "text": [
      "     2.11           OBSERVATION DATA    G (GPS)             RINEX VERSION / TYPE\n",
      "teqc  2019Feb25     K Rivera            20250820 07:07:31UTCPGM / RUN BY / DATE\n",
      "Linux 2.6.32-573.12.1.x86_64|x86_64|gcc -static|Linux 64|=+ COMMENT\n",
      "teqc  2019Feb25                         20250820 07:01:51UTCCOMMENT\n",
      "BIT 2 OF LLI FLAGS DATA COLLECTED UNDER A/S CONDITION       COMMENT\n",
      "J701                                                        MARKER NAME\n",
      "                                                            MARKER NUMBER\n",
      "Katie Baraggiotta   University of California, Riverside     OBSERVER / AGENCY\n",
      "0220413516          TRIMBLE R7          2.32                REC # / TYPE / VERS\n",
      "1441040465          TRM57971.00                             ANT # / TYPE\n",
      " -2421224.7892 -4595396.3578  3690373.5762                  APPROX POSITION XYZ\n",
      "        0.8306        0.0000        0.0000                  ANTENNA: DELTA H/E/N\n",
      "     1     1                                                WAVELENGTH FACT L1/2\n",
      "     7    L1    L2    C1    P1    P2    S1    S2            # / TYPES OF OBSERV\n",
      "    18                                                      LEAP SECONDS\n",
      " SNR is mapped to RINEX snr flag value [0-9]                COMMENT\n",
      "  L1 & L2: min(max(int(snr_dBHz/6), 0), 9)                  COMMENT\n",
      "  2025     8     7    19    35   30.0000000     GPS         TIME OF FIRST OBS\n",
      "                                                            END OF HEADER\n",
      " 25  8  7 19 35 30.0000000  0  6G02G08G10G23G27G32\n",
      "   -283416.41457   -173121.09054  23319278.0704                   23319274.4384\n",
      "        44.0004         29.7504\n",
      "   -114822.41857    -70455.38756  22525457.1174                   22525458.9384\n",
      "        44.5004         40.2504\n",
      "   -124328.14158    -78267.98858  21111498.7034                   21111497.5234\n",
      "        50.7504         51.7504\n",
      "    -43640.59057    -27050.57454  22791999.5164                   22791997.8134\n",
      "        44.0004         29.5004\n",
      "    -28381.34857    -17661.87156  22509524.9384                   22509526.0004\n",
      "        44.7504         40.5004\n",
      "   -151554.59858    -92731.80158  20418347.3054                   20418345.5354\n",
      "        50.7504         53.5004\n",
      " 25  8  7 19 36  0.0000000  0  8G02G08G10G23G24G27G28G32\n",
      "   -458955.53147   -309904.75445  23285873.9064                   23285870.0984\n",
      "        43.5004         30.0004\n",
      "   -186069.51647   -125972.70746  22511899.2734                   22511900.8164\n",
      "        44.5004         40.5004\n",
      "   -201854.74248   -138678.35248  21096745.5394                   21096744.5554\n",
      "        51.2504         51.7504\n",
      "    -71886.95747    -49060.80945  22786624.1334                   22786623.0434\n"
     ]
    }
   ],
   "source": [
    "!head -40 j7012190.25o "
   ]
  },
  {
   "cell_type": "markdown",
   "id": "b32589c7",
   "metadata": {},
   "source": [
    "## 2. Prep your own data now!\n",
    "\n",
    "If you have collected your own data, now is a good opportunity to prepare it, using all of the steps $-$ extracting the file from the receiver, converting it to dat format, converting that to RINEX format, using the survey log sheet information to estimate the vertical antenna height, and editing the RINEX headers with the necessary information.\n",
    "\n",
    "You may want to make copies of the various code snippets used above to make a comprehensive code cell that does all of the steps for you $-$ then you will have something you can use in the future!"
   ]
  },
  {
   "cell_type": "code",
   "execution_count": null,
   "id": "1e7f33ed",
   "metadata": {},
   "outputs": [],
   "source": [
    "# compile the code snippets here\n",
    "\n"
   ]
  },
  {
   "cell_type": "markdown",
   "id": "3b32edde",
   "metadata": {},
   "source": [
    "## 3. Processing your data with OPUS\n",
    "\n",
    "OPUS (**O**nline **P**osition **U**ser **S**ervice; https://www.ngs.noaa.gov/OPUS/) is a web-based tool operated by the National Geodetic Survey that processes RINEX format GNSS data that you upload to the website and return a position over email. It is remarkably easy to use, and even if you want to do your own 'proper' processing using a package like GAMIT/GLOBK or GIPSY later on, you will get some sense of the quality of your data from the output. \n",
    "\n",
    "OPUS processes data using a [double-difference approach](https://geodesy.noaa.gov/OPUS/about.jsp), choosing three nearby continuous GNSS stations to form double differences, and trilaterating a location relative to those stations. Its results are not as robust as you would obtain from forming a greater number of double-differences from more stations, and it does not work as well in areas where there is a low density of continuous stations, but for southern California, it still works well.\n",
    "\n",
    "To process data with OPUS, you will need three things:\n",
    "\n",
    "* a RINEX file with between 2 and 48 hours of data\n",
    "* the NGS antenna code for the antenna used (unfortunately it does not read that from the headers like some software will do)\n",
    "* the height of the antenna above the benchmark (unfortunately it does not read that either)\n",
    "\n",
    "Of course, for the data we have just preprocessed, we know all of those things. (And for properly prepared RINEX files from other people, the necessary information is in the headers.)\n",
    "\n",
    "So, to process your data, simply go to the website, select your RINEX file, select the antenna type, enter the vertical height, and enter your email address. You can optionally choose the format of the output (I usually choose the version that produces an XML file as well, as it may be easier to ingest the results later on).\n",
    "\n",
    "Then, hit the 'Upload to Static' button, and wait for the email. It should be done in a few minutes. "
   ]
  },
  {
   "cell_type": "markdown",
   "id": "52c745d1",
   "metadata": {},
   "source": [
    "## 4. Estimate the velocity at VERS\n",
    "\n",
    "Along with the July 2024 data, and the data you may have collected, I have provided RINEX files of other surveys of VERS. By processing these, and compiling date and east, north and up information, you can build a time series of the change in coordinate of the station, and use that to estimate a velocity for the site $-$ either by making a spreadsheet of the values, or by doing it in a more Pythonic way by building a Pandas table, and using an XML reader to populate it with your processed positions. \n",
    "\n",
    "(I can give some hints about how to do this in Python, if you are interested.)\n",
    "\n",
    "My suggested order of tasks: process all the data, plot the changes in position over time (maybe subtract the position of the earliest measurement from the others?), fit a trend line to each component and see what you get. Can you plot your estimated velocity on a map (e.g. using psvelo in GMT or pygmt.plot in PyGMT)? Does it make sense?"
   ]
  },
  {
   "cell_type": "code",
   "execution_count": null,
   "id": "a586095b",
   "metadata": {},
   "outputs": [],
   "source": []
  }
 ],
 "metadata": {
  "kernelspec": {
   "display_name": "Python 3 (ipykernel)",
   "language": "python",
   "name": "python3"
  },
  "language_info": {
   "codemirror_mode": {
    "name": "ipython",
    "version": 3
   },
   "file_extension": ".py",
   "mimetype": "text/x-python",
   "name": "python",
   "nbconvert_exporter": "python",
   "pygments_lexer": "ipython3",
   "version": "3.13.5"
  },
  "widgets": {
   "application/vnd.jupyter.widget-state+json": {
    "state": {},
    "version_major": 2,
    "version_minor": 0
   }
  }
 },
 "nbformat": 4,
 "nbformat_minor": 5
}
