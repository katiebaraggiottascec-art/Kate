{
 "cells": [
  {
   "cell_type": "markdown",
   "id": "df7e20e7",
   "metadata": {},
   "source": [
    "# Simple GNSS data preprocessing and processing\n",
    "\n",
    "Gareth Funning, University of California, Riverside\n",
    "\n",
    "Once we have collected some GNSS data, you might want to process it. Before you do that, you will need to convert the data into a processable format, calculate some important metadata parameters, and edit the datafile headers with useful information. This can take longer than processing the data sometimes!\n",
    "\n",
    "To turn our data files into positions, we can make use of the NGS's spiffy, web-based OPUS processor. If you process several files spanning multiple years, you can turn that into a velocity! And then you really are getting somewhere! "
   ]
  },
  {
   "cell_type": "markdown",
   "id": "a27a4b0d",
   "metadata": {},
   "source": [
    "## 0. Dependencies\n",
    "\n",
    "Jupyter needs these to function! Make sure you're in the right conda environment!"
   ]
  },
  {
   "cell_type": "code",
   "execution_count": 1,
   "id": "57a09282",
   "metadata": {},
   "outputs": [],
   "source": [
    "from os.path import splitext\n",
    "import numpy as np"
   ]
  },
  {
   "cell_type": "markdown",
   "id": "9d2fe25c",
   "metadata": {},
   "source": [
    "## 1. Pre-processing your GNSS data\n",
    "\n",
    "The first thing to do is to convert your data to something we can process! The data we collect tend to be recorded in proprietary binary formats, and so we will want to convert them to something more readable $-$ the RINEX format.\n",
    "\n",
    "\n",
    "### 1.1 RINEX\n",
    "\n",
    "The **R**eceiver **IN**dependent **E**xchange **F**ormat (RINEX for short) is an ASCII-based format used for archiving and processing GNSS data. There are different versions of the format for different applications $-$ navigational data, meterorological data, ionosphere data $-$ but today we will use the version for GNSS *observations*.\n",
    "\n",
    "Included with this notebook are several past versions of RINEX files for GNSS data collected at site VERS (Versity), the NGS benchmark on the UCR campus. We will use these later on to produce a deformation time series for the site. For now, we will use them to examine the file format and contents.\n",
    "\n",
    "First, let's look at the files we have, and the naming convention."
   ]
  },
  {
   "cell_type": "code",
   "execution_count": 2,
   "id": "36a21d6d",
   "metadata": {},
   "outputs": [
    {
     "name": "stdout",
     "output_type": "stream",
     "text": [
      "ls: cannot access '*o': No such file or directory\n"
     ]
    }
   ],
   "source": [
    "# this will list all files with filenames ending with an 'o' (GNSS observation files)\n",
    "\n",
    "!ls -l *o"
   ]
  },
  {
   "cell_type": "markdown",
   "id": "cbb13f4e",
   "metadata": {},
   "source": [
    "These files all follow the same naming convention:\n",
    "\n",
    "SSSSDDDN.YYo\n",
    "\n",
    "- SSSS $-$ four digit site code\n",
    "- DDD $-$ day of year of start of data acquisition\n",
    "- N $-$ number of the acquisition on that GNSS receiver on that day (counting from zero)\n",
    "- YY $-$ year\n",
    "- o $-$ o is for 'observation'\n",
    "\n",
    "Let's look at the contents of one of these files:"
   ]
  },
  {
   "cell_type": "code",
   "execution_count": 3,
   "id": "bfedfb81",
   "metadata": {
    "scrolled": true
   },
   "outputs": [
    {
     "name": "stdout",
     "output_type": "stream",
     "text": [
      "head: cannot open '04223191.t01' for reading: No such file or directory\n"
     ]
    }
   ],
   "source": [
    "# insert the raw file name -kmr\n",
    "# it should look like complete nonsense -- we will change it in this notebook\n",
    "!head -40 04223191.t01"
   ]
  },
  {
   "cell_type": "markdown",
   "id": "78b84884",
   "metadata": {},
   "source": [
    "The file has two parts: \n",
    "1. A header of 21 lines containing important metadata, such as the site code, who collected the data, the receiver and antenna type (and their serial numbers), the approximate site location, the antenna height and details of the data (the start and end times, sample interval, and which observations are recorded $-$ such as which carrier phases and which pseudoranges).\n",
    "2. Data, with time and date stamps for each epoch, as well as the details of the observables for each visible satellite.\n",
    "\n",
    "A RINEX data file containing this information is processable using multiple different processing softwares. But how do we make one?"
   ]
  },
  {
   "cell_type": "markdown",
   "id": "a0d11536",
   "metadata": {},
   "source": [
    "### 1.2 Converting RAW data to RINEX\n",
    "\n",
    "The first step will be to pull the data from the GNSS receiver $-$ and how you do this depends a lot on the receiver type. Some receivers (such as the Trimble NetRS and NetR9, and the Septentrio PolaRx5) log data to internal storage, and require you to connect to a web server on the receiver to access the data. Others, such as the Trimble R7 and Topcon GB-1000, log data to a CompactFlash card within the receiver, which can then be pulled out and read with a card reader at the end of the survey (which is usually much easier to do, especially when out in the field).\n",
    "\n",
    "Assuming we are using a Trimble R7, which are the majority of the GNSS receivers I have access to at UCR, then the data will be recorded to the receiver in a proprietary, binary format ('t01' format). I have included one of these files as well, collected in July 2024 at VERS, to practice with. Let's have a look!"
   ]
  },
  {
   "cell_type": "code",
   "execution_count": 4,
   "id": "e8e17f60",
   "metadata": {},
   "outputs": [
    {
     "name": "stdout",
     "output_type": "stream",
     "text": [
      "-rw-rw-r-- 1 katie katie 103569 Jul  3 12:51 35163180.t01\n",
      "-rw-rw-r-- 1 katie katie 477074 Jul  3 12:51 35163190.t01\n"
     ]
    }
   ],
   "source": [
    "# lets look at all the files that end with .t01\n",
    "!ls -l *.t01"
   ]
  },
  {
   "cell_type": "markdown",
   "id": "8f1a242c",
   "metadata": {},
   "source": [
    "EarthScope (UNAVCO, as-was) is a good source of information on how to convert these proprietary data files to RINEX. For the Trimble data we are using, it is a two step process $-$ first convert the 't01' file to a 'dat' file, and then convert the 'dat' file to RINEX. \n",
    "\n",
    "The conversion program we need for the first step is called runpkr00, and it is a compiled binary executable that only runs on certain hardware (Linux PCs, Windows PCs, Intel Macs, Solaris Unix machines).\n",
    "\n",
    "The runpkr00 executables can be downloaded from this legacy UNAVCO Knowledge Base webpage: https://kb.unavco.org/article/trimble-runpkr00-latest-versions-744.html\n",
    "\n",
    "You should download the version that you need (version 5.40 is good enough for our purposes). If you are running this on Linux (or emulated Linux through WSL2), make sure you copy the `runpkr00` exectuable to the directory containing this notebook and the t01 file."
   ]
  },
  {
   "cell_type": "code",
   "execution_count": 5,
   "id": "b2ff896d-b0e7-4fa1-9dcd-df5294474024",
   "metadata": {},
   "outputs": [],
   "source": [
    "!chmod +x teqc\n"
   ]
  },
  {
   "cell_type": "code",
   "execution_count": 6,
   "id": "5ce48d6b-2b94-4865-b7c1-57fcd50a7a5c",
   "metadata": {},
   "outputs": [],
   "source": [
    "# run the process for the raw data\n",
    "!chmod +x runpkr00"
   ]
  },
  {
   "cell_type": "markdown",
   "id": "8dc29e66",
   "metadata": {},
   "source": [
    "In order to convert the file, we need to run `runpkr00` on the data file. Consulting the [Knowledge Base](https://kb.unavco.org/article/trimble-runpkr00-latest-versions-744.html) again, the correct syntax is something like: `runpkr00 -g -d filename.T01`\n",
    "\n",
    "So let's do that..."
   ]
  },
  {
   "cell_type": "code",
   "execution_count": 18,
   "id": "6e4aa0b2",
   "metadata": {},
   "outputs": [
    {
     "name": "stdout",
     "output_type": "stream",
     "text": [
      "./runpkr00 -g -d 35163190.t01\n"
     ]
    }
   ],
   "source": [
    "# insert YOUR FILE that you would like to process\n",
    "rawfile='35163190.t01'  # if you have your own file, feel free to substitute it here\n",
    "\n",
    "print('./runpkr00 -g -d ' + rawfile)  # this is the command you are running\n",
    "\n",
    "!./runpkr00 -g -d $rawfile"
   ]
  },
  {
   "cell_type": "markdown",
   "id": "61b43566",
   "metadata": {},
   "source": [
    "What did that do? Let's look for 'dat' files in the directory:"
   ]
  },
  {
   "cell_type": "code",
   "execution_count": 19,
   "id": "f6281357",
   "metadata": {},
   "outputs": [
    {
     "name": "stdout",
     "output_type": "stream",
     "text": [
      "-rw-rw-r-- 1 katie katie  427147 Aug 21 02:22 35163180.dat\n",
      "-rw-rw-r-- 1 katie katie 2002552 Aug 21 02:31 35163190.dat\n"
     ]
    }
   ],
   "source": [
    "# lets see the .dat file it should have just created\n",
    "!ls -l *.dat"
   ]
  },
  {
   "cell_type": "markdown",
   "id": "32e2b12d",
   "metadata": {},
   "source": [
    "And now we should have a 'dat' file!\n",
    "\n",
    "Next we need to convert this to a 'proper' RINEX format, and for that we can use the long-lived (and no longer supported) `teqc` converter, a legacy UNAVCO code. teqc also has a legacy website: https://www.unavco.org/software/data-processing/teqc/teqc.html\n",
    "\n",
    "Note again that not all computer platforms are supported, but Linux PCs are. If the command does not work on your machine, try using it on a \n",
    "\n",
    "Once again, get the version of the executable that runs on your own machine, and copy it to your working directory.\n",
    "\n",
    "The syntax for running `teqc` is pretty straightforward, something like: `teqc filename.dat > rinexfile.o`\n",
    "\n",
    "We can try that..."
   ]
  },
  {
   "cell_type": "code",
   "execution_count": 20,
   "id": "1e325235",
   "metadata": {},
   "outputs": [
    {
     "name": "stdout",
     "output_type": "stream",
     "text": [
      "./teqc 35163190.dat > test.o\n",
      "? Error ? translation of '35163190.dat' may have started with GPS week 2380 rather than 1349\n",
      "\t(try using '-week 1349' option)\n",
      "! Notice ! '35163190.dat': GPS week initially set= 1349\n"
     ]
    }
   ],
   "source": [
    "# some data format futzing\n",
    "# this is just practice for the wrong gps week -- use the website to figure out the real gps week\n",
    "filename, extension = splitext(rawfile)\n",
    "datfile = filename+'.dat'\n",
    "\n",
    "# and let's run it\n",
    "print('./teqc ' + datfile + ' > test.o')\n",
    "\n",
    "!./teqc $datfile > test.o"
   ]
  },
  {
   "cell_type": "markdown",
   "id": "3ee3e12d",
   "metadata": {},
   "source": [
    "We get an error message! Something about a possibly incorrect 'GPS week'! What does that mean?\n",
    "\n",
    "Well, GPS week is a charming and fairly arcane way of measuring the passing of time. It refers to the number of weeks since the first GPS epoch $-$ which was midnight on January 6, 1980, UTC time. GPS week is transmitted with the GPS signal as a 10 bit number, meaning that every $2^{10}$ weeks (1024 weeks), the counter resets, and the GPS receiver gets confused about the date.\n",
    "\n",
    "This is the GPS equivalent of the Y2K bug, and if anything it is a more irritating problem as it is: 1) less well known, 2) happens more frequently (1024 weeks is 19.6 years), and 3) not really fixed. It has caused issues, particularly with electronic hardware that uses GPS for timing $-$ see https://en.wikipedia.org/wiki/GPS_week_number_rollover for some examples, and a description of the problem.\n",
    "\n",
    "If we look at the dates in the RINEX file we just made, we can see it might have some issues:"
   ]
  },
  {
   "cell_type": "code",
   "execution_count": 21,
   "id": "4f01894b",
   "metadata": {},
   "outputs": [
    {
     "name": "stdout",
     "output_type": "stream",
     "text": [
      "     2.11           OBSERVATION DATA    G (GPS)             RINEX VERSION / TYPE\n",
      "teqc  2019Feb25                         20250821 09:31:04UTCPGM / RUN BY / DATE\n",
      "Linux 2.6.32-573.12.1.x86_64|x86_64|gcc -static|Linux 64|=+ COMMENT\n",
      "BIT 2 OF LLI FLAGS DATA COLLECTED UNDER A/S CONDITION       COMMENT\n",
      "35163190                                                    MARKER NAME\n",
      "3190                                                        MARKER NUMBER\n",
      "-Unknown-           -Unknown-                               OBSERVER / AGENCY\n",
      "0220413516          TRIMBLE R7          2.32                REC # / TYPE / VERS\n",
      "-Unknown-           TRM39105.00     NONE                    ANT # / TYPE\n",
      " -2433061.9768 -4666214.6503  3593449.6130                  APPROX POSITION XYZ\n",
      "        0.0000        0.0000        0.0000                  ANTENNA: DELTA H/E/N\n",
      "     1     1                                                WAVELENGTH FACT L1/2\n",
      "     7    L1    L2    C1    P1    P2    S1    S2            # / TYPES OF OBSERV\n",
      "    18                                                      LEAP SECONDS\n",
      " SNR is mapped to RINEX snr flag value [0-9]                COMMENT\n",
      "  L1 & L2: min(max(int(snr_dBHz/6), 0), 9)                  COMMENT\n",
      "  2005    11    15     0     0   30.0000000     GPS         TIME OF FIRST OBS\n",
      "                                                            END OF HEADER\n",
      " 05 11 15  0  0 30.0000000  0 10G08G25G02G04G28G31G01G32G03G10\n",
      " -41010549.18456 -34508121.59054  24953043.6094                   24953049.1454\n",
      "        39.0004         27.5004\n",
      "  -1343047.74256  -3144126.08254  24539757.7114                   24539760.8094\n",
      "        36.2504         28.5004\n",
      " -50013373.67257 -41232169.03156  21299556.6724                   21299551.7854\n",
      "        46.5004         37.2504\n",
      "   -852328.85256   -622980.50453  25019335.3834                   25019338.5354\n",
      "        37.0004         19.2504\n",
      " -53689243.92658 -41666421.73856  20822377.0944                   20822374.6604\n",
      "        48.0004         37.0004\n",
      " -41359778.65658 -32185875.36357  21100779.8364                   21100777.2734\n",
      "        48.7504         44.5004\n",
      " -30155158.57057 -25842148.52055  21909288.3364                   21909285.7734\n",
      "        44.5004         32.0004\n",
      " -71990627.35957 -56046433.45357  22035207.2814                   22035206.5784\n",
      "        47.5004         44.7504\n",
      " -13851755.46156 -10755982.23855  23539055.6094                   23539057.1214\n",
      "        40.0004         33.5004\n",
      " -59228649.55157 -46105152.03156  22548049.1954                   22548049.2274\n",
      "        44.5004         40.0004\n",
      " 05 11 15  0  1  0.0000000  0 10G08G25G02G04G28G31G01G32G03G10\n"
     ]
    }
   ],
   "source": [
    "# lets look at the file you just created\n",
    "!head -40 test.o"
   ]
  },
  {
   "cell_type": "markdown",
   "id": "8803bbb1",
   "metadata": {},
   "source": [
    "The date/time strings are something like `04 12  1  1 18 30.0000000` $-$ 2004/12/01 at 01:18:30. Not July 2024. Indeed, if you compare the dates, they are wrong by just under 20 years. (That should sound suspicious...)\n",
    "\n",
    "We can consult the [log sheet for the data](VERS.pdf) to see what the actual acquisition date was.\n",
    "\n",
    "We can also use a [GPS week date converter](http://sopac-old.ucsd.edu/convertDate.shtml) to figure out what the GPS week actually was when the data were acquired."
   ]
  },
  {
   "cell_type": "code",
   "execution_count": 22,
   "id": "cdca999d",
   "metadata": {},
   "outputs": [
    {
     "name": "stdout",
     "output_type": "stream",
     "text": [
      "./teqc -week 2373 35163190.dat > test.o\n",
      "! Notice ! NAVSTAR GPS SV G26 in '35163190.dat': ToC 2005 Nov 15 02:00:00.000 not in 2025 Jul  1 00:00:30.000 to 6075 Dec 31 23:59:59.999 by +/- 140 min\n",
      "! Notice ! NAVSTAR GPS SV G16 in '35163190.dat': ToC 2005 Nov 15 02:00:00.000 not in 2025 Jul  1 00:00:30.000 to 6075 Dec 31 23:59:59.999 by +/- 140 min\n",
      "! Notice ! NAVSTAR GPS SV G09 in '35163190.dat': ToC 2005 Nov 15 02:00:00.000 not in 2025 Jul  1 00:00:30.000 to 6075 Dec 31 23:59:59.999 by +/- 140 min\n",
      "! Notice ! NAVSTAR GPS SV G03 in '35163190.dat': ToC 2005 Nov 15 04:00:00.000 not in 2025 Jul  1 00:00:30.000 to 6075 Dec 31 23:59:59.999 by +/- 140 min\n",
      "! Notice ! NAVSTAR GPS SV G31 in '35163190.dat': ToC 2005 Nov 15 04:00:00.000 not in 2025 Jul  1 00:00:30.000 to 6075 Dec 31 23:59:59.999 by +/- 140 min\n",
      "! Notice ! NAVSTAR GPS SV G04 in '35163190.dat': ToC 2005 Nov 15 04:00:00.000 not in 2025 Jul  1 00:00:30.000 to 6075 Dec 31 23:59:59.999 by +/- 140 min\n",
      "! Notice ! NAVSTAR GPS SV G16 in '35163190.dat': ToC 2005 Nov 15 04:00:00.000 not in 2025 Jul  1 00:00:30.000 to 6075 Dec 31 23:59:59.999 by +/- 140 min\n",
      "! Notice ! NAVSTAR GPS SV G09 in '35163190.dat': ToC 2005 Nov 15 04:00:00.000 not in 2025 Jul  1 00:00:30.000 to 6075 Dec 31 23:59:59.999 by +/- 140 min\n",
      "! Notice ! NAVSTAR GPS SV G32 in '35163190.dat': ToC 2005 Nov 15 04:00:00.000 not in 2025 Jul  1 00:00:30.000 to 6075 Dec 31 23:59:59.999 by +/- 140 min\n",
      "! Notice ! NAVSTAR GPS SV G01 in '35163190.dat': ToC 2005 Nov 15 04:00:00.000 not in 2025 Jul  1 00:00:30.000 to 6075 Dec 31 23:59:59.999 by +/- 140 min\n",
      "! Notice ! NAVSTAR GPS SV G26 in '35163190.dat': ToC 2005 Nov 15 04:00:00.000 not in 2025 Jul  1 00:00:30.000 to 6075 Dec 31 23:59:59.999 by +/- 140 min\n",
      "! Notice ! NAVSTAR GPS SV G02 in '35163190.dat': ToC 2005 Nov 15 04:00:00.000 not in 2025 Jul  1 00:00:30.000 to 6075 Dec 31 23:59:59.999 by +/- 140 min\n",
      "! Notice ! NAVSTAR GPS SV G28 in '35163190.dat': ToC 2005 Nov 15 04:00:00.000 not in 2025 Jul  1 00:00:30.000 to 6075 Dec 31 23:59:59.999 by +/- 140 min\n",
      "! Notice ! NAVSTAR GPS SV G03 in '35163190.dat': ToC 2005 Nov 15 03:59:44.000 not in 2025 Jul  1 00:00:30.000 to 6075 Dec 31 23:59:59.999 by +/- 140 min\n",
      "! Notice ! NAVSTAR GPS SV G06 in '35163190.dat': ToC 2005 Nov 15 04:00:00.000 not in 2025 Jul  1 00:00:30.000 to 6075 Dec 31 23:59:59.999 by +/- 140 min\n",
      "! Notice ! NAVSTAR GPS SV G07 in '35163190.dat': ToC 2005 Nov 15 03:59:44.000 not in 2025 Jul  1 00:00:30.000 to 6075 Dec 31 23:59:59.999 by +/- 140 min\n",
      "! Notice ! NAVSTAR GPS SV G27 in '35163190.dat': ToC 2005 Nov 15 04:00:00.000 not in 2025 Jul  1 00:00:30.000 to 6075 Dec 31 23:59:59.999 by +/- 140 min\n",
      "! Notice ! NAVSTAR GPS SV G07 in '35163190.dat': ToC 2005 Nov 15 06:00:00.000 not in 2025 Jul  1 00:00:30.000 to 6075 Dec 31 23:59:59.999 by +/- 140 min\n",
      "! Notice ! NAVSTAR GPS SV G03 in '35163190.dat': ToC 2005 Nov 15 05:59:44.000 not in 2025 Jul  1 00:00:30.000 to 6075 Dec 31 23:59:59.999 by +/- 140 min\n",
      "! Notice ! NAVSTAR GPS SV G31 in '35163190.dat': ToC 2005 Nov 15 06:00:00.000 not in 2025 Jul  1 00:00:30.000 to 6075 Dec 31 23:59:59.999 by +/- 140 min\n",
      "! Notice ! NAVSTAR GPS SV G27 in '35163190.dat': ToC 2005 Nov 15 06:00:00.000 not in 2025 Jul  1 00:00:30.000 to 6075 Dec 31 23:59:59.999 by +/- 140 min\n",
      "! Notice ! NAVSTAR GPS SV G04 in '35163190.dat': ToC 2005 Nov 15 06:00:00.000 not in 2025 Jul  1 00:00:30.000 to 6075 Dec 31 23:59:59.999 by +/- 140 min\n",
      "! Notice ! NAVSTAR GPS SV G16 in '35163190.dat': ToC 2005 Nov 15 06:00:00.000 not in 2025 Jul  1 00:00:30.000 to 6075 Dec 31 23:59:59.999 by +/- 140 min\n",
      "! Notice ! NAVSTAR GPS SV G09 in '35163190.dat': ToC 2005 Nov 15 06:00:00.000 not in 2025 Jul  1 00:00:30.000 to 6075 Dec 31 23:59:59.999 by +/- 140 min\n",
      "! Notice ! NAVSTAR GPS SV G26 in '35163190.dat': ToC 2005 Nov 15 06:00:00.000 not in 2025 Jul  1 00:00:30.000 to 6075 Dec 31 23:59:59.999 by +/- 140 min\n",
      "! Notice ! NAVSTAR GPS SV G06 in '35163190.dat': ToC 2005 Nov 15 06:00:00.000 not in 2025 Jul  1 00:00:30.000 to 6075 Dec 31 23:59:59.999 by +/- 140 min\n",
      "! Notice ! NAVSTAR GPS SV G08 in '35163190.dat': ToC 2005 Nov 15 06:00:00.000 not in 2025 Jul  1 00:00:30.000 to 6075 Dec 31 23:59:59.999 by +/- 140 min\n",
      "! Notice ! NAVSTAR GPS SV G30 in '35163190.dat': ToC 2005 Nov 15 06:00:00.000 not in 2025 Jul  1 00:00:30.000 to 6075 Dec 31 23:59:59.999 by +/- 140 min\n",
      "! Notice ! NAVSTAR GPS SV G27 in '35163190.dat': ToC 2005 Nov 15 05:59:44.000 not in 2025 Jul  1 00:00:30.000 to 6075 Dec 31 23:59:59.999 by +/- 140 min\n",
      "! Notice ! NAVSTAR GPS SV G21 in '35163190.dat': ToC 2005 Nov 15 06:00:00.000 not in 2025 Jul  1 00:00:30.000 to 6075 Dec 31 23:59:59.999 by +/- 140 min\n",
      "! Notice ! NAVSTAR GPS SV G20 in '35163190.dat': ToC 2005 Nov 15 06:00:00.000 not in 2025 Jul  1 00:00:30.000 to 6075 Dec 31 23:59:59.999 by +/- 140 min\n",
      "! Notice ! NAVSTAR GPS SV G14 in '35163190.dat': ToC 2005 Nov 15 06:00:00.000 not in 2025 Jul  1 00:00:30.000 to 6075 Dec 31 23:59:59.999 by +/- 140 min\n",
      "! Notice ! NAVSTAR GPS SV G07 in '35163190.dat': ToC 2005 Nov 15 08:00:00.000 not in 2025 Jul  1 00:00:30.000 to 6075 Dec 31 23:59:59.999 by +/- 140 min\n",
      "! Notice ! NAVSTAR GPS SV G27 in '35163190.dat': ToC 2005 Nov 15 07:59:44.000 not in 2025 Jul  1 00:00:30.000 to 6075 Dec 31 23:59:59.999 by +/- 140 min\n",
      "! Notice ! NAVSTAR GPS SV G04 in '35163190.dat': ToC 2005 Nov 15 08:00:00.000 not in 2025 Jul  1 00:00:30.000 to 6075 Dec 31 23:59:59.999 by +/- 140 min\n",
      "! Notice ! NAVSTAR GPS SV G21 in '35163190.dat': ToC 2005 Nov 15 08:00:00.000 not in 2025 Jul  1 00:00:30.000 to 6075 Dec 31 23:59:59.999 by +/- 140 min\n",
      "! Notice ! NAVSTAR GPS SV G16 in '35163190.dat': ToC 2005 Nov 15 08:00:00.000 not in 2025 Jul  1 00:00:30.000 to 6075 Dec 31 23:59:59.999 by +/- 140 min\n",
      "! Notice ! NAVSTAR GPS SV G08 in '35163190.dat': ToC 2005 Nov 15 08:00:00.000 not in 2025 Jul  1 00:00:30.000 to 6075 Dec 31 23:59:59.999 by +/- 140 min\n",
      "! Notice ! NAVSTAR GPS SV G09 in '35163190.dat': ToC 2005 Nov 15 08:00:00.000 not in 2025 Jul  1 00:00:30.000 to 6075 Dec 31 23:59:59.999 by +/- 140 min\n",
      "! Notice ! NAVSTAR GPS SV G30 in '35163190.dat': ToC 2005 Nov 15 08:00:00.000 not in 2025 Jul  1 00:00:30.000 to 6075 Dec 31 23:59:59.999 by +/- 140 min\n",
      "! Notice ! NAVSTAR GPS SV G14 in '35163190.dat': ToC 2005 Nov 15 08:00:00.000 not in 2025 Jul  1 00:00:30.000 to 6075 Dec 31 23:59:59.999 by +/- 140 min\n",
      "! Notice ! NAVSTAR GPS SV G20 in '35163190.dat': ToC 2005 Nov 15 08:00:00.000 not in 2025 Jul  1 00:00:30.000 to 6075 Dec 31 23:59:59.999 by +/- 140 min\n",
      "! Notice ! NAVSTAR GPS SV G22 in '35163190.dat': ToC 2005 Nov 15 08:00:00.000 not in 2025 Jul  1 00:00:30.000 to 6075 Dec 31 23:59:59.999 by +/- 140 min\n",
      "! Notice ! NAVSTAR GPS SV G05 in '35163190.dat': ToC 2005 Nov 15 08:00:00.000 not in 2025 Jul  1 00:00:30.000 to 6075 Dec 31 23:59:59.999 by +/- 140 min\n",
      "! Notice ! NAVSTAR GPS SV G09 in '35163190.dat': ToC 2005 Nov 15 07:59:44.000 not in 2025 Jul  1 00:00:30.000 to 6075 Dec 31 23:59:59.999 by +/- 140 min\n",
      "! Notice ! NAVSTAR GPS SV G17 in '35163190.dat': ToC 2005 Nov 15 08:00:00.000 not in 2025 Jul  1 00:00:30.000 to 6075 Dec 31 23:59:59.999 by +/- 140 min\n",
      "! Notice ! NAVSTAR GPS SV G13 in '35163190.dat': ToC 2005 Nov 15 08:00:00.000 not in 2025 Jul  1 00:00:30.000 to 6075 Dec 31 23:59:59.999 by +/- 140 min\n",
      "! Notice ! NAVSTAR GPS SV G02 in '35163190.dat': ToC 2005 Nov 15 08:00:00.000 not in 2025 Jul  1 00:00:30.000 to 6075 Dec 31 23:59:59.999 by +/- 140 min\n",
      "! Notice ! NAVSTAR GPS SV G20 in '35163190.dat': ToC 2005 Nov 15 07:59:44.000 not in 2025 Jul  1 00:00:30.000 to 6075 Dec 31 23:59:59.999 by +/- 140 min\n",
      "! Notice ! NAVSTAR GPS SV G14 in '35163190.dat': ToC 2005 Nov 15 09:44:32.000 not in 2025 Jul  1 00:00:30.000 to 6075 Dec 31 23:59:59.999 by +/- 140 min\n",
      "! Notice ! NAVSTAR GPS SV G19 in '35163190.dat': ToC 2005 Nov 15 08:00:00.000 not in 2025 Jul  1 00:00:30.000 to 6075 Dec 31 23:59:59.999 by +/- 140 min\n",
      "! Notice ! NAVSTAR GPS SV G07 in '35163190.dat': ToC 2005 Nov 15 10:00:00.000 not in 2025 Jul  1 00:00:30.000 to 6075 Dec 31 23:59:59.999 by +/- 140 min\n",
      "! Notice ! NAVSTAR GPS SV G02 in '35163190.dat': ToC 2005 Nov 15 10:00:00.000 not in 2025 Jul  1 00:00:30.000 to 6075 Dec 31 23:59:59.999 by +/- 140 min\n",
      "! Notice ! NAVSTAR GPS SV G19 in '35163190.dat': ToC 2005 Nov 15 10:00:00.000 not in 2025 Jul  1 00:00:30.000 to 6075 Dec 31 23:59:59.999 by +/- 140 min\n",
      "! Notice ! NAVSTAR GPS SV G05 in '35163190.dat': ToC 2005 Nov 15 10:00:00.000 not in 2025 Jul  1 00:00:30.000 to 6075 Dec 31 23:59:59.999 by +/- 140 min\n",
      "! Notice ! NAVSTAR GPS SV G21 in '35163190.dat': ToC 2005 Nov 15 10:00:00.000 not in 2025 Jul  1 00:00:30.000 to 6075 Dec 31 23:59:59.999 by +/- 140 min\n",
      "! Notice ! NAVSTAR GPS SV G08 in '35163190.dat': ToC 2005 Nov 15 10:00:00.000 not in 2025 Jul  1 00:00:30.000 to 6075 Dec 31 23:59:59.999 by +/- 140 min\n",
      "! Notice ! NAVSTAR GPS SV G17 in '35163190.dat': ToC 2005 Nov 15 10:00:00.000 not in 2025 Jul  1 00:00:30.000 to 6075 Dec 31 23:59:59.999 by +/- 140 min\n",
      "! Notice ! NAVSTAR GPS SV G13 in '35163190.dat': ToC 2005 Nov 15 10:00:00.000 not in 2025 Jul  1 00:00:30.000 to 6075 Dec 31 23:59:59.999 by +/- 140 min\n",
      "! Notice ! NAVSTAR GPS SV G09 in '35163190.dat': ToC 2005 Nov 15 09:59:44.000 not in 2025 Jul  1 00:00:30.000 to 6075 Dec 31 23:59:59.999 by +/- 140 min\n",
      "! Notice ! NAVSTAR GPS SV G30 in '35163190.dat': ToC 2005 Nov 15 10:00:00.000 not in 2025 Jul  1 00:00:30.000 to 6075 Dec 31 23:59:59.999 by +/- 140 min\n",
      "! Notice ! NAVSTAR GPS SV G22 in '35163190.dat': ToC 2005 Nov 15 10:00:00.000 not in 2025 Jul  1 00:00:30.000 to 6075 Dec 31 23:59:59.999 by +/- 140 min\n",
      "! Notice ! NAVSTAR GPS SV G14 in '35163190.dat': ToC 2005 Nov 15 10:00:00.000 not in 2025 Jul  1 00:00:30.000 to 6075 Dec 31 23:59:59.999 by +/- 140 min\n",
      "! Notice ! NAVSTAR GPS SV G01 in '35163190.dat': ToC 2005 Nov 15 10:00:00.000 not in 2025 Jul  1 00:00:30.000 to 6075 Dec 31 23:59:59.999 by +/- 140 min\n",
      "! Notice ! NAVSTAR GPS SV G15 in '35163190.dat': ToC 2005 Nov 15 10:00:00.000 not in 2025 Jul  1 00:00:30.000 to 6075 Dec 31 23:59:59.999 by +/- 140 min\n",
      "! Notice ! NAVSTAR GPS SV G06 in '35163190.dat': ToC 2005 Nov 15 10:00:00.000 not in 2025 Jul  1 00:00:30.000 to 6075 Dec 31 23:59:59.999 by +/- 140 min\n",
      "! Notice ! NAVSTAR GPS SV G24 in '35163190.dat': ToC 2005 Nov 15 10:00:00.000 not in 2025 Jul  1 00:00:30.000 to 6075 Dec 31 23:59:59.999 by +/- 140 min\n",
      "! Notice ! NAVSTAR GPS SV G07 in '35163190.dat': ToC 2005 Nov 15 12:00:00.000 not in 2025 Jul  1 00:00:30.000 to 6075 Dec 31 23:59:59.999 by +/- 140 min\n",
      "! Notice ! NAVSTAR GPS SV G19 in '35163190.dat': ToC 2005 Nov 15 12:00:00.000 not in 2025 Jul  1 00:00:30.000 to 6075 Dec 31 23:59:59.999 by +/- 140 min\n",
      "! Notice ! NAVSTAR GPS SV G02 in '35163190.dat': ToC 2005 Nov 15 12:00:00.000 not in 2025 Jul  1 00:00:30.000 to 6075 Dec 31 23:59:59.999 by +/- 140 min\n",
      "! Notice ! NAVSTAR GPS SV G24 in '35163190.dat': ToC 2005 Nov 15 12:00:00.000 not in 2025 Jul  1 00:00:30.000 to 6075 Dec 31 23:59:59.999 by +/- 140 min\n",
      "! Notice ! NAVSTAR GPS SV G17 in '35163190.dat': ToC 2005 Nov 15 12:00:00.000 not in 2025 Jul  1 00:00:30.000 to 6075 Dec 31 23:59:59.999 by +/- 140 min\n",
      "! Notice ! NAVSTAR GPS SV G13 in '35163190.dat': ToC 2005 Nov 15 12:00:00.000 not in 2025 Jul  1 00:00:30.000 to 6075 Dec 31 23:59:59.999 by +/- 140 min\n",
      "! Notice ! NAVSTAR GPS SV G15 in '35163190.dat': ToC 2005 Nov 15 12:00:00.000 not in 2025 Jul  1 00:00:30.000 to 6075 Dec 31 23:59:59.999 by +/- 140 min\n",
      "! Notice ! NAVSTAR GPS SV G06 in '35163190.dat': ToC 2005 Nov 15 12:00:00.000 not in 2025 Jul  1 00:00:30.000 to 6075 Dec 31 23:59:59.999 by +/- 140 min\n",
      "! Notice ! NAVSTAR GPS SV G22 in '35163190.dat': ToC 2005 Nov 15 12:00:00.000 not in 2025 Jul  1 00:00:30.000 to 6075 Dec 31 23:59:59.999 by +/- 140 min\n",
      "! Notice ! NAVSTAR GPS SV G30 in '35163190.dat': ToC 2005 Nov 15 12:00:00.000 not in 2025 Jul  1 00:00:30.000 to 6075 Dec 31 23:59:59.999 by +/- 140 min\n",
      "! Notice ! NAVSTAR GPS SV G14 in '35163190.dat': ToC 2005 Nov 15 12:00:00.000 not in 2025 Jul  1 00:00:30.000 to 6075 Dec 31 23:59:59.999 by +/- 140 min\n",
      "! Notice ! NAVSTAR GPS SV G01 in '35163190.dat': ToC 2005 Nov 15 12:00:00.000 not in 2025 Jul  1 00:00:30.000 to 6075 Dec 31 23:59:59.999 by +/- 140 min\n",
      "! Notice ! NAVSTAR GPS SV G13 in '35163190.dat': ToC 2005 Nov 15 11:59:44.000 not in 2025 Jul  1 00:00:30.000 to 6075 Dec 31 23:59:59.999 by +/- 140 min\n",
      "! Notice ! NAVSTAR GPS SV G11 in '35163190.dat': ToC 2005 Nov 15 12:00:00.000 not in 2025 Jul  1 00:00:30.000 to 6075 Dec 31 23:59:59.999 by +/- 140 min\n",
      "! Notice ! NAVSTAR GPS SV G12 in '35163190.dat': ToC 2005 Nov 15 12:00:00.000 not in 2025 Jul  1 00:00:30.000 to 6075 Dec 31 23:59:59.999 by +/- 140 min\n",
      "! Notice ! NAVSTAR GPS SV G24 in '35163190.dat': ToC 2005 Nov 15 11:59:44.000 not in 2025 Jul  1 00:00:30.000 to 6075 Dec 31 23:59:59.999 by +/- 140 min\n",
      "! Notice ! NAVSTAR GPS SV G01 in '35163190.dat': ToC 2005 Nov 15 13:14:40.000 not in 2025 Jul  1 00:00:30.000 to 6075 Dec 31 23:59:59.999 by +/- 140 min\n",
      "! Notice ! NAVSTAR GPS SV G19 in '35163190.dat': ToC 2005 Nov 15 14:00:00.000 not in 2025 Jul  1 00:00:30.000 to 6075 Dec 31 23:59:59.999 by +/- 140 min\n",
      "! Notice ! NAVSTAR GPS SV G11 in '35163190.dat': ToC 2005 Nov 15 14:00:00.000 not in 2025 Jul  1 00:00:30.000 to 6075 Dec 31 23:59:59.999 by +/- 140 min\n",
      "! Notice ! NAVSTAR GPS SV G12 in '35163190.dat': ToC 2005 Nov 15 14:00:00.000 not in 2025 Jul  1 00:00:30.000 to 6075 Dec 31 23:59:59.999 by +/- 140 min\n",
      "! Notice ! NAVSTAR GPS SV G24 in '35163190.dat': ToC 2005 Nov 15 13:59:44.000 not in 2025 Jul  1 00:00:30.000 to 6075 Dec 31 23:59:59.999 by +/- 140 min\n",
      "! Notice ! NAVSTAR GPS SV G17 in '35163190.dat': ToC 2005 Nov 15 14:00:00.000 not in 2025 Jul  1 00:00:30.000 to 6075 Dec 31 23:59:59.999 by +/- 140 min\n",
      "! Notice ! NAVSTAR GPS SV G13 in '35163190.dat': ToC 2005 Nov 15 13:59:44.000 not in 2025 Jul  1 00:00:30.000 to 6075 Dec 31 23:59:59.999 by +/- 140 min\n",
      "! Notice ! NAVSTAR GPS SV G06 in '35163190.dat': ToC 2005 Nov 15 14:00:00.000 not in 2025 Jul  1 00:00:30.000 to 6075 Dec 31 23:59:59.999 by +/- 140 min\n",
      "! Notice ! NAVSTAR GPS SV G22 in '35163190.dat': ToC 2005 Nov 15 14:00:00.000 not in 2025 Jul  1 00:00:30.000 to 6075 Dec 31 23:59:59.999 by +/- 140 min\n",
      "! Notice ! NAVSTAR GPS SV G14 in '35163190.dat': ToC 2005 Nov 15 14:00:00.000 not in 2025 Jul  1 00:00:30.000 to 6075 Dec 31 23:59:59.999 by +/- 140 min\n",
      "! Notice ! NAVSTAR GPS SV G20 in '35163190.dat': ToC 2005 Nov 15 14:00:00.000 not in 2025 Jul  1 00:00:30.000 to 6075 Dec 31 23:59:59.999 by +/- 140 min\n",
      "! Notice ! NAVSTAR GPS SV G25 in '35163190.dat': ToC 2005 Nov 15 14:00:00.000 not in 2025 Jul  1 00:00:30.000 to 6075 Dec 31 23:59:59.999 by +/- 140 min\n",
      "! Notice ! NAVSTAR GPS SV G21 in '35163190.dat': ToC 2005 Nov 15 14:00:00.000 not in 2025 Jul  1 00:00:30.000 to 6075 Dec 31 23:59:59.999 by +/- 140 min\n",
      "! Notice ! NAVSTAR GPS SV G12 in '35163190.dat': ToC 2005 Nov 15 13:59:44.000 not in 2025 Jul  1 00:00:30.000 to 6075 Dec 31 23:59:59.999 by +/- 140 min\n",
      "! Notice ! NAVSTAR GPS SV G29 in '35163190.dat': ToC 2005 Nov 15 14:00:00.000 not in 2025 Jul  1 00:00:30.000 to 6075 Dec 31 23:59:59.999 by +/- 140 min\n",
      "! Notice ! NAVSTAR GPS SV G05 in '35163190.dat': ToC 2005 Nov 15 14:00:00.000 not in 2025 Jul  1 00:00:30.000 to 6075 Dec 31 23:59:59.999 by +/- 140 min\n",
      "! Notice ! NAVSTAR GPS SV G11 in '35163190.dat': ToC 2005 Nov 15 16:00:00.000 not in 2025 Jul  1 00:00:30.000 to 6075 Dec 31 23:59:59.999 by +/- 140 min\n",
      "! Notice ! NAVSTAR GPS SV G19 in '35163190.dat': ToC 2005 Nov 15 16:00:00.000 not in 2025 Jul  1 00:00:30.000 to 6075 Dec 31 23:59:59.999 by +/- 140 min\n",
      "! Notice ! NAVSTAR GPS SV G12 in '35163190.dat': ToC 2005 Nov 15 15:59:44.000 not in 2025 Jul  1 00:00:30.000 to 6075 Dec 31 23:59:59.999 by +/- 140 min\n",
      "! Notice ! NAVSTAR GPS SV G24 in '35163190.dat': ToC 2005 Nov 15 16:00:00.000 not in 2025 Jul  1 00:00:30.000 to 6075 Dec 31 23:59:59.999 by +/- 140 min\n",
      "! Notice ! NAVSTAR GPS SV G25 in '35163190.dat': ToC 2005 Nov 15 16:00:00.000 not in 2025 Jul  1 00:00:30.000 to 6075 Dec 31 23:59:59.999 by +/- 140 min\n",
      "! Notice ! NAVSTAR GPS SV G06 in '35163190.dat': ToC 2005 Nov 15 16:00:00.000 not in 2025 Jul  1 00:00:30.000 to 6075 Dec 31 23:59:59.999 by +/- 140 min\n",
      "! Notice ! NAVSTAR GPS SV G05 in '35163190.dat': ToC 2005 Nov 15 16:00:00.000 not in 2025 Jul  1 00:00:30.000 to 6075 Dec 31 23:59:59.999 by +/- 140 min\n",
      "! Notice ! NAVSTAR GPS SV G21 in '35163190.dat': ToC 2005 Nov 15 16:00:00.000 not in 2025 Jul  1 00:00:30.000 to 6075 Dec 31 23:59:59.999 by +/- 140 min\n",
      "! Notice ! NAVSTAR GPS SV G20 in '35163190.dat': ToC 2005 Nov 15 16:00:00.000 not in 2025 Jul  1 00:00:30.000 to 6075 Dec 31 23:59:59.999 by +/- 140 min\n",
      "! Notice ! NAVSTAR GPS SV G29 in '35163190.dat': ToC 2005 Nov 15 16:00:00.000 not in 2025 Jul  1 00:00:30.000 to 6075 Dec 31 23:59:59.999 by +/- 140 min\n",
      "! Notice ! NAVSTAR GPS SV G28 in '35163190.dat': ToC 2005 Nov 15 16:00:00.000 not in 2025 Jul  1 00:00:30.000 to 6075 Dec 31 23:59:59.999 by +/- 140 min\n",
      "! Notice ! NAVSTAR GPS SV G18 in '35163190.dat': ToC 2005 Nov 15 16:00:00.000 not in 2025 Jul  1 00:00:30.000 to 6075 Dec 31 23:59:59.999 by +/- 140 min\n",
      "! Notice ! NAVSTAR GPS SV G31 in '35163190.dat': ToC 2005 Nov 15 16:00:00.000 not in 2025 Jul  1 00:00:30.000 to 6075 Dec 31 23:59:59.999 by +/- 140 min\n",
      "! Notice ! NAVSTAR GPS SV G15 in '35163190.dat': ToC 2005 Nov 15 16:00:00.000 not in 2025 Jul  1 00:00:30.000 to 6075 Dec 31 23:59:59.999 by +/- 140 min\n",
      "! Notice ! NAVSTAR GPS SV G11 in '35163190.dat': ToC 2005 Nov 15 18:00:00.000 not in 2025 Jul  1 00:00:30.000 to 6075 Dec 31 23:59:59.999 by +/- 140 min\n",
      "! Notice ! NAVSTAR GPS SV G12 in '35163190.dat': ToC 2005 Nov 15 18:00:00.000 not in 2025 Jul  1 00:00:30.000 to 6075 Dec 31 23:59:59.999 by +/- 140 min\n",
      "! Notice ! NAVSTAR GPS SV G18 in '35163190.dat': ToC 2005 Nov 15 18:00:00.000 not in 2025 Jul  1 00:00:30.000 to 6075 Dec 31 23:59:59.999 by +/- 140 min\n",
      "! Notice ! NAVSTAR GPS SV G25 in '35163190.dat': ToC 2005 Nov 15 18:00:00.000 not in 2025 Jul  1 00:00:30.000 to 6075 Dec 31 23:59:59.999 by +/- 140 min\n",
      "! Notice ! NAVSTAR GPS SV G05 in '35163190.dat': ToC 2005 Nov 15 18:00:00.000 not in 2025 Jul  1 00:00:30.000 to 6075 Dec 31 23:59:59.999 by +/- 140 min\n",
      "! Notice ! NAVSTAR GPS SV G31 in '35163190.dat': ToC 2005 Nov 15 18:00:00.000 not in 2025 Jul  1 00:00:30.000 to 6075 Dec 31 23:59:59.999 by +/- 140 min\n",
      "! Notice ! NAVSTAR GPS SV G21 in '35163190.dat': ToC 2005 Nov 15 18:00:00.000 not in 2025 Jul  1 00:00:30.000 to 6075 Dec 31 23:59:59.999 by +/- 140 min\n",
      "! Notice ! NAVSTAR GPS SV G20 in '35163190.dat': ToC 2005 Nov 15 18:00:00.000 not in 2025 Jul  1 00:00:30.000 to 6075 Dec 31 23:59:59.999 by +/- 140 min\n",
      "! Notice ! NAVSTAR GPS SV G29 in '35163190.dat': ToC 2005 Nov 15 18:00:00.000 not in 2025 Jul  1 00:00:30.000 to 6075 Dec 31 23:59:59.999 by +/- 140 min\n",
      "! Notice ! NAVSTAR GPS SV G28 in '35163190.dat': ToC 2005 Nov 15 18:00:00.000 not in 2025 Jul  1 00:00:30.000 to 6075 Dec 31 23:59:59.999 by +/- 140 min\n",
      "! Notice ! NAVSTAR GPS SV G15 in '35163190.dat': ToC 2005 Nov 15 18:00:00.000 not in 2025 Jul  1 00:00:30.000 to 6075 Dec 31 23:59:59.999 by +/- 140 min\n",
      "! Notice ! NAVSTAR GPS SV G23 in '35163190.dat': ToC 2005 Nov 15 18:00:00.000 not in 2025 Jul  1 00:00:30.000 to 6075 Dec 31 23:59:59.999 by +/- 140 min\n",
      "! Notice ! NAVSTAR GPS SV G23 in '35163190.dat': ToC 2005 Nov 15 18:14:40.000 not in 2025 Jul  1 00:00:30.000 to 6075 Dec 31 23:59:59.999 by +/- 140 min\n",
      "! Notice ! NAVSTAR GPS SV G26 in '35163190.dat': ToC 2005 Nov 15 18:00:00.000 not in 2025 Jul  1 00:00:30.000 to 6075 Dec 31 23:59:59.999 by +/- 140 min\n",
      "! Notice ! NAVSTAR GPS SV G13 in '35163190.dat': ToC 2005 Nov 15 18:00:00.000 not in 2025 Jul  1 00:00:30.000 to 6075 Dec 31 23:59:59.999 by +/- 140 min\n",
      "! Notice ! NAVSTAR GPS SV G21 in '35163190.dat': ToC 2005 Nov 15 18:59:44.000 not in 2025 Jul  1 00:00:30.000 to 6075 Dec 31 23:59:59.999 by +/- 140 min\n",
      "! Notice ! NAVSTAR GPS SV G16 in '35163190.dat': ToC 2005 Nov 15 18:00:00.000 not in 2025 Jul  1 00:00:30.000 to 6075 Dec 31 23:59:59.999 by +/- 140 min\n",
      "! Notice ! NAVSTAR GPS SV G10 in '35163190.dat': ToC 2005 Nov 15 18:00:00.000 not in 2025 Jul  1 00:00:30.000 to 6075 Dec 31 23:59:59.999 by +/- 140 min\n",
      "! Notice ! NAVSTAR GPS SV G18 in '35163190.dat': ToC 2005 Nov 15 20:00:00.000 not in 2025 Jul  1 00:00:30.000 to 6075 Dec 31 23:59:59.999 by +/- 140 min\n",
      "! Notice ! NAVSTAR GPS SV G26 in '35163190.dat': ToC 2005 Nov 15 20:00:00.000 not in 2025 Jul  1 00:00:30.000 to 6075 Dec 31 23:59:59.999 by +/- 140 min\n",
      "! Notice ! NAVSTAR GPS SV G16 in '35163190.dat': ToC 2005 Nov 15 20:00:00.000 not in 2025 Jul  1 00:00:30.000 to 6075 Dec 31 23:59:59.999 by +/- 140 min\n",
      "! Notice ! NAVSTAR GPS SV G25 in '35163190.dat': ToC 2005 Nov 15 20:00:00.000 not in 2025 Jul  1 00:00:30.000 to 6075 Dec 31 23:59:59.999 by +/- 140 min\n",
      "! Notice ! NAVSTAR GPS SV G05 in '35163190.dat': ToC 2005 Nov 15 20:00:00.000 not in 2025 Jul  1 00:00:30.000 to 6075 Dec 31 23:59:59.999 by +/- 140 min\n",
      "! Notice ! NAVSTAR GPS SV G23 in '35163190.dat': ToC 2005 Nov 15 20:00:00.000 not in 2025 Jul  1 00:00:30.000 to 6075 Dec 31 23:59:59.999 by +/- 140 min\n",
      "! Notice ! NAVSTAR GPS SV G13 in '35163190.dat': ToC 2005 Nov 15 20:00:00.000 not in 2025 Jul  1 00:00:30.000 to 6075 Dec 31 23:59:59.999 by +/- 140 min\n",
      "! Notice ! NAVSTAR GPS SV G29 in '35163190.dat': ToC 2005 Nov 15 20:00:00.000 not in 2025 Jul  1 00:00:30.000 to 6075 Dec 31 23:59:59.999 by +/- 140 min\n",
      "! Notice ! NAVSTAR GPS SV G10 in '35163190.dat': ToC 2005 Nov 15 20:00:00.000 not in 2025 Jul  1 00:00:30.000 to 6075 Dec 31 23:59:59.999 by +/- 140 min\n",
      "! Notice ! NAVSTAR GPS SV G15 in '35163190.dat': ToC 2005 Nov 15 20:00:00.000 not in 2025 Jul  1 00:00:30.000 to 6075 Dec 31 23:59:59.999 by +/- 140 min\n",
      "! Notice ! NAVSTAR GPS SV G27 in '35163190.dat': ToC 2005 Nov 15 20:00:00.000 not in 2025 Jul  1 00:00:30.000 to 6075 Dec 31 23:59:59.999 by +/- 140 min\n",
      "! Notice ! NAVSTAR GPS SV G32 in '35163190.dat': ToC 2005 Nov 15 20:00:00.000 not in 2025 Jul  1 00:00:30.000 to 6075 Dec 31 23:59:59.999 by +/- 140 min\n",
      "! Notice ! NAVSTAR GPS SV G24 in '35163190.dat': ToC 2005 Nov 15 20:00:00.000 not in 2025 Jul  1 00:00:30.000 to 6075 Dec 31 23:59:59.999 by +/- 140 min\n",
      "! Notice ! NAVSTAR GPS SV G18 in '35163190.dat': ToC 2005 Nov 15 22:00:00.000 not in 2025 Jul  1 00:00:30.000 to 6075 Dec 31 23:59:59.999 by +/- 140 min\n",
      "! Notice ! NAVSTAR GPS SV G26 in '35163190.dat': ToC 2005 Nov 15 22:00:00.000 not in 2025 Jul  1 00:00:30.000 to 6075 Dec 31 23:59:59.999 by +/- 140 min\n",
      "! Notice ! NAVSTAR GPS SV G27 in '35163190.dat': ToC 2005 Nov 15 22:00:00.000 not in 2025 Jul  1 00:00:30.000 to 6075 Dec 31 23:59:59.999 by +/- 140 min\n",
      "! Notice ! NAVSTAR GPS SV G32 in '35163190.dat': ToC 2005 Nov 15 22:00:00.000 not in 2025 Jul  1 00:00:30.000 to 6075 Dec 31 23:59:59.999 by +/- 140 min\n",
      "! Notice ! NAVSTAR GPS SV G16 in '35163190.dat': ToC 2005 Nov 15 22:00:00.000 not in 2025 Jul  1 00:00:30.000 to 6075 Dec 31 23:59:59.999 by +/- 140 min\n",
      "! Notice ! NAVSTAR GPS SV G23 in '35163190.dat': ToC 2005 Nov 15 22:00:00.000 not in 2025 Jul  1 00:00:30.000 to 6075 Dec 31 23:59:59.999 by +/- 140 min\n",
      "! Notice ! NAVSTAR GPS SV G24 in '35163190.dat': ToC 2005 Nov 15 22:00:00.000 not in 2025 Jul  1 00:00:30.000 to 6075 Dec 31 23:59:59.999 by +/- 140 min\n",
      "! Notice ! NAVSTAR GPS SV G29 in '35163190.dat': ToC 2005 Nov 15 22:00:00.000 not in 2025 Jul  1 00:00:30.000 to 6075 Dec 31 23:59:59.999 by +/- 140 min\n",
      "! Notice ! NAVSTAR GPS SV G10 in '35163190.dat': ToC 2005 Nov 15 22:00:00.000 not in 2025 Jul  1 00:00:30.000 to 6075 Dec 31 23:59:59.999 by +/- 140 min\n",
      "! Notice ! NAVSTAR GPS SV G15 in '35163190.dat': ToC 2005 Nov 15 22:00:00.000 not in 2025 Jul  1 00:00:30.000 to 6075 Dec 31 23:59:59.999 by +/- 140 min\n",
      "! Notice ! NAVSTAR GPS SV G08 in '35163190.dat': ToC 2005 Nov 15 22:00:00.000 not in 2025 Jul  1 00:00:30.000 to 6075 Dec 31 23:59:59.999 by +/- 140 min\n",
      "! Notice ! NAVSTAR GPS SV G15 in '35163190.dat': ToC 2005 Nov 15 21:59:44.000 not in 2025 Jul  1 00:00:30.000 to 6075 Dec 31 23:59:59.999 by +/- 140 min\n",
      "! Notice ! NAVSTAR GPS SV G02 in '35163190.dat': ToC 2005 Nov 15 22:00:00.000 not in 2025 Jul  1 00:00:30.000 to 6075 Dec 31 23:59:59.999 by +/- 140 min\n"
     ]
    }
   ],
   "source": [
    "# what was the GPS week?\n",
    "# set this to the correct gps week\n",
    "gpsweek=2373\n",
    "\n",
    "# let's try again!\n",
    "print('./teqc -week {0:d} {1:s} > test.o'.format(gpsweek,datfile))\n",
    "!./teqc -week $gpsweek $datfile > test.o\n"
   ]
  },
  {
   "cell_type": "markdown",
   "id": "efb98a6a",
   "metadata": {},
   "source": [
    "Lots of complaining this time, but did it make a difference? We can look at the file again to see..."
   ]
  },
  {
   "cell_type": "code",
   "execution_count": 23,
   "id": "05e07785",
   "metadata": {},
   "outputs": [
    {
     "name": "stdout",
     "output_type": "stream",
     "text": [
      "     2.11           OBSERVATION DATA    G (GPS)             RINEX VERSION / TYPE\n",
      "teqc  2019Feb25                         20250821 09:31:16UTCPGM / RUN BY / DATE\n",
      "Linux 2.6.32-573.12.1.x86_64|x86_64|gcc -static|Linux 64|=+ COMMENT\n",
      "BIT 2 OF LLI FLAGS DATA COLLECTED UNDER A/S CONDITION       COMMENT\n",
      "35163190                                                    MARKER NAME\n",
      "3190                                                        MARKER NUMBER\n",
      "-Unknown-           -Unknown-                               OBSERVER / AGENCY\n",
      "0220413516          TRIMBLE R7          2.32                REC # / TYPE / VERS\n",
      "-Unknown-           TRM39105.00     NONE                    ANT # / TYPE\n",
      " -2433061.9768 -4666214.6503  3593449.6130                  APPROX POSITION XYZ\n",
      "        0.0000        0.0000        0.0000                  ANTENNA: DELTA H/E/N\n",
      "     1     1                                                WAVELENGTH FACT L1/2\n",
      "     7    L1    L2    C1    P1    P2    S1    S2            # / TYPES OF OBSERV\n",
      "    18                                                      LEAP SECONDS\n",
      " SNR is mapped to RINEX snr flag value [0-9]                COMMENT\n",
      "  L1 & L2: min(max(int(snr_dBHz/6), 0), 9)                  COMMENT\n",
      "  2025     7     1     0     0   30.0000000     GPS         TIME OF FIRST OBS\n",
      "                                                            END OF HEADER\n",
      " 25  7  1  0  0 30.0000000  0 10G08G25G02G04G28G31G01G32G03G10\n",
      " -41010549.18456 -34508121.59054  24953043.6094                   24953049.1454\n",
      "        39.0004         27.5004\n",
      "  -1343047.74256  -3144126.08254  24539757.7114                   24539760.8094\n",
      "        36.2504         28.5004\n",
      " -50013373.67257 -41232169.03156  21299556.6724                   21299551.7854\n",
      "        46.5004         37.2504\n",
      "   -852328.85256   -622980.50453  25019335.3834                   25019338.5354\n",
      "        37.0004         19.2504\n",
      " -53689243.92658 -41666421.73856  20822377.0944                   20822374.6604\n",
      "        48.0004         37.0004\n",
      " -41359778.65658 -32185875.36357  21100779.8364                   21100777.2734\n",
      "        48.7504         44.5004\n",
      " -30155158.57057 -25842148.52055  21909288.3364                   21909285.7734\n",
      "        44.5004         32.0004\n",
      " -71990627.35957 -56046433.45357  22035207.2814                   22035206.5784\n",
      "        47.5004         44.7504\n",
      " -13851755.46156 -10755982.23855  23539055.6094                   23539057.1214\n",
      "        40.0004         33.5004\n",
      " -59228649.55157 -46105152.03156  22548049.1954                   22548049.2274\n",
      "        44.5004         40.0004\n",
      " 25  7  1  0  1  0.0000000  0 10G08G25G02G04G28G31G01G32G03G10\n"
     ]
    }
   ],
   "source": [
    "# now the data should be right! yay\n",
    "!head -40 test.o"
   ]
  },
  {
   "cell_type": "markdown",
   "id": "22cde851",
   "metadata": {},
   "source": [
    "Those dates look a lot more plausible, so it looks like the data were interpreted correctly this time. We have a RINEX file! But we are still missing a lot of important details $-$ such as the metadata for the acquisition. So let's get on with that..."
   ]
  },
  {
   "cell_type": "markdown",
   "id": "e576fb8b",
   "metadata": {},
   "source": [
    "### 1.3 Estimating antenna height from slant height\n",
    "\n",
    "When collecting GNSS data, some of the key metadata we collect are the heights of the antennas during data collection. In a typical tripod setup, using GNSS antennas with ground planes, these will usually be slant heights from the station marker to the base of the ground plane, measured using a measuring stick.  \n",
    "\n",
    "Our protocol is to make three measurements of slant height at different parts of the antenna at equipment set-up and three more at take-down. Assuming that the equipment is not significantly disturbed during the data take, the average of these six measurements is a reasonable estimate of the slant height of the antenna during that data take. But is slant height what we need for data processing? *What information on height is included in the RINEX file?*\n",
    "\n",
    "Each GNSS antenna has a 'reference point' $-$ the point to which all measurements are referenced. For common antennas like those in the Trimble Zephyr Geodetic family, this is typically the base of the antenna. Note that this is not what we measure when setting up our equipment...\n",
    "\n",
    "![diagram of antenna height](./antenna_height.png)\n",
    "\n",
    "So how do we turn our slant height measurements to the base of an antenna ground plane into a measurement of the vertical height of the antenna reference point? Pythagoras, with some light subtraction...\n",
    "\n",
    "If $h$ is the desired vertical height of the antenna reference point above the benchmark, $R$ is the measured average slant height to the base of the antenna ground plane, $r$ is the antenna radius and $t$ is the vertical distance between the base of the ground plane and the antenna reference point, then...\n",
    "\n",
    "$$h = \\sqrt{(R^2-r^2)}-t$$\n",
    "\n",
    "Seems straightforward! Where do we get the information for $r$ and $t$, I hear you ask? Well, there are a couple of options: 1) the details are included on a sticker attached to the antenna, and 2) if you know the antenna manufacturer, type and part number you can look it up at the NGS's data repository on GNSS antennas, here: https://www.ngs.noaa.gov/ANTCAL/ (look under \"Browse Antenna Information\")"
   ]
  },
  {
   "cell_type": "code",
   "execution_count": 24,
   "id": "96d095db",
   "metadata": {},
   "outputs": [
    {
     "name": "stdout",
     "output_type": "stream",
     "text": [
      "slant height: 1.241 m, vertical height of antenna reference point 1.185 m\n"
     ]
    }
   ],
   "source": [
    "# so let's calculate the height, then!\n",
    "\n",
    "# pre-survey slant height\n",
    "slant_height_pre=np.mean([124.10,124.15,124.15])/100  # include all three measurements here \n",
    "# post-survey slant height\n",
    "slant_height_post=np.mean([124.10,124.00,124.00])/100  # include all three measurements here \n",
    "\n",
    "# antenna radius (from looking up the antenna information)\n",
    "r = 16.98/100\n",
    "\n",
    "# vertical distance between base of the ground plane and the antenna reference point\n",
    "t = (5.32-0.89)/100\n",
    "\n",
    "# and some calculatin'\n",
    "R=(slant_height_pre+slant_height_post)/2\n",
    "h=np.sqrt(R**2-r**2)-t\n",
    "\n",
    "print('slant height: {0:5.3f} m, vertical height of antenna reference point {1:5.3f} m'.format(R,h))"
   ]
  },
  {
   "cell_type": "markdown",
   "id": "c66a1d00",
   "metadata": {},
   "source": [
    "### 1.4 Updating RINEX metadata with teqc\n",
    "\n",
    "teqc also allows you to edit the metadata of your RINEX file, which, if you look at the header of our recently converted file, is very necessary! You can look at the manual for more details:\n",
    "https://www.unavco.org/software/data-processing/teqc/doc/UNAVCO_Teqc_Tutorial.pdf \n",
    "\n",
    "Or, you can run `teqc +help` and get a very long list! \n",
    "\n",
    "Some key options we might want to use:\n",
    "\n",
    "* -O.at \\<antenna type\\> $-$ give the NGS antenna code here\n",
    "* -O.an \\<antenna number\\> $-$ give the antenna serial number here\n",
    "* -O.mo \\<site code\\> $-$ give the four-character benchmark code here\n",
    "* -O.mn \\<monument number\\> $-$ if you know the benchmark number, give it here (else give '' to blank it out)\n",
    "* -O.pe \\<h e n\\> $-$ give the antenna height (h), plus east and north offsets (0 0) here\n",
    "* -O.o \\<operators\\> $-$ give the names of the people who collected this data\n",
    "* -O.ag \\<agency\\> $-$ give the name of the agency that collected this data (UCR?)\n",
    "* -O.r \\<runner of teqc\\> $-$ give your name here, since you are running teqc!\n",
    "* -tbin 1d $-$ if necessary, divide your data into daily files\n",
    "\n",
    "\n",
    "To run this 'editing' mode of teqc, the syntax is:\n",
    "`teqc <options> <site_code> input_rinex`"
   ]
  },
  {
   "cell_type": "code",
   "execution_count": 25,
   "id": "3e17141a",
   "metadata": {},
   "outputs": [
    {
     "name": "stdout",
     "output_type": "stream",
     "text": [
      "./teqc -O.at TRM41249.00 -O.an 0220413516 -O.mo 6025 -O.pe 1.184860 0 0 -O.o 'KMR & KMB ' -O.ag 'University of California, Riverside' -O.r 'K Rivera' -O.mn '' -tbin 1d 6025 test.o\n",
      "teqc:  creating file '60251820.25o' ...\n"
     ]
    }
   ],
   "source": [
    "# set up teqc to run with all of the options\n",
    "# now this will rename everything to have the proper header!!\n",
    "\n",
    "# site information (4 character code)\n",
    "site_code = \"6025\"\n",
    "\n",
    "# operator information (from the logsheet)\n",
    "operator_names = \"KMR & KMB \"\n",
    "operator_inst = \"University of California, Riverside\"\n",
    "my_name = \"K Rivera\"\n",
    "\n",
    "# antenna information (again, from the logsheet)\n",
    "antenna_type = \"TRM41249.00\"\n",
    "antenna_sn = \"0220413516\"\n",
    "\n",
    "# print out the command in case you need to run it somewhere else\n",
    "option_str=\"-O.at {0:s} -O.an {1:s} -O.mo {2:s} -O.pe {3:f} 0 0 -O.o '{4:s}' -O.ag '{5:s}' -O.r '{6:s}' -O.mn '' -tbin 1d {7:s} test.o\".format(antenna_type,antenna_sn,site_code,h,operator_names,operator_inst,my_name,site_code.lower())\n",
    "\n",
    "print(\"./teqc {0:s}\".format(option_str))\n",
    "\n",
    "!./teqc $option_str"
   ]
  },
  {
   "cell_type": "markdown",
   "id": "5426eeb7",
   "metadata": {},
   "source": [
    "And if all went well, you should have a new, and properly named file, based on the site code you gave! Let's have a look at it!"
   ]
  },
  {
   "cell_type": "code",
   "execution_count": 16,
   "id": "922f5638",
   "metadata": {},
   "outputs": [
    {
     "name": "stdout",
     "output_type": "stream",
     "text": [
      "60251810.25o  60251820.25o  test.o\n"
     ]
    }
   ],
   "source": [
    "!ls *o"
   ]
  },
  {
   "cell_type": "code",
   "execution_count": 17,
   "id": "6f9c7819",
   "metadata": {},
   "outputs": [
    {
     "name": "stdout",
     "output_type": "stream",
     "text": [
      "     2.11           OBSERVATION DATA    G (GPS)             RINEX VERSION / TYPE\n",
      "teqc  2019Feb25     K Rivera            20250821 09:28:45UTCPGM / RUN BY / DATE\n",
      "Linux 2.6.32-573.12.1.x86_64|x86_64|gcc -static|Linux 64|=+ COMMENT\n",
      "teqc  2019Feb25                         20250821 09:25:46UTCCOMMENT\n",
      "BIT 2 OF LLI FLAGS DATA COLLECTED UNDER A/S CONDITION       COMMENT\n",
      "6025                                                        MARKER NAME\n",
      "                                                            MARKER NUMBER\n",
      "KMR & KMB           University of California, Riverside     OBSERVER / AGENCY\n",
      "0220413516          TRIMBLE R7          2.32                REC # / TYPE / VERS\n",
      "0220413516          TRM41249.00                             ANT # / TYPE\n",
      " -2433061.0252 -4666213.3685  3593449.0112                  APPROX POSITION XYZ\n",
      "        1.1849        0.0000        0.0000                  ANTENNA: DELTA H/E/N\n",
      "     1     1                                                WAVELENGTH FACT L1/2\n",
      "     7    L1    L2    C1    P1    P2    S1    S2            # / TYPES OF OBSERV\n",
      "    18                                                      LEAP SECONDS\n",
      " SNR is mapped to RINEX snr flag value [0-9]                COMMENT\n",
      "  L1 & L2: min(max(int(snr_dBHz/6), 0), 9)                  COMMENT\n",
      "  2025     6    30    19     2   30.0000000     GPS         TIME OF FIRST OBS\n",
      "                                                            END OF HEADER\n",
      " 25  6 30 19  2 30.0000000  0  5G13G23G15G18G10\n",
      "    -42517.49656    -21481.21953  23425833.4614                   23425833.9304\n",
      "        40.2504         22.5004\n",
      "   -151214.68057    -95893.02756  20513364.6024                   20513363.3754\n",
      "        47.0004         40.7504\n",
      "   -103500.98857    -65708.44157  21174794.5864                   21174793.6644\n",
      "        45.0004         44.0004\n",
      "   -172177.99657   -122921.84056  21038755.5164                   21038754.5984\n",
      "        45.7504         38.5004\n",
      "   -321309.22357   -203332.33657  22965218.0394                   22965220.7704\n",
      "        43.5004         42.5004\n",
      " 25  6 30 19  3  0.0000000  0  6G13G23G15G29G18G10\n",
      "    -72072.08646    -44510.84843  23420210.1484                   23420210.4184\n",
      "        39.7504         22.7504\n",
      "   -247552.53147   -170961.50446  20495032.3594                   20495030.8984\n",
      "        47.0004         40.5004\n",
      "   -168941.57847   -116701.11747  21162341.8204                   21162340.9414\n",
      "        46.5004         44.0004\n",
      "     -7196.28157     -4822.09057  21893946.2504                   21893945.9104\n",
      "        45.2504         43.5004\n",
      "   -265882.42247   -195938.30146  21020924.5004                   21020923.1214\n"
     ]
    }
   ],
   "source": [
    "!head -40 60251810.25o"
   ]
  },
  {
   "cell_type": "markdown",
   "id": "b32589c7",
   "metadata": {},
   "source": [
    "## 2. Prep your own data now!\n",
    "\n",
    "If you have collected your own data, now is a good opportunity to prepare it, using all of the steps $-$ extracting the file from the receiver, converting it to dat format, converting that to RINEX format, using the survey log sheet information to estimate the vertical antenna height, and editing the RINEX headers with the necessary information.\n",
    "\n",
    "You may want to make copies of the various code snippets used above to make a comprehensive code cell that does all of the steps for you $-$ then you will have something you can use in the future!"
   ]
  },
  {
   "cell_type": "code",
   "execution_count": null,
   "id": "1e7f33ed",
   "metadata": {},
   "outputs": [],
   "source": [
    "# compile the code snippets here\n",
    "\n"
   ]
  },
  {
   "cell_type": "markdown",
   "id": "3b32edde",
   "metadata": {},
   "source": [
    "## 3. Processing your data with OPUS\n",
    "\n",
    "OPUS (**O**nline **P**osition **U**ser **S**ervice; https://www.ngs.noaa.gov/OPUS/) is a web-based tool operated by the National Geodetic Survey that processes RINEX format GNSS data that you upload to the website and return a position over email. It is remarkably easy to use, and even if you want to do your own 'proper' processing using a package like GAMIT/GLOBK or GIPSY later on, you will get some sense of the quality of your data from the output. \n",
    "\n",
    "OPUS processes data using a [double-difference approach](https://geodesy.noaa.gov/OPUS/about.jsp), choosing three nearby continuous GNSS stations to form double differences, and trilaterating a location relative to those stations. Its results are not as robust as you would obtain from forming a greater number of double-differences from more stations, and it does not work as well in areas where there is a low density of continuous stations, but for southern California, it still works well.\n",
    "\n",
    "To process data with OPUS, you will need three things:\n",
    "\n",
    "* a RINEX file with between 2 and 48 hours of data\n",
    "* the NGS antenna code for the antenna used (unfortunately it does not read that from the headers like some software will do)\n",
    "* the height of the antenna above the benchmark (unfortunately it does not read that either)\n",
    "\n",
    "Of course, for the data we have just preprocessed, we know all of those things. (And for properly prepared RINEX files from other people, the necessary information is in the headers.)\n",
    "\n",
    "So, to process your data, simply go to the website, select your RINEX file, select the antenna type, enter the vertical height, and enter your email address. You can optionally choose the format of the output (I usually choose the version that produces an XML file as well, as it may be easier to ingest the results later on).\n",
    "\n",
    "Then, hit the 'Upload to Static' button, and wait for the email. It should be done in a few minutes. "
   ]
  },
  {
   "cell_type": "markdown",
   "id": "52c745d1",
   "metadata": {},
   "source": [
    "## 4. Estimate the velocity at VERS\n",
    "\n",
    "Along with the July 2024 data, and the data you may have collected, I have provided RINEX files of other surveys of VERS. By processing these, and compiling date and east, north and up information, you can build a time series of the change in coordinate of the station, and use that to estimate a velocity for the site $-$ either by making a spreadsheet of the values, or by doing it in a more Pythonic way by building a Pandas table, and using an XML reader to populate it with your processed positions. \n",
    "\n",
    "(I can give some hints about how to do this in Python, if you are interested.)\n",
    "\n",
    "My suggested order of tasks: process all the data, plot the changes in position over time (maybe subtract the position of the earliest measurement from the others?), fit a trend line to each component and see what you get. Can you plot your estimated velocity on a map (e.g. using psvelo in GMT or pygmt.plot in PyGMT)? Does it make sense?"
   ]
  },
  {
   "cell_type": "code",
   "execution_count": null,
   "id": "a586095b",
   "metadata": {},
   "outputs": [],
   "source": []
  }
 ],
 "metadata": {
  "kernelspec": {
   "display_name": "Python 3 (ipykernel)",
   "language": "python",
   "name": "python3"
  },
  "language_info": {
   "codemirror_mode": {
    "name": "ipython",
    "version": 3
   },
   "file_extension": ".py",
   "mimetype": "text/x-python",
   "name": "python",
   "nbconvert_exporter": "python",
   "pygments_lexer": "ipython3",
   "version": "3.13.5"
  },
  "widgets": {
   "application/vnd.jupyter.widget-state+json": {
    "state": {},
    "version_major": 2,
    "version_minor": 0
   }
  }
 },
 "nbformat": 4,
 "nbformat_minor": 5
}
