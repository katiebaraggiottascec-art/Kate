{
 "cells": [
  {
   "cell_type": "markdown",
   "id": "df7e20e7",
   "metadata": {},
   "source": [
    "# Simple GNSS data preprocessing and processing\n",
    "\n",
    "Gareth Funning, University of California, Riverside\n",
    "\n",
    "Once we have collected some GNSS data, you might want to process it. Before you do that, you will need to convert the data into a processable format, calculate some important metadata parameters, and edit the datafile headers with useful information. This can take longer than processing the data sometimes!\n",
    "\n",
    "To turn our data files into positions, we can make use of the NGS's spiffy, web-based OPUS processor. If you process several files spanning multiple years, you can turn that into a velocity! And then you really are getting somewhere! "
   ]
  },
  {
   "cell_type": "markdown",
   "id": "a27a4b0d",
   "metadata": {},
   "source": [
    "## 0. Dependencies\n",
    "\n",
    "Jupyter needs these to function! Make sure you're in the right conda environment!"
   ]
  },
  {
   "cell_type": "code",
   "execution_count": 13,
   "id": "57a09282",
   "metadata": {},
   "outputs": [],
   "source": [
    "from os.path import splitext\n",
    "import numpy as np"
   ]
  },
  {
   "cell_type": "markdown",
   "id": "9d2fe25c",
   "metadata": {},
   "source": [
    "## 1. Pre-processing your GNSS data\n",
    "\n",
    "The first thing to do is to convert your data to something we can process! The data we collect tend to be recorded in proprietary binary formats, and so we will want to convert them to something more readable $-$ the RINEX format.\n",
    "\n",
    "\n",
    "### 1.1 RINEX\n",
    "\n",
    "The **R**eceiver **IN**dependent **E**xchange **F**ormat (RINEX for short) is an ASCII-based format used for archiving and processing GNSS data. There are different versions of the format for different applications $-$ navigational data, meterorological data, ionosphere data $-$ but today we will use the version for GNSS *observations*.\n",
    "\n",
    "Included with this notebook are several past versions of RINEX files for GNSS data collected at site VERS (Versity), the NGS benchmark on the UCR campus. We will use these later on to produce a deformation time series for the site. For now, we will use them to examine the file format and contents.\n",
    "\n",
    "First, let's look at the files we have, and the naming convention."
   ]
  },
  {
   "cell_type": "code",
   "execution_count": 14,
   "id": "36a21d6d",
   "metadata": {},
   "outputs": [
    {
     "name": "stdout",
     "output_type": "stream",
     "text": [
      "-rw-rw-r-- 1 katie katie 685318 Aug 21 01:13 test61.o\n"
     ]
    }
   ],
   "source": [
    "# this will list all files with filenames ending with an 'o' (GNSS observation files)\n",
    "\n",
    "!ls -l *o"
   ]
  },
  {
   "cell_type": "markdown",
   "id": "cbb13f4e",
   "metadata": {},
   "source": [
    "These files all follow the same naming convention:\n",
    "\n",
    "SSSSDDDN.YYo\n",
    "\n",
    "- SSSS $-$ four digit site code\n",
    "- DDD $-$ day of year of start of data acquisition\n",
    "- N $-$ number of the acquisition on that GNSS receiver on that day (counting from zero)\n",
    "- YY $-$ year\n",
    "- o $-$ o is for 'observation'\n",
    "\n",
    "Let's look at the contents of one of these files:"
   ]
  },
  {
   "cell_type": "code",
   "execution_count": 15,
   "id": "bfedfb81",
   "metadata": {
    "scrolled": true
   },
   "outputs": [
    {
     "name": "stdout",
     "output_type": "stream",
     "text": [
      "head: cannot open '04223191.t01' for reading: No such file or directory\n"
     ]
    }
   ],
   "source": [
    "# insert the raw file name -kmr\n",
    "# it should look like complete nonsense -- we will change it in this notebook\n",
    "!head -40 04223191.t01"
   ]
  },
  {
   "cell_type": "markdown",
   "id": "78b84884",
   "metadata": {},
   "source": [
    "The file has two parts: \n",
    "1. A header of 21 lines containing important metadata, such as the site code, who collected the data, the receiver and antenna type (and their serial numbers), the approximate site location, the antenna height and details of the data (the start and end times, sample interval, and which observations are recorded $-$ such as which carrier phases and which pseudoranges).\n",
    "2. Data, with time and date stamps for each epoch, as well as the details of the observables for each visible satellite.\n",
    "\n",
    "A RINEX data file containing this information is processable using multiple different processing softwares. But how do we make one?"
   ]
  },
  {
   "cell_type": "markdown",
   "id": "a0d11536",
   "metadata": {},
   "source": [
    "### 1.2 Converting RAW data to RINEX\n",
    "\n",
    "The first step will be to pull the data from the GNSS receiver $-$ and how you do this depends a lot on the receiver type. Some receivers (such as the Trimble NetRS and NetR9, and the Septentrio PolaRx5) log data to internal storage, and require you to connect to a web server on the receiver to access the data. Others, such as the Trimble R7 and Topcon GB-1000, log data to a CompactFlash card within the receiver, which can then be pulled out and read with a card reader at the end of the survey (which is usually much easier to do, especially when out in the field).\n",
    "\n",
    "Assuming we are using a Trimble R7, which are the majority of the GNSS receivers I have access to at UCR, then the data will be recorded to the receiver in a proprietary, binary format ('t01' format). I have included one of these files as well, collected in July 2024 at VERS, to practice with. Let's have a look!"
   ]
  },
  {
   "cell_type": "code",
   "execution_count": 16,
   "id": "e8e17f60",
   "metadata": {},
   "outputs": [
    {
     "name": "stdout",
     "output_type": "stream",
     "text": [
      "-rw-rw-r-- 1 katie katie 100987 Aug 21 01:11 04223561.t01\n",
      "-rw-rw-r-- 1 katie katie 326783 Aug 21 01:14 04223570.t01\n"
     ]
    }
   ],
   "source": [
    "# lets look at all the files that end with .t01\n",
    "!ls -l *.t01"
   ]
  },
  {
   "cell_type": "markdown",
   "id": "8f1a242c",
   "metadata": {},
   "source": [
    "EarthScope (UNAVCO, as-was) is a good source of information on how to convert these proprietary data files to RINEX. For the Trimble data we are using, it is a two step process $-$ first convert the 't01' file to a 'dat' file, and then convert the 'dat' file to RINEX. \n",
    "\n",
    "The conversion program we need for the first step is called runpkr00, and it is a compiled binary executable that only runs on certain hardware (Linux PCs, Windows PCs, Intel Macs, Solaris Unix machines).\n",
    "\n",
    "The runpkr00 executables can be downloaded from this legacy UNAVCO Knowledge Base webpage: https://kb.unavco.org/article/trimble-runpkr00-latest-versions-744.html\n",
    "\n",
    "You should download the version that you need (version 5.40 is good enough for our purposes). If you are running this on Linux (or emulated Linux through WSL2), make sure you copy the `runpkr00` exectuable to the directory containing this notebook and the t01 file."
   ]
  },
  {
   "cell_type": "code",
   "execution_count": 17,
   "id": "b2ff896d-b0e7-4fa1-9dcd-df5294474024",
   "metadata": {},
   "outputs": [],
   "source": [
    "!chmod +x teqc\n"
   ]
  },
  {
   "cell_type": "code",
   "execution_count": 18,
   "id": "5ce48d6b-2b94-4865-b7c1-57fcd50a7a5c",
   "metadata": {},
   "outputs": [],
   "source": [
    "# run the process for the raw data\n",
    "!chmod +x runpkr00"
   ]
  },
  {
   "cell_type": "markdown",
   "id": "8dc29e66",
   "metadata": {},
   "source": [
    "In order to convert the file, we need to run `runpkr00` on the data file. Consulting the [Knowledge Base](https://kb.unavco.org/article/trimble-runpkr00-latest-versions-744.html) again, the correct syntax is something like: `runpkr00 -g -d filename.T01`\n",
    "\n",
    "So let's do that..."
   ]
  },
  {
   "cell_type": "code",
   "execution_count": 19,
   "id": "6e4aa0b2",
   "metadata": {},
   "outputs": [
    {
     "name": "stdout",
     "output_type": "stream",
     "text": [
      "./runpkr00 -g -d 04223570.t01\n"
     ]
    }
   ],
   "source": [
    "# insert YOUR FILE that you would like to process\n",
    "rawfile='04223570.t01'  # if you have your own file, feel free to substitute it here\n",
    "\n",
    "print('./runpkr00 -g -d ' + rawfile)  # this is the command you are running\n",
    "\n",
    "!./runpkr00 -g -d $rawfile"
   ]
  },
  {
   "cell_type": "markdown",
   "id": "61b43566",
   "metadata": {},
   "source": [
    "What did that do? Let's look for 'dat' files in the directory:"
   ]
  },
  {
   "cell_type": "code",
   "execution_count": 20,
   "id": "f6281357",
   "metadata": {},
   "outputs": [
    {
     "name": "stdout",
     "output_type": "stream",
     "text": [
      "-rw-rw-r-- 1 katie katie  443980 Aug 21 01:13 04223561.dat\n",
      "-rw-rw-r-- 1 katie katie 1468105 Aug 21 01:15 04223570.dat\n"
     ]
    }
   ],
   "source": [
    "# lets see the .dat file it should have just created\n",
    "!ls -l *.dat"
   ]
  },
  {
   "cell_type": "markdown",
   "id": "32e2b12d",
   "metadata": {},
   "source": [
    "And now we should have a 'dat' file!\n",
    "\n",
    "Next we need to convert this to a 'proper' RINEX format, and for that we can use the long-lived (and no longer supported) `teqc` converter, a legacy UNAVCO code. teqc also has a legacy website: https://www.unavco.org/software/data-processing/teqc/teqc.html\n",
    "\n",
    "Note again that not all computer platforms are supported, but Linux PCs are. If the command does not work on your machine, try using it on a \n",
    "\n",
    "Once again, get the version of the executable that runs on your own machine, and copy it to your working directory.\n",
    "\n",
    "The syntax for running `teqc` is pretty straightforward, something like: `teqc filename.dat > rinexfile.o`\n",
    "\n",
    "We can try that..."
   ]
  },
  {
   "cell_type": "code",
   "execution_count": 21,
   "id": "1e325235",
   "metadata": {},
   "outputs": [
    {
     "name": "stdout",
     "output_type": "stream",
     "text": [
      "./teqc 04223570.dat > test.o\n",
      "? Error ? translation of '04223570.dat' may have started with GPS week 2380 rather than 1354\n",
      "\t(try using '-week 1354' option)\n",
      "! Notice ! '04223570.dat': GPS week initially set= 1354\n"
     ]
    }
   ],
   "source": [
    "# some data format futzing\n",
    "# this is just practice for the wrong gps week -- use the website to figure out the real gps week\n",
    "filename, extension = splitext(rawfile)\n",
    "datfile = filename+'.dat'\n",
    "\n",
    "# and let's run it\n",
    "print('./teqc ' + datfile + ' > test.o')\n",
    "\n",
    "!./teqc $datfile > test.o"
   ]
  },
  {
   "cell_type": "markdown",
   "id": "3ee3e12d",
   "metadata": {},
   "source": [
    "We get an error message! Something about a possibly incorrect 'GPS week'! What does that mean?\n",
    "\n",
    "Well, GPS week is a charming and fairly arcane way of measuring the passing of time. It refers to the number of weeks since the first GPS epoch $-$ which was midnight on January 6, 1980, UTC time. GPS week is transmitted with the GPS signal as a 10 bit number, meaning that every $2^{10}$ weeks (1024 weeks), the counter resets, and the GPS receiver gets confused about the date.\n",
    "\n",
    "This is the GPS equivalent of the Y2K bug, and if anything it is a more irritating problem as it is: 1) less well known, 2) happens more frequently (1024 weeks is 19.6 years), and 3) not really fixed. It has caused issues, particularly with electronic hardware that uses GPS for timing $-$ see https://en.wikipedia.org/wiki/GPS_week_number_rollover for some examples, and a description of the problem.\n",
    "\n",
    "If we look at the dates in the RINEX file we just made, we can see it might have some issues:"
   ]
  },
  {
   "cell_type": "code",
   "execution_count": 22,
   "id": "4f01894b",
   "metadata": {},
   "outputs": [
    {
     "name": "stdout",
     "output_type": "stream",
     "text": [
      "     2.11           OBSERVATION DATA    G (GPS)             RINEX VERSION / TYPE\n",
      "teqc  2019Feb25                         20250821 08:15:46UTCPGM / RUN BY / DATE\n",
      "Linux 2.6.32-573.12.1.x86_64|x86_64|gcc -static|Linux 64|=+ COMMENT\n",
      "BIT 2 OF LLI FLAGS DATA COLLECTED UNDER A/S CONDITION       COMMENT\n",
      "04223570                                                    MARKER NAME\n",
      "0422                                                        MARKER NUMBER\n",
      "-Unknown-           -Unknown-                               OBSERVER / AGENCY\n",
      "0220340422          TRIMBLE 5700        2.32                REC # / TYPE / VERS\n",
      "-Unknown-           TRM41249.00     NONE                    ANT # / TYPE\n",
      " -2421504.4981 -4592703.6641  3693449.8656                  APPROX POSITION XYZ\n",
      "        0.0000        0.0000        0.0000                  ANTENNA: DELTA H/E/N\n",
      "     1     1                                                WAVELENGTH FACT L1/2\n",
      "     7    L1    L2    C1    P1    P2    S1    S2            # / TYPES OF OBSERV\n",
      "    18                                                      LEAP SECONDS\n",
      " SNR is mapped to RINEX snr flag value [0-9]                COMMENT\n",
      "  L1 & L2: min(max(int(snr_dBHz/6), 0), 9)                  COMMENT\n",
      "  2005    12    23     0     0   30.0000000     GPS         TIME OF FIRST OBS\n",
      "                                                            END OF HEADER\n",
      " 05 12 23  0  0 30.0000000  0 10G03G09G16G04G28G26G06G31G01G02\n",
      " -37570382.38758 -29252034.57858  19845421.5234                   19845422.7194\n",
      "        50.0004         50.7504\n",
      "  -9476304.66856  -7358273.77755  23637678.6804                   23637683.7424\n",
      "        39.7504         34.0004\n",
      " -20046720.52357 -15115317.76654  22194666.6024                   22194667.3094\n",
      "        44.2504         27.2504\n",
      " -30526699.63357 -22407072.41855  21089092.7584                   21089092.9494\n",
      "        47.0004         34.0004\n",
      " -17970176.78556 -13982033.63353  24327304.4774                   24327305.4694\n",
      "        39.5004         22.5004\n",
      " -28340206.15657 -22058243.87957  21408657.8674                   21408660.3164\n",
      "        46.5004         42.7504\n",
      "  -3470184.05956  -2680063.45354  24911792.5234                   24911797.7274\n",
      "        38.7504         26.5004\n",
      " -32740502.34457 -25480075.39157  21573006.5314                   21573006.0084\n",
      "        45.2504         42.0004\n",
      " -25696277.66857 -19977897.86754  22730217.2734                   22730219.5634\n",
      "        42.5004         27.2504\n",
      " -14375211.25856 -11138452.86753  24722514.6024                   24722523.3094\n",
      "        37.2504         19.2504\n",
      " 05 12 23  0  1  0.0000000  0 10G03G09G16G04G28G26G06G31G01G02\n"
     ]
    }
   ],
   "source": [
    "# lets look at the file you just created\n",
    "!head -40 test.o"
   ]
  },
  {
   "cell_type": "markdown",
   "id": "8803bbb1",
   "metadata": {},
   "source": [
    "The date/time strings are something like `04 12  1  1 18 30.0000000` $-$ 2004/12/01 at 01:18:30. Not July 2024. Indeed, if you compare the dates, they are wrong by just under 20 years. (That should sound suspicious...)\n",
    "\n",
    "We can consult the [log sheet for the data](VERS.pdf) to see what the actual acquisition date was.\n",
    "\n",
    "We can also use a [GPS week date converter](http://sopac-old.ucsd.edu/convertDate.shtml) to figure out what the GPS week actually was when the data were acquired."
   ]
  },
  {
   "cell_type": "code",
   "execution_count": 23,
   "id": "cdca999d",
   "metadata": {},
   "outputs": [
    {
     "name": "stdout",
     "output_type": "stream",
     "text": [
      "./teqc -week 2378 04223570.dat > test.o\n",
      "! Notice ! NAVSTAR GPS SV G07 in '04223570.dat': ToC 2005 Dec 23 01:59:44.000 not in 2025 Aug  8 00:00:30.000 to 6075 Dec 31 23:59:59.999 by +/- 140 min\n",
      "! Notice ! NAVSTAR GPS SV G27 in '04223570.dat': ToC 2005 Dec 23 02:00:00.000 not in 2025 Aug  8 00:00:30.000 to 6075 Dec 31 23:59:59.999 by +/- 140 min\n",
      "! Notice ! NAVSTAR GPS SV G08 in '04223570.dat': ToC 2005 Dec 23 02:00:00.000 not in 2025 Aug  8 00:00:30.000 to 6075 Dec 31 23:59:59.999 by +/- 140 min\n",
      "! Notice ! NAVSTAR GPS SV G30 in '04223570.dat': ToC 2005 Dec 23 02:00:00.000 not in 2025 Aug  8 00:00:30.000 to 6075 Dec 31 23:59:59.999 by +/- 140 min\n",
      "! Notice ! NAVSTAR GPS SV G03 in '04223570.dat': ToC 2005 Dec 23 04:00:00.000 not in 2025 Aug  8 00:00:30.000 to 6075 Dec 31 23:59:59.999 by +/- 140 min\n",
      "! Notice ! NAVSTAR GPS SV G30 in '04223570.dat': ToC 2005 Dec 23 04:00:00.000 not in 2025 Aug  8 00:00:30.000 to 6075 Dec 31 23:59:59.999 by +/- 140 min\n",
      "! Notice ! NAVSTAR GPS SV G16 in '04223570.dat': ToC 2005 Dec 23 04:00:00.000 not in 2025 Aug  8 00:00:30.000 to 6075 Dec 31 23:59:59.999 by +/- 140 min\n",
      "! Notice ! NAVSTAR GPS SV G04 in '04223570.dat': ToC 2005 Dec 23 04:00:00.000 not in 2025 Aug  8 00:00:30.000 to 6075 Dec 31 23:59:59.999 by +/- 140 min\n",
      "! Notice ! NAVSTAR GPS SV G26 in '04223570.dat': ToC 2005 Dec 23 04:00:00.000 not in 2025 Aug  8 00:00:30.000 to 6075 Dec 31 23:59:59.999 by +/- 140 min\n",
      "! Notice ! NAVSTAR GPS SV G08 in '04223570.dat': ToC 2005 Dec 23 04:00:00.000 not in 2025 Aug  8 00:00:30.000 to 6075 Dec 31 23:59:59.999 by +/- 140 min\n",
      "! Notice ! NAVSTAR GPS SV G09 in '04223570.dat': ToC 2005 Dec 23 04:00:00.000 not in 2025 Aug  8 00:00:30.000 to 6075 Dec 31 23:59:59.999 by +/- 140 min\n",
      "! Notice ! NAVSTAR GPS SV G07 in '04223570.dat': ToC 2005 Dec 23 04:00:00.000 not in 2025 Aug  8 00:00:30.000 to 6075 Dec 31 23:59:59.999 by +/- 140 min\n",
      "! Notice ! NAVSTAR GPS SV G06 in '04223570.dat': ToC 2005 Dec 23 04:00:00.000 not in 2025 Aug  8 00:00:30.000 to 6075 Dec 31 23:59:59.999 by +/- 140 min\n",
      "! Notice ! NAVSTAR GPS SV G27 in '04223570.dat': ToC 2005 Dec 23 04:00:00.000 not in 2025 Aug  8 00:00:30.000 to 6075 Dec 31 23:59:59.999 by +/- 140 min\n",
      "! Notice ! NAVSTAR GPS SV G03 in '04223570.dat': ToC 2005 Dec 23 03:59:44.000 not in 2025 Aug  8 00:00:30.000 to 6075 Dec 31 23:59:59.999 by +/- 140 min\n",
      "! Notice ! NAVSTAR GPS SV G21 in '04223570.dat': ToC 2005 Dec 23 04:00:00.000 not in 2025 Aug  8 00:00:30.000 to 6075 Dec 31 23:59:59.999 by +/- 140 min\n",
      "! Notice ! NAVSTAR GPS SV G14 in '04223570.dat': ToC 2005 Dec 23 04:00:00.000 not in 2025 Aug  8 00:00:30.000 to 6075 Dec 31 23:59:59.999 by +/- 140 min\n",
      "! Notice ! NAVSTAR GPS SV G16 in '04223570.dat': ToC 2005 Dec 23 03:59:44.000 not in 2025 Aug  8 00:00:30.000 to 6075 Dec 31 23:59:59.999 by +/- 140 min\n",
      "! Notice ! NAVSTAR GPS SV G05 in '04223570.dat': ToC 2005 Dec 23 04:00:00.000 not in 2025 Aug  8 00:00:30.000 to 6075 Dec 31 23:59:59.999 by +/- 140 min\n",
      "! Notice ! NAVSTAR GPS SV G22 in '04223570.dat': ToC 2005 Dec 23 03:59:44.000 not in 2025 Aug  8 00:00:30.000 to 6075 Dec 31 23:59:59.999 by +/- 140 min\n",
      "! Notice ! NAVSTAR GPS SV G30 in '04223570.dat': ToC 2005 Dec 23 06:00:00.000 not in 2025 Aug  8 00:00:30.000 to 6075 Dec 31 23:59:59.999 by +/- 140 min\n",
      "! Notice ! NAVSTAR GPS SV G08 in '04223570.dat': ToC 2005 Dec 23 06:00:00.000 not in 2025 Aug  8 00:00:30.000 to 6075 Dec 31 23:59:59.999 by +/- 140 min\n",
      "! Notice ! NAVSTAR GPS SV G14 in '04223570.dat': ToC 2005 Dec 23 06:00:00.000 not in 2025 Aug  8 00:00:30.000 to 6075 Dec 31 23:59:59.999 by +/- 140 min\n",
      "! Notice ! NAVSTAR GPS SV G04 in '04223570.dat': ToC 2005 Dec 23 06:00:00.000 not in 2025 Aug  8 00:00:30.000 to 6075 Dec 31 23:59:59.999 by +/- 140 min\n",
      "! Notice ! NAVSTAR GPS SV G05 in '04223570.dat': ToC 2005 Dec 23 06:00:00.000 not in 2025 Aug  8 00:00:30.000 to 6075 Dec 31 23:59:59.999 by +/- 140 min\n",
      "! Notice ! NAVSTAR GPS SV G09 in '04223570.dat': ToC 2005 Dec 23 06:00:00.000 not in 2025 Aug  8 00:00:30.000 to 6075 Dec 31 23:59:59.999 by +/- 140 min\n",
      "! Notice ! NAVSTAR GPS SV G07 in '04223570.dat': ToC 2005 Dec 23 06:00:00.000 not in 2025 Aug  8 00:00:30.000 to 6075 Dec 31 23:59:59.999 by +/- 140 min\n",
      "! Notice ! NAVSTAR GPS SV G21 in '04223570.dat': ToC 2005 Dec 23 06:00:00.000 not in 2025 Aug  8 00:00:30.000 to 6075 Dec 31 23:59:59.999 by +/- 140 min\n",
      "! Notice ! NAVSTAR GPS SV G22 in '04223570.dat': ToC 2005 Dec 23 06:00:00.000 not in 2025 Aug  8 00:00:30.000 to 6075 Dec 31 23:59:59.999 by +/- 140 min\n",
      "! Notice ! NAVSTAR GPS SV G27 in '04223570.dat': ToC 2005 Dec 23 06:00:00.000 not in 2025 Aug  8 00:00:30.000 to 6075 Dec 31 23:59:59.999 by +/- 140 min\n",
      "! Notice ! NAVSTAR GPS SV G13 in '04223570.dat': ToC 2005 Dec 23 06:00:00.000 not in 2025 Aug  8 00:00:30.000 to 6075 Dec 31 23:59:59.999 by +/- 140 min\n",
      "! Notice ! NAVSTAR GPS SV G17 in '04223570.dat': ToC 2005 Dec 23 06:00:00.000 not in 2025 Aug  8 00:00:30.000 to 6075 Dec 31 23:59:59.999 by +/- 140 min\n",
      "! Notice ! NAVSTAR GPS SV G27 in '04223570.dat': ToC 2005 Dec 23 05:59:44.000 not in 2025 Aug  8 00:00:30.000 to 6075 Dec 31 23:59:59.999 by +/- 140 min\n",
      "! Notice ! NAVSTAR GPS SV G02 in '04223570.dat': ToC 2005 Dec 23 06:00:00.000 not in 2025 Aug  8 00:00:30.000 to 6075 Dec 31 23:59:59.999 by +/- 140 min\n",
      "! Notice ! NAVSTAR GPS SV G19 in '04223570.dat': ToC 2005 Dec 23 06:00:00.000 not in 2025 Aug  8 00:00:30.000 to 6075 Dec 31 23:59:59.999 by +/- 140 min\n",
      "! Notice ! NAVSTAR GPS SV G01 in '04223570.dat': ToC 2005 Dec 23 06:00:00.000 not in 2025 Aug  8 00:00:30.000 to 6075 Dec 31 23:59:59.999 by +/- 140 min\n",
      "! Notice ! NAVSTAR GPS SV G15 in '04223570.dat': ToC 2005 Dec 23 06:00:00.000 not in 2025 Aug  8 00:00:30.000 to 6075 Dec 31 23:59:59.999 by +/- 140 min\n",
      "! Notice ! NAVSTAR GPS SV G30 in '04223570.dat': ToC 2005 Dec 23 08:00:00.000 not in 2025 Aug  8 00:00:30.000 to 6075 Dec 31 23:59:59.999 by +/- 140 min\n",
      "! Notice ! NAVSTAR GPS SV G01 in '04223570.dat': ToC 2005 Dec 23 08:00:00.000 not in 2025 Aug  8 00:00:30.000 to 6075 Dec 31 23:59:59.999 by +/- 140 min\n",
      "! Notice ! NAVSTAR GPS SV G14 in '04223570.dat': ToC 2005 Dec 23 08:00:00.000 not in 2025 Aug  8 00:00:30.000 to 6075 Dec 31 23:59:59.999 by +/- 140 min\n",
      "! Notice ! NAVSTAR GPS SV G13 in '04223570.dat': ToC 2005 Dec 23 08:00:00.000 not in 2025 Aug  8 00:00:30.000 to 6075 Dec 31 23:59:59.999 by +/- 140 min\n",
      "! Notice ! NAVSTAR GPS SV G15 in '04223570.dat': ToC 2005 Dec 23 08:00:00.000 not in 2025 Aug  8 00:00:30.000 to 6075 Dec 31 23:59:59.999 by +/- 140 min\n",
      "! Notice ! NAVSTAR GPS SV G02 in '04223570.dat': ToC 2005 Dec 23 08:00:00.000 not in 2025 Aug  8 00:00:30.000 to 6075 Dec 31 23:59:59.999 by +/- 140 min\n",
      "! Notice ! NAVSTAR GPS SV G08 in '04223570.dat': ToC 2005 Dec 23 08:00:00.000 not in 2025 Aug  8 00:00:30.000 to 6075 Dec 31 23:59:59.999 by +/- 140 min\n",
      "! Notice ! NAVSTAR GPS SV G17 in '04223570.dat': ToC 2005 Dec 23 08:00:00.000 not in 2025 Aug  8 00:00:30.000 to 6075 Dec 31 23:59:59.999 by +/- 140 min\n",
      "! Notice ! NAVSTAR GPS SV G07 in '04223570.dat': ToC 2005 Dec 23 08:00:00.000 not in 2025 Aug  8 00:00:30.000 to 6075 Dec 31 23:59:59.999 by +/- 140 min\n",
      "! Notice ! NAVSTAR GPS SV G19 in '04223570.dat': ToC 2005 Dec 23 08:00:00.000 not in 2025 Aug  8 00:00:30.000 to 6075 Dec 31 23:59:59.999 by +/- 140 min\n",
      "! Notice ! NAVSTAR GPS SV G09 in '04223570.dat': ToC 2005 Dec 23 08:00:00.000 not in 2025 Aug  8 00:00:30.000 to 6075 Dec 31 23:59:59.999 by +/- 140 min\n",
      "! Notice ! NAVSTAR GPS SV G22 in '04223570.dat': ToC 2005 Dec 23 08:00:00.000 not in 2025 Aug  8 00:00:30.000 to 6075 Dec 31 23:59:59.999 by +/- 140 min\n",
      "! Notice ! NAVSTAR GPS SV G14 in '04223570.dat': ToC 2005 Dec 23 08:44:32.000 not in 2025 Aug  8 00:00:30.000 to 6075 Dec 31 23:59:59.999 by +/- 140 min\n",
      "! Notice ! NAVSTAR GPS SV G06 in '04223570.dat': ToC 2005 Dec 23 08:00:00.000 not in 2025 Aug  8 00:00:30.000 to 6075 Dec 31 23:59:59.999 by +/- 140 min\n",
      "! Notice ! NAVSTAR GPS SV G24 in '04223570.dat': ToC 2005 Dec 23 08:00:00.000 not in 2025 Aug  8 00:00:30.000 to 6075 Dec 31 23:59:59.999 by +/- 140 min\n",
      "! Notice ! NAVSTAR GPS SV G30 in '04223570.dat': ToC 2005 Dec 23 07:59:44.000 not in 2025 Aug  8 00:00:30.000 to 6075 Dec 31 23:59:59.999 by +/- 140 min\n",
      "! Notice ! NAVSTAR GPS SV G30 in '04223570.dat': ToC 2005 Dec 23 09:59:44.000 not in 2025 Aug  8 00:00:30.000 to 6075 Dec 31 23:59:59.999 by +/- 140 min\n",
      "! Notice ! NAVSTAR GPS SV G01 in '04223570.dat': ToC 2005 Dec 23 10:00:00.000 not in 2025 Aug  8 00:00:30.000 to 6075 Dec 31 23:59:59.999 by +/- 140 min\n",
      "! Notice ! NAVSTAR GPS SV G14 in '04223570.dat': ToC 2005 Dec 23 10:00:00.000 not in 2025 Aug  8 00:00:30.000 to 6075 Dec 31 23:59:59.999 by +/- 140 min\n",
      "! Notice ! NAVSTAR GPS SV G13 in '04223570.dat': ToC 2005 Dec 23 10:00:00.000 not in 2025 Aug  8 00:00:30.000 to 6075 Dec 31 23:59:59.999 by +/- 140 min\n",
      "! Notice ! NAVSTAR GPS SV G15 in '04223570.dat': ToC 2005 Dec 23 10:00:00.000 not in 2025 Aug  8 00:00:30.000 to 6075 Dec 31 23:59:59.999 by +/- 140 min\n",
      "! Notice ! NAVSTAR GPS SV G17 in '04223570.dat': ToC 2005 Dec 23 10:00:00.000 not in 2025 Aug  8 00:00:30.000 to 6075 Dec 31 23:59:59.999 by +/- 140 min\n",
      "! Notice ! NAVSTAR GPS SV G19 in '04223570.dat': ToC 2005 Dec 23 10:00:00.000 not in 2025 Aug  8 00:00:30.000 to 6075 Dec 31 23:59:59.999 by +/- 140 min\n",
      "! Notice ! NAVSTAR GPS SV G22 in '04223570.dat': ToC 2005 Dec 23 10:00:00.000 not in 2025 Aug  8 00:00:30.000 to 6075 Dec 31 23:59:59.999 by +/- 140 min\n",
      "! Notice ! NAVSTAR GPS SV G06 in '04223570.dat': ToC 2005 Dec 23 10:00:00.000 not in 2025 Aug  8 00:00:30.000 to 6075 Dec 31 23:59:59.999 by +/- 140 min\n",
      "! Notice ! NAVSTAR GPS SV G24 in '04223570.dat': ToC 2005 Dec 23 10:00:00.000 not in 2025 Aug  8 00:00:30.000 to 6075 Dec 31 23:59:59.999 by +/- 140 min\n",
      "! Notice ! NAVSTAR GPS SV G11 in '04223570.dat': ToC 2005 Dec 23 10:00:00.000 not in 2025 Aug  8 00:00:30.000 to 6075 Dec 31 23:59:59.999 by +/- 140 min\n",
      "! Notice ! NAVSTAR GPS SV G12 in '04223570.dat': ToC 2005 Dec 23 10:00:00.000 not in 2025 Aug  8 00:00:30.000 to 6075 Dec 31 23:59:59.999 by +/- 140 min\n",
      "! Notice ! NAVSTAR GPS SV G25 in '04223570.dat': ToC 2005 Dec 23 10:00:00.000 not in 2025 Aug  8 00:00:30.000 to 6075 Dec 31 23:59:59.999 by +/- 140 min\n",
      "! Notice ! NAVSTAR GPS SV G06 in '04223570.dat': ToC 2005 Dec 23 09:59:44.000 not in 2025 Aug  8 00:00:30.000 to 6075 Dec 31 23:59:59.999 by +/- 140 min\n",
      "! Notice ! NAVSTAR GPS SV G11 in '04223570.dat': ToC 2005 Dec 23 12:00:00.000 not in 2025 Aug  8 00:00:30.000 to 6075 Dec 31 23:59:59.999 by +/- 140 min\n",
      "! Notice ! NAVSTAR GPS SV G14 in '04223570.dat': ToC 2005 Dec 23 12:00:00.000 not in 2025 Aug  8 00:00:30.000 to 6075 Dec 31 23:59:59.999 by +/- 140 min\n",
      "! Notice ! NAVSTAR GPS SV G17 in '04223570.dat': ToC 2005 Dec 23 12:00:00.000 not in 2025 Aug  8 00:00:30.000 to 6075 Dec 31 23:59:59.999 by +/- 140 min\n",
      "! Notice ! NAVSTAR GPS SV G19 in '04223570.dat': ToC 2005 Dec 23 12:00:00.000 not in 2025 Aug  8 00:00:30.000 to 6075 Dec 31 23:59:59.999 by +/- 140 min\n",
      "! Notice ! NAVSTAR GPS SV G22 in '04223570.dat': ToC 2005 Dec 23 12:00:00.000 not in 2025 Aug  8 00:00:30.000 to 6075 Dec 31 23:59:59.999 by +/- 140 min\n",
      "! Notice ! NAVSTAR GPS SV G25 in '04223570.dat': ToC 2005 Dec 23 12:00:00.000 not in 2025 Aug  8 00:00:30.000 to 6075 Dec 31 23:59:59.999 by +/- 140 min\n",
      "! Notice ! NAVSTAR GPS SV G12 in '04223570.dat': ToC 2005 Dec 23 12:00:00.000 not in 2025 Aug  8 00:00:30.000 to 6075 Dec 31 23:59:59.999 by +/- 140 min\n",
      "! Notice ! NAVSTAR GPS SV G06 in '04223570.dat': ToC 2005 Dec 23 11:59:44.000 not in 2025 Aug  8 00:00:30.000 to 6075 Dec 31 23:59:59.999 by +/- 140 min\n",
      "! Notice ! NAVSTAR GPS SV G24 in '04223570.dat': ToC 2005 Dec 23 12:00:00.000 not in 2025 Aug  8 00:00:30.000 to 6075 Dec 31 23:59:59.999 by +/- 140 min\n",
      "! Notice ! NAVSTAR GPS SV G21 in '04223570.dat': ToC 2005 Dec 23 12:00:00.000 not in 2025 Aug  8 00:00:30.000 to 6075 Dec 31 23:59:59.999 by +/- 140 min\n",
      "! Notice ! NAVSTAR GPS SV G24 in '04223570.dat': ToC 2005 Dec 23 11:59:44.000 not in 2025 Aug  8 00:00:30.000 to 6075 Dec 31 23:59:59.999 by +/- 140 min\n",
      "! Notice ! NAVSTAR GPS SV G29 in '04223570.dat': ToC 2005 Dec 23 12:00:00.000 not in 2025 Aug  8 00:00:30.000 to 6075 Dec 31 23:59:59.999 by +/- 140 min\n",
      "! Notice ! NAVSTAR GPS SV G05 in '04223570.dat': ToC 2005 Dec 23 12:00:00.000 not in 2025 Aug  8 00:00:30.000 to 6075 Dec 31 23:59:59.999 by +/- 140 min\n",
      "! Notice ! NAVSTAR GPS SV G28 in '04223570.dat': ToC 2005 Dec 23 12:00:00.000 not in 2025 Aug  8 00:00:30.000 to 6075 Dec 31 23:59:59.999 by +/- 140 min\n",
      "! Notice ! NAVSTAR GPS SV G11 in '04223570.dat': ToC 2005 Dec 23 14:00:00.000 not in 2025 Aug  8 00:00:30.000 to 6075 Dec 31 23:59:59.999 by +/- 140 min\n",
      "! Notice ! NAVSTAR GPS SV G05 in '04223570.dat': ToC 2005 Dec 23 14:00:00.000 not in 2025 Aug  8 00:00:30.000 to 6075 Dec 31 23:59:59.999 by +/- 140 min\n",
      "! Notice ! NAVSTAR GPS SV G19 in '04223570.dat': ToC 2005 Dec 23 14:00:00.000 not in 2025 Aug  8 00:00:30.000 to 6075 Dec 31 23:59:59.999 by +/- 140 min\n",
      "! Notice ! NAVSTAR GPS SV G29 in '04223570.dat': ToC 2005 Dec 23 14:00:00.000 not in 2025 Aug  8 00:00:30.000 to 6075 Dec 31 23:59:59.999 by +/- 140 min\n",
      "! Notice ! NAVSTAR GPS SV G21 in '04223570.dat': ToC 2005 Dec 23 14:00:00.000 not in 2025 Aug  8 00:00:30.000 to 6075 Dec 31 23:59:59.999 by +/- 140 min\n",
      "! Notice ! NAVSTAR GPS SV G25 in '04223570.dat': ToC 2005 Dec 23 14:00:00.000 not in 2025 Aug  8 00:00:30.000 to 6075 Dec 31 23:59:59.999 by +/- 140 min\n",
      "! Notice ! NAVSTAR GPS SV G12 in '04223570.dat': ToC 2005 Dec 23 14:00:00.000 not in 2025 Aug  8 00:00:30.000 to 6075 Dec 31 23:59:59.999 by +/- 140 min\n",
      "! Notice ! NAVSTAR GPS SV G06 in '04223570.dat': ToC 2005 Dec 23 14:00:00.000 not in 2025 Aug  8 00:00:30.000 to 6075 Dec 31 23:59:59.999 by +/- 140 min\n",
      "! Notice ! NAVSTAR GPS SV G24 in '04223570.dat': ToC 2005 Dec 23 13:59:44.000 not in 2025 Aug  8 00:00:30.000 to 6075 Dec 31 23:59:59.999 by +/- 140 min\n",
      "! Notice ! NAVSTAR GPS SV G28 in '04223570.dat': ToC 2005 Dec 23 14:00:00.000 not in 2025 Aug  8 00:00:30.000 to 6075 Dec 31 23:59:59.999 by +/- 140 min\n",
      "! Notice ! NAVSTAR GPS SV G18 in '04223570.dat': ToC 2005 Dec 23 14:00:00.000 not in 2025 Aug  8 00:00:30.000 to 6075 Dec 31 23:59:59.999 by +/- 140 min\n",
      "! Notice ! NAVSTAR GPS SV G31 in '04223570.dat': ToC 2005 Dec 23 14:00:00.000 not in 2025 Aug  8 00:00:30.000 to 6075 Dec 31 23:59:59.999 by +/- 140 min\n",
      "! Notice ! NAVSTAR GPS SV G18 in '04223570.dat': ToC 2005 Dec 23 15:14:40.000 not in 2025 Aug  8 00:00:30.000 to 6075 Dec 31 23:59:59.999 by +/- 140 min\n",
      "! Notice ! NAVSTAR GPS SV G12 in '04223570.dat': ToC 2005 Dec 23 13:59:44.000 not in 2025 Aug  8 00:00:30.000 to 6075 Dec 31 23:59:59.999 by +/- 140 min\n",
      "! Notice ! NAVSTAR GPS SV G15 in '04223570.dat': ToC 2005 Dec 23 14:00:00.000 not in 2025 Aug  8 00:00:30.000 to 6075 Dec 31 23:59:59.999 by +/- 140 min\n",
      "! Notice ! NAVSTAR GPS SV G26 in '04223570.dat': ToC 2005 Dec 23 14:00:00.000 not in 2025 Aug  8 00:00:30.000 to 6075 Dec 31 23:59:59.999 by +/- 140 min\n",
      "! Notice ! NAVSTAR GPS SV G23 in '04223570.dat': ToC 2005 Dec 23 14:00:00.000 not in 2025 Aug  8 00:00:30.000 to 6075 Dec 31 23:59:59.999 by +/- 140 min\n",
      "! Notice ! NAVSTAR GPS SV G13 in '04223570.dat': ToC 2005 Dec 23 14:00:00.000 not in 2025 Aug  8 00:00:30.000 to 6075 Dec 31 23:59:59.999 by +/- 140 min\n",
      "! Notice ! NAVSTAR GPS SV G26 in '04223570.dat': ToC 2005 Dec 23 16:00:00.000 not in 2025 Aug  8 00:00:30.000 to 6075 Dec 31 23:59:59.999 by +/- 140 min\n",
      "! Notice ! NAVSTAR GPS SV G11 in '04223570.dat': ToC 2005 Dec 23 16:00:00.000 not in 2025 Aug  8 00:00:30.000 to 6075 Dec 31 23:59:59.999 by +/- 140 min\n",
      "! Notice ! NAVSTAR GPS SV G05 in '04223570.dat': ToC 2005 Dec 23 16:00:00.000 not in 2025 Aug  8 00:00:30.000 to 6075 Dec 31 23:59:59.999 by +/- 140 min\n",
      "! Notice ! NAVSTAR GPS SV G18 in '04223570.dat': ToC 2005 Dec 23 16:00:00.000 not in 2025 Aug  8 00:00:30.000 to 6075 Dec 31 23:59:59.999 by +/- 140 min\n",
      "! Notice ! NAVSTAR GPS SV G15 in '04223570.dat': ToC 2005 Dec 23 16:00:00.000 not in 2025 Aug  8 00:00:30.000 to 6075 Dec 31 23:59:59.999 by +/- 140 min\n",
      "! Notice ! NAVSTAR GPS SV G13 in '04223570.dat': ToC 2005 Dec 23 16:00:00.000 not in 2025 Aug  8 00:00:30.000 to 6075 Dec 31 23:59:59.999 by +/- 140 min\n",
      "! Notice ! NAVSTAR GPS SV G29 in '04223570.dat': ToC 2005 Dec 23 16:00:00.000 not in 2025 Aug  8 00:00:30.000 to 6075 Dec 31 23:59:59.999 by +/- 140 min\n",
      "! Notice ! NAVSTAR GPS SV G21 in '04223570.dat': ToC 2005 Dec 23 16:00:00.000 not in 2025 Aug  8 00:00:30.000 to 6075 Dec 31 23:59:59.999 by +/- 140 min\n",
      "! Notice ! NAVSTAR GPS SV G25 in '04223570.dat': ToC 2005 Dec 23 16:00:00.000 not in 2025 Aug  8 00:00:30.000 to 6075 Dec 31 23:59:59.999 by +/- 140 min\n",
      "! Notice ! NAVSTAR GPS SV G23 in '04223570.dat': ToC 2005 Dec 23 16:00:00.000 not in 2025 Aug  8 00:00:30.000 to 6075 Dec 31 23:59:59.999 by +/- 140 min\n",
      "! Notice ! NAVSTAR GPS SV G12 in '04223570.dat': ToC 2005 Dec 23 15:59:44.000 not in 2025 Aug  8 00:00:30.000 to 6075 Dec 31 23:59:59.999 by +/- 140 min\n",
      "! Notice ! NAVSTAR GPS SV G16 in '04223570.dat': ToC 2005 Dec 23 15:59:44.000 not in 2025 Aug  8 00:00:30.000 to 6075 Dec 31 23:59:59.999 by +/- 140 min\n",
      "! Notice ! NAVSTAR GPS SV G10 in '04223570.dat': ToC 2005 Dec 23 16:00:00.000 not in 2025 Aug  8 00:00:30.000 to 6075 Dec 31 23:59:59.999 by +/- 140 min\n",
      "! Notice ! NAVSTAR GPS SV G23 in '04223570.dat': ToC 2005 Dec 23 17:14:40.000 not in 2025 Aug  8 00:00:30.000 to 6075 Dec 31 23:59:59.999 by +/- 140 min\n"
     ]
    }
   ],
   "source": [
    "# what was the GPS week?\n",
    "# set this to the correct gps week\n",
    "gpsweek=2378\n",
    "\n",
    "# let's try again!\n",
    "print('./teqc -week {0:d} {1:s} > test.o'.format(gpsweek,datfile))\n",
    "!./teqc -week $gpsweek $datfile > test.o\n"
   ]
  },
  {
   "cell_type": "markdown",
   "id": "efb98a6a",
   "metadata": {},
   "source": [
    "Lots of complaining this time, but did it make a difference? We can look at the file again to see..."
   ]
  },
  {
   "cell_type": "code",
   "execution_count": 24,
   "id": "05e07785",
   "metadata": {},
   "outputs": [
    {
     "name": "stdout",
     "output_type": "stream",
     "text": [
      "     2.11           OBSERVATION DATA    G (GPS)             RINEX VERSION / TYPE\n",
      "teqc  2019Feb25                         20250821 08:16:31UTCPGM / RUN BY / DATE\n",
      "Linux 2.6.32-573.12.1.x86_64|x86_64|gcc -static|Linux 64|=+ COMMENT\n",
      "BIT 2 OF LLI FLAGS DATA COLLECTED UNDER A/S CONDITION       COMMENT\n",
      "04223570                                                    MARKER NAME\n",
      "0422                                                        MARKER NUMBER\n",
      "-Unknown-           -Unknown-                               OBSERVER / AGENCY\n",
      "0220340422          TRIMBLE 5700        2.32                REC # / TYPE / VERS\n",
      "-Unknown-           TRM41249.00     NONE                    ANT # / TYPE\n",
      " -2421504.4981 -4592703.6641  3693449.8656                  APPROX POSITION XYZ\n",
      "        0.0000        0.0000        0.0000                  ANTENNA: DELTA H/E/N\n",
      "     1     1                                                WAVELENGTH FACT L1/2\n",
      "     7    L1    L2    C1    P1    P2    S1    S2            # / TYPES OF OBSERV\n",
      "    18                                                      LEAP SECONDS\n",
      " SNR is mapped to RINEX snr flag value [0-9]                COMMENT\n",
      "  L1 & L2: min(max(int(snr_dBHz/6), 0), 9)                  COMMENT\n",
      "  2025     8     8     0     0   30.0000000     GPS         TIME OF FIRST OBS\n",
      "                                                            END OF HEADER\n",
      " 25  8  8  0  0 30.0000000  0 10G03G09G16G04G28G26G06G31G01G02\n",
      " -37570382.38758 -29252034.57858  19845421.5234                   19845422.7194\n",
      "        50.0004         50.7504\n",
      "  -9476304.66856  -7358273.77755  23637678.6804                   23637683.7424\n",
      "        39.7504         34.0004\n",
      " -20046720.52357 -15115317.76654  22194666.6024                   22194667.3094\n",
      "        44.2504         27.2504\n",
      " -30526699.63357 -22407072.41855  21089092.7584                   21089092.9494\n",
      "        47.0004         34.0004\n",
      " -17970176.78556 -13982033.63353  24327304.4774                   24327305.4694\n",
      "        39.5004         22.5004\n",
      " -28340206.15657 -22058243.87957  21408657.8674                   21408660.3164\n",
      "        46.5004         42.7504\n",
      "  -3470184.05956  -2680063.45354  24911792.5234                   24911797.7274\n",
      "        38.7504         26.5004\n",
      " -32740502.34457 -25480075.39157  21573006.5314                   21573006.0084\n",
      "        45.2504         42.0004\n",
      " -25696277.66857 -19977897.86754  22730217.2734                   22730219.5634\n",
      "        42.5004         27.2504\n",
      " -14375211.25856 -11138452.86753  24722514.6024                   24722523.3094\n",
      "        37.2504         19.2504\n",
      " 25  8  8  0  1  0.0000000  0 10G03G09G16G04G28G26G06G31G01G02\n"
     ]
    }
   ],
   "source": [
    "# now the data should be right! yay\n",
    "!head -40 test.o"
   ]
  },
  {
   "cell_type": "markdown",
   "id": "22cde851",
   "metadata": {},
   "source": [
    "Those dates look a lot more plausible, so it looks like the data were interpreted correctly this time. We have a RINEX file! But we are still missing a lot of important details $-$ such as the metadata for the acquisition. So let's get on with that..."
   ]
  },
  {
   "cell_type": "markdown",
   "id": "e576fb8b",
   "metadata": {},
   "source": [
    "### 1.3 Estimating antenna height from slant height\n",
    "\n",
    "When collecting GNSS data, some of the key metadata we collect are the heights of the antennas during data collection. In a typical tripod setup, using GNSS antennas with ground planes, these will usually be slant heights from the station marker to the base of the ground plane, measured using a measuring stick.  \n",
    "\n",
    "Our protocol is to make three measurements of slant height at different parts of the antenna at equipment set-up and three more at take-down. Assuming that the equipment is not significantly disturbed during the data take, the average of these six measurements is a reasonable estimate of the slant height of the antenna during that data take. But is slant height what we need for data processing? *What information on height is included in the RINEX file?*\n",
    "\n",
    "Each GNSS antenna has a 'reference point' $-$ the point to which all measurements are referenced. For common antennas like those in the Trimble Zephyr Geodetic family, this is typically the base of the antenna. Note that this is not what we measure when setting up our equipment...\n",
    "\n",
    "![diagram of antenna height](./antenna_height.png)\n",
    "\n",
    "So how do we turn our slant height measurements to the base of an antenna ground plane into a measurement of the vertical height of the antenna reference point? Pythagoras, with some light subtraction...\n",
    "\n",
    "If $h$ is the desired vertical height of the antenna reference point above the benchmark, $R$ is the measured average slant height to the base of the antenna ground plane, $r$ is the antenna radius and $t$ is the vertical distance between the base of the ground plane and the antenna reference point, then...\n",
    "\n",
    "$$h = \\sqrt{(R^2-r^2)}-t$$\n",
    "\n",
    "Seems straightforward! Where do we get the information for $r$ and $t$, I hear you ask? Well, there are a couple of options: 1) the details are included on a sticker attached to the antenna, and 2) if you know the antenna manufacturer, type and part number you can look it up at the NGS's data repository on GNSS antennas, here: https://www.ngs.noaa.gov/ANTCAL/ (look under \"Browse Antenna Information\")"
   ]
  },
  {
   "cell_type": "code",
   "execution_count": 25,
   "id": "96d095db",
   "metadata": {},
   "outputs": [
    {
     "name": "stdout",
     "output_type": "stream",
     "text": [
      "slant height: 1.199 m, vertical height of antenna reference point 1.142 m\n"
     ]
    }
   ],
   "source": [
    "# so let's calculate the height, then!\n",
    "\n",
    "# pre-survey slant height\n",
    "slant_height_pre=np.mean([119.90,119.95,119.85])/100  # include all three measurements here \n",
    "# post-survey slant height\n",
    "slant_height_post=np.mean([119.90,119.85,119.80])/100  # include all three measurements here \n",
    "\n",
    "# antenna radius (from looking up the antenna information)\n",
    "r = 16.98/100\n",
    "\n",
    "# vertical distance between base of the ground plane and the antenna reference point\n",
    "t = (5.32-0.89)/100\n",
    "\n",
    "# and some calculatin'\n",
    "R=(slant_height_pre+slant_height_post)/2\n",
    "h=np.sqrt(R**2-r**2)-t\n",
    "\n",
    "print('slant height: {0:5.3f} m, vertical height of antenna reference point {1:5.3f} m'.format(R,h))"
   ]
  },
  {
   "cell_type": "markdown",
   "id": "c66a1d00",
   "metadata": {},
   "source": [
    "### 1.4 Updating RINEX metadata with teqc\n",
    "\n",
    "teqc also allows you to edit the metadata of your RINEX file, which, if you look at the header of our recently converted file, is very necessary! You can look at the manual for more details:\n",
    "https://www.unavco.org/software/data-processing/teqc/doc/UNAVCO_Teqc_Tutorial.pdf \n",
    "\n",
    "Or, you can run `teqc +help` and get a very long list! \n",
    "\n",
    "Some key options we might want to use:\n",
    "\n",
    "* -O.at \\<antenna type\\> $-$ give the NGS antenna code here\n",
    "* -O.an \\<antenna number\\> $-$ give the antenna serial number here\n",
    "* -O.mo \\<site code\\> $-$ give the four-character benchmark code here\n",
    "* -O.mn \\<monument number\\> $-$ if you know the benchmark number, give it here (else give '' to blank it out)\n",
    "* -O.pe \\<h e n\\> $-$ give the antenna height (h), plus east and north offsets (0 0) here\n",
    "* -O.o \\<operators\\> $-$ give the names of the people who collected this data\n",
    "* -O.ag \\<agency\\> $-$ give the name of the agency that collected this data (UCR?)\n",
    "* -O.r \\<runner of teqc\\> $-$ give your name here, since you are running teqc!\n",
    "* -tbin 1d $-$ if necessary, divide your data into daily files\n",
    "\n",
    "\n",
    "To run this 'editing' mode of teqc, the syntax is:\n",
    "`teqc <options> <site_code> input_rinex`"
   ]
  },
  {
   "cell_type": "code",
   "execution_count": 26,
   "id": "3e17141a",
   "metadata": {},
   "outputs": [
    {
     "name": "stdout",
     "output_type": "stream",
     "text": [
      "./teqc -O.at TRM41249.00 -O.an 12118428 -O.mo H701 -O.pe 1.142363 0 0 -O.o 'KMR & KMB' -O.ag 'University of California, Riverside' -O.r 'K Rivera' -O.mn '' -tbin 1d h701 test.o\n",
      "teqc:  creating file 'h7012200.25o' ...\n"
     ]
    }
   ],
   "source": [
    "# set up teqc to run with all of the options\n",
    "# now this will rename everything to have the proper header!!\n",
    "\n",
    "# site information (4 character code)\n",
    "site_code = \"H701\"\n",
    "\n",
    "# operator information (from the logsheet)\n",
    "operator_names = \"KMR & KMB\"\n",
    "operator_inst = \"University of California, Riverside\"\n",
    "my_name = \"K Rivera\"\n",
    "\n",
    "# antenna information (again, from the logsheet)\n",
    "antenna_type = \"TRM41249.00\"\n",
    "antenna_sn = \"12118428\"\n",
    "\n",
    "# print out the command in case you need to run it somewhere else\n",
    "option_str=\"-O.at {0:s} -O.an {1:s} -O.mo {2:s} -O.pe {3:f} 0 0 -O.o '{4:s}' -O.ag '{5:s}' -O.r '{6:s}' -O.mn '' -tbin 1d {7:s} test.o\".format(antenna_type,antenna_sn,site_code,h,operator_names,operator_inst,my_name,site_code.lower())\n",
    "\n",
    "print(\"./teqc {0:s}\".format(option_str))\n",
    "\n",
    "!./teqc $option_str"
   ]
  },
  {
   "cell_type": "markdown",
   "id": "5426eeb7",
   "metadata": {},
   "source": [
    "And if all went well, you should have a new, and properly named file, based on the site code you gave! Let's have a look at it!"
   ]
  },
  {
   "cell_type": "code",
   "execution_count": 27,
   "id": "922f5638",
   "metadata": {},
   "outputs": [
    {
     "name": "stdout",
     "output_type": "stream",
     "text": [
      "h7012200.25o  test61.o\ttest.o\n"
     ]
    }
   ],
   "source": [
    "!ls *o"
   ]
  },
  {
   "cell_type": "code",
   "execution_count": 28,
   "id": "6f9c7819",
   "metadata": {},
   "outputs": [
    {
     "name": "stdout",
     "output_type": "stream",
     "text": [
      "     2.11           OBSERVATION DATA    G (GPS)             RINEX VERSION / TYPE\n",
      "teqc  2019Feb25     K Rivera            20250821 08:16:41UTCPGM / RUN BY / DATE\n",
      "Linux 2.6.32-573.12.1.x86_64|x86_64|gcc -static|Linux 64|=+ COMMENT\n",
      "teqc  2019Feb25                         20250821 08:16:31UTCCOMMENT\n",
      "BIT 2 OF LLI FLAGS DATA COLLECTED UNDER A/S CONDITION       COMMENT\n",
      "H701                                                        MARKER NAME\n",
      "                                                            MARKER NUMBER\n",
      "KMR & KMB           University of California, Riverside     OBSERVER / AGENCY\n",
      "0220340422          TRIMBLE 5700        2.32                REC # / TYPE / VERS\n",
      "12118428            TRM41249.00                             ANT # / TYPE\n",
      " -2421504.4981 -4592703.6641  3693449.8656                  APPROX POSITION XYZ\n",
      "        1.1424        0.0000        0.0000                  ANTENNA: DELTA H/E/N\n",
      "     1     1                                                WAVELENGTH FACT L1/2\n",
      "     7    L1    L2    C1    P1    P2    S1    S2            # / TYPES OF OBSERV\n",
      "    18                                                      LEAP SECONDS\n",
      " SNR is mapped to RINEX snr flag value [0-9]                COMMENT\n",
      "  L1 & L2: min(max(int(snr_dBHz/6), 0), 9)                  COMMENT\n",
      "  2025     8     8     0     0   30.0000000     GPS         TIME OF FIRST OBS\n",
      "                                                            END OF HEADER\n",
      " 25  8  8  0  0 30.0000000  0 10G03G09G16G04G28G26G06G31G01G02\n",
      " -37570382.38758 -29252034.57858  19845421.5234                   19845422.7194\n",
      "        50.0004         50.7504\n",
      "  -9476304.66856  -7358273.77755  23637678.6804                   23637683.7424\n",
      "        39.7504         34.0004\n",
      " -20046720.52357 -15115317.76654  22194666.6024                   22194667.3094\n",
      "        44.2504         27.2504\n",
      " -30526699.63357 -22407072.41855  21089092.7584                   21089092.9494\n",
      "        47.0004         34.0004\n",
      " -17970176.78556 -13982033.63353  24327304.4774                   24327305.4694\n",
      "        39.5004         22.5004\n",
      " -28340206.15657 -22058243.87957  21408657.8674                   21408660.3164\n",
      "        46.5004         42.7504\n",
      "  -3470184.05956  -2680063.45354  24911792.5234                   24911797.7274\n",
      "        38.7504         26.5004\n",
      " -32740502.34457 -25480075.39157  21573006.5314                   21573006.0084\n",
      "        45.2504         42.0004\n",
      " -25696277.66857 -19977897.86754  22730217.2734                   22730219.5634\n",
      "        42.5004         27.2504\n",
      " -14375211.25856 -11138452.86753  24722514.6024                   24722523.3094\n",
      "        37.2504         19.2504\n"
     ]
    }
   ],
   "source": [
    "!head -40 h7012200.25o"
   ]
  },
  {
   "cell_type": "markdown",
   "id": "b32589c7",
   "metadata": {},
   "source": [
    "## 2. Prep your own data now!\n",
    "\n",
    "If you have collected your own data, now is a good opportunity to prepare it, using all of the steps $-$ extracting the file from the receiver, converting it to dat format, converting that to RINEX format, using the survey log sheet information to estimate the vertical antenna height, and editing the RINEX headers with the necessary information.\n",
    "\n",
    "You may want to make copies of the various code snippets used above to make a comprehensive code cell that does all of the steps for you $-$ then you will have something you can use in the future!"
   ]
  },
  {
   "cell_type": "code",
   "execution_count": null,
   "id": "1e7f33ed",
   "metadata": {},
   "outputs": [],
   "source": [
    "# compile the code snippets here\n",
    "\n"
   ]
  },
  {
   "cell_type": "markdown",
   "id": "3b32edde",
   "metadata": {},
   "source": [
    "## 3. Processing your data with OPUS\n",
    "\n",
    "OPUS (**O**nline **P**osition **U**ser **S**ervice; https://www.ngs.noaa.gov/OPUS/) is a web-based tool operated by the National Geodetic Survey that processes RINEX format GNSS data that you upload to the website and return a position over email. It is remarkably easy to use, and even if you want to do your own 'proper' processing using a package like GAMIT/GLOBK or GIPSY later on, you will get some sense of the quality of your data from the output. \n",
    "\n",
    "OPUS processes data using a [double-difference approach](https://geodesy.noaa.gov/OPUS/about.jsp), choosing three nearby continuous GNSS stations to form double differences, and trilaterating a location relative to those stations. Its results are not as robust as you would obtain from forming a greater number of double-differences from more stations, and it does not work as well in areas where there is a low density of continuous stations, but for southern California, it still works well.\n",
    "\n",
    "To process data with OPUS, you will need three things:\n",
    "\n",
    "* a RINEX file with between 2 and 48 hours of data\n",
    "* the NGS antenna code for the antenna used (unfortunately it does not read that from the headers like some software will do)\n",
    "* the height of the antenna above the benchmark (unfortunately it does not read that either)\n",
    "\n",
    "Of course, for the data we have just preprocessed, we know all of those things. (And for properly prepared RINEX files from other people, the necessary information is in the headers.)\n",
    "\n",
    "So, to process your data, simply go to the website, select your RINEX file, select the antenna type, enter the vertical height, and enter your email address. You can optionally choose the format of the output (I usually choose the version that produces an XML file as well, as it may be easier to ingest the results later on).\n",
    "\n",
    "Then, hit the 'Upload to Static' button, and wait for the email. It should be done in a few minutes. "
   ]
  },
  {
   "cell_type": "markdown",
   "id": "52c745d1",
   "metadata": {},
   "source": [
    "## 4. Estimate the velocity at VERS\n",
    "\n",
    "Along with the July 2024 data, and the data you may have collected, I have provided RINEX files of other surveys of VERS. By processing these, and compiling date and east, north and up information, you can build a time series of the change in coordinate of the station, and use that to estimate a velocity for the site $-$ either by making a spreadsheet of the values, or by doing it in a more Pythonic way by building a Pandas table, and using an XML reader to populate it with your processed positions. \n",
    "\n",
    "(I can give some hints about how to do this in Python, if you are interested.)\n",
    "\n",
    "My suggested order of tasks: process all the data, plot the changes in position over time (maybe subtract the position of the earliest measurement from the others?), fit a trend line to each component and see what you get. Can you plot your estimated velocity on a map (e.g. using psvelo in GMT or pygmt.plot in PyGMT)? Does it make sense?"
   ]
  },
  {
   "cell_type": "code",
   "execution_count": null,
   "id": "a586095b",
   "metadata": {},
   "outputs": [],
   "source": []
  }
 ],
 "metadata": {
  "kernelspec": {
   "display_name": "Python 3 (ipykernel)",
   "language": "python",
   "name": "python3"
  },
  "language_info": {
   "codemirror_mode": {
    "name": "ipython",
    "version": 3
   },
   "file_extension": ".py",
   "mimetype": "text/x-python",
   "name": "python",
   "nbconvert_exporter": "python",
   "pygments_lexer": "ipython3",
   "version": "3.13.5"
  },
  "widgets": {
   "application/vnd.jupyter.widget-state+json": {
    "state": {},
    "version_major": 2,
    "version_minor": 0
   }
  }
 },
 "nbformat": 4,
 "nbformat_minor": 5
}
