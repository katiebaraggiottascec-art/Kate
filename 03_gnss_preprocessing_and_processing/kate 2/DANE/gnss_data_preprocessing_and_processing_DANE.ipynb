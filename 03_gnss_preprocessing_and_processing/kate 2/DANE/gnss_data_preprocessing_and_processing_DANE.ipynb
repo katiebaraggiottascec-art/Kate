{
 "cells": [
  {
   "cell_type": "markdown",
   "id": "df7e20e7",
   "metadata": {},
   "source": [
    "# Simple GNSS data preprocessing and processing\n",
    "\n",
    "Gareth Funning, University of California, Riverside\n",
    "\n",
    "Once we have collected some GNSS data, you might want to process it. Before you do that, you will need to convert the data into a processable format, calculate some important metadata parameters, and edit the datafile headers with useful information. This can take longer than processing the data sometimes!\n",
    "\n",
    "To turn our data files into positions, we can make use of the NGS's spiffy, web-based OPUS processor. If you process several files spanning multiple years, you can turn that into a velocity! And then you really are getting somewhere! "
   ]
  },
  {
   "cell_type": "markdown",
   "id": "a27a4b0d",
   "metadata": {},
   "source": [
    "## 0. Dependencies\n",
    "\n",
    "Jupyter needs these to function! Make sure you're in the right conda environment!"
   ]
  },
  {
   "cell_type": "code",
   "execution_count": 3,
   "id": "57a09282",
   "metadata": {},
   "outputs": [],
   "source": [
    "from os.path import splitext\n",
    "import numpy as np"
   ]
  },
  {
   "cell_type": "markdown",
   "id": "9d2fe25c",
   "metadata": {},
   "source": [
    "## 1. Pre-processing your GNSS data\n",
    "\n",
    "The first thing to do is to convert your data to something we can process! The data we collect tend to be recorded in proprietary binary formats, and so we will want to convert them to something more readable $-$ the RINEX format.\n",
    "\n",
    "\n",
    "### 1.1 RINEX\n",
    "\n",
    "The **R**eceiver **IN**dependent **E**xchange **F**ormat (RINEX for short) is an ASCII-based format used for archiving and processing GNSS data. There are different versions of the format for different applications $-$ navigational data, meterorological data, ionosphere data $-$ but today we will use the version for GNSS *observations*.\n",
    "\n",
    "Included with this notebook are several past versions of RINEX files for GNSS data collected at site VERS (Versity), the NGS benchmark on the UCR campus. We will use these later on to produce a deformation time series for the site. For now, we will use them to examine the file format and contents.\n",
    "\n",
    "First, let's look at the files we have, and the naming convention."
   ]
  },
  {
   "cell_type": "code",
   "execution_count": 4,
   "id": "36a21d6d",
   "metadata": {},
   "outputs": [
    {
     "name": "stdout",
     "output_type": "stream",
     "text": [
      "-rw-rw-r-- 1 katie katie 3195247 Jul 24 13:52 test.o\n"
     ]
    }
   ],
   "source": [
    "# this will list all files with filenames ending with an 'o' (GNSS observation files)\n",
    "\n",
    "!ls -l *o"
   ]
  },
  {
   "cell_type": "markdown",
   "id": "cbb13f4e",
   "metadata": {},
   "source": [
    "These files all follow the same naming convention:\n",
    "\n",
    "SSSSDDDN.YYo\n",
    "\n",
    "- SSSS $-$ four digit site code\n",
    "- DDD $-$ day of year of start of data acquisition\n",
    "- N $-$ number of the acquisition on that GNSS receiver on that day (counting from zero)\n",
    "- YY $-$ year\n",
    "- o $-$ o is for 'observation'\n",
    "\n",
    "Let's look at the contents of one of these files:"
   ]
  },
  {
   "cell_type": "code",
   "execution_count": 15,
   "id": "bfedfb81",
   "metadata": {
    "scrolled": true
   },
   "outputs": [
    {
     "name": "stdout",
     "output_type": "stream",
     "text": [
      "Y��\u0006A�ڹ$\u0018�j���\u0000�$ð:�^��q��x�=��\u001a4\u0018�KQ��Y�6Ԓ\u0005DC�  \u0019c\f",
      "4�\u001d",
      "���^���l\u0018f���\f",
      "4\u001a\f",
      "3`�CA���k�f� �&�6{��I\"�MX�\u000b",
      ";S��\u0001�����\u0018d\u0003^\n",
      "j�~(|\u0019CD6�i$�cv\f",
      "�V_`�e��A��~Ps�l`Q\n",
      "$�$�I$��I$�I$�f\u0012I$�I$�I$�I$�I$�I$�I$�I$�I$�I$�I$�I$�I$�I$�I$�I$�]d��\u000e��\u0018�\u001b�j��)���I$�I$�I$�I$�I$�I$�I$�I$�I$�I$�I$�I$�I$�I$�I$�I$�I$�I'���g���ܶ�I$�I$��Lm$�H�@�ܦ����vRI$�I$�I$�I$�I$�I$�I$�I$�I$�I$�I$�I$�I$�I$�I$�I$�I$�I$��{��6g3r�I$�I$�k\u00051��I#��\u0002�u��B}\u001a,�\f",
      "IQ��Z���/\u0014gڰ\u00106\u000b",
      "�⁋V\u0002\u0006�f|Q����\n",
      "4Y��_�n�\u0018�:\u0006<�=�I$�I\u0014o���J��Z�LU��I;\n",
      "ȹ�$Į�$��@���ȩ\u0016�I$�P\u0014�I �rI$�ij\u001a���tY�fvcn�\u0018�:\u0006<�qI$�I$�1/$�j�nմ�c�\u0003�I�P\u001c",
      "\u001c",
      "I&��Y�\"�;\u001a���Ǽ�\u0005�K�Wa䓰?O�R%w\n",
      "��I$�+j�j\u0010\u0003/�.� \u0000եK���\"�9\u0006�S���>��BdؒbW+�I�=0*5\u0002�EH��\u001f�M�\u0001�$�\n",
      "JPFI�5\u0003$���ӣ��$T�Y\u0011�$Q�#�$�h�$�I8ך���[E�w�~6�\u0000���#�c���I$�I$�\u001b�$�?\u0017��$��\u0004�$���%ĐmRY�|I�s�5&�>�\u00140%�o���䝆d�/˻4���{�e�\u0014���݊vP�\u0007���\u001a�3�;\u001e",
      "��)���IJ�q&,�\u001c",
      "�MVR�`\u0019\u0019\"��g8�M�\u0007M$�A��I$�R�]M@Z,�]5ѷ@\u0004t\f",
      "y\u001d",
      "\u0003\u001e",
      "v\u0000�I$�M׬d�T����I\u0007����N�Xvq$�73��r�*O\u0016�5'�_@j�e܁9'aF`\u0018.0\u0003�\u0015�^���\"�wgX�w��OV��A\u0006���\u0005u�\"�;\u0012�깄J���1+��I*t�x��\"�Z��$Q�j��9��rI$�d��]MAz,�І�m�\u0001\u001d",
      "\u0003\u001e",
      "G@Ǌ�#$�I$�n���I*`��$�\u0010\u0019$��H�I%M�P\u001fs���� \u0002��\u0012ԽS#=$�>z\u0018�9�W7\u0012�=�\u0017�ȩ\u000e���8\u0015�VsW�N''\u0012v<L\u0019��U��\u0001��$ƵO�ISs2��I\u0015\"��a�s�\u0012I$\u001a.I$�O\u0017ի��\u0005�Y�/�\u001bt\u0000G@Ǒ�1�9�I$�I\u0014`�I%Lr^�I ��̒N�\u0013\n",
      "I&�*��\u001c",
      "H�}\f",
      "���=Q���>�I;\u000f%mJ{̝/�\u0012�<\u0002\u001d",
      "\\H�o�\u001a`�LD��;��q�v;\u0019\u0006�&S\u0011,���M\u0000�RL@�\u001c",
      "�MPڶ(\u0014�R#g�(�$�H4\\�I$�*{WSP\u0005�f��9��\u0000#�c��\u0018�R��$�I$��FI$���p�A��4�N\u0001ĐmVlxQA8�R\u000b",
      "\u0013�,��\u0014{���1T�N���\u0015P��*w\u0012�<�f��*N]��Z����g�/0\u0013\u00187`+\u0006�D�$tڮa\\��$ƺ\f",
      "�$�f����$T�K�d�F2@�A��I$�m]M@m\u0016eӒ���\u0000#�c��\u0018�R��$�I$���2I5nJ-ΒLs8�$�R>.$��[�摸��M�9�׆�Q5}� #����\u000e���k\u0012����󝯓�٥)+��i�4\"���v1�ݎٛ:�j��\u000eI��LkF��MR'\u0017��H�\u0011�#�A�U�\u0012I �rI$�l\f",
      "�l�\u000e!�\u0015 (�I&�1�\u0012Uq$�I$�I$�I$�I$�I$�I$�I$�I$�I$�I$�I$�I$�I$�I$�I$�H�֮�\f",
      "3��]��o\u0010TDI$�/}�\u0003\u0003B�K��{\u0006�jس\u000e��I$�_�EJ�I$T�I$��d�N��A�JI$4��I&��I��I$���$��-�\u0014�\u0016gВ85~�w\u0013�s\u0000t�~a�3&ϬfE\t�5\f",
      "7�|$8\u0011�\u001c",
      "d�g>�i�\u0012U��\u0010e��\u0016�~\u0002P�.����(̾�z^ك\u0012��\u001b��P^:I�&�xG��H�ި�I\u001c",
      ",ȩk8H\u001b��w/X�\u0013+��Ɠ�$x�\u0014\"�\u0002��P�agsA�\u0011�n�\u0007\\q$���\n",
      "�\u0004\f",
      "�\u0015�c_\u0005;�Uݙa*�\u0006�JC\u0001�t�I\u0019�ݪF\u0018\u000b",
      "��\u0000fH|���D\u0018���J��\u0015�0m\u000e�v�|�)_0I�o����I Yu\u0006�8qqE�Yx�\u0004D�>\u000e��{('\u0012Hf��QLKM�\u0010\\�v�V��0�S7I\u0018�k(�I\u0000\n",
      "�4�ˁz<#g.f���\u0004�\u0000\u0017�/�\u000ftd�t̕�����X}�\u001e",
      "u��%\n",
      "���C\"1G0�\u001d",
      "�\u000f�\u0002\u000b",
      "�7e��ݧ\u001e",
      "\u000e��\n",
      "Oԧ\u0015a�@n\u0014�R\u0000_׻����ÿK�A��T\u0013�\u0014���K*�$�����������r��Q�\u0019fH\u001f�\u001b��QH��r\u0002�ܯ\u0005}�2%�2u�~�=�7±�\u001e",
      "<@u�w��|��egC�\u0006{�7��u�Zg�ϧY��\u0006t��aB1T�\u0001\t��\u0001�����z\u0007��\u001b�,\u001a\f",
      "Qp�i.�\u0018��l��\u0016!Ɩk̯�\u001b����b�=ؽoeR�b�Ȼ��Z\u0005�z\u0003f\u001c",
      "GX�-�j���ܛ�}�\u0004\u00006k��~~�\u0019���4�\u0010�\u0017@�\f",
      "k�6f]� �%?-�8�_\u001d",
      "�����'�6K��\n",
      "6[�Gt�\u0018m�~��\u0006��\u00183\f",
      "�>���w�\t��a����=@�3�h2C:�\u001b,ǚ�5\u0004@T�~��;�\u0018�x�\u0000~��̐,\u0005G[�_3L���#�#<�\u001c",
      "�Y\u000e/q\u001e",
      "���J���ĸ\u0012�\u000eA2�^^YP#�8\u0003ʷ���\u0002�&��\u0017�\u0006\u0017sw��\u0001\t��\u0018�r\u0001֨u\u001c",
      "���\u001c",
      "z��/I�c��%/��D� 0`�(խ�c�m\u001c",
      "��sU\u0019{�L����7_��>c�Ś\u001d",
      "ho\u0017m�\u0018\u0004�w��\u0007���&\u0015Ԣ�\u0000�Ua��|\u0002���&P%��ͯpx@Ak�ѣ��Ĥ�z\u0002\u0002P8�X5�0pHS�,�\u001c",
      "��k�{�\u0014�\"��}hCPF%~��w/(�~�w��Q����o;��\u0011�0\u0003����N�h����O.�F��s��\u0015�lnR���$�*Fy�oR�d��c�7r�\u0007�Y]ͺ��Ơt�;6\u0004\u000b",
      "ܻ���KM��\u0016�Y~�\u001b����������k�8/����&N�w/\u0013\u000b",
      "վ��\n",
      "ݒ8\u0014���\u0007 :%��\f",
      "\u0000�$��7���_X��ܜ�D�G��KOuE\u000e*=|�9��.��\u0004��|\u0018�z�3rsTcA�\u001a�?O_�P\u0004�J\u0005W'7;��~�@ʷ��<u �9�\u001d",
      "�\u0005���8�\u0019iV*�[nNm-� ��)\u0001\n",
      "Ng�'\u001c",
      "%�P;w�`�R��6���/;�%F��e�\u001faCM��=|\u0006�1|�и\u0012a�\u001b�s��K��u\u001e",
      "Na\u000b",
      "9�5\u001d",
      "|Ҁܕ\u000b",
      "�B��s��\u000f!W;���g�RN�z��\n",
      ";>�\"��/��_s\u0014k�7%G|0m'�\u0000�����YK��5�\u00050�e^��MaK��(5���1�m�/%�PZX�j<3FT�d�O��\u0015�G -e.A�v|2��;-�b�\u0002V9���uz� \u00162X�ٙ\u000e\u0016�{�\u000f\u001bW,��%�fC�\f",
      "-^k\u0005k��\u001a?�fC��\u000fp��-a��!,Qr\u000e=\u0000s[�E\u000b",
      "0Cv���\u0007�?��P`�W�^O\u0012��pM��0�S\u0018J1U/�r\u000fqޟB^��\u001c",
      ">/\u000e���9�n\u0000(m�\u0004Wk�쒳\u0016\u0002�1�\u000e�ɹ�̳r2�K?��e�(�ޯ3�\u0000\u0015\u0003h��WQ���2\n",
      "�7K ~�\u0013&\u0003�sk\u0018��PTZ�͝�ne�Q���F��,Ҙ��\f",
      "˚h�*�����2�m̹�\u001d",
      "\u001b�d��5�;q�����E��)��`��i��Z����\f",
      "�\u0000l˚La^��\u0004�r0fF̹����@Z�iRQ�u\u001d",
      "|\u0007 .��Tn�o�t)��X&�XeB��7�o�}��Wqd�Q�3-�>���SHq��\u0012��v�\u001b�����_\u0007!\u001fɖ2�(\u0012�\u0003�4Z�d�\\̻V�Qh����؉d�럺\u0001~\u0004�n0\u0013��Җ��B8Z���\u0018����`�P�\u0000�(M\u0006���o~�2^]�\u0002�9n�wʘ�MfQʑ�\u0002�\u001fy���=�,\u0004��9+s\u0000}�� �\u0006�*�YZ\u0000�\u0001������\u0011\\ǟF�����|h74\u0004�)��\u0004�.{}�\u001d",
      "F�L&�Γ@��\u0011�\f",
      "��SP\f",
      "\u0016Ռ�\u000b",
      "F������\u001b\u0001@}��T\u0015��\u00186f���u(S��P\u0011\u000b",
      "Zy��{�y�\td�����Z\u001e",
      "�����%\u0018����AZ�Y�$+�4�\u001c",
      "r\u0003�n3�^�\u0005�䎀Qշ2旼\n",
      "����F��c<�Z,~L�����Ti\u0019W\u0005�%*��\u0000�n�*�*�Þ�>�z�̍�T\u000e�\u0000=~�&X��@���*�\u001d",
      "�qC�\u001a�\u0001����\n",
      "\u0006�7��\u0001��b�a���9�́�5��h�\u0011����X�Ks:U��=�2���3���+���\f",
      "6\u001b\u0002��(\u0001O37�{+!fx�\u000fcҬ��p�,y�\u001d",
      "dQ8\\\u00072\u001d",
      "���y�ɮ3�&3p\u001c",
      "�s$�\u0007a�,�\u0005��4̇\u001e",
      "��/X�N/�@����r$y\u0003b\u000b",
      "QT\u001b��ِ�\u0010j\u0014ʑ6p\u0001\f",
      "G�Y��\u0000�\u0005��\u00143�����A���\u0011�\u001a�%�+���\u000e@]��ʈ3.��\n",
      "��,۰e��M킂\u0017��,=&J�oz�\t��\u0007�WB\u0016n_�[�\u0013�x���d8�ݟ+7�\u0003�\u0000^�\n",
      "-6L;?�s\n",
      "\u000f�h��܁�~8X��5\u0018����[�ee\u0004�F��\u001b��模�er�[z�&\u0006.y���U�xnR`\u0016\u0007`8��{�\u0017�鹹LW\u0000@���I\u0011LK�\f",
      "�w\u0013o�G\u0017ǿ���<\u000e\u0004\u0006{�O�5�\u0006?\u0018�\u0005\u0003g.xY�r�j؊Q�5c�ut�IkUI��\u001f}ێ�0A;��>���R\u0014{�0c�Yh��\u000b",
      ":�(�J��\u001fx����>խl�\u001d",
      "`����l\u0014����\u0016<�>�G���ׂ�M2�lOxl�3N[@��>뛾��{��qZ��T\u000fi�>�\f",
      "h<ǽ�h�8�rw��1d����~I�s\t{AjT&�\u0004A&\u0002����\u00078�Q��\u001e",
      "\u000e�n�f�0\u0017���\u0005�\f",
      "�B]|\u001c",
      "�\u0007�\u000e�7�ۨ�~�B��ד�>l\u001c",
      "�B�j��[�\u000e(���m(\u0011U8_��9ۿ\n",
      "\tĒ\u0005cf�\u001d",
      "��\"���n\u0001���� �\u0016J�\u001fq$�@�l��x�R\u0015�\u001d",
      "R9\u0000�?V\u0015�`E�4��\u0004y\\|�Nм\u001d",
      "6\u0017\u001c",
      "�0V�4\n",
      "�\f",
      "�q����,Z��\u0004�\u00178o\f",
      "�r1�W��Ӽor��A\u000b",
      "��f&��_�ݸ��X���G��\t$����zW��.\u0005�t*ҏ�x�\u001e",
      "v�x���\u0012Hϭ�\u0000�lÍ�po\u0007n@�I�s�\u001bB�T1RI\u0002�+�\u0012c9\u0003\u0010ħg\u0017�\u001c",
      "��\u0006��\u0015�'r�ZA�zU\u0015ǡ����g;�u��y\u0014ᫎ�\u0002{�\u000e\u0003\u000f��l,E\u0018�g�g\u001d",
      "\n",
      "�}�5d��7\u000e\u00027q���Fdj;�(C\u0011���8�w\u0019J�����3�\u0010�_,��\u0000�\u0019OiƼ�c���P�\u001b���r��@b�z\n",
      "�P2�7}���_�3\\OC9�<��I.JgV�\u000e@zw]�����\u0001�2\u0001�P�\u0015�8�\u0005\u001a�c\n",
      "��[��%\f",
      "\u0006fy����\u0001�\u0011|D\u00038x�9\u000e+�P�\u0002�8�k���C^�ݬ�\u001a�\u0015��C�\"����\u0006��l��7NHl�@&QF������)�n��_��\f",
      "=8f\u0017�\u0000[��k�Ms�f��\f",
      "�D�/\\\u0000a�;�6�\u000b",
      "5�wyJ�~\u0002��\u000b",
      "V\u000e�\u0000q\u001bS�*��\u000f�\u0011\f",
      "\n",
      "5�b\u0007��S\u001c",
      "vp`�b�R>���-R\u001c",
      "��u�\u0007y~4r\u0018n�\u0006#�U��k�\u0003�!�q�\u0007��\u0013��\u001d",
      ":sz/�\u001d",
      "�w�̳_�\u0012(�{\\\u001b�<#�ε�!\u0007y{6}�p�\u0001�R\u0019�����,S��Fd�8���\tw��rQF�ݘ3mk/��8�9�ں�H\u00024���;��ZN�0m�\u0000��+�\u001a�w.��5��Y�}��[�!�b�fuʿB��P\u0012\u001e",
      "w\u0006\u000b",
      "e.E3����ʼ\tM�n�\u0006zt�\u0001��T�\u0001D�-�\u001c",
      "�m<!G�F\u0001s\u0007b���\u0001^c|vT�\u0005��.���Y@\u0005Ef\u0001`B±�+gf8Q�x�gh2��\u000e��x�$y�f\u00178�2�\u001b�JAN\u0017g\u000f<d��!������7��\u0016�2\f",
      "\u0019E\u0011��� ��\u001e",
      "` �d��f\u0007\u000b",
      "�nWcϠR+\u0002�S�^���0g+���}�|\u0019yw\n",
      ">\u0006��\u0016?�\u0000�\u0000#�1>J��E�\u0004�lK���o\u0002��?\u0000PfV2��7>�{�=\u0014x�\u0003���#�3�CL��9�E�d�\u0014��#�#T���\u001a��\u0019/(\n",
      "\u001c",
      "�k�h���Q�Ϡ\u0001�J\u001b�ӻiQѓ���w��Q5r<j�z郬N�\u001e",
      "��k�=}�NS��z���!u�b\\�#�i�ʯ�Ib\u000f\u001b�����8�)V84�GP\n",
      "]�\n",
      "���ۖb\u0000A�(�9����BA¶e��g�b�\u000e������Za���+�o_(�9�����Tp\u0019_-�����㛦��\u001b�|\toC>:�x\u000b",
      "$�Q�\u0016D�@2{�� ����4��\u001d",
      "+T\n",
      "�W��\u000b",
      "�@��\u0006 �\"�yD\u001c",
      "\u0000o\u000e�/���\u0006m�̖\u0001G�,z\u001c",
      "�7t^Z\u001c",
      "��ȣ��\u00153\u0015Eڏx��\u0002�≫G*3�u\u0007[\u0013���f(+�%�c�E*W`7�\u001bc��!�a��\u0012!c�\u0019�\u001c",
      "V0/\u001c",
      "�q��Ufn\u0000��\u0000�R<�(\u0001�71>��f��j5�\u001c",
      "�h\u0006i����;�;�\f",
      "�)\u000b",
      "�\u000b",
      "\u0018���y�+:����t��Ј��\\k��O&鐯۸��bXV��\u0004\u0017+�o�J����w���as�J.W�SL�/�G��P�W�IB\u001a�z�(A��t�w�\u001a\u0007���`�+��~�\u0005@!f�v�\u0003��o\u0018\u0012��x��(\n",
      "\u000elS�X΂~\u000e�Fd뇱Ġs�\u001d",
      "�˫|@t|\u001d",
      "\u001c",
      "W\\�r7\u0007O\u0010�\u0002�Y�SH��<\u001d",
      "\u0001Z��eYt9e�\u0005d���.�㿬؎��4�#�C\u0016S\u0012�����t�5\u0004�;��Yt��gȦ�\u000eG���oq71�����F\u0000��\u0004F\u001c",
      "�ʂ('2FB���[��go�ߨ%3�i]N��\u000e�Gk<\tF�P̨�`w�[��w��t\tA/ߩ˩x[/�n:[�+�Q�+��@���ٹ��\u0007mk�@�J�\u00069��k�q܀����X\u001b9��\u0011�x��\u001e",
      "�HY���9vy�\\�Ð\n",
      "��\u0012�%7�����&\u0018�|a�/c1�\u0014�\u0017n;������� �POR\u0012�X�b�\u001d",
      "�%��)�ȕڕ�\u0007 :\f",
      "3=�\u0010�!�0%�T�\u000e1v�.i�i��mh.\u000f_�fe�x��۽�4\u000f,~�������\u0018iGk.�J\u001c",
      "\u001fۙsU/� �,Q�2B|̹�\u0017���0\n",
      "��C�o�\u0019�5�\u0011�j'\u001f��^\u0000 ̹�Mo\u0015�\u000e�-��n\u000fS2��]���ZF9a�G 9�4�W,��\t�KW�ۙsU_Pѯ\u0013J�1.�fY\u001fr�#�\u0003\u0014\u0001�5Ұ�\u0017\u0005\u001b\u001c",
      "ɰ3~���㹺�����FePDS�\n",
      "5ǃ���IS08fU\u0000�;�G��Ѝ/\u0001 �\u00072�r���\u001c",
      "���k\u0017�AZ̪\u0001��j�;�� ں�\"�\u00132��\u0000�\f",
      "^_\u0007B~�O\u0006\u0018<ʣ�[�\u001a��D��L̪=�/�Z\u0017��\u0017\\U��l�ʠ�\u000e�8ێ���(11^eQ��P��\u001d",
      "-\tNUd�\f",
      "� ��O��\u0016�\u0006̚C�ĩ�\u00105�2\u001d",
      "�/F�@(�\u0003\u0014;�\u000ej\u0016,��%��X�0\u001c",
      "�v\"�pp�ӆ#��\u0018q�!�B�w+��,�\u0014���2\u001c",
      "zf�\u001fB�w�\u00072\u001c",
      "�������Fc�2s!Ȓ\u0005��ݙ��d>G��\u0017֠�D\u0006%Ṁ�|�>�\u0004�Z}��&���\u000e�\u0019���+��F�8Şɞ\u0003ƽ^+������9y37��\u0005�a�%�ۿD@9��� ���d�\u001b���L��+\u0016X�bI���\u0000~��5��sNT����\u0004��3z��0\u0003��\u001a��\u0014fo\u0007\u000b",
      "\f",
      "�6��cA�N��x����r݂A�5�\u0003�\u0013\u0013�\u0005��\u0018���Õ-\u001c",
      "�\u0001���j���\u0012�3�j\u0007d�ީ\u0012�74�\u0003�K\n",
      "��\u0016\u0007�\u0011?�\u000ez�c�#\u0002C�O}L\u001bx\u0013(-a3���\u000e\u0019�_��J8����R\u0012�A�8�S��S��p\u001d",
      "G� G\u0004\u0006�\u001e",
      "�g>%\u0017N�O���\u0010Ϸ�S\u0000a�,\u0007�hZ\t�|\u0000�q���̄�s-h��@�g����\u0000ǵIiR&�}\u0000}�p� /��J��?Zd�={�`�n��\u0001J��ߨ���\u0000����.���!���\u0014W6�y+ύ\u0007��wj;N\u0000\u0015\n",
      "�\u0000&����h��/p�Jr�*��\\�X8|�\u0017��Y��F��2�Yf�=ێ�\u0007\u000e�\u0012��sH�ȇA\u001f��\u0012�:\u0002\u0004;Ùs_2�}�g���e}���f\\�\n",
      "��j���]��/�s.h�Sy�\u001d",
      "�xu-\f",
      "iVg2�\u0003A�=��B\u0016(�z�3.j��\u001c",
      "5��ܲ��\f",
      "\u0011��^�&�ܴJ�2aK�\u0003�\u0000����@xs�p\u001c",
      "�`\u000b",
      "�t������[@�, _�P\u0011�0dل�C���\\��u�\n"
     ]
    }
   ],
   "source": [
    "# insert the raw file name -kmr\n",
    "# it should look like complete nonsense -- we will change it in this notebook\n",
    "!head -40 35323340.t01"
   ]
  },
  {
   "cell_type": "markdown",
   "id": "78b84884",
   "metadata": {},
   "source": [
    "The file has two parts: \n",
    "1. A header of 21 lines containing important metadata, such as the site code, who collected the data, the receiver and antenna type (and their serial numbers), the approximate site location, the antenna height and details of the data (the start and end times, sample interval, and which observations are recorded $-$ such as which carrier phases and which pseudoranges).\n",
    "2. Data, with time and date stamps for each epoch, as well as the details of the observables for each visible satellite.\n",
    "\n",
    "A RINEX data file containing this information is processable using multiple different processing softwares. But how do we make one?"
   ]
  },
  {
   "cell_type": "markdown",
   "id": "a0d11536",
   "metadata": {},
   "source": [
    "### 1.2 Converting RAW data to RINEX\n",
    "\n",
    "The first step will be to pull the data from the GNSS receiver $-$ and how you do this depends a lot on the receiver type. Some receivers (such as the Trimble NetRS and NetR9, and the Septentrio PolaRx5) log data to internal storage, and require you to connect to a web server on the receiver to access the data. Others, such as the Trimble R7 and Topcon GB-1000, log data to a CompactFlash card within the receiver, which can then be pulled out and read with a card reader at the end of the survey (which is usually much easier to do, especially when out in the field).\n",
    "\n",
    "Assuming we are using a Trimble R7, which are the majority of the GNSS receivers I have access to at UCR, then the data will be recorded to the receiver in a proprietary, binary format ('t01' format). I have included one of these files as well, collected in July 2024 at VERS, to practice with. Let's have a look!"
   ]
  },
  {
   "cell_type": "code",
   "execution_count": 16,
   "id": "e8e17f60",
   "metadata": {},
   "outputs": [
    {
     "name": "stdout",
     "output_type": "stream",
     "text": [
      "-rw-r--r-- 1 katie katie 445046 Nov 29  2005 35323330.t01\n",
      "-rw-r--r-- 1 katie katie 353167 Nov 30  2005 35323340.t01\n"
     ]
    }
   ],
   "source": [
    "# lets look at all the files that end with .t01\n",
    "!ls -l *.t01"
   ]
  },
  {
   "cell_type": "markdown",
   "id": "8f1a242c",
   "metadata": {},
   "source": [
    "EarthScope (UNAVCO, as-was) is a good source of information on how to convert these proprietary data files to RINEX. For the Trimble data we are using, it is a two step process $-$ first convert the 't01' file to a 'dat' file, and then convert the 'dat' file to RINEX. \n",
    "\n",
    "The conversion program we need for the first step is called runpkr00, and it is a compiled binary executable that only runs on certain hardware (Linux PCs, Windows PCs, Intel Macs, Solaris Unix machines).\n",
    "\n",
    "The runpkr00 executables can be downloaded from this legacy UNAVCO Knowledge Base webpage: https://kb.unavco.org/article/trimble-runpkr00-latest-versions-744.html\n",
    "\n",
    "You should download the version that you need (version 5.40 is good enough for our purposes). If you are running this on Linux (or emulated Linux through WSL2), make sure you copy the `runpkr00` exectuable to the directory containing this notebook and the t01 file."
   ]
  },
  {
   "cell_type": "code",
   "execution_count": 17,
   "id": "d8a390db",
   "metadata": {},
   "outputs": [
    {
     "name": "stdout",
     "output_type": "stream",
     "text": [
      "-rwxr-xr-x 1 katie katie 1897487 Jul 24 12:15 runpkr00\n"
     ]
    }
   ],
   "source": [
    "# run the process for the raw data\n",
    "!ls -l runpkr00"
   ]
  },
  {
   "cell_type": "markdown",
   "id": "8dc29e66",
   "metadata": {},
   "source": [
    "In order to convert the file, we need to run `runpkr00` on the data file. Consulting the [Knowledge Base](https://kb.unavco.org/article/trimble-runpkr00-latest-versions-744.html) again, the correct syntax is something like: `runpkr00 -g -d filename.T01`\n",
    "\n",
    "So let's do that..."
   ]
  },
  {
   "cell_type": "code",
   "execution_count": 27,
   "id": "6e4aa0b2",
   "metadata": {},
   "outputs": [
    {
     "name": "stdout",
     "output_type": "stream",
     "text": [
      "./runpkr00 -g -d 35323330.t01\n"
     ]
    }
   ],
   "source": [
    "# insert YOUR FILE that you would like to process\n",
    "rawfile='35323330.t01'  # if you have your own file, feel free to substitute it here\n",
    "\n",
    "print('./runpkr00 -g -d ' + rawfile)  # this is the command you are running\n",
    "\n",
    "!./runpkr00 -g -d $rawfile"
   ]
  },
  {
   "cell_type": "markdown",
   "id": "61b43566",
   "metadata": {},
   "source": [
    "What did that do? Let's look for 'dat' files in the directory:"
   ]
  },
  {
   "cell_type": "code",
   "execution_count": 28,
   "id": "f6281357",
   "metadata": {},
   "outputs": [
    {
     "name": "stdout",
     "output_type": "stream",
     "text": [
      "-rw-rw-r-- 1 katie katie 1740606 Jul 24 14:40 35323330.dat\n",
      "-rw-rw-r-- 1 katie katie 1402036 Jul 24 14:25 35323340.dat\n"
     ]
    }
   ],
   "source": [
    "# lets see the .dat file it should have just created\n",
    "!ls -l *.dat"
   ]
  },
  {
   "cell_type": "markdown",
   "id": "32e2b12d",
   "metadata": {},
   "source": [
    "And now we should have a 'dat' file!\n",
    "\n",
    "Next we need to convert this to a 'proper' RINEX format, and for that we can use the long-lived (and no longer supported) `teqc` converter, a legacy UNAVCO code. teqc also has a legacy website: https://www.unavco.org/software/data-processing/teqc/teqc.html\n",
    "\n",
    "Note again that not all computer platforms are supported, but Linux PCs are. If the command does not work on your machine, try using it on a \n",
    "\n",
    "Once again, get the version of the executable that runs on your own machine, and copy it to your working directory.\n",
    "\n",
    "The syntax for running `teqc` is pretty straightforward, something like: `teqc filename.dat > rinexfile.o`\n",
    "\n",
    "We can try that..."
   ]
  },
  {
   "cell_type": "code",
   "execution_count": 29,
   "id": "1e325235",
   "metadata": {},
   "outputs": [
    {
     "name": "stdout",
     "output_type": "stream",
     "text": [
      "./teqc 35323330.dat > test.o\n",
      "? Error ? translation of '35323330.dat' may have started with GPS week 2376 rather than 1351\n",
      "\t(try using '-week 1351' option)\n",
      "! Notice ! '35323330.dat': GPS week initially set= 1351\n"
     ]
    }
   ],
   "source": [
    "# some data format futzing\n",
    "# this is just practice for the wrong gps week -- use the website to figure out the real gps week\n",
    "filename, extension = splitext(rawfile)\n",
    "datfile = filename+'.dat'\n",
    "\n",
    "# and let's run it\n",
    "print('./teqc ' + datfile + ' > test.o')\n",
    "\n",
    "!./teqc $datfile > test.o"
   ]
  },
  {
   "cell_type": "markdown",
   "id": "3ee3e12d",
   "metadata": {},
   "source": [
    "We get an error message! Something about a possibly incorrect 'GPS week'! What does that mean?\n",
    "\n",
    "Well, GPS week is a charming and fairly arcane way of measuring the passing of time. It refers to the number of weeks since the first GPS epoch $-$ which was midnight on January 6, 1980, UTC time. GPS week is transmitted with the GPS signal as a 10 bit number, meaning that every $2^{10}$ weeks (1024 weeks), the counter resets, and the GPS receiver gets confused about the date.\n",
    "\n",
    "This is the GPS equivalent of the Y2K bug, and if anything it is a more irritating problem as it is: 1) less well known, 2) happens more frequently (1024 weeks is 19.6 years), and 3) not really fixed. It has caused issues, particularly with electronic hardware that uses GPS for timing $-$ see https://en.wikipedia.org/wiki/GPS_week_number_rollover for some examples, and a description of the problem.\n",
    "\n",
    "If we look at the dates in the RINEX file we just made, we can see it might have some issues:"
   ]
  },
  {
   "cell_type": "code",
   "execution_count": 30,
   "id": "4f01894b",
   "metadata": {},
   "outputs": [
    {
     "name": "stdout",
     "output_type": "stream",
     "text": [
      "     2.11           OBSERVATION DATA    G (GPS)             RINEX VERSION / TYPE\n",
      "teqc  2019Feb25                         20250724 21:40:08UTCPGM / RUN BY / DATE\n",
      "Linux 2.6.32-573.12.1.x86_64|x86_64|gcc -static|Linux 64|=+ COMMENT\n",
      "BIT 2 OF LLI FLAGS DATA COLLECTED UNDER A/S CONDITION       COMMENT\n",
      "35323330                                                    MARKER NAME\n",
      "3330                                                        MARKER NUMBER\n",
      "-Unknown-           -Unknown-                               OBSERVER / AGENCY\n",
      "0220413532          TRIMBLE R7          2.32                REC # / TYPE / VERS\n",
      "-Unknown-           TRM39105.00     NONE                    ANT # / TYPE\n",
      " -2382849.0132 -4663312.8820  3629794.1450                  APPROX POSITION XYZ\n",
      "        0.0000        0.0000        0.0000                  ANTENNA: DELTA H/E/N\n",
      "     1     1                                                WAVELENGTH FACT L1/2\n",
      "     7    L1    L2    C1    P1    P2    S1    S2            # / TYPES OF OBSERV\n",
      "    18                                                      LEAP SECONDS\n",
      " SNR is mapped to RINEX snr flag value [0-9]                COMMENT\n",
      "  L1 & L2: min(max(int(snr_dBHz/6), 0), 9)                  COMMENT\n",
      "  2005    11    29     0    10   30.0000000     GPS         TIME OF FIRST OBS\n",
      "                                                            END OF HEADER\n",
      " 05 11 29  0 10 30.0000000  0  8G01G02G03G10G28G31G32G26\n",
      "   -325338.73857   -182730.09856  21266180.6954                   21266177.1174\n",
      "        47.7504         37.2504\n",
      "   -264613.17657   -138840.65655  22243548.8914                   22243543.3014\n",
      "        46.7504         35.7504\n",
      "   -443371.85957   -233136.90257  21638049.5004                   21638047.4414\n",
      "        46.7504         45.2504\n",
      "   -226950.24655    -94479.22754  24570831.2274                   24570833.3794\n",
      "        35.0004         26.7504\n",
      "   -253781.45757   -139270.71956  21664182.1334                   21664177.5044\n",
      "        45.7504         36.5004\n",
      "   -332192.36757   -179800.11758  20257787.8284                   20257782.4144\n",
      "        47.5004         49.7504\n",
      "   -252235.66057   -132556.44956  23869727.2814                   23869725.4654\n",
      "        42.5004         36.0004\n",
      "   -442669.89556   -189606.16055  23378385.6484                   23378386.6414\n",
      "        40.5004         35.2504\n",
      " 05 11 29  0 11  0.0000000  0 10G01G02G03G10G28G31G32G04G25G26\n",
      "   -582152.09847   -382844.42646  21217310.5394                   21217306.6054\n",
      "        47.5004         36.5004\n",
      "   -467440.19947   -296887.75446  22204952.8204                   22204947.0004\n",
      "        46.7504         36.0004\n"
     ]
    }
   ],
   "source": [
    "# lets look at the file you just created\n",
    "!head -40 test.o"
   ]
  },
  {
   "cell_type": "markdown",
   "id": "8803bbb1",
   "metadata": {},
   "source": [
    "The date/time strings are something like `04 12  1  1 18 30.0000000` $-$ 2004/12/01 at 01:18:30. Not July 2024. Indeed, if you compare the dates, they are wrong by just under 20 years. (That should sound suspicious...)\n",
    "\n",
    "We can consult the [log sheet for the data](VERS.pdf) to see what the actual acquisition date was.\n",
    "\n",
    "We can also use a [GPS week date converter](http://sopac-old.ucsd.edu/convertDate.shtml) to figure out what the GPS week actually was when the data were acquired."
   ]
  },
  {
   "cell_type": "code",
   "execution_count": 31,
   "id": "cdca999d",
   "metadata": {},
   "outputs": [
    {
     "name": "stdout",
     "output_type": "stream",
     "text": [
      "./teqc -week 2375 35323330.dat > test.o\n",
      "! Notice ! NAVSTAR GPS SV G04 in '35323330.dat': ToC 2005 Nov 29 02:00:00.000 not in 2025 Jul 15 00:10:30.000 to 6075 Dec 31 23:59:59.999 by +/- 140 min\n",
      "! Notice ! NAVSTAR GPS SV G25 in '35323330.dat': ToC 2005 Nov 29 01:59:44.000 not in 2025 Jul 15 00:10:30.000 to 6075 Dec 31 23:59:59.999 by +/- 140 min\n",
      "! Notice ! NAVSTAR GPS SV G16 in '35323330.dat': ToC 2005 Nov 29 02:00:00.000 not in 2025 Jul 15 00:10:30.000 to 6075 Dec 31 23:59:59.999 by +/- 140 min\n",
      "! Notice ! NAVSTAR GPS SV G09 in '35323330.dat': ToC 2005 Nov 29 02:00:00.000 not in 2025 Jul 15 00:10:30.000 to 6075 Dec 31 23:59:59.999 by +/- 140 min\n",
      "! Notice ! NAVSTAR GPS SV G06 in '35323330.dat': ToC 2005 Nov 29 01:59:44.000 not in 2025 Jul 15 00:10:30.000 to 6075 Dec 31 23:59:59.999 by +/- 140 min\n",
      "! Notice ! NAVSTAR GPS SV G07 in '35323330.dat': ToC 2005 Nov 29 01:59:44.000 not in 2025 Jul 15 00:10:30.000 to 6075 Dec 31 23:59:59.999 by +/- 140 min\n",
      "! Notice ! NAVSTAR GPS SV G09 in '35323330.dat': ToC 2005 Nov 29 04:00:00.000 not in 2025 Jul 15 00:10:30.000 to 6075 Dec 31 23:59:59.999 by +/- 140 min\n",
      "! Notice ! NAVSTAR GPS SV G07 in '35323330.dat': ToC 2005 Nov 29 03:59:44.000 not in 2025 Jul 15 00:10:30.000 to 6075 Dec 31 23:59:59.999 by +/- 140 min\n",
      "! Notice ! NAVSTAR GPS SV G16 in '35323330.dat': ToC 2005 Nov 29 04:00:00.000 not in 2025 Jul 15 00:10:30.000 to 6075 Dec 31 23:59:59.999 by +/- 140 min\n",
      "! Notice ! NAVSTAR GPS SV G06 in '35323330.dat': ToC 2005 Nov 29 04:00:00.000 not in 2025 Jul 15 00:10:30.000 to 6075 Dec 31 23:59:59.999 by +/- 140 min\n",
      "! Notice ! NAVSTAR GPS SV G28 in '35323330.dat': ToC 2005 Nov 29 04:00:00.000 not in 2025 Jul 15 00:10:30.000 to 6075 Dec 31 23:59:59.999 by +/- 140 min\n",
      "! Notice ! NAVSTAR GPS SV G03 in '35323330.dat': ToC 2005 Nov 29 04:00:00.000 not in 2025 Jul 15 00:10:30.000 to 6075 Dec 31 23:59:59.999 by +/- 140 min\n",
      "! Notice ! NAVSTAR GPS SV G04 in '35323330.dat': ToC 2005 Nov 29 04:00:00.000 not in 2025 Jul 15 00:10:30.000 to 6075 Dec 31 23:59:59.999 by +/- 140 min\n",
      "! Notice ! NAVSTAR GPS SV G26 in '35323330.dat': ToC 2005 Nov 29 04:00:00.000 not in 2025 Jul 15 00:10:30.000 to 6075 Dec 31 23:59:59.999 by +/- 140 min\n",
      "! Notice ! NAVSTAR GPS SV G31 in '35323330.dat': ToC 2005 Nov 29 04:00:00.000 not in 2025 Jul 15 00:10:30.000 to 6075 Dec 31 23:59:59.999 by +/- 140 min\n",
      "! Notice ! NAVSTAR GPS SV G01 in '35323330.dat': ToC 2005 Nov 29 04:00:00.000 not in 2025 Jul 15 00:10:30.000 to 6075 Dec 31 23:59:59.999 by +/- 140 min\n",
      "! Notice ! NAVSTAR GPS SV G03 in '35323330.dat': ToC 2005 Nov 29 03:59:44.000 not in 2025 Jul 15 00:10:30.000 to 6075 Dec 31 23:59:59.999 by +/- 140 min\n",
      "! Notice ! NAVSTAR GPS SV G27 in '35323330.dat': ToC 2005 Nov 29 04:00:00.000 not in 2025 Jul 15 00:10:30.000 to 6075 Dec 31 23:59:59.999 by +/- 140 min\n",
      "! Notice ! NAVSTAR GPS SV G08 in '35323330.dat': ToC 2005 Nov 29 04:00:00.000 not in 2025 Jul 15 00:10:30.000 to 6075 Dec 31 23:59:59.999 by +/- 140 min\n",
      "! Notice ! NAVSTAR GPS SV G30 in '35323330.dat': ToC 2005 Nov 29 04:00:00.000 not in 2025 Jul 15 00:10:30.000 to 6075 Dec 31 23:59:59.999 by +/- 140 min\n",
      "! Notice ! NAVSTAR GPS SV G21 in '35323330.dat': ToC 2005 Nov 29 04:00:00.000 not in 2025 Jul 15 00:10:30.000 to 6075 Dec 31 23:59:59.999 by +/- 140 min\n",
      "! Notice ! NAVSTAR GPS SV G08 in '35323330.dat': ToC 2005 Nov 29 06:00:00.000 not in 2025 Jul 15 00:10:30.000 to 6075 Dec 31 23:59:59.999 by +/- 140 min\n",
      "! Notice ! NAVSTAR GPS SV G09 in '35323330.dat': ToC 2005 Nov 29 06:00:00.000 not in 2025 Jul 15 00:10:30.000 to 6075 Dec 31 23:59:59.999 by +/- 140 min\n",
      "! Notice ! NAVSTAR GPS SV G07 in '35323330.dat': ToC 2005 Nov 29 06:00:00.000 not in 2025 Jul 15 00:10:30.000 to 6075 Dec 31 23:59:59.999 by +/- 140 min\n",
      "! Notice ! NAVSTAR GPS SV G16 in '35323330.dat': ToC 2005 Nov 29 06:00:00.000 not in 2025 Jul 15 00:10:30.000 to 6075 Dec 31 23:59:59.999 by +/- 140 min\n",
      "! Notice ! NAVSTAR GPS SV G27 in '35323330.dat': ToC 2005 Nov 29 06:00:00.000 not in 2025 Jul 15 00:10:30.000 to 6075 Dec 31 23:59:59.999 by +/- 140 min\n",
      "! Notice ! NAVSTAR GPS SV G30 in '35323330.dat': ToC 2005 Nov 29 06:00:00.000 not in 2025 Jul 15 00:10:30.000 to 6075 Dec 31 23:59:59.999 by +/- 140 min\n",
      "! Notice ! NAVSTAR GPS SV G21 in '35323330.dat': ToC 2005 Nov 29 06:00:00.000 not in 2025 Jul 15 00:10:30.000 to 6075 Dec 31 23:59:59.999 by +/- 140 min\n",
      "! Notice ! NAVSTAR GPS SV G04 in '35323330.dat': ToC 2005 Nov 29 06:00:00.000 not in 2025 Jul 15 00:10:30.000 to 6075 Dec 31 23:59:59.999 by +/- 140 min\n",
      "! Notice ! NAVSTAR GPS SV G03 in '35323330.dat': ToC 2005 Nov 29 05:59:44.000 not in 2025 Jul 15 00:10:30.000 to 6075 Dec 31 23:59:59.999 by +/- 140 min\n",
      "! Notice ! NAVSTAR GPS SV G26 in '35323330.dat': ToC 2005 Nov 29 06:00:00.000 not in 2025 Jul 15 00:10:30.000 to 6075 Dec 31 23:59:59.999 by +/- 140 min\n",
      "! Notice ! NAVSTAR GPS SV G20 in '35323330.dat': ToC 2005 Nov 29 06:00:00.000 not in 2025 Jul 15 00:10:30.000 to 6075 Dec 31 23:59:59.999 by +/- 140 min\n",
      "! Notice ! NAVSTAR GPS SV G27 in '35323330.dat': ToC 2005 Nov 29 05:59:44.000 not in 2025 Jul 15 00:10:30.000 to 6075 Dec 31 23:59:59.999 by +/- 140 min\n",
      "! Notice ! NAVSTAR GPS SV G21 in '35323330.dat': ToC 2005 Nov 29 06:29:36.000 not in 2025 Jul 15 00:10:30.000 to 6075 Dec 31 23:59:59.999 by +/- 140 min\n",
      "! Notice ! NAVSTAR GPS SV G14 in '35323330.dat': ToC 2005 Nov 29 06:00:00.000 not in 2025 Jul 15 00:10:30.000 to 6075 Dec 31 23:59:59.999 by +/- 140 min\n",
      "! Notice ! NAVSTAR GPS SV G22 in '35323330.dat': ToC 2005 Nov 29 05:59:44.000 not in 2025 Jul 15 00:10:30.000 to 6075 Dec 31 23:59:59.999 by +/- 140 min\n",
      "! Notice ! NAVSTAR GPS SV G05 in '35323330.dat': ToC 2005 Nov 29 06:00:00.000 not in 2025 Jul 15 00:10:30.000 to 6075 Dec 31 23:59:59.999 by +/- 140 min\n",
      "! Notice ! NAVSTAR GPS SV G08 in '35323330.dat': ToC 2005 Nov 29 08:00:00.000 not in 2025 Jul 15 00:10:30.000 to 6075 Dec 31 23:59:59.999 by +/- 140 min\n",
      "! Notice ! NAVSTAR GPS SV G09 in '35323330.dat': ToC 2005 Nov 29 08:00:00.000 not in 2025 Jul 15 00:10:30.000 to 6075 Dec 31 23:59:59.999 by +/- 140 min\n",
      "! Notice ! NAVSTAR GPS SV G07 in '35323330.dat': ToC 2005 Nov 29 08:00:00.000 not in 2025 Jul 15 00:10:30.000 to 6075 Dec 31 23:59:59.999 by +/- 140 min\n",
      "! Notice ! NAVSTAR GPS SV G30 in '35323330.dat': ToC 2005 Nov 29 08:00:00.000 not in 2025 Jul 15 00:10:30.000 to 6075 Dec 31 23:59:59.999 by +/- 140 min\n",
      "! Notice ! NAVSTAR GPS SV G21 in '35323330.dat': ToC 2005 Nov 29 08:00:00.000 not in 2025 Jul 15 00:10:30.000 to 6075 Dec 31 23:59:59.999 by +/- 140 min\n",
      "! Notice ! NAVSTAR GPS SV G27 in '35323330.dat': ToC 2005 Nov 29 07:59:44.000 not in 2025 Jul 15 00:10:30.000 to 6075 Dec 31 23:59:59.999 by +/- 140 min\n",
      "! Notice ! NAVSTAR GPS SV G20 in '35323330.dat': ToC 2005 Nov 29 08:00:00.000 not in 2025 Jul 15 00:10:30.000 to 6075 Dec 31 23:59:59.999 by +/- 140 min\n",
      "! Notice ! NAVSTAR GPS SV G14 in '35323330.dat': ToC 2005 Nov 29 08:00:00.000 not in 2025 Jul 15 00:10:30.000 to 6075 Dec 31 23:59:59.999 by +/- 140 min\n",
      "! Notice ! NAVSTAR GPS SV G22 in '35323330.dat': ToC 2005 Nov 29 08:00:00.000 not in 2025 Jul 15 00:10:30.000 to 6075 Dec 31 23:59:59.999 by +/- 140 min\n",
      "! Notice ! NAVSTAR GPS SV G05 in '35323330.dat': ToC 2005 Nov 29 08:00:00.000 not in 2025 Jul 15 00:10:30.000 to 6075 Dec 31 23:59:59.999 by +/- 140 min\n",
      "! Notice ! NAVSTAR GPS SV G04 in '35323330.dat': ToC 2005 Nov 29 08:00:00.000 not in 2025 Jul 15 00:10:30.000 to 6075 Dec 31 23:59:59.999 by +/- 140 min\n",
      "! Notice ! NAVSTAR GPS SV G17 in '35323330.dat': ToC 2005 Nov 29 08:00:00.000 not in 2025 Jul 15 00:10:30.000 to 6075 Dec 31 23:59:59.999 by +/- 140 min\n",
      "! Notice ! NAVSTAR GPS SV G09 in '35323330.dat': ToC 2005 Nov 29 07:59:44.000 not in 2025 Jul 15 00:10:30.000 to 6075 Dec 31 23:59:59.999 by +/- 140 min\n",
      "! Notice ! NAVSTAR GPS SV G13 in '35323330.dat': ToC 2005 Nov 29 08:00:00.000 not in 2025 Jul 15 00:10:30.000 to 6075 Dec 31 23:59:59.999 by +/- 140 min\n",
      "! Notice ! NAVSTAR GPS SV G02 in '35323330.dat': ToC 2005 Nov 29 08:00:00.000 not in 2025 Jul 15 00:10:30.000 to 6075 Dec 31 23:59:59.999 by +/- 140 min\n",
      "! Notice ! NAVSTAR GPS SV G19 in '35323330.dat': ToC 2005 Nov 29 08:00:00.000 not in 2025 Jul 15 00:10:30.000 to 6075 Dec 31 23:59:59.999 by +/- 140 min\n",
      "! Notice ! NAVSTAR GPS SV G01 in '35323330.dat': ToC 2005 Nov 29 08:00:00.000 not in 2025 Jul 15 00:10:30.000 to 6075 Dec 31 23:59:59.999 by +/- 140 min\n",
      "! Notice ! NAVSTAR GPS SV G15 in '35323330.dat': ToC 2005 Nov 29 07:59:44.000 not in 2025 Jul 15 00:10:30.000 to 6075 Dec 31 23:59:59.999 by +/- 140 min\n",
      "! Notice ! NAVSTAR GPS SV G14 in '35323330.dat': ToC 2005 Nov 29 09:29:36.000 not in 2025 Jul 15 00:10:30.000 to 6075 Dec 31 23:59:59.999 by +/- 140 min\n",
      "! Notice ! NAVSTAR GPS SV G07 in '35323330.dat': ToC 2005 Nov 29 10:00:00.000 not in 2025 Jul 15 00:10:30.000 to 6075 Dec 31 23:59:59.999 by +/- 140 min\n",
      "! Notice ! NAVSTAR GPS SV G30 in '35323330.dat': ToC 2005 Nov 29 10:00:00.000 not in 2025 Jul 15 00:10:30.000 to 6075 Dec 31 23:59:59.999 by +/- 140 min\n",
      "! Notice ! NAVSTAR GPS SV G14 in '35323330.dat': ToC 2005 Nov 29 10:00:00.000 not in 2025 Jul 15 00:10:30.000 to 6075 Dec 31 23:59:59.999 by +/- 140 min\n",
      "! Notice ! NAVSTAR GPS SV G22 in '35323330.dat': ToC 2005 Nov 29 10:00:00.000 not in 2025 Jul 15 00:10:30.000 to 6075 Dec 31 23:59:59.999 by +/- 140 min\n",
      "! Notice ! NAVSTAR GPS SV G13 in '35323330.dat': ToC 2005 Nov 29 10:00:00.000 not in 2025 Jul 15 00:10:30.000 to 6075 Dec 31 23:59:59.999 by +/- 140 min\n",
      "! Notice ! NAVSTAR GPS SV G19 in '35323330.dat': ToC 2005 Nov 29 10:00:00.000 not in 2025 Jul 15 00:10:30.000 to 6075 Dec 31 23:59:59.999 by +/- 140 min\n",
      "! Notice ! NAVSTAR GPS SV G01 in '35323330.dat': ToC 2005 Nov 29 10:00:00.000 not in 2025 Jul 15 00:10:30.000 to 6075 Dec 31 23:59:59.999 by +/- 140 min\n",
      "! Notice ! NAVSTAR GPS SV G15 in '35323330.dat': ToC 2005 Nov 29 09:59:44.000 not in 2025 Jul 15 00:10:30.000 to 6075 Dec 31 23:59:59.999 by +/- 140 min\n",
      "! Notice ! NAVSTAR GPS SV G17 in '35323330.dat': ToC 2005 Nov 29 10:00:00.000 not in 2025 Jul 15 00:10:30.000 to 6075 Dec 31 23:59:59.999 by +/- 140 min\n",
      "! Notice ! NAVSTAR GPS SV G02 in '35323330.dat': ToC 2005 Nov 29 10:00:00.000 not in 2025 Jul 15 00:10:30.000 to 6075 Dec 31 23:59:59.999 by +/- 140 min\n",
      "! Notice ! NAVSTAR GPS SV G06 in '35323330.dat': ToC 2005 Nov 29 10:00:00.000 not in 2025 Jul 15 00:10:30.000 to 6075 Dec 31 23:59:59.999 by +/- 140 min\n",
      "! Notice ! NAVSTAR GPS SV G24 in '35323330.dat': ToC 2005 Nov 29 10:00:00.000 not in 2025 Jul 15 00:10:30.000 to 6075 Dec 31 23:59:59.999 by +/- 140 min\n",
      "! Notice ! NAVSTAR GPS SV G11 in '35323330.dat': ToC 2005 Nov 29 10:00:00.000 not in 2025 Jul 15 00:10:30.000 to 6075 Dec 31 23:59:59.999 by +/- 140 min\n",
      "! Notice ! NAVSTAR GPS SV G24 in '35323330.dat': ToC 2005 Nov 29 09:59:44.000 not in 2025 Jul 15 00:10:30.000 to 6075 Dec 31 23:59:59.999 by +/- 140 min\n",
      "! Notice ! NAVSTAR GPS SV G30 in '35323330.dat': ToC 2005 Nov 29 09:59:44.000 not in 2025 Jul 15 00:10:30.000 to 6075 Dec 31 23:59:59.999 by +/- 140 min\n",
      "! Notice ! NAVSTAR GPS SV G30 in '35323330.dat': ToC 2005 Nov 29 11:59:44.000 not in 2025 Jul 15 00:10:30.000 to 6075 Dec 31 23:59:59.999 by +/- 140 min\n",
      "! Notice ! NAVSTAR GPS SV G14 in '35323330.dat': ToC 2005 Nov 29 12:00:00.000 not in 2025 Jul 15 00:10:30.000 to 6075 Dec 31 23:59:59.999 by +/- 140 min\n",
      "! Notice ! NAVSTAR GPS SV G19 in '35323330.dat': ToC 2005 Nov 29 12:00:00.000 not in 2025 Jul 15 00:10:30.000 to 6075 Dec 31 23:59:59.999 by +/- 140 min\n",
      "! Notice ! NAVSTAR GPS SV G22 in '35323330.dat': ToC 2005 Nov 29 12:00:00.000 not in 2025 Jul 15 00:10:30.000 to 6075 Dec 31 23:59:59.999 by +/- 140 min\n",
      "! Notice ! NAVSTAR GPS SV G13 in '35323330.dat': ToC 2005 Nov 29 12:00:00.000 not in 2025 Jul 15 00:10:30.000 to 6075 Dec 31 23:59:59.999 by +/- 140 min\n",
      "! Notice ! NAVSTAR GPS SV G11 in '35323330.dat': ToC 2005 Nov 29 12:00:00.000 not in 2025 Jul 15 00:10:30.000 to 6075 Dec 31 23:59:59.999 by +/- 140 min\n",
      "! Notice ! NAVSTAR GPS SV G01 in '35323330.dat': ToC 2005 Nov 29 12:00:00.000 not in 2025 Jul 15 00:10:30.000 to 6075 Dec 31 23:59:59.999 by +/- 140 min\n",
      "! Notice ! NAVSTAR GPS SV G15 in '35323330.dat': ToC 2005 Nov 29 12:00:00.000 not in 2025 Jul 15 00:10:30.000 to 6075 Dec 31 23:59:59.999 by +/- 140 min\n",
      "! Notice ! NAVSTAR GPS SV G24 in '35323330.dat': ToC 2005 Nov 29 11:59:44.000 not in 2025 Jul 15 00:10:30.000 to 6075 Dec 31 23:59:59.999 by +/- 140 min\n",
      "! Notice ! NAVSTAR GPS SV G06 in '35323330.dat': ToC 2005 Nov 29 12:00:00.000 not in 2025 Jul 15 00:10:30.000 to 6075 Dec 31 23:59:59.999 by +/- 140 min\n",
      "! Notice ! NAVSTAR GPS SV G17 in '35323330.dat': ToC 2005 Nov 29 12:00:00.000 not in 2025 Jul 15 00:10:30.000 to 6075 Dec 31 23:59:59.999 by +/- 140 min\n",
      "! Notice ! NAVSTAR GPS SV G12 in '35323330.dat': ToC 2005 Nov 29 12:00:00.000 not in 2025 Jul 15 00:10:30.000 to 6075 Dec 31 23:59:59.999 by +/- 140 min\n",
      "! Notice ! NAVSTAR GPS SV G17 in '35323330.dat': ToC 2005 Nov 29 11:59:44.000 not in 2025 Jul 15 00:10:30.000 to 6075 Dec 31 23:59:59.999 by +/- 140 min\n",
      "! Notice ! NAVSTAR GPS SV G20 in '35323330.dat': ToC 2005 Nov 29 12:00:00.000 not in 2025 Jul 15 00:10:30.000 to 6075 Dec 31 23:59:59.999 by +/- 140 min\n",
      "! Notice ! NAVSTAR GPS SV G25 in '35323330.dat': ToC 2005 Nov 29 12:00:00.000 not in 2025 Jul 15 00:10:30.000 to 6075 Dec 31 23:59:59.999 by +/- 140 min\n",
      "! Notice ! NAVSTAR GPS SV G21 in '35323330.dat': ToC 2005 Nov 29 12:00:00.000 not in 2025 Jul 15 00:10:30.000 to 6075 Dec 31 23:59:59.999 by +/- 140 min\n",
      "! Notice ! NAVSTAR GPS SV G21 in '35323330.dat': ToC 2005 Nov 29 14:00:00.000 not in 2025 Jul 15 00:10:30.000 to 6075 Dec 31 23:59:59.999 by +/- 140 min\n",
      "! Notice ! NAVSTAR GPS SV G14 in '35323330.dat': ToC 2005 Nov 29 14:00:00.000 not in 2025 Jul 15 00:10:30.000 to 6075 Dec 31 23:59:59.999 by +/- 140 min\n",
      "! Notice ! NAVSTAR GPS SV G11 in '35323330.dat': ToC 2005 Nov 29 14:00:00.000 not in 2025 Jul 15 00:10:30.000 to 6075 Dec 31 23:59:59.999 by +/- 140 min\n",
      "! Notice ! NAVSTAR GPS SV G19 in '35323330.dat': ToC 2005 Nov 29 14:00:00.000 not in 2025 Jul 15 00:10:30.000 to 6075 Dec 31 23:59:59.999 by +/- 140 min\n",
      "! Notice ! NAVSTAR GPS SV G22 in '35323330.dat': ToC 2005 Nov 29 14:00:00.000 not in 2025 Jul 15 00:10:30.000 to 6075 Dec 31 23:59:59.999 by +/- 140 min\n",
      "! Notice ! NAVSTAR GPS SV G12 in '35323330.dat': ToC 2005 Nov 29 14:00:00.000 not in 2025 Jul 15 00:10:30.000 to 6075 Dec 31 23:59:59.999 by +/- 140 min\n",
      "! Notice ! NAVSTAR GPS SV G24 in '35323330.dat': ToC 2005 Nov 29 14:00:00.000 not in 2025 Jul 15 00:10:30.000 to 6075 Dec 31 23:59:59.999 by +/- 140 min\n",
      "! Notice ! NAVSTAR GPS SV G25 in '35323330.dat': ToC 2005 Nov 29 14:00:00.000 not in 2025 Jul 15 00:10:30.000 to 6075 Dec 31 23:59:59.999 by +/- 140 min\n",
      "! Notice ! NAVSTAR GPS SV G06 in '35323330.dat': ToC 2005 Nov 29 14:00:00.000 not in 2025 Jul 15 00:10:30.000 to 6075 Dec 31 23:59:59.999 by +/- 140 min\n",
      "! Notice ! NAVSTAR GPS SV G17 in '35323330.dat': ToC 2005 Nov 29 13:59:44.000 not in 2025 Jul 15 00:10:30.000 to 6075 Dec 31 23:59:59.999 by +/- 140 min\n",
      "! Notice ! NAVSTAR GPS SV G20 in '35323330.dat': ToC 2005 Nov 29 14:00:00.000 not in 2025 Jul 15 00:10:30.000 to 6075 Dec 31 23:59:59.999 by +/- 140 min\n",
      "! Notice ! NAVSTAR GPS SV G29 in '35323330.dat': ToC 2005 Nov 29 14:00:00.000 not in 2025 Jul 15 00:10:30.000 to 6075 Dec 31 23:59:59.999 by +/- 140 min\n",
      "! Notice ! NAVSTAR GPS SV G05 in '35323330.dat': ToC 2005 Nov 29 14:00:00.000 not in 2025 Jul 15 00:10:30.000 to 6075 Dec 31 23:59:59.999 by +/- 140 min\n",
      "! Notice ! NAVSTAR GPS SV G28 in '35323330.dat': ToC 2005 Nov 29 14:00:00.000 not in 2025 Jul 15 00:10:30.000 to 6075 Dec 31 23:59:59.999 by +/- 140 min\n",
      "! Notice ! NAVSTAR GPS SV G12 in '35323330.dat': ToC 2005 Nov 29 13:59:44.000 not in 2025 Jul 15 00:10:30.000 to 6075 Dec 31 23:59:59.999 by +/- 140 min\n",
      "! Notice ! NAVSTAR GPS SV G21 in '35323330.dat': ToC 2005 Nov 29 16:00:00.000 not in 2025 Jul 15 00:10:30.000 to 6075 Dec 31 23:59:59.999 by +/- 140 min\n",
      "! Notice ! NAVSTAR GPS SV G11 in '35323330.dat': ToC 2005 Nov 29 16:00:00.000 not in 2025 Jul 15 00:10:30.000 to 6075 Dec 31 23:59:59.999 by +/- 140 min\n",
      "! Notice ! NAVSTAR GPS SV G12 in '35323330.dat': ToC 2005 Nov 29 15:59:44.000 not in 2025 Jul 15 00:10:30.000 to 6075 Dec 31 23:59:59.999 by +/- 140 min\n",
      "! Notice ! NAVSTAR GPS SV G24 in '35323330.dat': ToC 2005 Nov 29 16:00:00.000 not in 2025 Jul 15 00:10:30.000 to 6075 Dec 31 23:59:59.999 by +/- 140 min\n",
      "! Notice ! NAVSTAR GPS SV G25 in '35323330.dat': ToC 2005 Nov 29 16:00:00.000 not in 2025 Jul 15 00:10:30.000 to 6075 Dec 31 23:59:59.999 by +/- 140 min\n",
      "! Notice ! NAVSTAR GPS SV G06 in '35323330.dat': ToC 2005 Nov 29 16:00:00.000 not in 2025 Jul 15 00:10:30.000 to 6075 Dec 31 23:59:59.999 by +/- 140 min\n",
      "! Notice ! NAVSTAR GPS SV G05 in '35323330.dat': ToC 2005 Nov 29 16:00:00.000 not in 2025 Jul 15 00:10:30.000 to 6075 Dec 31 23:59:59.999 by +/- 140 min\n",
      "! Notice ! NAVSTAR GPS SV G28 in '35323330.dat': ToC 2005 Nov 29 16:00:00.000 not in 2025 Jul 15 00:10:30.000 to 6075 Dec 31 23:59:59.999 by +/- 140 min\n",
      "! Notice ! NAVSTAR GPS SV G20 in '35323330.dat': ToC 2005 Nov 29 16:00:00.000 not in 2025 Jul 15 00:10:30.000 to 6075 Dec 31 23:59:59.999 by +/- 140 min\n",
      "! Notice ! NAVSTAR GPS SV G29 in '35323330.dat': ToC 2005 Nov 29 16:00:00.000 not in 2025 Jul 15 00:10:30.000 to 6075 Dec 31 23:59:59.999 by +/- 140 min\n",
      "! Notice ! NAVSTAR GPS SV G18 in '35323330.dat': ToC 2005 Nov 29 16:00:00.000 not in 2025 Jul 15 00:10:30.000 to 6075 Dec 31 23:59:59.999 by +/- 140 min\n",
      "! Notice ! NAVSTAR GPS SV G05 in '35323330.dat': ToC 2005 Nov 29 15:59:44.000 not in 2025 Jul 15 00:10:30.000 to 6075 Dec 31 23:59:59.999 by +/- 140 min\n",
      "! Notice ! NAVSTAR GPS SV G31 in '35323330.dat': ToC 2005 Nov 29 16:00:00.000 not in 2025 Jul 15 00:10:30.000 to 6075 Dec 31 23:59:59.999 by +/- 140 min\n",
      "! Notice ! NAVSTAR GPS SV G15 in '35323330.dat': ToC 2005 Nov 29 16:00:00.000 not in 2025 Jul 15 00:10:30.000 to 6075 Dec 31 23:59:59.999 by +/- 140 min\n",
      "! Notice ! NAVSTAR GPS SV G23 in '35323330.dat': ToC 2005 Nov 29 16:00:00.000 not in 2025 Jul 15 00:10:30.000 to 6075 Dec 31 23:59:59.999 by +/- 140 min\n",
      "! Notice ! NAVSTAR GPS SV G26 in '35323330.dat': ToC 2005 Nov 29 16:00:00.000 not in 2025 Jul 15 00:10:30.000 to 6075 Dec 31 23:59:59.999 by +/- 140 min\n",
      "! Notice ! NAVSTAR GPS SV G13 in '35323330.dat': ToC 2005 Nov 29 15:59:44.000 not in 2025 Jul 15 00:10:30.000 to 6075 Dec 31 23:59:59.999 by +/- 140 min\n",
      "! Notice ! NAVSTAR GPS SV G23 in '35323330.dat': ToC 2005 Nov 29 17:44:32.000 not in 2025 Jul 15 00:10:30.000 to 6075 Dec 31 23:59:59.999 by +/- 140 min\n",
      "! Notice ! NAVSTAR GPS SV G21 in '35323330.dat': ToC 2005 Nov 29 18:00:00.000 not in 2025 Jul 15 00:10:30.000 to 6075 Dec 31 23:59:59.999 by +/- 140 min\n",
      "! Notice ! NAVSTAR GPS SV G23 in '35323330.dat': ToC 2005 Nov 29 18:00:00.000 not in 2025 Jul 15 00:10:30.000 to 6075 Dec 31 23:59:59.999 by +/- 140 min\n",
      "! Notice ! NAVSTAR GPS SV G12 in '35323330.dat': ToC 2005 Nov 29 18:00:00.000 not in 2025 Jul 15 00:10:30.000 to 6075 Dec 31 23:59:59.999 by +/- 140 min\n",
      "! Notice ! NAVSTAR GPS SV G25 in '35323330.dat': ToC 2005 Nov 29 18:00:00.000 not in 2025 Jul 15 00:10:30.000 to 6075 Dec 31 23:59:59.999 by +/- 140 min\n",
      "! Notice ! NAVSTAR GPS SV G05 in '35323330.dat': ToC 2005 Nov 29 17:59:44.000 not in 2025 Jul 15 00:10:30.000 to 6075 Dec 31 23:59:59.999 by +/- 140 min\n",
      "! Notice ! NAVSTAR GPS SV G15 in '35323330.dat': ToC 2005 Nov 29 18:00:00.000 not in 2025 Jul 15 00:10:30.000 to 6075 Dec 31 23:59:59.999 by +/- 140 min\n",
      "! Notice ! NAVSTAR GPS SV G13 in '35323330.dat': ToC 2005 Nov 29 17:59:44.000 not in 2025 Jul 15 00:10:30.000 to 6075 Dec 31 23:59:59.999 by +/- 140 min\n",
      "! Notice ! NAVSTAR GPS SV G26 in '35323330.dat': ToC 2005 Nov 29 18:00:00.000 not in 2025 Jul 15 00:10:30.000 to 6075 Dec 31 23:59:59.999 by +/- 140 min\n",
      "! Notice ! NAVSTAR GPS SV G29 in '35323330.dat': ToC 2005 Nov 29 18:00:00.000 not in 2025 Jul 15 00:10:30.000 to 6075 Dec 31 23:59:59.999 by +/- 140 min\n",
      "! Notice ! NAVSTAR GPS SV G20 in '35323330.dat': ToC 2005 Nov 29 18:00:00.000 not in 2025 Jul 15 00:10:30.000 to 6075 Dec 31 23:59:59.999 by +/- 140 min\n",
      "! Notice ! NAVSTAR GPS SV G18 in '35323330.dat': ToC 2005 Nov 29 18:00:00.000 not in 2025 Jul 15 00:10:30.000 to 6075 Dec 31 23:59:59.999 by +/- 140 min\n",
      "! Notice ! NAVSTAR GPS SV G16 in '35323330.dat': ToC 2005 Nov 29 18:00:00.000 not in 2025 Jul 15 00:10:30.000 to 6075 Dec 31 23:59:59.999 by +/- 140 min\n",
      "! Notice ! NAVSTAR GPS SV G10 in '35323330.dat': ToC 2005 Nov 29 18:00:00.000 not in 2025 Jul 15 00:10:30.000 to 6075 Dec 31 23:59:59.999 by +/- 140 min\n",
      "! Notice ! NAVSTAR GPS SV G27 in '35323330.dat': ToC 2005 Nov 29 18:00:00.000 not in 2025 Jul 15 00:10:30.000 to 6075 Dec 31 23:59:59.999 by +/- 140 min\n",
      "! Notice ! NAVSTAR GPS SV G10 in '35323330.dat': ToC 2005 Nov 29 20:00:00.000 not in 2025 Jul 15 00:10:30.000 to 6075 Dec 31 23:59:59.999 by +/- 140 min\n",
      "! Notice ! NAVSTAR GPS SV G23 in '35323330.dat': ToC 2005 Nov 29 20:00:00.000 not in 2025 Jul 15 00:10:30.000 to 6075 Dec 31 23:59:59.999 by +/- 140 min\n",
      "! Notice ! NAVSTAR GPS SV G27 in '35323330.dat': ToC 2005 Nov 29 20:00:00.000 not in 2025 Jul 15 00:10:30.000 to 6075 Dec 31 23:59:59.999 by +/- 140 min\n",
      "! Notice ! NAVSTAR GPS SV G05 in '35323330.dat': ToC 2005 Nov 29 20:00:00.000 not in 2025 Jul 15 00:10:30.000 to 6075 Dec 31 23:59:59.999 by +/- 140 min\n",
      "! Notice ! NAVSTAR GPS SV G15 in '35323330.dat': ToC 2005 Nov 29 20:00:00.000 not in 2025 Jul 15 00:10:30.000 to 6075 Dec 31 23:59:59.999 by +/- 140 min\n",
      "! Notice ! NAVSTAR GPS SV G13 in '35323330.dat': ToC 2005 Nov 29 20:00:00.000 not in 2025 Jul 15 00:10:30.000 to 6075 Dec 31 23:59:59.999 by +/- 140 min\n",
      "! Notice ! NAVSTAR GPS SV G26 in '35323330.dat': ToC 2005 Nov 29 20:00:00.000 not in 2025 Jul 15 00:10:30.000 to 6075 Dec 31 23:59:59.999 by +/- 140 min\n",
      "! Notice ! NAVSTAR GPS SV G16 in '35323330.dat': ToC 2005 Nov 29 20:00:00.000 not in 2025 Jul 15 00:10:30.000 to 6075 Dec 31 23:59:59.999 by +/- 140 min\n",
      "! Notice ! NAVSTAR GPS SV G29 in '35323330.dat': ToC 2005 Nov 29 20:00:00.000 not in 2025 Jul 15 00:10:30.000 to 6075 Dec 31 23:59:59.999 by +/- 140 min\n",
      "! Notice ! NAVSTAR GPS SV G18 in '35323330.dat': ToC 2005 Nov 29 20:00:00.000 not in 2025 Jul 15 00:10:30.000 to 6075 Dec 31 23:59:59.999 by +/- 140 min\n",
      "! Notice ! NAVSTAR GPS SV G32 in '35323330.dat': ToC 2005 Nov 29 20:00:00.000 not in 2025 Jul 15 00:10:30.000 to 6075 Dec 31 23:59:59.999 by +/- 140 min\n",
      "! Notice ! NAVSTAR GPS SV G24 in '35323330.dat': ToC 2005 Nov 29 20:00:00.000 not in 2025 Jul 15 00:10:30.000 to 6075 Dec 31 23:59:59.999 by +/- 140 min\n"
     ]
    }
   ],
   "source": [
    "# what was the GPS week?\n",
    "# set this to the correct gps week\n",
    "gpsweek=2375\n",
    "\n",
    "# let's try again!\n",
    "print('./teqc -week {0:d} {1:s} > test.o'.format(gpsweek,datfile))\n",
    "!./teqc -week $gpsweek $datfile > test.o\n"
   ]
  },
  {
   "cell_type": "markdown",
   "id": "efb98a6a",
   "metadata": {},
   "source": [
    "Lots of complaining this time, but did it make a difference? We can look at the file again to see..."
   ]
  },
  {
   "cell_type": "code",
   "execution_count": 44,
   "id": "05e07785",
   "metadata": {},
   "outputs": [
    {
     "name": "stdout",
     "output_type": "stream",
     "text": [
      "     2.11           OBSERVATION DATA    G (GPS)             RINEX VERSION / TYPE\n",
      "teqc  2019Feb25                         20250724 21:41:00UTCPGM / RUN BY / DATE\n",
      "Linux 2.6.32-573.12.1.x86_64|x86_64|gcc -static|Linux 64|=+ COMMENT\n",
      "BIT 2 OF LLI FLAGS DATA COLLECTED UNDER A/S CONDITION       COMMENT\n",
      "35323330                                                    MARKER NAME\n",
      "3330                                                        MARKER NUMBER\n",
      "-Unknown-           -Unknown-                               OBSERVER / AGENCY\n",
      "0220413532          TRIMBLE R7          2.32                REC # / TYPE / VERS\n",
      "-Unknown-           TRM39105.00     NONE                    ANT # / TYPE\n",
      " -2382849.0132 -4663312.8820  3629794.1450                  APPROX POSITION XYZ\n",
      "        0.0000        0.0000        0.0000                  ANTENNA: DELTA H/E/N\n",
      "     1     1                                                WAVELENGTH FACT L1/2\n",
      "     7    L1    L2    C1    P1    P2    S1    S2            # / TYPES OF OBSERV\n",
      "    18                                                      LEAP SECONDS\n",
      " SNR is mapped to RINEX snr flag value [0-9]                COMMENT\n",
      "  L1 & L2: min(max(int(snr_dBHz/6), 0), 9)                  COMMENT\n",
      "  2025     7    15     0    10   30.0000000     GPS         TIME OF FIRST OBS\n",
      "                                                            END OF HEADER\n",
      " 25  7 15  0 10 30.0000000  0  8G01G02G03G10G28G31G32G26\n",
      "   -325338.73857   -182730.09856  21266180.6954                   21266177.1174\n",
      "        47.7504         37.2504\n",
      "   -264613.17657   -138840.65655  22243548.8914                   22243543.3014\n",
      "        46.7504         35.7504\n",
      "   -443371.85957   -233136.90257  21638049.5004                   21638047.4414\n",
      "        46.7504         45.2504\n",
      "   -226950.24655    -94479.22754  24570831.2274                   24570833.3794\n",
      "        35.0004         26.7504\n",
      "   -253781.45757   -139270.71956  21664182.1334                   21664177.5044\n",
      "        45.7504         36.5004\n",
      "   -332192.36757   -179800.11758  20257787.8284                   20257782.4144\n",
      "        47.5004         49.7504\n",
      "   -252235.66057   -132556.44956  23869727.2814                   23869725.4654\n",
      "        42.5004         36.0004\n",
      "   -442669.89556   -189606.16055  23378385.6484                   23378386.6414\n",
      "        40.5004         35.2504\n",
      " 25  7 15  0 11  0.0000000  0 10G01G02G03G10G28G31G32G04G25G26\n",
      "   -582152.09847   -382844.42646  21217310.5394                   21217306.6054\n",
      "        47.5004         36.5004\n",
      "   -467440.19947   -296887.75446  22204952.8204                   22204947.0004\n",
      "        46.7504         36.0004\n"
     ]
    }
   ],
   "source": [
    "# now the data should be right! yay\n",
    "!head -40 test.o"
   ]
  },
  {
   "cell_type": "markdown",
   "id": "22cde851",
   "metadata": {},
   "source": [
    "Those dates look a lot more plausible, so it looks like the data were interpreted correctly this time. We have a RINEX file! But we are still missing a lot of important details $-$ such as the metadata for the acquisition. So let's get on with that..."
   ]
  },
  {
   "cell_type": "markdown",
   "id": "e576fb8b",
   "metadata": {},
   "source": [
    "### 1.3 Estimating antenna height from slant height\n",
    "\n",
    "When collecting GNSS data, some of the key metadata we collect are the heights of the antennas during data collection. In a typical tripod setup, using GNSS antennas with ground planes, these will usually be slant heights from the station marker to the base of the ground plane, measured using a measuring stick.  \n",
    "\n",
    "Our protocol is to make three measurements of slant height at different parts of the antenna at equipment set-up and three more at take-down. Assuming that the equipment is not significantly disturbed during the data take, the average of these six measurements is a reasonable estimate of the slant height of the antenna during that data take. But is slant height what we need for data processing? *What information on height is included in the RINEX file?*\n",
    "\n",
    "Each GNSS antenna has a 'reference point' $-$ the point to which all measurements are referenced. For common antennas like those in the Trimble Zephyr Geodetic family, this is typically the base of the antenna. Note that this is not what we measure when setting up our equipment...\n",
    "\n",
    "![diagram of antenna height](./antenna_height.png)\n",
    "\n",
    "So how do we turn our slant height measurements to the base of an antenna ground plane into a measurement of the vertical height of the antenna reference point? Pythagoras, with some light subtraction...\n",
    "\n",
    "If $h$ is the desired vertical height of the antenna reference point above the benchmark, $R$ is the measured average slant height to the base of the antenna ground plane, $r$ is the antenna radius and $t$ is the vertical distance between the base of the ground plane and the antenna reference point, then...\n",
    "\n",
    "$$h = \\sqrt{(R^2-r^2)}-t$$\n",
    "\n",
    "Seems straightforward! Where do we get the information for $r$ and $t$, I hear you ask? Well, there are a couple of options: 1) the details are included on a sticker attached to the antenna, and 2) if you know the antenna manufacturer, type and part number you can look it up at the NGS's data repository on GNSS antennas, here: https://www.ngs.noaa.gov/ANTCAL/ (look under \"Browse Antenna Information\")"
   ]
  },
  {
   "cell_type": "code",
   "execution_count": 34,
   "id": "96d095db",
   "metadata": {},
   "outputs": [
    {
     "name": "stdout",
     "output_type": "stream",
     "text": [
      "slant height: 1.111 m, vertical height of antenna reference point 1.054 m\n"
     ]
    }
   ],
   "source": [
    "# so let's calculate the height, then!\n",
    "\n",
    "# pre-survey slant height\n",
    "slant_height_pre=np.mean([111.10,111.25,111.20])/100  # include all three measurements here \n",
    "# post-survey slant height\n",
    "slant_height_post=np.mean([111.00,111.10,111.05])/100  # include all three measurements here \n",
    "\n",
    "# antenna radius (from looking up the antenna information)\n",
    "r = 16.98/100\n",
    "\n",
    "# vertical distance between base of the ground plane and the antenna reference point\n",
    "t = (8.546-4.111)/100\n",
    "\n",
    "# and some calculatin'\n",
    "R=(slant_height_pre+slant_height_post)/2\n",
    "h=np.sqrt(R**2-r**2)-t\n",
    "\n",
    "print('slant height: {0:5.3f} m, vertical height of antenna reference point {1:5.3f} m'.format(R,h))"
   ]
  },
  {
   "cell_type": "markdown",
   "id": "c66a1d00",
   "metadata": {},
   "source": [
    "### 1.4 Updating RINEX metadata with teqc\n",
    "\n",
    "teqc also allows you to edit the metadata of your RINEX file, which, if you look at the header of our recently converted file, is very necessary! You can look at the manual for more details:\n",
    "https://www.unavco.org/software/data-processing/teqc/doc/UNAVCO_Teqc_Tutorial.pdf \n",
    "\n",
    "Or, you can run `teqc +help` and get a very long list! \n",
    "\n",
    "Some key options we might want to use:\n",
    "\n",
    "* -O.at \\<antenna type\\> $-$ give the NGS antenna code here\n",
    "* -O.an \\<antenna number\\> $-$ give the antenna serial number here\n",
    "* -O.mo \\<site code\\> $-$ give the four-character benchmark code here\n",
    "* -O.mn \\<monument number\\> $-$ if you know the benchmark number, give it here (else give '' to blank it out)\n",
    "* -O.pe \\<h e n\\> $-$ give the antenna height (h), plus east and north offsets (0 0) here\n",
    "* -O.o \\<operators\\> $-$ give the names of the people who collected this data\n",
    "* -O.ag \\<agency\\> $-$ give the name of the agency that collected this data (UCR?)\n",
    "* -O.r \\<runner of teqc\\> $-$ give your name here, since you are running teqc!\n",
    "* -tbin 1d $-$ if necessary, divide your data into daily files\n",
    "\n",
    "\n",
    "To run this 'editing' mode of teqc, the syntax is:\n",
    "`teqc <options> <site_code> input_rinex`"
   ]
  },
  {
   "cell_type": "code",
   "execution_count": 41,
   "id": "3e17141a",
   "metadata": {},
   "outputs": [
    {
     "name": "stdout",
     "output_type": "stream",
     "text": [
      "./teqc -O.at TRM57971.00 -O.an 1441045101 -O.mo DANE -O.pe 1.053766 0 0 -O.o 'K Baraggiotta' -O.ag 'University of California, Riverside' -O.r 'K Baraggiotta' -O.mn '' -tbin 1d dane test.o\n",
      "teqc:  creating file 'dane1960.25o' ...\n"
     ]
    }
   ],
   "source": [
    "# set up teqc to run with all of the options\n",
    "# now this will rename everything to have the proper header!!\n",
    "\n",
    "# site information (4 character code)\n",
    "site_code = \"DANE\"\n",
    "\n",
    "# operator information (from the logsheet)\n",
    "operator_names = \"K Baraggiotta\"\n",
    "operator_inst = \"University of California, Riverside\"\n",
    "my_name = \"K Baraggiotta\"\n",
    "\n",
    "# antenna information (again, from the logsheet)\n",
    "antenna_type = \"TRM57971.00\"\n",
    "antenna_sn = \"1441045101\"\n",
    "\n",
    "# print out the command in case you need to run it somewhere else\n",
    "option_str=\"-O.at {0:s} -O.an {1:s} -O.mo {2:s} -O.pe {3:f} 0 0 -O.o '{4:s}' -O.ag '{5:s}' -O.r '{6:s}' -O.mn '' -tbin 1d {7:s} test.o\".format(antenna_type,antenna_sn,site_code,h,operator_names,operator_inst,my_name,site_code.lower())\n",
    "\n",
    "print(\"./teqc {0:s}\".format(option_str))\n",
    "\n",
    "!./teqc $option_str"
   ]
  },
  {
   "cell_type": "markdown",
   "id": "5426eeb7",
   "metadata": {},
   "source": [
    "And if all went well, you should have a new, and properly named file, based on the site code you gave! Let's have a look at it!"
   ]
  },
  {
   "cell_type": "code",
   "execution_count": 42,
   "id": "922f5638",
   "metadata": {},
   "outputs": [
    {
     "name": "stdout",
     "output_type": "stream",
     "text": [
      "dane1960.25o  test.o\n"
     ]
    }
   ],
   "source": [
    "!ls *o"
   ]
  },
  {
   "cell_type": "code",
   "execution_count": 43,
   "id": "6f9c7819",
   "metadata": {},
   "outputs": [
    {
     "name": "stdout",
     "output_type": "stream",
     "text": [
      "     2.11           OBSERVATION DATA    G (GPS)             RINEX VERSION / TYPE\n",
      "teqc  2019Feb25     K Baraggiotta       20250724 23:32:58UTCPGM / RUN BY / DATE\n",
      "Linux 2.6.32-573.12.1.x86_64|x86_64|gcc -static|Linux 64|=+ COMMENT\n",
      "teqc  2019Feb25                         20250724 21:41:00UTCCOMMENT\n",
      "BIT 2 OF LLI FLAGS DATA COLLECTED UNDER A/S CONDITION       COMMENT\n",
      "DANE                                                        MARKER NAME\n",
      "                                                            MARKER NUMBER\n",
      "K Baraggiotta       University of California, Riverside     OBSERVER / AGENCY\n",
      "0220413532          TRIMBLE R7          2.32                REC # / TYPE / VERS\n",
      "1441045101          TRM57971.00                             ANT # / TYPE\n",
      " -2382849.0132 -4663312.8820  3629794.1450                  APPROX POSITION XYZ\n",
      "        1.0538        0.0000        0.0000                  ANTENNA: DELTA H/E/N\n",
      "     1     1                                                WAVELENGTH FACT L1/2\n",
      "     7    L1    L2    C1    P1    P2    S1    S2            # / TYPES OF OBSERV\n",
      "    18                                                      LEAP SECONDS\n",
      " SNR is mapped to RINEX snr flag value [0-9]                COMMENT\n",
      "  L1 & L2: min(max(int(snr_dBHz/6), 0), 9)                  COMMENT\n",
      "  2025     7    15     0    10   30.0000000     GPS         TIME OF FIRST OBS\n",
      "                                                            END OF HEADER\n",
      " 25  7 15  0 10 30.0000000  0  8G01G02G03G10G28G31G32G26\n",
      "   -325338.73857   -182730.09856  21266180.6954                   21266177.1174\n",
      "        47.7504         37.2504\n",
      "   -264613.17657   -138840.65655  22243548.8914                   22243543.3014\n",
      "        46.7504         35.7504\n",
      "   -443371.85957   -233136.90257  21638049.5004                   21638047.4414\n",
      "        46.7504         45.2504\n",
      "   -226950.24655    -94479.22754  24570831.2274                   24570833.3794\n",
      "        35.0004         26.7504\n",
      "   -253781.45757   -139270.71956  21664182.1334                   21664177.5044\n",
      "        45.7504         36.5004\n",
      "   -332192.36757   -179800.11758  20257787.8284                   20257782.4144\n",
      "        47.5004         49.7504\n",
      "   -252235.66057   -132556.44956  23869727.2814                   23869725.4654\n",
      "        42.5004         36.0004\n",
      "   -442669.89556   -189606.16055  23378385.6484                   23378386.6414\n",
      "        40.5004         35.2504\n",
      " 25  7 15  0 11  0.0000000  0 10G01G02G03G10G28G31G32G04G25G26\n",
      "   -582152.09847   -382844.42646  21217310.5394                   21217306.6054\n",
      "        47.5004         36.5004\n",
      "   -467440.19947   -296887.75446  22204952.8204                   22204947.0004\n"
     ]
    }
   ],
   "source": [
    "!head -40 dane1960.25o"
   ]
  },
  {
   "cell_type": "markdown",
   "id": "b32589c7",
   "metadata": {},
   "source": [
    "## 2. Prep your own data now!\n",
    "\n",
    "If you have collected your own data, now is a good opportunity to prepare it, using all of the steps $-$ extracting the file from the receiver, converting it to dat format, converting that to RINEX format, using the survey log sheet information to estimate the vertical antenna height, and editing the RINEX headers with the necessary information.\n",
    "\n",
    "You may want to make copies of the various code snippets used above to make a comprehensive code cell that does all of the steps for you $-$ then you will have something you can use in the future!"
   ]
  },
  {
   "cell_type": "code",
   "execution_count": null,
   "id": "1e7f33ed",
   "metadata": {},
   "outputs": [],
   "source": [
    "# compile the code snippets here\n",
    "\n"
   ]
  },
  {
   "cell_type": "markdown",
   "id": "3b32edde",
   "metadata": {},
   "source": [
    "## 3. Processing your data with OPUS\n",
    "\n",
    "OPUS (**O**nline **P**osition **U**ser **S**ervice; https://www.ngs.noaa.gov/OPUS/) is a web-based tool operated by the National Geodetic Survey that processes RINEX format GNSS data that you upload to the website and return a position over email. It is remarkably easy to use, and even if you want to do your own 'proper' processing using a package like GAMIT/GLOBK or GIPSY later on, you will get some sense of the quality of your data from the output. \n",
    "\n",
    "OPUS processes data using a [double-difference approach](https://geodesy.noaa.gov/OPUS/about.jsp), choosing three nearby continuous GNSS stations to form double differences, and trilaterating a location relative to those stations. Its results are not as robust as you would obtain from forming a greater number of double-differences from more stations, and it does not work as well in areas where there is a low density of continuous stations, but for southern California, it still works well.\n",
    "\n",
    "To process data with OPUS, you will need three things:\n",
    "\n",
    "* a RINEX file with between 2 and 48 hours of data\n",
    "* the NGS antenna code for the antenna used (unfortunately it does not read that from the headers like some software will do)\n",
    "* the height of the antenna above the benchmark (unfortunately it does not read that either)\n",
    "\n",
    "Of course, for the data we have just preprocessed, we know all of those things. (And for properly prepared RINEX files from other people, the necessary information is in the headers.)\n",
    "\n",
    "So, to process your data, simply go to the website, select your RINEX file, select the antenna type, enter the vertical height, and enter your email address. You can optionally choose the format of the output (I usually choose the version that produces an XML file as well, as it may be easier to ingest the results later on).\n",
    "\n",
    "Then, hit the 'Upload to Static' button, and wait for the email. It should be done in a few minutes. "
   ]
  },
  {
   "cell_type": "markdown",
   "id": "52c745d1",
   "metadata": {},
   "source": [
    "## 4. Estimate the velocity at VERS\n",
    "\n",
    "Along with the July 2024 data, and the data you may have collected, I have provided RINEX files of other surveys of VERS. By processing these, and compiling date and east, north and up information, you can build a time series of the change in coordinate of the station, and use that to estimate a velocity for the site $-$ either by making a spreadsheet of the values, or by doing it in a more Pythonic way by building a Pandas table, and using an XML reader to populate it with your processed positions. \n",
    "\n",
    "(I can give some hints about how to do this in Python, if you are interested.)\n",
    "\n",
    "My suggested order of tasks: process all the data, plot the changes in position over time (maybe subtract the position of the earliest measurement from the others?), fit a trend line to each component and see what you get. Can you plot your estimated velocity on a map (e.g. using psvelo in GMT or pygmt.plot in PyGMT)? Does it make sense?"
   ]
  },
  {
   "cell_type": "code",
   "execution_count": null,
   "id": "a586095b",
   "metadata": {},
   "outputs": [],
   "source": []
  }
 ],
 "metadata": {
  "kernelspec": {
   "display_name": "Python 3 (ipykernel)",
   "language": "python",
   "name": "python3"
  },
  "language_info": {
   "codemirror_mode": {
    "name": "ipython",
    "version": 3
   },
   "file_extension": ".py",
   "mimetype": "text/x-python",
   "name": "python",
   "nbconvert_exporter": "python",
   "pygments_lexer": "ipython3",
   "version": "3.13.5"
  }
 },
 "nbformat": 4,
 "nbformat_minor": 5
}
