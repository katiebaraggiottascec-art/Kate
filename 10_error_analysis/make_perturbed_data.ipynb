{
 "cells": [
  {
   "cell_type": "markdown",
   "id": "85435b1f",
   "metadata": {},
   "source": [
    "# Make perturbed data sets\n",
    "\n",
    "Gareth Funning, University of California, Riverside"
   ]
  },
  {
   "cell_type": "code",
   "execution_count": 33,
   "id": "e0e0d5a9",
   "metadata": {},
   "outputs": [],
   "source": [
    "import numpy as np\n",
    "import matplotlib.pyplot as plt"
   ]
  },
  {
   "cell_type": "code",
   "execution_count": 34,
   "id": "6d9cdbbc",
   "metadata": {},
   "outputs": [],
   "source": [
    "data = np.loadtxt('./elazig_asc.okinv', delimiter=' ') # or wherever the file is on your system!\n",
    "outroot = 'elazig_asc_'"
   ]
  },
  {
   "cell_type": "code",
   "execution_count": 37,
   "id": "f9a7b336",
   "metadata": {
    "scrolled": true
   },
   "outputs": [
    {
     "name": "stdout",
     "output_type": "stream",
     "text": [
      "writing elazig_asc_000.okinv\n",
      "writing elazig_asc_001.okinv\n",
      "writing elazig_asc_002.okinv\n",
      "writing elazig_asc_003.okinv\n",
      "writing elazig_asc_004.okinv\n"
     ]
    }
   ],
   "source": [
    "# covariance function = maxvar*exp(-b*r)\n",
    "maxvar =  4.92278e-5\n",
    "\n",
    "# expcos parameters: cov =maxvar*exp(-alpha*r)*cos(beta*r)\n",
    "alpha = 0.000137739 \n",
    "beta = -7.46883e-09\n",
    "\n",
    "N = 5 # number of perturbed data sets required\n",
    "\n",
    "# unpack what you've got\n",
    "x = data[:,0]*1000  # convert x coord from km to m\n",
    "y = data[:,1]*1000  # convert y coord from km to m\n",
    "pha = data[:,2]\n",
    "\n",
    "# calculate distance between points in a matrix\n",
    "xx1, xx2 = np.meshgrid(x,x) # matrices containing coordinates of points\n",
    "yy1, yy2 = np.meshgrid(y,y)\n",
    "rgrid = np.sqrt((xx1-xx2)**2+(yy1-yy2)**2)\n",
    "\n",
    "# and evaluate the vcm on that grid\n",
    "vcm = maxvar*np.exp(-alpha*rgrid)*np.cos(beta*rgrid)\n",
    "\n",
    "# Calculate correlated noise using Cholesky Decomposition\n",
    "\n",
    "# 1. create matrix of N gaussian noise vectors length n (on it's side!) \n",
    "n = len(pha);\n",
    "Z = np.random.normal(0,1,[N,n])\n",
    "\n",
    "# 2. chol decomp on vcm\n",
    "V = np.linalg.cholesky(vcm) # upper triangular part of cholesky [V'V=vcm]\n",
    "\n",
    "# 3. Create matrix X containing N correlated noisevecotrs length n (on it's side!)\n",
    "X = np.matmul(Z,V);\n",
    "X = X.T; # transpose to make it N vectors of length n the right way up\n",
    "\n",
    "# 4. add back to original data\n",
    "temp, manypha = np.meshgrid(np.ones(N),pha); # make multiple copies of original data in matrix\n",
    "pha_pets = manypha+X;\n",
    "\n",
    "# write out perturbed files\n",
    "\n",
    "for i in np.arange(0,N):\n",
    "    # assemble a filename\n",
    "    outname = '{0:s}{1:03d}.okinv'.format(outroot,i)\n",
    "    print('writing '+outname)\n",
    "    # assemble the data\n",
    "    okinv_data=np.column_stack((data[:,0],data[:,1],pha_pets[:,i],data[:,3],data[:,4],data[:,5],np.arange(0,n)))\n",
    "    # write the file\n",
    "    np.savetxt(outname,okinv_data,fmt='%f %f %f %f %f %f %d')"
   ]
  },
  {
   "cell_type": "code",
   "execution_count": null,
   "id": "c6d94e13",
   "metadata": {},
   "outputs": [],
   "source": []
  }
 ],
 "metadata": {
  "kernelspec": {
   "display_name": "Python 3 (ipykernel)",
   "language": "python",
   "name": "python3"
  },
  "language_info": {
   "codemirror_mode": {
    "name": "ipython",
    "version": 3
   },
   "file_extension": ".py",
   "mimetype": "text/x-python",
   "name": "python",
   "nbconvert_exporter": "python",
   "pygments_lexer": "ipython3",
   "version": "3.11.6"
  }
 },
 "nbformat": 4,
 "nbformat_minor": 5
}
