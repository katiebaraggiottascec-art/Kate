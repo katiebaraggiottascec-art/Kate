{
 "cells": [
  {
   "cell_type": "markdown",
   "id": "9e971773",
   "metadata": {},
   "source": [
    "# Make an inverse covariance matrix for InSAR data\n",
    "\n",
    "Gareth Funning, University of California, Riverside\n",
    "\n",
    "If you want to use covariance weighting in your inversions, or estimate formal model parameter uncertainties, you will want to compute the inverse variance-covariance matrix. Which means evaluating the covariance function we made, for the distance between every pair of points we have, in order to make the variance-covariance matrix, and then inverting it using the nifty 'pseudoinverse' function in numpy.\n",
    "\n",
    "Hopefully this code block could be useful, pasted into other notebooks..."
   ]
  },
  {
   "cell_type": "code",
   "execution_count": null,
   "id": "b4b19fb0",
   "metadata": {},
   "outputs": [],
   "source": [
    "# only one dependency, but it's a biggie\n",
    "import numpy as np"
   ]
  },
  {
   "cell_type": "code",
   "execution_count": null,
   "id": "c53e1241",
   "metadata": {},
   "outputs": [],
   "source": [
    "# set up your inputs\n",
    "datafile = './elazig_asc.okinv' # or wherever the file is on your system!\n",
    "\n",
    "# maximum variance in m^2\n",
    "maxvar =  4.92278e-5\n",
    "\n",
    "# expcos parameters: E=maxvar*exp(-alpha*r)*cos(beta*r)\n",
    "alpha = 0.000137739 \n",
    "beta = -7.46883e-09   # set to zero if just using an exponential function"
   ]
  },
  {
   "cell_type": "code",
   "execution_count": null,
   "id": "62acdcc3",
   "metadata": {},
   "outputs": [],
   "source": [
    "# if needed, load yer data and convert coordinates to meters\n",
    "data= np.loadtxt(datafile, delimiter=' ') \n",
    "x=data[:,0]*1000\n",
    "y=data[:,1]*1000"
   ]
  },
  {
   "cell_type": "code",
   "execution_count": null,
   "id": "203f1c45",
   "metadata": {},
   "outputs": [],
   "source": [
    "# evaluate the covariances, then invert them!\n",
    "\n",
    "# first, make some grids\n",
    "xx1, xx2 = np.meshgrid(x,x)    # matrices containing coordinates of points\n",
    "yy1, yy2 = np.meshgrid(y,y)\n",
    "\n",
    "# use them to calculate distances between points\n",
    "rgrid = np.sqrt((xx1-xx2)**2+(yy1-yy2)**2)\n",
    "\n",
    "# use the expcos function to calculate E, the variance-covariance matrix\n",
    "E = maxvar*np.exp(-alpha*rgrid)*np.cos(beta*rgrid)\n",
    "\n",
    "# ...and then invert it (get the pseudoinverse)\n",
    "Einv = np.linalg.pinv(E);"
   ]
  },
  {
   "cell_type": "code",
   "execution_count": null,
   "id": "4b2b1720",
   "metadata": {},
   "outputs": [],
   "source": []
  }
 ],
 "metadata": {
  "kernelspec": {
   "display_name": "Python 3 (ipykernel)",
   "language": "python",
   "name": "python3"
  },
  "language_info": {
   "codemirror_mode": {
    "name": "ipython",
    "version": 3
   },
   "file_extension": ".py",
   "mimetype": "text/x-python",
   "name": "python",
   "nbconvert_exporter": "python",
   "pygments_lexer": "ipython3",
   "version": "3.11.6"
  }
 },
 "nbformat": 4,
 "nbformat_minor": 5
}
