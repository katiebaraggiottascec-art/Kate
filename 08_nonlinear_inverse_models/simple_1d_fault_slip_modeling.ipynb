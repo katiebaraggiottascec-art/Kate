{
 "cells": [
  {
   "cell_type": "markdown",
   "id": "f3834810",
   "metadata": {},
   "source": [
    "# Simple 1D fault slip modeling\n",
    "\n",
    "Gareth Funning, University of California, Riverside\n",
    "\n",
    "To demonstrate some very simple features of nonlinear models, I will use one of the very simplest models out there $-$ the 1D model for strike-slip, as popularized by [Savage and Burford (1973)](https://doi.org/10.1029/JB078i005p00832)."
   ]
  },
  {
   "cell_type": "markdown",
   "id": "cd68e889",
   "metadata": {},
   "source": [
    "## 1. Dependencies \n",
    "\n",
    "If you don't have these things installed, you're probably in the wrong conda environment!"
   ]
  },
  {
   "cell_type": "code",
   "execution_count": null,
   "id": "d253e506",
   "metadata": {},
   "outputs": [],
   "source": [
    "import numpy as np\n",
    "import pandas as pd\n",
    "import matplotlib.pyplot as plt"
   ]
  },
  {
   "cell_type": "markdown",
   "id": "b6214d5c",
   "metadata": {},
   "source": [
    "## 2. The 1D model for strike-slip\n",
    "\n",
    "Although it is most commonly known as the Savage and Burford model, the 1D model for strike-slip, or more precisely, for a screw dislocation in an elastic half space, was originally derived by Weertman and Weertman (1964). It makes several simplifying assumptions:\n",
    "\n",
    "- The fault is vertical\n",
    "- The fault is infinitely long\n",
    "- The fault extends infinitely deep, beneath a locking depth, $D$\n",
    "- The fault is locked above the locking depth\n",
    "- The fault is stably sliding at a constant, uniform rate, $s$, beneath the locking depth\n",
    "\n",
    "The model describes how the surface deformation rate, $v$, varies as a function of distance, $x$, from the fault. (There are also expressions for strain rate, $e$, which are effectively the spatial derivative of v, but we won't get into that today.) That relationship is analytical, and simple to evaluate:\n",
    "\n",
    "$$ v = \\frac{s}{\\pi} \\arctan\\left(\\frac{x}{D}\\right)+v_{shift}$$,\n",
    "\n",
    "where $v_{shift}$ is a shift in velocity to account for the difference between zero in the model and any overall regional motion (e.g. due to plate tectonics).\n",
    "\n",
    "The model is often associated with Savage and Burford, two researchers from the USGS, who in 1973 published their application of the model to EDM data from the San Andreas fault system in California. The main figure illustrating the model is a classic, and worth reproducing here!\n",
    "\n",
    "![The 1D model from Savage and Burford, 1973](savage_burford_1973.png)\n",
    "\n",
    "(Savage and Burford, 1973)\n",
    "\n",
    "The top panel shows the model geometry (left), the theoretical strain rate distribution (center) and expected displacement (or velocity) profile (right). The lower panel shows the same, but for a fault that is stably sliding from the surface (what you would expect if a fault was creeping at its long-term slip rate).\n"
   ]
  },
  {
   "cell_type": "markdown",
   "id": "d6f8a013",
   "metadata": {},
   "source": [
    "## 3. Evaluating the 1D model\n",
    "\n",
    "As the model is simple, we can evaluate it easily in Python. We can try to see what happens when we vary the input parameters.\n",
    "\n",
    "First, we can make a function to evaluate the model to make things simpler..."
   ]
  },
  {
   "cell_type": "code",
   "execution_count": null,
   "id": "9374b2f3",
   "metadata": {},
   "outputs": [],
   "source": [
    "# let's define a function for the 1d model:\n",
    "def slip1d(s, D, v_shift, x):\n",
    "    v=(s/np.pi)*np.arctan(x/D)+v_shift\n",
    "    return v\n",
    "\n",
    "# let's establish some parameter/input values\n",
    "\n",
    "s=30        # slip rate in mm/yr\n",
    "D=15        # locking depth in km\n",
    "v_shift=0   # velocity shift in mm/yr\n",
    "\n",
    "x=np.linspace(-100,100,101)  # an array of distances in km\n",
    "\n",
    "# and evaluate it!\n",
    "\n",
    "v=slip1d(s,D,v_shift,x)\n",
    "\n",
    "# let's plot it to see what we got\n",
    "\n",
    "plt.plot(x, v)  # Plot the chart\n",
    "plt.xlabel(\"distance from fault (km)\")  \n",
    "plt.ylabel(\"fault-parallel velocity (mm/yr)\")  \n",
    "plt.title(\"slip rate: {0:4.1f}, locking depth: {1:4.1f}, velocity shift:{2:4.1f}\".format(s,D,v_shift))\n",
    "plt.show()  # display\n"
   ]
  },
  {
   "cell_type": "markdown",
   "id": "c9ff5d4f",
   "metadata": {},
   "source": [
    "### 3.1 Varying slip rate\n",
    "\n",
    "What happens if we vary slip rate? We can look though a few possible values and see what happens?"
   ]
  },
  {
   "cell_type": "code",
   "execution_count": null,
   "id": "980cfdd1",
   "metadata": {},
   "outputs": [],
   "source": [
    "# make an array of slip rate values\n",
    "smin=5\n",
    "smax=50\n",
    "sstep=5\n",
    "slip_rates=np.arange(smin,smax+sstep,sstep)\n",
    "\n",
    "# keep everything else the same\n",
    "D=15        # locking depth in km\n",
    "v_shift=0   # velocity shift in mm/yr\n",
    "x=np.linspace(-100,100,101)  # an array of distances in km\n",
    "\n",
    "# and loop through all the slip rate values\n",
    "for s in slip_rates:\n",
    "    v=v=slip1d(s,D,v_shift,x)\n",
    "    plt.plot(x, v)  # Plot the chart\n",
    "\n",
    "    \n",
    "plt.xlabel(\"distance from fault (km)\")  \n",
    "plt.ylabel(\"fault-parallel velocity (mm/yr)\")  \n",
    "plt.title(\"slip rate: {0:4.1f}-{1:4.1f}, locking depth: {2:4.1f}, velocity shift:{3:4.1f}\"\n",
    "          .format(smin,smax,D,v_shift))\n",
    "plt.show()  # display    "
   ]
  },
  {
   "cell_type": "markdown",
   "id": "bb76a961",
   "metadata": {},
   "source": [
    "How does the shape of the curves change as $s$ increases? (Maybe try restricting the range of $x$ values to accentuate it?) You should see that the curves show their maximum curvature at the same distance from the fault, regardless of the slip rate. This is because $s$ is a **linear parameter** of the model $-$ as $s$ increases, so does $v$, proportionately. "
   ]
  },
  {
   "cell_type": "markdown",
   "id": "e7046b68",
   "metadata": {},
   "source": [
    "## 3.2 Varying locking depth\n",
    "\n",
    "Let's try varying the locking depth now. "
   ]
  },
  {
   "cell_type": "code",
   "execution_count": null,
   "id": "07d67264",
   "metadata": {},
   "outputs": [],
   "source": [
    "# make an array of locking depth values\n",
    "Dmin=5\n",
    "Dmax=25\n",
    "Dstep=4\n",
    "locking_depths=np.arange(Dmin,Dmax+Dstep,Dstep)\n",
    "\n",
    "# keep everything else the same\n",
    "s=30        # locking depth in km\n",
    "v_shift=0   # velocity shift in mm/yr\n",
    "x=np.linspace(-100,100,101)  # an array of distances in km\n",
    "\n",
    "# and loop through all the slip rate values\n",
    "for D in locking_depths:\n",
    "    v=v=slip1d(s,D,v_shift,x)\n",
    "    plt.plot(x, v)  # Plot the chart\n",
    "\n",
    "    \n",
    "plt.xlabel(\"distance from fault (km)\")  \n",
    "plt.ylabel(\"fault-parallel velocity (mm/yr)\")  \n",
    "plt.title(\"slip rate: {0:4.1f}, locking depth: {1:4.1f}-{2:4.1f}, velocity shift:{3:4.1f}\"\n",
    "          .format(s,Dmin,Dmax,v_shift))\n",
    "plt.show()  # display    "
   ]
  },
  {
   "cell_type": "markdown",
   "id": "c548c611",
   "metadata": {},
   "source": [
    "How does the shape of the curves change as $D$ increases? (Maybe try restricting the range of $x$ values to accentuate it?) You should see that the curves vary in how sharply they curve, and where. Smaller and smaller values of $D$ get closer and closer to a 'step' shape, with the sharp curves getting closer and closer to the location of the fault. Conversely, as $D$ gets larger, the point of maximum curvature gets further and further away from the fault. Note also the variation in the size of the velocities $-$ the curves all have different maximum velocities, although we didn't change the slip rate.\n",
    "\n",
    "This is all because $D$ is a **nonlinear parameter** of the model $-$ as $D$ increases, both the shape and the size of $v$ change, but not in a proportionate manner. "
   ]
  },
  {
   "cell_type": "markdown",
   "id": "d83373fe",
   "metadata": {},
   "source": [
    "## 4. Solving for a real slip rate\n",
    "\n",
    "We will load in some real GNSS velocities, campaign measurements from the 1990s, as a simple example of how to apply the 1D model to real data."
   ]
  },
  {
   "cell_type": "code",
   "execution_count": null,
   "id": "e3f4a106",
   "metadata": {},
   "outputs": [],
   "source": [
    "# let's look at the data\n",
    "!cat gps_data.txt"
   ]
  },
  {
   "cell_type": "markdown",
   "id": "00f3b386",
   "metadata": {},
   "source": [
    "The columns represent:\n",
    "\n",
    "- site_name \n",
    "- fault_parallel_velocity (mm/yr)\n",
    "- fault_parallel_error (mm/yr)\n",
    "- fault_normal_velocity (mm/yr)\n",
    "- fault_normal_error (mm/yr)\n",
    "- distance (mm/yr)\n",
    "\n",
    "Loading them is simple (and we can exclude irrelevant things)."
   ]
  },
  {
   "cell_type": "code",
   "execution_count": null,
   "id": "4a65beb2",
   "metadata": {},
   "outputs": [],
   "source": [
    "gps_data=np.loadtxt('gps_data.txt',delimiter=' ',usecols=(1,2,5))"
   ]
  },
  {
   "cell_type": "markdown",
   "id": "d3882112",
   "metadata": {},
   "source": [
    "And plot them!"
   ]
  },
  {
   "cell_type": "code",
   "execution_count": null,
   "id": "f9adb6e3",
   "metadata": {},
   "outputs": [],
   "source": [
    "plt.scatter(gps_data[:,2],gps_data[:,0])\n",
    "plt.show()"
   ]
  },
  {
   "cell_type": "markdown",
   "id": "9c2b416e",
   "metadata": {},
   "source": [
    "Note that the velocities are flipped from the shapes of the plots we made before! (That is a GNSS plate reference frame issue, and nothing to be scared of $-$ we can just flip them."
   ]
  },
  {
   "cell_type": "code",
   "execution_count": null,
   "id": "937aa791",
   "metadata": {},
   "outputs": [],
   "source": [
    "# let's get the velocities in a better reference frame!\n",
    "v_gps=gps_data[:,0]*-1\n",
    "x_gps=gps_data[:,2]\n",
    "\n",
    "plt.scatter(x_gps,v_gps)\n",
    "plt.xlabel(\"distance from fault (km)\")  \n",
    "plt.ylabel(\"fault-parallel velocity (mm/yr)\")  \n",
    "plt.show()"
   ]
  },
  {
   "cell_type": "markdown",
   "id": "f49247c4",
   "metadata": {},
   "source": [
    "And we will do the rest in class!"
   ]
  },
  {
   "cell_type": "markdown",
   "id": "46ba982d",
   "metadata": {},
   "source": [
    "## References\n",
    "\n",
    "\n",
    "Savage, J. C., and R. O. Burford (1973), Geodetic determination of relative plate motion in central California, J. Geophys. Res., 78(5), 832–845, [doi:10.1029/JB078i005p00832](https://doi.org/10.1029/JB078i005p00832). "
   ]
  },
  {
   "cell_type": "code",
   "execution_count": null,
   "id": "d1d8fc4d",
   "metadata": {},
   "outputs": [],
   "source": []
  }
 ],
 "metadata": {
  "kernelspec": {
   "display_name": "Python 3 (ipykernel)",
   "language": "python",
   "name": "python3"
  },
  "language_info": {
   "codemirror_mode": {
    "name": "ipython",
    "version": 3
   },
   "file_extension": ".py",
   "mimetype": "text/x-python",
   "name": "python",
   "nbconvert_exporter": "python",
   "pygments_lexer": "ipython3",
   "version": "3.11.6"
  }
 },
 "nbformat": 4,
 "nbformat_minor": 5
}
