{
 "cells": [
  {
   "cell_type": "markdown",
   "id": "eece139c",
   "metadata": {},
   "source": [
    "# Set up EarthScope data downloads\n",
    "\n",
    "Gareth Funning, University of California, Riverside\n",
    "\n",
    "If we want to do things with GNSS data in the US, many of those things rely on being able to download data from EarthScope. This notebook is intended to show how to download things using your EarthScope credentials."
   ]
  },
  {
   "cell_type": "markdown",
   "id": "0033eee6",
   "metadata": {},
   "source": [
    "## 0. What do you mean, you don't have EarthScope credentials?!\n",
    "\n",
    "The [EarthScope Consortium](https://www.earthscope.org/) is a non-profit corporation that exists to serve the scientific community with geophysical data, instrumentation and training. Formed in 2023 by a merger between two previous long-lived community organizations, the Incorporated Research Institutions for Seismology ([IRIS](https://en.wikipedia.org/wiki/IRIS_Consortium)) and the University NAVSTAR Corporation ([UNAVCO](https://en.wikipedia.org/wiki/UNAVCO)), EarthScope is the current operator of the [SAGE](https://www.iris.edu/hq/sage) (seismology) and [GAGE](https://www.unavco.org/what-we-do/gage-facility/) (geodesy) facilities for the National Science Foundation.\n",
    "\n",
    "For the purposes of this course, EarthScope maintains comprehensive data archives of GNSS and SAR data and data products, and we will want to use them! Which means that we will need to have an account with EarthScope (available for free!) in order to download these things.\n",
    "\n",
    "**To register for an EarthScope account**, all you have to do is go here: https://www.earthscope.org/user/ and answer a few questions. Choose an appropriate password, and don't forget it (or use a password manager)!\n",
    "\n",
    "There, that wasn't so difficult, was it? Let's get on with setting up scripted data downloads using your newly-established credentials..."
   ]
  },
  {
   "cell_type": "markdown",
   "id": "662605b6",
   "metadata": {},
   "source": [
    "## 1. Import dependencies\n",
    "\n",
    "If you don't have these things installed, Jupyter will be sad."
   ]
  },
  {
   "cell_type": "code",
   "execution_count": null,
   "id": "37e89a53",
   "metadata": {},
   "outputs": [],
   "source": [
    "# import these things that you should have installed with the GEO244 conda environment\n",
    "\n",
    "import os\n",
    "from pathlib import Path\n",
    "import requests\n",
    "from earthscope_sdk.auth.device_code_flow import DeviceCodeFlowSimple\n",
    "from earthscope_sdk.auth.auth_flow import NoTokensError"
   ]
  },
  {
   "cell_type": "markdown",
   "id": "6ce1dc2c",
   "metadata": {},
   "source": [
    "## 2. Choose a location for your single sign-on token\n",
    "\n",
    "EarthScope has implemented a token-based access system for its data servers, so that once you have this established, you do not need to log in over and over again."
   ]
  },
  {
   "cell_type": "code",
   "execution_count": null,
   "id": "f2555488",
   "metadata": {},
   "outputs": [],
   "source": [
    "# choose where you want the token saved - the default file name is sso_tokens.json\n",
    "# if you want to keep the default name, set the path to a directory. Include a file name to rename. \n",
    "\n",
    "# YOU DO NEED TO GIVE AN APPROPRIATE LOCATION FOR YOUR MACHINE\n",
    "token_path = \"/path/to/your/token/directory\"  # THIS IS A FAKE NAME!\n",
    "# example: \"/home/gareth/pkgs/tokens\"\n",
    "\n",
    "url = \"https://gage-data.earthscope.org/path/to/the/file/you/want.yeah\" # THIS IS A FAKE NAME!\n",
    "# example: \"https://gage-data.earthscope.org/archive/gnss/products/velocity/cwu.final_nam14.vel\""
   ]
  },
  {
   "cell_type": "code",
   "execution_count": null,
   "id": "5d671317",
   "metadata": {},
   "outputs": [],
   "source": [
    "# OPTIONAL: make a directory to download the token into\n",
    "\n",
    "if not os.path.exists(token_path):\n",
    "    os.makedirs(token_path)\n",
    "else:\n",
    "    print(\"Directory \"+token_path+ \" already exists!\")"
   ]
  },
  {
   "cell_type": "markdown",
   "id": "31f5a584",
   "metadata": {},
   "source": [
    "## 3. Establish a token if you need one\n",
    "\n",
    "Hopefully this will do nothing if you already have your token set up. If you haven't set it up, it will do some things!\n",
    "\n",
    "**If this code cell outputs a weblink beneath the code**, you should click on it and confirm that the text strings match!"
   ]
  },
  {
   "cell_type": "code",
   "execution_count": null,
   "id": "4679c453",
   "metadata": {},
   "outputs": [],
   "source": [
    "# instantiate the device code flow subclass\n",
    "device_flow = DeviceCodeFlowSimple(Path(token_path))\n",
    "try:\n",
    "    # get access token from local path\n",
    "    device_flow.get_access_token_refresh_if_necessary()\n",
    "except NoTokensError:\n",
    "    # if no token was found locally, do the device code flow\n",
    "    device_flow.do_flow()\n",
    "token = device_flow.access_token"
   ]
  },
  {
   "cell_type": "code",
   "execution_count": null,
   "id": "e4901b33",
   "metadata": {},
   "outputs": [],
   "source": [
    "# check that the token file you wanted actually downloaded\n",
    "\n",
    "os.listdir(token_path)"
   ]
  },
  {
   "cell_type": "markdown",
   "id": "9b143ec0",
   "metadata": {},
   "source": [
    "## 4. Download the file using your token\n",
    "\n",
    "If everything is set up properly, we can use the token you've established on your machine to download the file you wanted!"
   ]
  },
  {
   "cell_type": "code",
   "execution_count": null,
   "id": "55cc4ca7",
   "metadata": {},
   "outputs": [],
   "source": [
    "# request a file and provide the token in the Authorization header\n",
    "file_name = Path(url).name\n",
    "directory_to_save_file = Path.cwd() # where you want to save the downloaded file \n",
    "\n",
    "r = requests.get(url, headers={\"authorization\": f\"Bearer {token}\"})\n",
    "if r.status_code == requests.codes.ok:\n",
    "    # save the file\n",
    "    with open(Path(directory_to_save_file /\n",
    " file_name), 'wb') as f:\n",
    "        for data in r:\n",
    "            f.write(data)\n",
    "else:\n",
    "    #problem occured\n",
    "    print(f\"failure: {r.status_code}, {r.reason}\")"
   ]
  },
  {
   "cell_type": "code",
   "execution_count": null,
   "id": "04273e9f",
   "metadata": {},
   "outputs": [],
   "source": [
    "# OPTIONAL: check to see if the download worked!\n",
    "\n",
    "os.listdir(\".\")"
   ]
  },
  {
   "cell_type": "markdown",
   "id": "a96268e5",
   "metadata": {},
   "source": [
    "## 5. Acknowledgements\n",
    "\n",
    "This was hacked together, with minimum alterations, from the [example codes](https://gitlab.com/earthscope/public/earthscope-sdk) provided by the EarthScope Data Services team. Thank you all!"
   ]
  },
  {
   "cell_type": "code",
   "execution_count": null,
   "id": "3213d908",
   "metadata": {},
   "outputs": [],
   "source": []
  }
 ],
 "metadata": {
  "kernelspec": {
   "display_name": "Python 3 (ipykernel)",
   "language": "python",
   "name": "python3"
  },
  "language_info": {
   "codemirror_mode": {
    "name": "ipython",
    "version": 3
   },
   "file_extension": ".py",
   "mimetype": "text/x-python",
   "name": "python",
   "nbconvert_exporter": "python",
   "pygments_lexer": "ipython3",
   "version": "3.11.6"
  }
 },
 "nbformat": 4,
 "nbformat_minor": 5
}
